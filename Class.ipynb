{
 "cells": [
  {
   "cell_type": "code",
   "execution_count": 32,
   "id": "6d815187",
   "metadata": {},
   "outputs": [
    {
     "data": {
      "text/plain": [
       "'ngay sinh cua luan la September 27 2000'"
      ]
     },
     "execution_count": 32,
     "metadata": {},
     "output_type": "execute_result"
    }
   ],
   "source": [
    "from datetime import datetime\n",
    "\n",
    "birthday = datetime(2000,9,27)\n",
    "sentences = f\"ngay sinh cua luan la {birthday:%B %d %Y}\"\n",
    "sentences"
   ]
  },
  {
   "cell_type": "code",
   "execution_count": 39,
   "id": "04602865",
   "metadata": {},
   "outputs": [
    {
     "data": {
      "text/plain": [
       "10"
      ]
     },
     "execution_count": 39,
     "metadata": {},
     "output_type": "execute_result"
    }
   ],
   "source": [
    "def add(*kwagrs):\n",
    "    return sum(kwagrs)\n",
    "add(1,2,3,4)"
   ]
  },
  {
   "cell_type": "code",
   "execution_count": 8,
   "id": "ee501331",
   "metadata": {},
   "outputs": [
    {
     "name": "stdout",
     "output_type": "stream",
     "text": [
      "18\n",
      "luan\n"
     ]
    }
   ],
   "source": [
    "class Person:\n",
    "    def __init__(self,name,age):\n",
    "        self.name = name\n",
    "        self.age = age\n",
    "    def myName(self):\n",
    "        print(f\"luan ngo {self.age}\")\n",
    "        \n",
    "p1 = Person(\"luan\",18)\n",
    "\n",
    "print(p1.age)\n",
    "print(p1.name)"
   ]
  },
  {
   "cell_type": "code",
   "execution_count": 4,
   "id": "6b14509b",
   "metadata": {},
   "outputs": [
    {
     "name": "stdout",
     "output_type": "stream",
     "text": [
      "John\n",
      "36\n"
     ]
    }
   ],
   "source": [
    "class Person:\n",
    "  def __init__(self, name, age):\n",
    "    self.name = name\n",
    "    self.age = age\n",
    "\n",
    "p1 = Person(\"John\", 36)\n",
    "\n",
    "print(p1.name)\n",
    "print(p1.age)\n"
   ]
  },
  {
   "cell_type": "markdown",
   "id": "104d59cc",
   "metadata": {},
   "source": [
    "### object method"
   ]
  },
  {
   "cell_type": "code",
   "execution_count": 27,
   "id": "d7032f0b",
   "metadata": {},
   "outputs": [],
   "source": [
    "class Saler:\n",
    "    def __init__(self,id_saler):\n",
    "        self.id = id_saler\n",
    "    \n",
    "    def show_info(self):\n",
    "        print(f\"ID_Saler: {self.id}\")"
   ]
  },
  {
   "cell_type": "code",
   "execution_count": 33,
   "id": "809c94b5",
   "metadata": {},
   "outputs": [
    {
     "name": "stdout",
     "output_type": "stream",
     "text": [
      "ID_Saler: 18521064\n"
     ]
    }
   ],
   "source": [
    "sale = Saler(\"18521064\")\n",
    "sale.show_info()"
   ]
  },
  {
   "cell_type": "markdown",
   "id": "f708cc27",
   "metadata": {},
   "source": [
    "### class method"
   ]
  },
  {
   "cell_type": "code",
   "execution_count": 42,
   "id": "f45daa82",
   "metadata": {},
   "outputs": [
    {
     "name": "stdout",
     "output_type": "stream",
     "text": [
      "count 0\n",
      "count 2\n"
     ]
    }
   ],
   "source": [
    "class bill:\n",
    "    count = 0;\n",
    "    def __init__(self,names,prices):\n",
    "        self.names = names\n",
    "        self.prices = prices\n",
    "        bill.count += 1\n",
    "    @classmethod\n",
    "    def bill_count(cls):\n",
    "        print(f\"count {cls.count}\" )\n",
    "bill.bill_count()\n",
    "x = bill (\"luan\",1000)\n",
    "y = bill (\"kien \",90)\n",
    "bill.bill_count()"
   ]
  },
  {
   "cell_type": "markdown",
   "id": "7e228d16",
   "metadata": {},
   "source": [
    "### staticmethod"
   ]
  },
  {
   "cell_type": "code",
   "execution_count": 45,
   "id": "6dcb91ec",
   "metadata": {},
   "outputs": [
    {
     "data": {
      "text/plain": [
       "8"
      ]
     },
     "execution_count": 45,
     "metadata": {},
     "output_type": "execute_result"
    }
   ],
   "source": [
    "class bill:\n",
    "    count = 0; # class variable\n",
    "    def __init__(self,names,prices):\n",
    "        self.names = names  \n",
    "        self.prices = prices\n",
    "        bill.count += 1\n",
    "    @classmethod\n",
    "    def bill_count(cls):\n",
    "        print(f\"count {cls.count}\" )\n",
    "    @staticmethod\n",
    "    def tong(a,b):\n",
    "        return a+b\n",
    "bill.tong(3,5)"
   ]
  },
  {
   "cell_type": "markdown",
   "id": "0980d384",
   "metadata": {},
   "source": [
    "# class variable - instance variable"
   ]
  },
  {
   "cell_type": "code",
   "execution_count": 81,
   "id": "327c8a4c",
   "metadata": {},
   "outputs": [
    {
     "name": "stdout",
     "output_type": "stream",
     "text": [
      "[3]\n"
     ]
    }
   ],
   "source": [
    "class Dog:\n",
    "    \n",
    "    def __init__(self,name):\n",
    "        self.name = name \n",
    "        self.tricks = []\n",
    "    def add_trick(self,trick):\n",
    "        self.tricks.append(trick)\n",
    "a = Dog(3)\n",
    "b = Dog(4)\n",
    "a.add_trick(a.name)\n",
    "print(a.tricks)"
   ]
  },
  {
   "cell_type": "markdown",
   "id": "fe692726",
   "metadata": {},
   "source": [
    "# Inheritance\n"
   ]
  },
  {
   "cell_type": "code",
   "execution_count": 86,
   "id": "40a71d98",
   "metadata": {},
   "outputs": [
    {
     "data": {
      "text/plain": [
       "11"
      ]
     },
     "execution_count": 86,
     "metadata": {},
     "output_type": "execute_result"
    }
   ],
   "source": [
    "class A:\n",
    "    def __init__(self,a,b):\n",
    "        self.a = a\n",
    "        self.b = b\n",
    "    def add (self):\n",
    "        return self.a+self.b\n",
    "aa =A(3,5)\n",
    "aa.add()\n",
    "class B(A):\n",
    "    pass\n",
    "bb = B(4,7)\n",
    "bb.add()"
   ]
  },
  {
   "cell_type": "code",
   "execution_count": 88,
   "id": "0be6acd1",
   "metadata": {},
   "outputs": [
    {
     "ename": "ModuleNotFoundError",
     "evalue": "No module named 'sklearn'",
     "output_type": "error",
     "traceback": [
      "\u001b[0;31m---------------------------------------------------------------------------\u001b[0m",
      "\u001b[0;31mModuleNotFoundError\u001b[0m                       Traceback (most recent call last)",
      "\u001b[0;32m<ipython-input-88-42f19f61876e>\u001b[0m in \u001b[0;36m<module>\u001b[0;34m\u001b[0m\n\u001b[0;32m----> 1\u001b[0;31m \u001b[0;32mimport\u001b[0m \u001b[0msklearn\u001b[0m\u001b[0;34m\u001b[0m\u001b[0;34m\u001b[0m\u001b[0m\n\u001b[0m\u001b[1;32m      2\u001b[0m \u001b[0;32mclass\u001b[0m \u001b[0mLR\u001b[0m\u001b[0;34m(\u001b[0m\u001b[0msklearn\u001b[0m\u001b[0;34m.\u001b[0m\u001b[0mlinear_model\u001b[0m\u001b[0;34m.\u001b[0m\u001b[0mLinearRegression\u001b[0m\u001b[0;34m)\u001b[0m\u001b[0;34m:\u001b[0m\u001b[0;34m\u001b[0m\u001b[0;34m\u001b[0m\u001b[0m\n\u001b[1;32m      3\u001b[0m     \u001b[0;32mpass\u001b[0m\u001b[0;34m\u001b[0m\u001b[0;34m\u001b[0m\u001b[0m\n\u001b[1;32m      4\u001b[0m \u001b[0mlr\u001b[0m \u001b[0;34m=\u001b[0m \u001b[0mLR\u001b[0m\u001b[0;34m(\u001b[0m\u001b[0;34m)\u001b[0m\u001b[0;34m\u001b[0m\u001b[0;34m\u001b[0m\u001b[0m\n",
      "\u001b[0;31mModuleNotFoundError\u001b[0m: No module named 'sklearn'"
     ]
    }
   ],
   "source": [
    "class maping:\n",
    "    def __init__(self,iterable):\n",
    "        self.items_list = []\n",
    "        self.__update(iterable)\n",
    "    def update(self,iterable):\n",
    "        for i in iterable:\n",
    "            self.items_list.append(i)"
   ]
  }
 ],
 "metadata": {
  "kernelspec": {
   "display_name": "Python 3",
   "language": "python",
   "name": "python3"
  },
  "language_info": {
   "codemirror_mode": {
    "name": "ipython",
    "version": 3
   },
   "file_extension": ".py",
   "mimetype": "text/x-python",
   "name": "python",
   "nbconvert_exporter": "python",
   "pygments_lexer": "ipython3",
   "version": "3.8.5"
  }
 },
 "nbformat": 4,
 "nbformat_minor": 5
}
