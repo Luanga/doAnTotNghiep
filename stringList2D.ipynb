{
 "cells": [
  {
   "cell_type": "markdown",
   "metadata": {},
   "source": [
    "### `Chương trình tách email`"
   ]
  },
  {
   "cell_type": "code",
   "execution_count": 2,
   "metadata": {},
   "outputs": [
    {
     "name": "stdout",
     "output_type": "stream",
     "text": [
      "ban nhap email zo trong nay: dinhluan14@gmail.com\n"
     ]
    }
   ],
   "source": [
    "email = input (\"ban nhap email zo trong nay: \")"
   ]
  },
  {
   "cell_type": "code",
   "execution_count": 5,
   "metadata": {},
   "outputs": [],
   "source": [
    "def tachEmail(email):\n",
    "    dau = email[0:email.index(\"@\")]\n",
    "    cuoi= email[email.index(\"@\")+1:]\n",
    "#     print(cuoi)\n",
    "    return dau,cuoi"
   ]
  },
  {
   "cell_type": "code",
   "execution_count": 6,
   "metadata": {},
   "outputs": [
    {
     "data": {
      "text/plain": [
       "('dinhluan14', 'gmail.com')"
      ]
     },
     "execution_count": 6,
     "metadata": {},
     "output_type": "execute_result"
    }
   ],
   "source": [
    "tachEmail(email)"
   ]
  },
  {
   "cell_type": "markdown",
   "metadata": {},
   "source": [
    "### `Chuong trinh ramdom ngau nhien hovaten + mssv`"
   ]
  },
  {
   "cell_type": "code",
   "execution_count": 13,
   "metadata": {},
   "outputs": [
    {
     "name": "stdout",
     "output_type": "stream",
     "text": [
      "['bui luan bao', 'tran long long', 'nguyen long dinh', 'nguyen luan van', 'ngo kien van', 'bui huy thi', 'bui huy dinh', 'tran kien dinh', 'nguyen huy dinh', 'ngo long dang']\n"
     ]
    }
   ],
   "source": [
    "import random\n",
    "ho = ['ngo','bui','le','tran','nguyen']\n",
    "ten = ['long','luan','kien','phap','thanh','huy']\n",
    "lot = ['thi','dinh','bao','dang','long','van']\n",
    "listhvt=[]\n",
    "def hoten(n):\n",
    "    for i in range(n):\n",
    "        hovaten = str(random.choice(ho)) + ' ' +\\\n",
    "str(random.choice(lot))+ ' ' + str(random.choice(ten))\n",
    "        s=hovaten\n",
    "        listhvt.append(s)\n",
    "hoten(10)\n",
    "print(listhvt)\n"
   ]
  },
  {
   "cell_type": "markdown",
   "metadata": {},
   "source": [
    "### `chuong trinh random mssv`"
   ]
  },
  {
   "cell_type": "code",
   "execution_count": 14,
   "metadata": {},
   "outputs": [
    {
     "name": "stdout",
     "output_type": "stream",
     "text": [
      "[18527543, 18523555, 18522171, 18528948, 18524844, 18521897, 18526071, 18524216, 18523995, 18523276]\n",
      "CPU times: user 122 µs, sys: 5 µs, total: 127 µs\n",
      "Wall time: 108 µs\n"
     ]
    }
   ],
   "source": [
    "%%time\n",
    "def mssv(n):\n",
    "    listmssv = []\n",
    "    for i in range(n):\n",
    "        maso = random.randint(18521000,18529000)\n",
    "        listmssv.append(maso)\n",
    "    return listmssv\n",
    "print(mssv(10))"
   ]
  },
  {
   "cell_type": "code",
   "execution_count": 15,
   "metadata": {},
   "outputs": [
    {
     "name": "stdout",
     "output_type": "stream",
     "text": [
      "[[18522601, 18523154, 18521780, 18522898, 18522516, 18522052, 18524576, 18523561, 18527754, 18522762]]\n",
      "CPU times: user 261 µs, sys: 12 µs, total: 273 µs\n",
      "Wall time: 229 µs\n"
     ]
    }
   ],
   "source": [
    "%%time\n",
    "lista=[]\n",
    "lista.append(random.sample(range(18521000,18529000),10))\n",
    "print(lista)"
   ]
  },
  {
   "cell_type": "code",
   "execution_count": null,
   "metadata": {},
   "outputs": [],
   "source": []
  }
 ],
 "metadata": {
  "kernelspec": {
   "display_name": "Python 3",
   "language": "python",
   "name": "python3"
  },
  "language_info": {
   "codemirror_mode": {
    "name": "ipython",
    "version": 3
   },
   "file_extension": ".py",
   "mimetype": "text/x-python",
   "name": "python",
   "nbconvert_exporter": "python",
   "pygments_lexer": "ipython3",
   "version": "3.7.6"
  }
 },
 "nbformat": 4,
 "nbformat_minor": 4
}
