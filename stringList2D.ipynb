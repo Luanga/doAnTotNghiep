{
 "cells": [
  {
   "cell_type": "markdown",
   "metadata": {},
   "source": [
    "### `Chương trình tách email`"
   ]
  },
  {
   "cell_type": "code",
   "execution_count": 2,
   "metadata": {},
   "outputs": [
    {
     "name": "stdout",
     "output_type": "stream",
     "text": [
      "ban nhap email zo trong nay: dinhluan14@gmail.com\n"
     ]
    }
   ],
   "source": [
    "email = input (\"ban nhap email zo trong nay: \")"
   ]
  },
  {
   "cell_type": "code",
   "execution_count": 5,
   "metadata": {},
   "outputs": [],
   "source": [
    "def tachEmail(email):\n",
    "    dau = email[0:email.index(\"@\")]\n",
    "    cuoi= email[email.index(\"@\")+1:]\n",
    "#     print(cuoi)\n",
    "    return dau,cuoi"
   ]
  },
  {
   "cell_type": "code",
   "execution_count": 6,
   "metadata": {},
   "outputs": [
    {
     "data": {
      "text/plain": [
       "('dinhluan14', 'gmail.com')"
      ]
     },
     "execution_count": 6,
     "metadata": {},
     "output_type": "execute_result"
    }
   ],
   "source": [
    "tachEmail(email)"
   ]
  },
  {
   "cell_type": "markdown",
   "metadata": {},
   "source": [
    "### `Chuong trinh ramdom ngau nhien hovaten + mssv`"
   ]
  },
  {
   "cell_type": "code",
   "execution_count": 16,
   "metadata": {},
   "outputs": [
    {
     "name": "stdout",
     "output_type": "stream",
     "text": [
      "['ngo long thanh', 'nguyen long kien', 'tran dang phap', 'tran bao luan', 'tran long phap', 'bui bao huy', 'tran long thanh', 'nguyen thi thanh', 'le bao luan', 'le van luan']\n"
     ]
    }
   ],
   "source": [
    "import random\n",
    "ho = ['ngo','bui','le','tran','nguyen']\n",
    "ten = ['long','luan','kien','phap','thanh','huy']\n",
    "lot = ['thi','dinh','bao','dang','long','van']\n",
    "listhvt=[]\n",
    "def hoten(n):\n",
    "    for i in range(n):\n",
    "        hovaten = str(random.choice(ho)) + ' ' +\\\n",
    "str(random.choice(lot))+ ' ' + str(random.choice(ten))\n",
    "        listhvt.append(hovaten)\n",
    "hoten(10)\n",
    "print(listhvt)\n"
   ]
  },
  {
   "cell_type": "markdown",
   "metadata": {},
   "source": [
    "### `chuong trinh random mssv`"
   ]
  },
  {
   "cell_type": "code",
   "execution_count": 14,
   "metadata": {},
   "outputs": [
    {
     "name": "stdout",
     "output_type": "stream",
     "text": [
      "[18527543, 18523555, 18522171, 18528948, 18524844, 18521897, 18526071, 18524216, 18523995, 18523276]\n",
      "CPU times: user 122 µs, sys: 5 µs, total: 127 µs\n",
      "Wall time: 108 µs\n"
     ]
    }
   ],
   "source": [
    "%%time\n",
    "def mssv(n):\n",
    "    listmssv = []\n",
    "    for i in range(n):\n",
    "        maso = random.randint(18521000,18529000)\n",
    "        listmssv.append(maso)\n",
    "    return listmssv\n",
    "print(mssv(10))"
   ]
  },
  {
   "cell_type": "code",
   "execution_count": 15,
   "metadata": {},
   "outputs": [
    {
     "name": "stdout",
     "output_type": "stream",
     "text": [
      "[[18522601, 18523154, 18521780, 18522898, 18522516, 18522052, 18524576, 18523561, 18527754, 18522762]]\n",
      "CPU times: user 261 µs, sys: 12 µs, total: 273 µs\n",
      "Wall time: 229 µs\n"
     ]
    }
   ],
   "source": [
    "%%time\n",
    "lista=[]\n",
    "lista.append(random.sample(range(18521000,18529000),10))\n",
    "print(lista)"
   ]
  },
  {
   "cell_type": "code",
   "execution_count": 38,
   "metadata": {},
   "outputs": [
    {
     "name": "stdout",
     "output_type": "stream",
     "text": [
      "0: ten luan so 1\n",
      "1: ten long so 3\n",
      "2: ten kien so 5\n",
      "3: ten huy so 2\n",
      "4: ten phap so 4\n",
      "['phap', 'kien', 'long', 'luan', 'huy']\n",
      "['luan', 'phap', 'kien', 'long', 'huy']\n"
     ]
    }
   ],
   "source": [
    "i = [1,3,5,2,4]\n",
    "j=['luan','long','kien','huy','phap']\n",
    "for index,(t,l) in enumerate(zip(j,i)) :\n",
    "    print(f\"{index}: ten {t} so {l}\")\n",
    "    \n",
    "print(sorted(j,key=lambda el: el[1]))\n",
    "\n",
    "\n",
    "print(sorted(j,key = lambda el: el[2]))\n"
   ]
  },
  {
   "cell_type": "code",
   "execution_count": 57,
   "metadata": {},
   "outputs": [
    {
     "name": "stdout",
     "output_type": "stream",
     "text": [
      "38.00\n"
     ]
    }
   ],
   "source": [
    "a=2*23-8\n",
    "print(f\"{a:.2f}\")"
   ]
  },
  {
   "cell_type": "code",
   "execution_count": 48,
   "metadata": {},
   "outputs": [
    {
     "data": {
      "text/plain": [
       "array([0, 2, 4, 6, 8])"
      ]
     },
     "execution_count": 48,
     "metadata": {},
     "output_type": "execute_result"
    }
   ],
   "source": [
    "import numpy as np\n",
    "np.arange(0,10,2)"
   ]
  },
  {
   "cell_type": "code",
   "execution_count": 143,
   "metadata": {},
   "outputs": [
    {
     "data": {
      "text/plain": [
       "-42"
      ]
     },
     "execution_count": 143,
     "metadata": {},
     "output_type": "execute_result"
    }
   ],
   "source": [
    "random.randint(-50,0)"
   ]
  },
  {
   "cell_type": "code",
   "execution_count": 150,
   "metadata": {},
   "outputs": [
    {
     "ename": "TypeError",
     "evalue": "'str' object is not callable",
     "output_type": "error",
     "traceback": [
      "\u001b[0;31m---------------------------------------------------------------------------\u001b[0m",
      "\u001b[0;31mTypeError\u001b[0m                                 Traceback (most recent call last)",
      "\u001b[0;32m<ipython-input-150-32dc74851736>\u001b[0m in \u001b[0;36m<module>\u001b[0;34m\u001b[0m\n\u001b[1;32m      1\u001b[0m \u001b[0mmystring\u001b[0m \u001b[0;34m=\u001b[0m \u001b[0;34m\"luandep trai\"\u001b[0m\u001b[0;34m\u001b[0m\u001b[0;34m\u001b[0m\u001b[0m\n\u001b[0;32m----> 2\u001b[0;31m \u001b[0mmystring\u001b[0m\u001b[0;34m.\u001b[0m\u001b[0mreplace\u001b[0m\u001b[0;34m(\u001b[0m\u001b[0mmystring\u001b[0m\u001b[0;34m(\u001b[0m\u001b[0;34m\"e\"\u001b[0m\u001b[0;34m)\u001b[0m\u001b[0;34m,\u001b[0m\u001b[0;34m\"u\"\u001b[0m\u001b[0;34m)\u001b[0m\u001b[0;34m\u001b[0m\u001b[0;34m\u001b[0m\u001b[0m\n\u001b[0m",
      "\u001b[0;31mTypeError\u001b[0m: 'str' object is not callable"
     ]
    }
   ],
   "source": [
    "mystring = \"luandep trai\"\n",
    "mystring.replace(mystring(\"e\"),\"u\")"
   ]
  },
  {
   "cell_type": "code",
   "execution_count": 169,
   "metadata": {},
   "outputs": [
    {
     "name": "stdout",
     "output_type": "stream",
     "text": [
      "1 1\n",
      "4 2\n",
      "6 3\n"
     ]
    }
   ],
   "source": [
    "import pandas as pd\n",
    "array = [1,4,6]\n",
    "#          [3,6,7],\n",
    "#          [8,5,2]]\n",
    "D = [1,2,3]\n",
    "for i,j in (zip(array,D)):\n",
    "    print(i,j)\n",
    "    "
   ]
  },
  {
   "cell_type": "code",
   "execution_count": null,
   "metadata": {},
   "outputs": [],
   "source": []
  }
 ],
 "metadata": {
  "kernelspec": {
   "display_name": "Python 3",
   "language": "python",
   "name": "python3"
  },
  "language_info": {
   "codemirror_mode": {
    "name": "ipython",
    "version": 3
   },
   "file_extension": ".py",
   "mimetype": "text/x-python",
   "name": "python",
   "nbconvert_exporter": "python",
   "pygments_lexer": "ipython3",
   "version": "3.7.6"
  }
 },
 "nbformat": 4,
 "nbformat_minor": 4
}
