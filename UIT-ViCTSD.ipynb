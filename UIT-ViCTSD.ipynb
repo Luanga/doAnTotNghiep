{
 "cells": [
  {
   "cell_type": "code",
   "execution_count": 1,
   "metadata": {
    "colab": {
     "base_uri": "https://localhost:8080/"
    },
    "executionInfo": {
     "elapsed": 59604,
     "status": "ok",
     "timestamp": 1622630831086,
     "user": {
      "displayName": "Nguyễn Thái Minh Đức",
      "photoUrl": "",
      "userId": "05286920215519665493"
     },
     "user_tz": -420
    },
    "id": "6fD6G6t9wci4",
    "outputId": "5cb820cc-4e66-4ecc-bb80-294ee6571514"
   },
   "outputs": [
    {
     "name": "stdout",
     "output_type": "stream",
     "text": [
      "Mounted at /content/drive\n"
     ]
    }
   ],
   "source": [
    "from google.colab import drive\n",
    "drive.mount('/content/drive')"
   ]
  },
  {
   "cell_type": "markdown",
   "metadata": {
    "id": "fWIesYvZ5VnL"
   },
   "source": [
    "# Load dataset"
   ]
  },
  {
   "cell_type": "markdown",
   "metadata": {
    "id": "qhBcNOIA4vAI"
   },
   "source": [
    "## 1.Train set\n",
    "\n",
    "\n",
    "\n"
   ]
  },
  {
   "cell_type": "code",
   "execution_count": 2,
   "metadata": {
    "colab": {
     "base_uri": "https://localhost:8080/",
     "height": 486
    },
    "executionInfo": {
     "elapsed": 1811,
     "status": "ok",
     "timestamp": 1622630832895,
     "user": {
      "displayName": "Nguyễn Thái Minh Đức",
      "photoUrl": "",
      "userId": "05286920215519665493"
     },
     "user_tz": -420
    },
    "id": "LPTY83PJtaRe",
    "outputId": "3bfa9b57-6546-4f31-cab2-cddc5e579b6f"
   },
   "outputs": [
    {
     "data": {
      "text/html": [
       "<div>\n",
       "<style scoped>\n",
       "    .dataframe tbody tr th:only-of-type {\n",
       "        vertical-align: middle;\n",
       "    }\n",
       "\n",
       "    .dataframe tbody tr th {\n",
       "        vertical-align: top;\n",
       "    }\n",
       "\n",
       "    .dataframe thead th {\n",
       "        text-align: right;\n",
       "    }\n",
       "</style>\n",
       "<table border=\"1\" class=\"dataframe\">\n",
       "  <thead>\n",
       "    <tr style=\"text-align: right;\">\n",
       "      <th></th>\n",
       "      <th>Unnamed: 0</th>\n",
       "      <th>Comment</th>\n",
       "      <th>Constructiveness</th>\n",
       "      <th>Toxicity</th>\n",
       "      <th>Title</th>\n",
       "      <th>Topic</th>\n",
       "    </tr>\n",
       "  </thead>\n",
       "  <tbody>\n",
       "    <tr>\n",
       "      <th>0</th>\n",
       "      <td>6326</td>\n",
       "      <td>Thật tuyệt vời...!!!</td>\n",
       "      <td>0</td>\n",
       "      <td>0</td>\n",
       "      <td>Những 'bước tiến diệu kỳ' của Trúc Nhi - Diệu Nhi</td>\n",
       "      <td>SucKhoe</td>\n",
       "    </tr>\n",
       "    <tr>\n",
       "      <th>1</th>\n",
       "      <td>7835</td>\n",
       "      <td>mỹ đã tuột dốc quá nhiều rồi, giờ muốn vực dậy...</td>\n",
       "      <td>1</td>\n",
       "      <td>0</td>\n",
       "      <td>Hình tượng Mỹ sụp đổ trong lòng người dân thế ...</td>\n",
       "      <td>TheGioi</td>\n",
       "    </tr>\n",
       "    <tr>\n",
       "      <th>2</th>\n",
       "      <td>4690</td>\n",
       "      <td>tôi thấy người lái xe hơi bấm còi mới là người...</td>\n",
       "      <td>1</td>\n",
       "      <td>1</td>\n",
       "      <td>Cả trăm người đạp xe thể dục bịt kín đường</td>\n",
       "      <td>OtoXemay</td>\n",
       "    </tr>\n",
       "    <tr>\n",
       "      <th>3</th>\n",
       "      <td>6011</td>\n",
       "      <td>Coi dịch là giặc. Đã mang tên đó mà xâm nhập V...</td>\n",
       "      <td>0</td>\n",
       "      <td>0</td>\n",
       "      <td>11 ngày không lây nhiễm nCoV cộng đồng</td>\n",
       "      <td>SucKhoe</td>\n",
       "    </tr>\n",
       "    <tr>\n",
       "      <th>4</th>\n",
       "      <td>9303</td>\n",
       "      <td>Thương các bé quá! Các con còn quá nhỏ mà đã p...</td>\n",
       "      <td>0</td>\n",
       "      <td>0</td>\n",
       "      <td>5 trẻ chết đuối dưới ao</td>\n",
       "      <td>ThoiSu</td>\n",
       "    </tr>\n",
       "    <tr>\n",
       "      <th>...</th>\n",
       "      <td>...</td>\n",
       "      <td>...</td>\n",
       "      <td>...</td>\n",
       "      <td>...</td>\n",
       "      <td>...</td>\n",
       "      <td>...</td>\n",
       "    </tr>\n",
       "    <tr>\n",
       "      <th>6995</th>\n",
       "      <td>9296</td>\n",
       "      <td>đọc tin mà đau lòng quá,thảm nạn cứ xãy ra hoà...</td>\n",
       "      <td>0</td>\n",
       "      <td>0</td>\n",
       "      <td>5 trẻ chết đuối dưới ao</td>\n",
       "      <td>ThoiSu</td>\n",
       "    </tr>\n",
       "    <tr>\n",
       "      <th>6996</th>\n",
       "      <td>3645</td>\n",
       "      <td>Nên mua bạn nhé. Để bảo vệ sức khỏe bạn trong ...</td>\n",
       "      <td>1</td>\n",
       "      <td>0</td>\n",
       "      <td>Chưa lập gia đình có nên mua bảo hiểm nhân thọ?</td>\n",
       "      <td>KinhDoanh</td>\n",
       "    </tr>\n",
       "    <tr>\n",
       "      <th>6997</th>\n",
       "      <td>5008</td>\n",
       "      <td>Nên ra luật người sử dụng ma túy cũng phạm tội...</td>\n",
       "      <td>1</td>\n",
       "      <td>0</td>\n",
       "      <td>102 người dương tính ma túy trong quán bar</td>\n",
       "      <td>PhapLuat</td>\n",
       "    </tr>\n",
       "    <tr>\n",
       "      <th>6998</th>\n",
       "      <td>4343</td>\n",
       "      <td>Mua Fadil đủ lăn bánh. Nếu thấy đắt thì đi Mor...</td>\n",
       "      <td>1</td>\n",
       "      <td>0</td>\n",
       "      <td>450 triệu mua xe gì phục vụ gia đình?</td>\n",
       "      <td>OtoXemay</td>\n",
       "    </tr>\n",
       "    <tr>\n",
       "      <th>6999</th>\n",
       "      <td>5203</td>\n",
       "      <td>2 kẻ này phải xử lý mạnh. Thật căm phẫn</td>\n",
       "      <td>0</td>\n",
       "      <td>1</td>\n",
       "      <td>5 cháu bé bị mẹ và cậu chăn dắt ăn xin</td>\n",
       "      <td>PhapLuat</td>\n",
       "    </tr>\n",
       "  </tbody>\n",
       "</table>\n",
       "<p>7000 rows × 6 columns</p>\n",
       "</div>"
      ],
      "text/plain": [
       "      Unnamed: 0  ...      Topic\n",
       "0           6326  ...    SucKhoe\n",
       "1           7835  ...    TheGioi\n",
       "2           4690  ...   OtoXemay\n",
       "3           6011  ...    SucKhoe\n",
       "4           9303  ...     ThoiSu\n",
       "...          ...  ...        ...\n",
       "6995        9296  ...     ThoiSu\n",
       "6996        3645  ...  KinhDoanh\n",
       "6997        5008  ...   PhapLuat\n",
       "6998        4343  ...   OtoXemay\n",
       "6999        5203  ...   PhapLuat\n",
       "\n",
       "[7000 rows x 6 columns]"
      ]
     },
     "execution_count": 2,
     "metadata": {
      "tags": []
     },
     "output_type": "execute_result"
    }
   ],
   "source": [
    "import pandas as pd\n",
    "import numpy as np\n",
    "\n",
    "#Train set\n",
    "df_train = pd.read_csv('/content/drive/MyDrive/IE403/UIT-ViCTSD/UIT-ViCTSD_train.csv', header = 0)\n",
    "df_train"
   ]
  },
  {
   "cell_type": "markdown",
   "metadata": {
    "id": "oOU15q_75M7b"
   },
   "source": [
    "## 2.Test set"
   ]
  },
  {
   "cell_type": "code",
   "execution_count": 3,
   "metadata": {
    "colab": {
     "base_uri": "https://localhost:8080/",
     "height": 402
    },
    "executionInfo": {
     "elapsed": 469,
     "status": "ok",
     "timestamp": 1622630833362,
     "user": {
      "displayName": "Nguyễn Thái Minh Đức",
      "photoUrl": "",
      "userId": "05286920215519665493"
     },
     "user_tz": -420
    },
    "id": "dXUAkvxt4o8S",
    "outputId": "75831f01-6960-4b75-abbe-1803930d94a0"
   },
   "outputs": [
    {
     "data": {
      "text/html": [
       "<div>\n",
       "<style scoped>\n",
       "    .dataframe tbody tr th:only-of-type {\n",
       "        vertical-align: middle;\n",
       "    }\n",
       "\n",
       "    .dataframe tbody tr th {\n",
       "        vertical-align: top;\n",
       "    }\n",
       "\n",
       "    .dataframe thead th {\n",
       "        text-align: right;\n",
       "    }\n",
       "</style>\n",
       "<table border=\"1\" class=\"dataframe\">\n",
       "  <thead>\n",
       "    <tr style=\"text-align: right;\">\n",
       "      <th></th>\n",
       "      <th>Unnamed: 0</th>\n",
       "      <th>Comment</th>\n",
       "      <th>Title</th>\n",
       "      <th>Topic</th>\n",
       "    </tr>\n",
       "  </thead>\n",
       "  <tbody>\n",
       "    <tr>\n",
       "      <th>0</th>\n",
       "      <td>6252</td>\n",
       "      <td>Người ăn không hết kẻ lần chẳng ra</td>\n",
       "      <td>28 năm chịu đựng bộ ngực khổng lồ</td>\n",
       "      <td>SucKhoe</td>\n",
       "    </tr>\n",
       "    <tr>\n",
       "      <th>1</th>\n",
       "      <td>4684</td>\n",
       "      <td>Nhiều người cứ nghĩ đạp xe là văn minh. haizzzz</td>\n",
       "      <td>Cả trăm người đạp xe thể dục bịt kín đường</td>\n",
       "      <td>OtoXemay</td>\n",
       "    </tr>\n",
       "    <tr>\n",
       "      <th>2</th>\n",
       "      <td>1731</td>\n",
       "      <td>Rất văn hoá</td>\n",
       "      <td>Cô gái được bố nhắn nhủ ba từ mỗi ngày</td>\n",
       "      <td>GiaoDuc</td>\n",
       "    </tr>\n",
       "    <tr>\n",
       "      <th>3</th>\n",
       "      <td>4742</td>\n",
       "      <td>Đời ta ba mươi đời nó. Mua chiếc xe cũng chỉ p...</td>\n",
       "      <td>Các loại phụ kiện ôtô đại lý hay chào khách</td>\n",
       "      <td>OtoXemay</td>\n",
       "    </tr>\n",
       "    <tr>\n",
       "      <th>4</th>\n",
       "      <td>4521</td>\n",
       "      <td>Tước bằng lái vĩnh viễn đi. Chạy lếu láo thật,...</td>\n",
       "      <td>Ba người thoát chết dưới bánh xe bồn</td>\n",
       "      <td>OtoXemay</td>\n",
       "    </tr>\n",
       "    <tr>\n",
       "      <th>...</th>\n",
       "      <td>...</td>\n",
       "      <td>...</td>\n",
       "      <td>...</td>\n",
       "      <td>...</td>\n",
       "    </tr>\n",
       "    <tr>\n",
       "      <th>995</th>\n",
       "      <td>3921</td>\n",
       "      <td>biệt thự nhà riêng to đùng thế kia mà chủ (hay...</td>\n",
       "      <td>Đại gia xăng dầu vừa bị bắt đứng sau hàng chục...</td>\n",
       "      <td>KinhDoanh</td>\n",
       "    </tr>\n",
       "    <tr>\n",
       "      <th>996</th>\n",
       "      <td>6685</td>\n",
       "      <td>Trong cái khó ló cái khôn, người tài thật sự k...</td>\n",
       "      <td>Bác sĩ Cấp và những quyết định tiên phong tron...</td>\n",
       "      <td>SucKhoe</td>\n",
       "    </tr>\n",
       "    <tr>\n",
       "      <th>997</th>\n",
       "      <td>3194</td>\n",
       "      <td>Bánh trung thu sao lại phải có quả trứng muối ...</td>\n",
       "      <td>Bánh trung thu đua nhau phục vụ 'ăn bằng mắt'</td>\n",
       "      <td>KinhDoanh</td>\n",
       "    </tr>\n",
       "    <tr>\n",
       "      <th>998</th>\n",
       "      <td>1941</td>\n",
       "      <td>Cấp 1 nói chung và lớp 1 nói riêng theo tôi có...</td>\n",
       "      <td>Đánh giá chương trình lớp 1 nặng là chưa xác đ...</td>\n",
       "      <td>GiaoDuc</td>\n",
       "    </tr>\n",
       "    <tr>\n",
       "      <th>999</th>\n",
       "      <td>7713</td>\n",
       "      <td>Tôi thấy hay đó chứ.</td>\n",
       "      <td>Cựu đặc vụ CIA 'xấu hổ' với cuộc tranh luận Tr...</td>\n",
       "      <td>TheGioi</td>\n",
       "    </tr>\n",
       "  </tbody>\n",
       "</table>\n",
       "<p>1000 rows × 4 columns</p>\n",
       "</div>"
      ],
      "text/plain": [
       "     Unnamed: 0  ...      Topic\n",
       "0          6252  ...    SucKhoe\n",
       "1          4684  ...   OtoXemay\n",
       "2          1731  ...    GiaoDuc\n",
       "3          4742  ...   OtoXemay\n",
       "4          4521  ...   OtoXemay\n",
       "..          ...  ...        ...\n",
       "995        3921  ...  KinhDoanh\n",
       "996        6685  ...    SucKhoe\n",
       "997        3194  ...  KinhDoanh\n",
       "998        1941  ...    GiaoDuc\n",
       "999        7713  ...    TheGioi\n",
       "\n",
       "[1000 rows x 4 columns]"
      ]
     },
     "execution_count": 3,
     "metadata": {
      "tags": []
     },
     "output_type": "execute_result"
    }
   ],
   "source": [
    "#Test set\n",
    "df_test = pd.read_csv('/content/drive/MyDrive/IE403/UIT-ViCTSD/UIT-ViCTSD_test_text.csv', header = 0)\n",
    "df_test"
   ]
  },
  {
   "cell_type": "markdown",
   "metadata": {
    "id": "22vuLPwD3RUF"
   },
   "source": [
    "## 3.Valid set"
   ]
  },
  {
   "cell_type": "code",
   "execution_count": 4,
   "metadata": {
    "colab": {
     "base_uri": "https://localhost:8080/",
     "height": 502
    },
    "executionInfo": {
     "elapsed": 923,
     "status": "ok",
     "timestamp": 1622630834281,
     "user": {
      "displayName": "Nguyễn Thái Minh Đức",
      "photoUrl": "",
      "userId": "05286920215519665493"
     },
     "user_tz": -420
    },
    "id": "rpLhxUA-3WM6",
    "outputId": "e45e813b-197f-4fe5-891d-056f551e0127"
   },
   "outputs": [
    {
     "data": {
      "text/html": [
       "<div>\n",
       "<style scoped>\n",
       "    .dataframe tbody tr th:only-of-type {\n",
       "        vertical-align: middle;\n",
       "    }\n",
       "\n",
       "    .dataframe tbody tr th {\n",
       "        vertical-align: top;\n",
       "    }\n",
       "\n",
       "    .dataframe thead th {\n",
       "        text-align: right;\n",
       "    }\n",
       "</style>\n",
       "<table border=\"1\" class=\"dataframe\">\n",
       "  <thead>\n",
       "    <tr style=\"text-align: right;\">\n",
       "      <th></th>\n",
       "      <th>Unnamed: 0</th>\n",
       "      <th>Comment</th>\n",
       "      <th>Constructiveness</th>\n",
       "      <th>Toxicity</th>\n",
       "      <th>Title</th>\n",
       "      <th>Topic</th>\n",
       "    </tr>\n",
       "  </thead>\n",
       "  <tbody>\n",
       "    <tr>\n",
       "      <th>0</th>\n",
       "      <td>7218</td>\n",
       "      <td>Cuộc bầu cư người đứng đầu Quốc gia ở Mỹ là cô...</td>\n",
       "      <td>0</td>\n",
       "      <td>0</td>\n",
       "      <td>Biden dẫn Trump 13 điểm</td>\n",
       "      <td>TheGioi</td>\n",
       "    </tr>\n",
       "    <tr>\n",
       "      <th>1</th>\n",
       "      <td>8767</td>\n",
       "      <td>Mình thích Messi ở lại để Barca và Cules hiểu ...</td>\n",
       "      <td>1</td>\n",
       "      <td>0</td>\n",
       "      <td>Bartomeu: 'Tôi không thể để Messi ra đi'</td>\n",
       "      <td>TheThao</td>\n",
       "    </tr>\n",
       "    <tr>\n",
       "      <th>2</th>\n",
       "      <td>2288</td>\n",
       "      <td>dám chui ra,vậy ăn vô lại ếch said :')</td>\n",
       "      <td>0</td>\n",
       "      <td>0</td>\n",
       "      <td>Bọ sống sót sau khi chui ra khỏi hậu môn ếch</td>\n",
       "      <td>KhoaHoc</td>\n",
       "    </tr>\n",
       "    <tr>\n",
       "      <th>3</th>\n",
       "      <td>5360</td>\n",
       "      <td>Hoan hô sự quả cảm của các chiến sĩ và sự đồng...</td>\n",
       "      <td>0</td>\n",
       "      <td>0</td>\n",
       "      <td>Một tiếng vây bắt nhóm buôn ma túy trên quốc lộ</td>\n",
       "      <td>PhapLuat</td>\n",
       "    </tr>\n",
       "    <tr>\n",
       "      <th>4</th>\n",
       "      <td>1852</td>\n",
       "      <td>Tôi cực lực phản đối cho hs dùng đt trong lớp ...</td>\n",
       "      <td>0</td>\n",
       "      <td>0</td>\n",
       "      <td>Đã đến lúc phải cho học sinh dùng điện thoại t...</td>\n",
       "      <td>GiaoDuc</td>\n",
       "    </tr>\n",
       "    <tr>\n",
       "      <th>...</th>\n",
       "      <td>...</td>\n",
       "      <td>...</td>\n",
       "      <td>...</td>\n",
       "      <td>...</td>\n",
       "      <td>...</td>\n",
       "      <td>...</td>\n",
       "    </tr>\n",
       "    <tr>\n",
       "      <th>1995</th>\n",
       "      <td>1981</td>\n",
       "      <td>Tôi có con đã học lớp 1 năm học 2019-2020. Tôi...</td>\n",
       "      <td>1</td>\n",
       "      <td>0</td>\n",
       "      <td>Đánh giá chương trình lớp 1 nặng là chưa xác đ...</td>\n",
       "      <td>GiaoDuc</td>\n",
       "    </tr>\n",
       "    <tr>\n",
       "      <th>1996</th>\n",
       "      <td>9802</td>\n",
       "      <td>Hình ảnh làm tôi nhớ ngày xưa ra cánh đồng chặ...</td>\n",
       "      <td>0</td>\n",
       "      <td>0</td>\n",
       "      <td>Bắt cá khi ruộng đồng cạn nước</td>\n",
       "      <td>ThoiSu</td>\n",
       "    </tr>\n",
       "    <tr>\n",
       "      <th>1997</th>\n",
       "      <td>5366</td>\n",
       "      <td>Chúc mừng các anh!</td>\n",
       "      <td>0</td>\n",
       "      <td>0</td>\n",
       "      <td>Một tiếng vây bắt nhóm buôn ma túy trên quốc lộ</td>\n",
       "      <td>PhapLuat</td>\n",
       "    </tr>\n",
       "    <tr>\n",
       "      <th>1998</th>\n",
       "      <td>6564</td>\n",
       "      <td>Bộ Y Tế cần nhắn tin đến toàn bộ số điện thoại...</td>\n",
       "      <td>0</td>\n",
       "      <td>0</td>\n",
       "      <td>Ba người Quảng Nam ngộ độc sau ăn pate Minh Chay</td>\n",
       "      <td>SucKhoe</td>\n",
       "    </tr>\n",
       "    <tr>\n",
       "      <th>1999</th>\n",
       "      <td>7250</td>\n",
       "      <td>Câu đó nên dành cho ông thì đúng hơn</td>\n",
       "      <td>0</td>\n",
       "      <td>0</td>\n",
       "      <td>Biden gọi màn tranh luận của Trump là 'nỗi hổ ...</td>\n",
       "      <td>TheGioi</td>\n",
       "    </tr>\n",
       "  </tbody>\n",
       "</table>\n",
       "<p>2000 rows × 6 columns</p>\n",
       "</div>"
      ],
      "text/plain": [
       "      Unnamed: 0  ...     Topic\n",
       "0           7218  ...   TheGioi\n",
       "1           8767  ...   TheThao\n",
       "2           2288  ...   KhoaHoc\n",
       "3           5360  ...  PhapLuat\n",
       "4           1852  ...   GiaoDuc\n",
       "...          ...  ...       ...\n",
       "1995        1981  ...   GiaoDuc\n",
       "1996        9802  ...    ThoiSu\n",
       "1997        5366  ...  PhapLuat\n",
       "1998        6564  ...   SucKhoe\n",
       "1999        7250  ...   TheGioi\n",
       "\n",
       "[2000 rows x 6 columns]"
      ]
     },
     "execution_count": 4,
     "metadata": {
      "tags": []
     },
     "output_type": "execute_result"
    }
   ],
   "source": [
    "#Valid set\n",
    "df_valid = pd.read_csv('/content/drive/MyDrive/IE403/UIT-ViCTSD/UIT-ViCTSD_valid.csv', header = 0)\n",
    "df_valid"
   ]
  },
  {
   "cell_type": "markdown",
   "metadata": {
    "id": "2p2ulD0d71W9"
   },
   "source": [
    "# Methodology"
   ]
  },
  {
   "cell_type": "code",
   "execution_count": 62,
   "metadata": {
    "colab": {
     "base_uri": "https://localhost:8080/",
     "height": 402
    },
    "executionInfo": {
     "elapsed": 292,
     "status": "ok",
     "timestamp": 1622635937611,
     "user": {
      "displayName": "Nguyễn Thái Minh Đức",
      "photoUrl": "",
      "userId": "05286920215519665493"
     },
     "user_tz": -420
    },
    "id": "zDCmQF-HjnU9",
    "outputId": "b784ef2d-72a5-49f3-faec-8d3d9d2b9acd"
   },
   "outputs": [
    {
     "data": {
      "text/html": [
       "<div>\n",
       "<style scoped>\n",
       "    .dataframe tbody tr th:only-of-type {\n",
       "        vertical-align: middle;\n",
       "    }\n",
       "\n",
       "    .dataframe tbody tr th {\n",
       "        vertical-align: top;\n",
       "    }\n",
       "\n",
       "    .dataframe thead th {\n",
       "        text-align: right;\n",
       "    }\n",
       "</style>\n",
       "<table border=\"1\" class=\"dataframe\">\n",
       "  <thead>\n",
       "    <tr style=\"text-align: right;\">\n",
       "      <th></th>\n",
       "      <th>Comment</th>\n",
       "      <th>Constructiveness</th>\n",
       "      <th>Toxicity</th>\n",
       "    </tr>\n",
       "  </thead>\n",
       "  <tbody>\n",
       "    <tr>\n",
       "      <th>0</th>\n",
       "      <td>Thật tuyệt vời...!!!</td>\n",
       "      <td>0</td>\n",
       "      <td>0</td>\n",
       "    </tr>\n",
       "    <tr>\n",
       "      <th>1</th>\n",
       "      <td>mỹ đã tuột dốc quá nhiều rồi, giờ muốn vực dậy...</td>\n",
       "      <td>1</td>\n",
       "      <td>0</td>\n",
       "    </tr>\n",
       "    <tr>\n",
       "      <th>2</th>\n",
       "      <td>tôi thấy người lái xe hơi bấm còi mới là người...</td>\n",
       "      <td>1</td>\n",
       "      <td>1</td>\n",
       "    </tr>\n",
       "    <tr>\n",
       "      <th>3</th>\n",
       "      <td>Coi dịch là giặc. Đã mang tên đó mà xâm nhập V...</td>\n",
       "      <td>0</td>\n",
       "      <td>0</td>\n",
       "    </tr>\n",
       "    <tr>\n",
       "      <th>4</th>\n",
       "      <td>Thương các bé quá! Các con còn quá nhỏ mà đã p...</td>\n",
       "      <td>0</td>\n",
       "      <td>0</td>\n",
       "    </tr>\n",
       "    <tr>\n",
       "      <th>...</th>\n",
       "      <td>...</td>\n",
       "      <td>...</td>\n",
       "      <td>...</td>\n",
       "    </tr>\n",
       "    <tr>\n",
       "      <th>6995</th>\n",
       "      <td>đọc tin mà đau lòng quá,thảm nạn cứ xãy ra hoà...</td>\n",
       "      <td>0</td>\n",
       "      <td>0</td>\n",
       "    </tr>\n",
       "    <tr>\n",
       "      <th>6996</th>\n",
       "      <td>Nên mua bạn nhé. Để bảo vệ sức khỏe bạn trong ...</td>\n",
       "      <td>1</td>\n",
       "      <td>0</td>\n",
       "    </tr>\n",
       "    <tr>\n",
       "      <th>6997</th>\n",
       "      <td>Nên ra luật người sử dụng ma túy cũng phạm tội...</td>\n",
       "      <td>1</td>\n",
       "      <td>0</td>\n",
       "    </tr>\n",
       "    <tr>\n",
       "      <th>6998</th>\n",
       "      <td>Mua Fadil đủ lăn bánh. Nếu thấy đắt thì đi Mor...</td>\n",
       "      <td>1</td>\n",
       "      <td>0</td>\n",
       "    </tr>\n",
       "    <tr>\n",
       "      <th>6999</th>\n",
       "      <td>2 kẻ này phải xử lý mạnh. Thật căm phẫn</td>\n",
       "      <td>0</td>\n",
       "      <td>1</td>\n",
       "    </tr>\n",
       "  </tbody>\n",
       "</table>\n",
       "<p>7000 rows × 3 columns</p>\n",
       "</div>"
      ],
      "text/plain": [
       "                                                Comment  ...  Toxicity\n",
       "0                                  Thật tuyệt vời...!!!  ...         0\n",
       "1     mỹ đã tuột dốc quá nhiều rồi, giờ muốn vực dậy...  ...         0\n",
       "2     tôi thấy người lái xe hơi bấm còi mới là người...  ...         1\n",
       "3     Coi dịch là giặc. Đã mang tên đó mà xâm nhập V...  ...         0\n",
       "4     Thương các bé quá! Các con còn quá nhỏ mà đã p...  ...         0\n",
       "...                                                 ...  ...       ...\n",
       "6995  đọc tin mà đau lòng quá,thảm nạn cứ xãy ra hoà...  ...         0\n",
       "6996  Nên mua bạn nhé. Để bảo vệ sức khỏe bạn trong ...  ...         0\n",
       "6997  Nên ra luật người sử dụng ma túy cũng phạm tội...  ...         0\n",
       "6998  Mua Fadil đủ lăn bánh. Nếu thấy đắt thì đi Mor...  ...         0\n",
       "6999            2 kẻ này phải xử lý mạnh. Thật căm phẫn  ...         1\n",
       "\n",
       "[7000 rows x 3 columns]"
      ]
     },
     "execution_count": 62,
     "metadata": {
      "tags": []
     },
     "output_type": "execute_result"
    }
   ],
   "source": [
    "cmt_train = df_train['Comment']\n",
    "cst_train = df_train['Constructiveness']\n",
    "txc_train = df_train['Toxicity']\n",
    "train_data = pd.concat([cmt_train, cst_train, txc_train], axis=1)\n",
    "train_data"
   ]
  },
  {
   "cell_type": "code",
   "execution_count": 63,
   "metadata": {
    "colab": {
     "base_uri": "https://localhost:8080/",
     "height": 402
    },
    "executionInfo": {
     "elapsed": 309,
     "status": "ok",
     "timestamp": 1622635941339,
     "user": {
      "displayName": "Nguyễn Thái Minh Đức",
      "photoUrl": "",
      "userId": "05286920215519665493"
     },
     "user_tz": -420
    },
    "id": "5UJvEAd4lEY_",
    "outputId": "53663cf4-13fb-47c5-aa54-a6fdf21e12f8"
   },
   "outputs": [
    {
     "data": {
      "text/html": [
       "<div>\n",
       "<style scoped>\n",
       "    .dataframe tbody tr th:only-of-type {\n",
       "        vertical-align: middle;\n",
       "    }\n",
       "\n",
       "    .dataframe tbody tr th {\n",
       "        vertical-align: top;\n",
       "    }\n",
       "\n",
       "    .dataframe thead th {\n",
       "        text-align: right;\n",
       "    }\n",
       "</style>\n",
       "<table border=\"1\" class=\"dataframe\">\n",
       "  <thead>\n",
       "    <tr style=\"text-align: right;\">\n",
       "      <th></th>\n",
       "      <th>Comment</th>\n",
       "      <th>Constructiveness</th>\n",
       "      <th>Toxicity</th>\n",
       "    </tr>\n",
       "  </thead>\n",
       "  <tbody>\n",
       "    <tr>\n",
       "      <th>0</th>\n",
       "      <td>Cuộc bầu cư người đứng đầu Quốc gia ở Mỹ là cô...</td>\n",
       "      <td>0</td>\n",
       "      <td>0</td>\n",
       "    </tr>\n",
       "    <tr>\n",
       "      <th>1</th>\n",
       "      <td>Mình thích Messi ở lại để Barca và Cules hiểu ...</td>\n",
       "      <td>1</td>\n",
       "      <td>0</td>\n",
       "    </tr>\n",
       "    <tr>\n",
       "      <th>2</th>\n",
       "      <td>dám chui ra,vậy ăn vô lại ếch said :')</td>\n",
       "      <td>0</td>\n",
       "      <td>0</td>\n",
       "    </tr>\n",
       "    <tr>\n",
       "      <th>3</th>\n",
       "      <td>Hoan hô sự quả cảm của các chiến sĩ và sự đồng...</td>\n",
       "      <td>0</td>\n",
       "      <td>0</td>\n",
       "    </tr>\n",
       "    <tr>\n",
       "      <th>4</th>\n",
       "      <td>Tôi cực lực phản đối cho hs dùng đt trong lớp ...</td>\n",
       "      <td>0</td>\n",
       "      <td>0</td>\n",
       "    </tr>\n",
       "    <tr>\n",
       "      <th>...</th>\n",
       "      <td>...</td>\n",
       "      <td>...</td>\n",
       "      <td>...</td>\n",
       "    </tr>\n",
       "    <tr>\n",
       "      <th>1995</th>\n",
       "      <td>Tôi có con đã học lớp 1 năm học 2019-2020. Tôi...</td>\n",
       "      <td>1</td>\n",
       "      <td>0</td>\n",
       "    </tr>\n",
       "    <tr>\n",
       "      <th>1996</th>\n",
       "      <td>Hình ảnh làm tôi nhớ ngày xưa ra cánh đồng chặ...</td>\n",
       "      <td>0</td>\n",
       "      <td>0</td>\n",
       "    </tr>\n",
       "    <tr>\n",
       "      <th>1997</th>\n",
       "      <td>Chúc mừng các anh!</td>\n",
       "      <td>0</td>\n",
       "      <td>0</td>\n",
       "    </tr>\n",
       "    <tr>\n",
       "      <th>1998</th>\n",
       "      <td>Bộ Y Tế cần nhắn tin đến toàn bộ số điện thoại...</td>\n",
       "      <td>0</td>\n",
       "      <td>0</td>\n",
       "    </tr>\n",
       "    <tr>\n",
       "      <th>1999</th>\n",
       "      <td>Câu đó nên dành cho ông thì đúng hơn</td>\n",
       "      <td>0</td>\n",
       "      <td>0</td>\n",
       "    </tr>\n",
       "  </tbody>\n",
       "</table>\n",
       "<p>2000 rows × 3 columns</p>\n",
       "</div>"
      ],
      "text/plain": [
       "                                                Comment  ...  Toxicity\n",
       "0     Cuộc bầu cư người đứng đầu Quốc gia ở Mỹ là cô...  ...         0\n",
       "1     Mình thích Messi ở lại để Barca và Cules hiểu ...  ...         0\n",
       "2                dám chui ra,vậy ăn vô lại ếch said :')  ...         0\n",
       "3     Hoan hô sự quả cảm của các chiến sĩ và sự đồng...  ...         0\n",
       "4     Tôi cực lực phản đối cho hs dùng đt trong lớp ...  ...         0\n",
       "...                                                 ...  ...       ...\n",
       "1995  Tôi có con đã học lớp 1 năm học 2019-2020. Tôi...  ...         0\n",
       "1996  Hình ảnh làm tôi nhớ ngày xưa ra cánh đồng chặ...  ...         0\n",
       "1997                                 Chúc mừng các anh!  ...         0\n",
       "1998  Bộ Y Tế cần nhắn tin đến toàn bộ số điện thoại...  ...         0\n",
       "1999               Câu đó nên dành cho ông thì đúng hơn  ...         0\n",
       "\n",
       "[2000 rows x 3 columns]"
      ]
     },
     "execution_count": 63,
     "metadata": {
      "tags": []
     },
     "output_type": "execute_result"
    }
   ],
   "source": [
    "cmt_valid = df_valid['Comment']\n",
    "cst_valid = df_valid['Constructiveness']\n",
    "txc_valid = df_valid['Toxicity']\n",
    "valid_data = pd.concat([cmt_valid, cst_valid, txc_valid], axis=1)\n",
    "valid_data"
   ]
  },
  {
   "cell_type": "markdown",
   "metadata": {
    "id": "MUwqC10ToTTM"
   },
   "source": [
    "## *Bidirectional LSTM"
   ]
  },
  {
   "cell_type": "code",
   "execution_count": 7,
   "metadata": {
    "colab": {
     "base_uri": "https://localhost:8080/"
    },
    "executionInfo": {
     "elapsed": 18,
     "status": "ok",
     "timestamp": 1622630834283,
     "user": {
      "displayName": "Nguyễn Thái Minh Đức",
      "photoUrl": "",
      "userId": "05286920215519665493"
     },
     "user_tz": -420
    },
    "id": "qi3yP-2HbGjt",
    "outputId": "2df10754-16fe-4cb7-9134-35ae8657ba9f"
   },
   "outputs": [
    {
     "data": {
      "text/plain": [
       "array(['Thật tuyệt vời...!!!',\n",
       "       'mỹ đã tuột dốc quá nhiều rồi, giờ muốn vực dậy cũng rất khó',\n",
       "       'tôi thấy người lái xe hơi bấm còi mới là người \"rất\"\\x1c lịch sự \"quá\" văn minh.đường xá là của chung,người cùng sử dụng kiên nhẫn cùng nhau dùng. bấm còi nháy đèn đòi ưu tiên tôi phải được đi trước. thật quá là anh đại mà.',\n",
       "       ...,\n",
       "       'Nên ra luật người sử dụng ma túy cũng phạm tội đó là tiếp tay cho kẻ buôn bán trái phép chất cấm. Ai dương tính với ma túy thì cứ phạt tù lao động tới ba năm lần đầu, lần hai nhân đôi. Phạt như vậy sẽ hết thôi mà.',\n",
       "       'Mua Fadil đủ lăn bánh. Nếu thấy đắt thì đi Morning, I10 dư ít tiền đổ xăng. Gia đình đi xe nào chả được, đừng nghe fan Nhât Hàn chém nhau cho mệt.',\n",
       "       '2 kẻ này phải xử lý mạnh. Thật căm phẫn'], dtype=object)"
      ]
     },
     "execution_count": 7,
     "metadata": {
      "tags": []
     },
     "output_type": "execute_result"
    }
   ],
   "source": [
    "comment_train = df_train['Comment']\n",
    "comment_train = np.array(comment_train)\n",
    "comment_train"
   ]
  },
  {
   "cell_type": "code",
   "execution_count": 8,
   "metadata": {
    "colab": {
     "base_uri": "https://localhost:8080/"
    },
    "executionInfo": {
     "elapsed": 16,
     "status": "ok",
     "timestamp": 1622630834284,
     "user": {
      "displayName": "Nguyễn Thái Minh Đức",
      "photoUrl": "",
      "userId": "05286920215519665493"
     },
     "user_tz": -420
    },
    "id": "rnjQM3ABcPu0",
    "outputId": "4f7026e4-d76a-4ad2-b980-5cba840072a0"
   },
   "outputs": [
    {
     "data": {
      "text/plain": [
       "array([0, 1, 1, ..., 1, 1, 0])"
      ]
     },
     "execution_count": 8,
     "metadata": {
      "tags": []
     },
     "output_type": "execute_result"
    }
   ],
   "source": [
    "constructiveness_train = df_train['Constructiveness']\n",
    "constructiveness_train = np.array(constructiveness_train)\n",
    "constructiveness_train"
   ]
  },
  {
   "cell_type": "code",
   "execution_count": 9,
   "metadata": {
    "colab": {
     "base_uri": "https://localhost:8080/"
    },
    "executionInfo": {
     "elapsed": 14,
     "status": "ok",
     "timestamp": 1622630834285,
     "user": {
      "displayName": "Nguyễn Thái Minh Đức",
      "photoUrl": "",
      "userId": "05286920215519665493"
     },
     "user_tz": -420
    },
    "id": "llpGZGAjnhe4",
    "outputId": "2c236ffb-5037-47ff-b8f6-dec50e940272"
   },
   "outputs": [
    {
     "data": {
      "text/plain": [
       "array(['Cuộc bầu cư người đứng đầu Quốc gia ở Mỹ là công khai và công bằng nhất, chính vì vậy đến khi có kết quả chính thức mới biết được người dân họ bầu cho ai.',\n",
       "       'Mình thích Messi ở lại để Barca và Cules hiểu thất bại nối tiếp thất bại là vì đâu. Nếu ở lại rất có thể Si sẽ phá sâu thêm kỉ lục thua 2-8 mà nhờ anh clb mới có được.',\n",
       "       \"dám chui ra,vậy ăn vô lại ếch said :')\", ...,\n",
       "       'Chúc mừng các anh!',\n",
       "       'Bộ Y Tế cần nhắn tin đến toàn bộ số điện thoại của người dân cảnh báo không dùng Pate Minh chay.',\n",
       "       'Câu đó nên dành cho ông thì đúng hơn'], dtype=object)"
      ]
     },
     "execution_count": 9,
     "metadata": {
      "tags": []
     },
     "output_type": "execute_result"
    }
   ],
   "source": [
    "comment_valid = df_valid['Comment']\n",
    "comment_valid = np.array(comment_valid)\n",
    "comment_valid"
   ]
  },
  {
   "cell_type": "code",
   "execution_count": 10,
   "metadata": {
    "colab": {
     "base_uri": "https://localhost:8080/"
    },
    "executionInfo": {
     "elapsed": 14,
     "status": "ok",
     "timestamp": 1622630834286,
     "user": {
      "displayName": "Nguyễn Thái Minh Đức",
      "photoUrl": "",
      "userId": "05286920215519665493"
     },
     "user_tz": -420
    },
    "id": "CXwxS1nEnbKg",
    "outputId": "51abe425-b5c1-4b09-c148-a0c660e8f19a"
   },
   "outputs": [
    {
     "data": {
      "text/plain": [
       "array([0, 1, 0, ..., 0, 0, 0])"
      ]
     },
     "execution_count": 10,
     "metadata": {
      "tags": []
     },
     "output_type": "execute_result"
    }
   ],
   "source": [
    "constructiveness_valid = df_valid['Constructiveness']\n",
    "constructiveness_valid = np.array(constructiveness_valid)\n",
    "constructiveness_valid"
   ]
  },
  {
   "cell_type": "code",
   "execution_count": 11,
   "metadata": {
    "colab": {
     "base_uri": "https://localhost:8080/"
    },
    "executionInfo": {
     "elapsed": 853,
     "status": "ok",
     "timestamp": 1622630835127,
     "user": {
      "displayName": "Nguyễn Thái Minh Đức",
      "photoUrl": "",
      "userId": "05286920215519665493"
     },
     "user_tz": -420
    },
    "id": "QGAbJf3ZgoDZ",
    "outputId": "bf8dec82-b3fe-488e-9083-5f194a3d566c"
   },
   "outputs": [
    {
     "data": {
      "text/plain": [
       "array(['Người ăn không hết kẻ lần chẳng ra',\n",
       "       'Nhiều người cứ nghĩ đạp xe là văn minh. haizzzz', 'Rất văn hoá',\n",
       "       'Đời ta ba mươi đời nó. Mua chiếc xe cũng chỉ phục vụ đi lại được tốt hơn mà thôi. Cần gì những thứ linh tinh kia làm gì.',\n",
       "       'Tước bằng lái vĩnh viễn đi. Chạy lếu láo thật, không coi mạng người ra cả!',\n",
       "       'Cảm ơn các y bác sĩ', 'Thật tuyệt vời!',\n",
       "       'Quỷ dữ chứ không phải con người. Thật xót xa cho các cháu khi bị chính những người máu mủ ruột rà đối xử như vậy!!',\n",
       "       'Rất nguy hiểm nếu không quản lý tôt nguồn gốc thục phẩm, cần phải có thanh tra nguồn gốc thực phẩm cam kết từ nơi sản xuất tránh những trường hợp vì lợi nhuận mà làm liều coi thường sức khỏe cac con.Nếu nhiễm độc cao còn phát hiện được sớmMong rằng các cơ quan chức năng sat sao vì tương lai con em chúng ta.',\n",
       "       'Nghe cũng nghẹn lòng thật, tương lai còn dài, lỡ sai vẫn kịp quay lại ...',\n",
       "       'Google, intel, Ibm của Mỹ đua công nghệ tạo ra máy tính lượng tử, chip lượng tử cách đây mấy năm rồi ạ và họ cũng có sản phẩm mẫu đầu tiên. Trung Quốc chỉ sao chép những gì được công bố và nghiên cứu sau thôi ạ. Mọi người đừng tâng bốc Trung Quốc quá bởi vì một người đi sau, nghiên cứu sau không thể linh hoạt và sáng tạo hơn người đã nghiên cứu trước được.',\n",
       "       'Trong mắt tôi cậu là Hero!',\n",
       "       'ko có từ nào hình dung về 2 đứa này đc! ng ta có câu hổ dữ ko ăn thịt con vậy mà.....',\n",
       "       'Cảm giác của nam thanh niên khi bị chúng đe dọa, cướp bóc còn cô người yêu thì bị chúng hãm hiếp nó đau đớn và bất lực cỡ nào thì không thể tưởng tượng nổi.',\n",
       "       'Lao động ở đây chỉ có Ấn và Việt Nam là tiềm năng, dời về nước làm chi, qua việt nam cho gần',\n",
       "       '\"Một cô giáo đang dạy âm nhạc ở lớp bên cạnh nghe tiếng khóc sang lớp 4C tìm hiểu, cũng thấy choáng váng\" - như vậy phải có tác nhân vật lý cụ thể tác động mới nhanh như vậy. Có thể hơi hóa chất, sóng âm địa tầng,... và tâm linh hơn là ma quỷ tác động lên những người có đáp ứng nhạy cảm tác nhân cao.',\n",
       "       'thực ra bây giờ mọi người chụp ảnh rất nhiều nhưng ít người quan tâm và không mấy khi xem lại điển hỉnh là ảnh cưới',\n",
       "       'Phải sống chung với dịch thôi, đóng đến bao giờ nữa. Ủng hộ mở đường bay quốc tế.',\n",
       "       'lịch công việc và đi lại của ông dầy đặc như vậy, việc nhiễm nCov khó tránh khỏi, mong chúa phù hộ cho ông sớm khỏi bệnh và tiếp tục dẫn dắt đất nước.',\n",
       "       'Murray cố nhưng cũng k thể thi đấu đỉnh cao đc nữa,dáng đi thất thểu,quá mệt mỏi và chậm chạp. Còn những cú trái của Stan thì vẫn có độ chất rất riêng và rất đẳng cấp',\n",
       "       'Mở bay quốc tế thì không thể tránh khỏi làn sóng covid lần thứ ba. Thật',\n",
       "       'Để nuôi cá sấu!!!!',\n",
       "       'Với động cơ điện chạy từ nguồn động năng từ pin sẽ làm thay đổi thế giới.',\n",
       "       'Vẽ hẳn cái đầu lâu xương chéo lên biển rồi mà mấy anh này còn không sợ',\n",
       "       'So với Kona chưa biết con nào option hơn nhưng Kona nó nhìn đẹp và thanh thoát hơn nhiều.Xem ra Xem ra hộp số DCT của Seltos có vấn đề về nhiệt độ và chuyển số, đã ghi nhận việc tua máy lên cao 4000 vòng ở số 1 mà k chuyển số cao hơn,đã lái thử và thấy rất chán',\n",
       "       'Chúc mừng ngành hàng không VN',\n",
       "       'Nói xin lỗi chứ chắc năm nay đ/c không có con học lớp 1. Chứ đc có con học lớp 1 xem đ/c có phát biểu kiểu đó không. Tôi thách đ/c dạy con mà không áp lực đấy, xem con nó tiếp thu khó hay dễ. Không nặng nhưng có quá nhiều điều vô lý hoặc không cần thiết bắt một đứa trẻ đang bắt đầu học chữ phải hiểu, phải biết.',\n",
       "       'Chúc philip nguyễn và liberec vượt qua vòng bảng',\n",
       "       'Vẫn còn người thờ ơ.',\n",
       "       'Ông này cực kỳ có duyên với cup. Ronaldo, kaka, Benzema, macelo đến real. Suốt 5 năm k biết tới cup. Từ khi bale đến có cup nhà vua và C1',\n",
       "       'Chào khán giả, thật ra mình cũng xem phim anh Tuấn vác tù và hàng tổng này lâu rồi,... mình cũng biết anh ấy cùng đồng hành với con và cả nhà anh ấy tập trung lo cho Bôm...dù sao mình cũng mong tất cả gia đình cũng như có gặp phải hoàn cảnh như vậy cùng nhau kiên nhẫn và luôn vững tinh thần trong cuộc sống. Mong cả tất cả bình an và luôn gặp may mắn trong cuộc sống.',\n",
       "       'Đó là vì nấu nước chưa kịp nguội đã lấy để gội đầu.',\n",
       "       'Nghe mấy thánh Toy chê BM khủng khiếp mà 219 ở TQ vẫn bán được 174.000 ch ah',\n",
       "       'Với giá con luxury mà trang bị như thế em thì mua kona cho lành thật, còn giá Lux cao quá so với thương hiệu KIA, chưa chắc đây đã là đột phá của KIA.',\n",
       "       'Nhắc đến tottenham hotspur lại nhớ đến bạn gì đó nói. Son chỉ được cái cao to và tốc độ hơn QH nhưng trình độ kỹ chiến thuật kém xa QH',\n",
       "       'Thời gian vừa qua rất nhiều người nói là nhân viên của Ngân hàng gọi điện thoại cho tôi nói là có nhu cầu vay vốn không và yêu cầu cấp mã số gửi đến điện thoại. Tôi nói là không có nhu cầu vay và không cung cấp thông tin gì. Mình đề phòng trước là lừa đảo rồi, giờ đọc tin này thấy lừa đảo thật.',\n",
       "       'Tăng khung phạt lên trộm chó phạt 10 năm tù ! Ko tăng là còn nhiều thằng trộm nữa công việc nhẹ nhàng quá mak',\n",
       "       'Một ông Bố tuyệt vời! Chúc cả nhà nhiều sức khỏe và hạnh phúc .',\n",
       "       'Tôi mua căn hộ quận 9 3 năm nay mà vẫn dài cổ đợi sổ hồng.\\xa0Mong thành phố sớm xử lý nhanh, dứt điểm để tạo điều kiện cho người dân sớm có sổ cũng như các chủ đầu tư an tâm...',\n",
       "       'Hay, nên có nhiều bài vậy',\n",
       "       'Sao ranh giới giữa sự sống và cái chết mong manh vậy , mới đây còn là con người sao lại hóa cầm thú mất hết nhân tính chia buồn cùng gia đình',\n",
       "       'Thích cái cô mũm mĩm ngày xưa',\n",
       "       'Bale hậu vệ cánh trái,Son hậu vệ cánh phải là chuẩn bài Mou nổ rồi',\n",
       "       'Chúc mừng thành tích của em. Nhưng học đến 3 giờ sáng thì không nên tí nào.',\n",
       "       'tiêu chuẩn của nhiều nước bên châu âu là lúc bơi bắt buộc phải có nhân viên cứu hộ, ngay cả cho những người đã biết bơi, và hồ thiên nhiên hay nhân tạo. Các ao nước không có kiểm soát cần phải rào lại. VN cũng nên làm như vậy mới tránh được những thảm họa này trong tương lai.',\n",
       "       'Chạy bộ luôn là cách đơn giản nhất và hiệu quả nhất.',\n",
       "       'Không cho trẻ tự ý mở cửa, cốp xe oto khi không xin phép. Loạng quạng vụt vài roi cho nhớ.',\n",
       "       'chẳng có gì là bất bình đẳng cả, họ là những người rất giỏi họ kiếm tiền bằng chính khả năng của họ',\n",
       "       'Thật thương tâm. Trách nhiệm phải làm rõ đến cùng từ cấp quản lý đến đơn vị thi công. Xin được chia buồn cùng gia đình',\n",
       "       'Mấy bác phi hành gia lên mặt trăng rồi về vẫn khỏe mạnh đấy thôi, có sao đâu.!',\n",
       "       'Hồi ăn gà của Lotte bị bở và hôi sau ba lần, thì ko quay lại hãng này nữa',\n",
       "       'Hôm qua có ai xem các trận tennis nữ RG kp vậy? Hôm qua mình xem mà thấy tội nghiệp họ luôn, nhìn họ đánh bóng \"không nổi\" theo đúng nghĩa đen luôn á, bóng bay khá chậm, có thể do họ lạnh họ đánh ko mạnh như mọi và trái bóng cũng nặng hơn vì là loại bóng khác trước, ngoài ra độ ẩm cao cộng thời tiết lạnh khiến trái bóng bị hút ẩm(tăng thêm 1 tí xíu trọng lượng suy ra vận tốc bóng bay chậm và quãng đường bay ngắn hơn trước,suy ra...... dễ rút lưới,hihi). Các tay vợt bên nam vừa trở về ghế ngồi là lập tức trùm khăn che kín phần trên cơ thể là đủ hiểu lạnh cỡ nào rồi',\n",
       "       'Thấy con Kia Sorento 2021 mới ra ,nhìn ngon ghê',\n",
       "       'Ro lại ghi bàn rồi các bạn fan Si ạ ! Cảm ơn các bạn đã quan trâm Ro nhưng bây giờ thì đừng so sánh Ro với Si nữa. nó khập khiễng lắm. Người ta đương kim vô địch 2 giải đấu đội tuyển và CLB. Ông vua ghi 101 bàn vân vân và mây mây. nên các bạn hãy so sánh ai đấy trắng tay mùa này ví dụ như Pogba chẳng hạn',\n",
       "       'Một tin vui cho bà con mình.', 'Chiến tranh thật thảm khốc',\n",
       "       'Bào ngư VN đỏ đỏ tím tím, nhỏ nhưng ăn rất ngon',\n",
       "       'Tôi ở Nam Định, từ khi sinh ra và lớn lên tôi chưa gặp cơn bão lớn nào, đa phần là bão cấp nhỏ nhất hoặc đã suy yếu khi mắt bão vào Quảng Ninh hoặc Thanh Hoá. Tôi nhớ cách đây khoảng 6 năm bão vào Nam Định mạnh nhất lịch sử 20 năm và khi đó tôi ở Nghệ An. Tôi không biết đó phải là năng lực siêu nhiên gì không?',\n",
       "       'Tụi nó đang cứu nhau khỏi đuối nước đấy',\n",
       "       'Sự VĨ ĐẠI của TỰ NHIÊN!', 'Kích thước mỗi ô vuông là 5x5m',\n",
       "       'Thật ra ở Mỹ người ta không quen hỏi nhau sẽ bầu cho ai. Quyền bầu cử là quyền bất khả xâm phạm. Để tránh hiểu lầm và xung đột không cần thiết, người ta có thể bàn bạc về những ưu/khuyết điểm của mỗi bên nhưng không hỏi là sẽ bầu cho ai.',\n",
       "       'Chúng ta phải luôn trong tư thế phòng dịch hiệu qủa nhất, không để dịch bùng phát đợt 3 !!!',\n",
       "       'Cô bé này đóng Love,Rosie tuyệt vờiTôi xem 6 lần',\n",
       "       'Đây tôi đi làm cắt tóc cũng như thế bị đình chỉ 10 ngày cho tóc dài ra rồi đi làm tiếp',\n",
       "       'Fan Liver nhưng chúc mừng Asenal. Leno bay như chim vậy.',\n",
       "       'Theo thuyết tương đối thì không có gì nhanh hơn vận tốc ánh sáng. Vì vậy các nhiệm vụ thám hiểm hành tinh liên sao đối với con người trở lên bất khả thi. Tuy nhiên thuyết lượng tử với hiện tượng rối lượng tử cho con người một cơ hội. Nếu làm chủ được nó khái niệm thời gian có thể sẽ không còn tồn tại. Loài người có thể đi lại giữa quá khứ và tương lai một cách dễ dàng. Du hành đến các thiên hà xa xôi trong chớp mắt. Lúc đó tất cả chúng ta sẽ trở thành thần tiên.',\n",
       "       'Hiện nay tình trạng sử dụng kích điện để đánh bắt thủy sản xảy ra rộng khắp các vùng trên cả nước. Từ ngoài biển, trong sông, trên đồng ruộng ...đều có người sử dụng kích điện. Và nhiều đến nỗi đó là hành vi bị pháp luật cấm giờ trở nên bình thường mà ít ai lên án.Tôi rất cảm phục người dân ở xã Tam Đàn huyện Phú Ninh Tỉnh Quảng Nam này vì nếu dùng xung điện họ có thể bắt được nhiều cá hơn, nhưng họ lại không làm vậy.Chúc bà con mạnh giỏi!',\n",
       "       'Trứng kho để qua ngày ăn lại dễ bị ngộ độc, mình đã từng bị một lần rồi.',\n",
       "       'Em ở trần mặc quần đùi đánh khởi động 30p, đánh đấm tổng cộng 15 hiệp mỗi hiệp 3p, cái quần đùi từ 300g thành 4 ký rưỡi. Tính ra cũng hơn 4 lít nước hút vô cái quần, chưa nói cả lít văng tùm lum. Tuỳ theo cường độ vận động, nếu a/c làm việc cường độ nặng cả ngày thì chảy 20l mồ hôi cũng được. Nếu muốn khoẻ mạnh nên chảy ít nhất nữa lít mồ hôi mỗi ngày nhé.',\n",
       "       'Muốn ngăn chặn được ma tuý thì phải nâng cao nhận thức cho giới trẻ để tránh đi lầm đường lạc lối, có cầu thì mới có cung mà.',\n",
       "       'Fans anh 23 năm rồi, tôi thấy chẳng có bài nào mà không hay, không đi vào lòng người, Nhạc trẻ, dân ca, rồi Bolero thể loại nào anh cũng cân tất',\n",
       "       'Thật sự thì các doanh nghiệp, nhà máy của Mỹ cũng phải chờ coi kết quả cuộc bầu cử, ai là người lãnh đạo nước Mỹ rồi họ mới tính thôi,,,,,,',\n",
       "       'Con hà ăn được gỗ thì đúng rồi, chúng tiết ra các enzim tiêu hóa gỗ. Ở Indo hay Malay có loài hà như con giun làm tổ trong gỗ mục. Riêng với sắt và đá thì tôi không nghĩ vậy, hà tiết ra chất bám vào đá và sắt tạo thành môi trường gây ăn mòn cho sắt chứ bản thân nó không ăn và tiêu hóa sắt hay đá.',\n",
       "       'Quá yếu kém .xem Tq và Nga kìa. Đã du hành liên hành tinh. Lên mặt trăng như đi chợ và giờ lên cả sao hỏa.',\n",
       "       'Đội hình trẻ trung của Ars này thì năm nào cũng thấy,nhưng cuối mùa thì lại tỏ ra non tay vô cùng.',\n",
       "       'Happy birthday! Happy Happy hạnh phúc', 'Cảm ơn cảm ơn...',\n",
       "       'Đầu mùa năm nay không thấy Si82 của chúng ta hát bài Hứa thật nhiều, thất hứa thật nhiều nhỉ.',\n",
       "       'Hên là 5 cơn bão mỗi nơi một hướng tan trong nay mai, nếu 5 cơn bão tụ lại thành một vùng hậu quả khó lường.',\n",
       "       'Sài Gòn về Đà Nẵng ngày thường vé máy bay 600.000 đồng, chỉ vài giờ là có mặt ở nhà. Đi xe, từ nhà đi taxi ra bến xe hết 300.000 + giá vé 400.000 nữa.... Dạ, em đi máy bay cho khỏe ạ.',\n",
       "       'Điểm danh những diễn viên, nghệ sỹ nổi tiếng (trong nước), có được mấy người giữ được hạnh phúc trọn vẹn đến khi về nghỉ hưu ? Phải chăng môi trường hoạt động của họ quá nhiều áp lực ?',\n",
       "       'Tôi đọc mà phấn khích như đang xem phim hình sự, các a quá xuất sắc, tuyệt vời',\n",
       "       'bây giờ ăn đồ đen lại là một trào lưu',\n",
       "       'Sợ, ra đường có chuyện gì một điều nhịn là chín điều nhục... nhưng mà lành lặn về nhà với vợ con',\n",
       "       'bài này hay đấy',\n",
       "       'Cái gì lạ thì ăn thử thôi chứ ngon lành gì. Năm 9x ở xã mình ng ta toàn xay con Sam ra cho heo ăn, giờ vào quán nhậu gần 1tr 1 kg.',\n",
       "       'Hông Kong chiếm 4/10 vị trí gia đình giầu nhất Châu Á',\n",
       "       'Đang mong cầu Cát Lái làm sớm',\n",
       "       'Trump là một vi tổng thống tuyệt với nhất nước Mỹ.',\n",
       "       'chưa có bằng chứng rõ ràng nên chuyện cũng chẳng tới đâu.\\xa0',\n",
       "       'Cụ khỏe quá. Mất nửa hàm mà thọ tới 96 tuổi',\n",
       "       'Không nên làm phố đi bộ ở đường Hàm Nghi và Lê Lợi. Các đường còn lại hợp lý! Cám ơn!',\n",
       "       'Hùng nên hùng hùng hổ hổ, nhưng là đối với một đứa bé mầm non, để giờ không dám ra đối diện.',\n",
       "       'Rất thích những bài viết chuyên sâu với góc nhìn đa chiều trên nhiều lĩnh vực thế này. Cảm ơn tác giả Phan Duy!',\n",
       "       'Theo tôi bạn cứ gửi tiết kiệm đi.',\n",
       "       'Quốc lộ nâng cấp toàn tuyến lên 80km/h nghe hợp lí, còn cao tốc mà có 80km/h không phù hợp gì cả',\n",
       "       'Thất bại rồi',\n",
       "       'Một đất nước còn nhiều hủ tục lạc hậu kinh khủng.Phụ nữ nên phải học lớp tự vệ bắt buộc để tránh điều đáng tiếc xảy ra.Thật đáng thương cho những người phụ nữ.',\n",
       "       'giải hòa bình chỉ nên dành cho người có công lao với nhân loại thế giới, chứ hòa bình vì bạo động sắc tộc của nội bộ nước Mỹ thì hình như không thỏa đáng , đó là trách nhiệm của các nhà lãnh đạo họ phải làm cho đất nước họ',\n",
       "       'Nói thật lòng tôi đầu 8x là fan của anh từ những năm 94 nhưng khi nghe anh hát dòng nhạc này cảm giác nó ko thật sự phù hợp vì muốn hát bolero thì hơi phải dài, mới đủ sức luyến láy, chứ hát bolero mà hát ngắt khoảng ko luyến láy thì coi như nhạc bolero đã mất đi phần nào bản sắc của dòng nhạc',\n",
       "       'Phải chăng chế tài xử phạt còn quá nhẹ. Haiz nhiều bạn trẻ bây giờ ngông quá.',\n",
       "       'Quan trọng là bác dùng cho mục đích gì. Chạy gia đình không thôi và muốn có chiếc xe chạy bền bỉ lâu dài thì cứ lấy Kona nhé. Seltos được mỗi cái thiết kế mới, mà mới rồi sẽ cũ. Không nên ham',\n",
       "       \"May Juventus gánh Tạ nặng chứ không Ajax làm gì có thế hệ vàng này. :')\",\n",
       "       'Tội nghiệp con. Nhưng tỉ lệ sốc phản vệ là có . Chỉ không may khi vào bé.',\n",
       "       'Cứ tưởng tượng đang bưng tô mì ăn mà bão cát ập đến với như xong phim luôn',\n",
       "       'Thay vì mỗi hs một điện thoại, thì chỉ gv có điện thoại, kết nối với internet và với projector. Nghĩa là gv có thể làm chủ tiết học mà không phải\"giám sát\" từng hs.',\n",
       "       'Đúng vậy, tôi cảm thấy rất buồn cho nước Mỹ!',\n",
       "       'Sương Nguyệt Anh và sương Nguyệt ánh nữa tên nào đúng',\n",
       "       'Sinh nghề tử nghiệp. Chia buồn !',\n",
       "       'Nhìn cụ thế kia ko đụng cụ cháu cũng tự gục',\n",
       "       'Cầu mong thế giới bình an!',\n",
       "       'Ngày Vinfast thống trị thị trường ô tô Việt Nam sẽ sớm thôi! 10-15 năm nữa ! Thị trường ô tô Việt Nam quá tiềm năng do xe ô tô/đầu người ở Việt Nam còn rất ít',\n",
       "       'Bản chất là côn đồ thôi, chỉ chờ cơ hội là bộc phát.',\n",
       "       'Bátca năm nay không có missi chắc là sẽ tiến sâu ở.... cup nhà vua!!! Còn cố mà để miss đá thì tới tứ kết là cùng!!',\n",
       "       'Xe hàn bán được tại thị trường khác thì bảo xe tốt. Còn xe hàn không bán được tại Âu, Mỹ thì bảo là bảo hộ nội địa. Đúng là tiêu chuẩn kép',\n",
       "       'Nếu được, tôi củng ủng hộ Ông 1 phiếu.',\n",
       "       'Tôi chưa từng 1 lần thích ông này', 'Đi câu cá bị cá câu.',\n",
       "       'i10 là ngon hơn Morning nhiều !!!',\n",
       "       'Ông Trump có tranh luận đâu, ông ấy cố gắng ngắt lời để cướp diễn đàn đấy chứ.',\n",
       "       'nếu đầu tư chạy dịch vụ chắc ổn bác nhỉ?',\n",
       "       'Nước Mỹ đang bị chia rẽ sâu sắc. Tuyên bố ủng hộ bên nào cũng sẽ bị chỉ trích và có thể là mất khách hàng là những người ủng hộ bên kia. Chả có tỷ phú nào lại muốn có thể mất đi 50% khách hàng cả.',\n",
       "       '\"Được hưởng phần bằng nhau\" vậy có công bằng giữa những người được thừa kế không luật sư? Vì gia đình đông con, nhưng trách nhiệm như chăm sóc bố mẹ khi về già thường được thoái thác cho một người. Còn việc trả lễ nghĩa giữa gia đình với bà con nội ngoại. Còn nhiều vấn đề khác nữa',\n",
       "       'Nói như ngân hàng khuyến cáo: không cung cấp giấy tờ có ảnh... Không biết ông này có bao giờ đi du lịch theo tour chưa. Mọi người đi du lịch theo tour đều phải scan, nộp bản gốc. Vấn đề là khi ngân hàng tiếp nhận thông tin mở thẻ thì cần đối chiếu đúng người, cần thiết hỏi test vài câu để đảm bảo đúng người.\\xa0',\n",
       "       'Tinh thần thể thao thì có, mà ý thức tham gia giao thông an toàn thì không có. Các anh nghĩ gì nếu lỡ ma men đang lái xe hơi, hoặc một anh tài xế mệt mỏi và buồn ngủ đang lái xe vào giờ này?',\n",
       "       'Ko biết công đoạn sơ chế có đảm bảo vệ sinh ko nhưng những cửa hàng mà đựng đồ trong túi nilon khi thức ăn còn nóng là ko dám sử dụng luôn. Chưa kể việc thải nilon ra môi trường nữa.',\n",
       "       'i10 cho tiết kiệm xăng',\n",
       "       'Ôi con đường tên Kha Vạn Cân rất là thân thuộc với bao thế hệ Sinh viên của các Trường ĐH ở quận Thủ Đức.',\n",
       "       'Đáp án là không bao giờ có một tam giác như thế nhé!',\n",
       "       'cầu cho họ và con cái họ an toàn và khỏe mạnh',\n",
       "       'Bài viết quá hay và độc',\n",
       "       'Trong các mỹ nhân trên thì Diểm My trông già dặn hơn nhiều.',\n",
       "       'Tội xúi giục con nít trộm cắp phải phạt thật nặng',\n",
       "       'Thắng mà không cần cầu cạnh đến penalty hay ăn rùa giống như ai kia là giỏi rồi',\n",
       "       'Bão năm nay muộn nhỉ, hết tháng 7 âm rồi mà chẳng thấy bão ở miền Bắc gì cả.Nhiều người cứ nói bão đến là không tốt, nhưng nếu bão thực sự mà không đến thì đồng nghĩa với khí hậu thay đổi, kéo theo đó là nhiều hậu quả khác còn nguy hại hơn nhiều. Tốt hơn cứ đều đều mỗi năm có vài cơn bão đổ bộ sẽ tốt hơn, người dân cũng sẽ quen với việc phòng chống bão, chứ bão không đều sẽ sinh ra chủ quan với bão lúc đó thiệt hại sẽ còn lớn hơn bình thường. Đất đai khô cằn nếu chỉ có vài cơn mưa thì không đủ thấm đất, phải cần có mưa bão thì mới giúp nhanh hồi phục đất được.',\n",
       "       'Phim đó tui xem khi đi thi đại học, tới giờ có đài vẫn chiếu, vẫn hay như ngày nào',\n",
       "       'Bác sĩ giỏi quá',\n",
       "       '@trung kien: bạn không quan tâm kệ bạn, chỉ cần biết cuộc thi này có uy tín quốc tế nhiều nước tham gia, thay vì động viên các em bạn lại có vẻ không vui ?',\n",
       "       'Nếu theo thang điểm, tôi xin lỗi Ông:Nói tôi chấm 9Làm tôi chấm 2.',\n",
       "       'NS Hà Chương phổ nhạc và trình bày ca khúc quá hay',\n",
       "       'Tôi 100% không tin Trump thắng lần 2 nhưng tôi ủng hộ ông.',\n",
       "       'Lại khổ cho những người phòng chống dịch rồi!',\n",
       "       'Giống Katy perry quá, ủa sao nhiều ng kỳ dị nhỉ, áo hình quốc kỳ hay Tết tóc gì là sở thích và lựa chọn của ng ta vào một thời điểm nào đó chứ có phải sử dụng nó để cố tình xúc phạm ai đâu mà cái gì cũng lên án,\\xa0',\n",
       "       'Cầu mong thế giới bình an!', 'Đau lòng vô cùng con ơi',\n",
       "       'Quá nặng.',\n",
       "       'Cô giáo mầm non quốc tế toàn mấy em gái mới ra trường còn non trẻ, họ biết làm gì hơn ở hoàn cảnh đó, đừng vì xoa dịu tình hình mà làm cái việc đình chỉ vô lý như vậy.',\n",
       "       'Giỏi Toán, giỏi Văn là do tư duy của HS. Còn giỏi Anh thì phần lớn là do môi trường. Những người hoàn toàn ko giỏi tiếng Anh bậc THPT vẫn đang thành công vượt bậc vì họ có nhiều năng lực khác cần thiết hơn: tư duy kỹ thuật, tư duy tính toán, tư duy phân tích... Khi vị trí việc làm đòi hỏi ngoại ngữ, họ sẽ tự trang bị ổn thôi. Ko nên nhồi vào 1 đứa trẻ quá nhiều thứ.',\n",
       "       'Toàn vạch đứt thì làm gì có lỗi sai làn',\n",
       "       'Mong rằng tất cả người dân nâng cao ý thức phòng dịch, không tham gia và chứa chấp nhập cảnh trái phép để dân ta đỡ khổ',\n",
       "       'Bệnh này người ta còn gọi là bệnh hysterria thường mắc nhiều ở giới nữ, mang yếu tố tâm lý lây lan rất nhanh trong tập thể',\n",
       "       'Nếu tôi là bạn thì tôi sẽ làm ngay việc này, đầu tư BĐS cho dù có xuống cũng không đáng kể so với tăng thì tăng cao trong vài năm tới.',\n",
       "       'Muốn xếp Bayern chung vs ai cũng đc miễn là năm nay Bayern vớ đc Mu thì là vui nhất, trốn quá lâu rồi từ 2014 Bayern thông Mu lần cuối tới giờ Mu cứ trốn xuống c2 làm Bayern buồn, đi năm 2019 Mu dự c1 thì lại mèo mả gà đồng vs Barca và bị thông 0-4. Năm nay xem Mu chạy đâu khỏi Bayern',\n",
       "       'Căm phẫn. Không biết nên dùng từ nào để miêu tả về 2 con quỷ này nữa.Cách ly khỏi xã hội những thành phần này đi.',\n",
       "       'Ôi! Tuyệt vời quá các anh ạ!', 'Như phim hành động Mỹ',\n",
       "       'Taken là phim hành động hạng A đấy , một tượng đài của dòng phim hành động',\n",
       "       'Thật sự đau lòng quá!!!',\n",
       "       'Bạn chắc là nữ, vậy một lời khuyên bạn hãy tham khảo Mitsubishi Mirage2020 sắp ra mắt.Linh hoạt, nữ tính, khá đủ công nghệ nhưng ít lỗi vặt là đặc trưng của nhà Mít và quan trọng nhất là nó siêu tiết kiệm nhiên liệu!',\n",
       "       'Chia buồn cùng gia quyến chú Trần Phương ,mong chú an nghỉ nơi vĩnh hằng . Lúc cháu còn bé tý ,ngày đó ở vùng quê miền trung du thi thoảng vài tháng mới có đoàn về chiếu phim phục vụ bà con cả một khu vực vài xã . Lúc đó háo hức ,chờ mong ,vui mừng khôn siết được xem phim . Đoàn chiếu phim chở đồ trên những chiếc xe bò ( do con bò kéo ) . Lúc đó dân ở các xã lân cận kéo xem phim đông như chảy hội . Cả sân vận động đầy ắp người ,và ngồi tất cả trên nền cỏ ,mọi người đều đi bộ tới ,lúc đó chưa có nhiều xe đạp ... nhiều bộ phim đen trắng đã đi vào lịch sử , như em bé hà nội ,vĩ tuyến 17 ngày và đêm ,vợ chồng a phủ ...',\n",
       "       'Mit là nồi đồng cối đá đó bạn',\n",
       "       'Mong ngài qua cơn dịch. Chúc sức khỏe ngài',\n",
       "       'nghe nó bị cắt rất nhiều, khác với bản gốc chiếu nước ngoài. Không biết còn hay không :(',\n",
       "       'Nhìn như Mark Zkbg vậy? Chắc AI này do fb phá triển quá',\n",
       "       'Hầu như ai cũng nói những lời có cánh khi đính hôn hoặc kết hôn đại loại như trên, thế nhưng cũng nhiều đôi chỉ sau một thời gian ngắn thì cánh gãy và đường ai nấy đi. Thế nên mới nói, ở trên đời này không gì có thể chống lại sự bào mòn của thời gian và không gì gọi là vĩnh hằng cả. Chỉ có tiền tài tồn tại vĩnh hằng mà thôi, như câu thơ ví von: Tiền của là chúa muôn loài, người ta là khách vãng lai một thì.',\n",
       "       'Cầu mong bão giảm cấp nữa đi để đồng bào miền Trung ruột thịt đỡ thiệt hại',\n",
       "       'Các cầu thủ Sevilla đã bỏ lỡ nhiều cơ hội ghi bàn nếu như trận này mà gặp Barca thì Bayern phải thủng lưới ít nhất 8 bàn.',\n",
       "       'Nói thật lòng là giờ với mình cái kỷ lục gì đó của Pele thì Messi cũng không quan tâm đâu, bởi với anh được chơi bóng với đồng đội hợp gơ và hòa đồng vui vẻ là anh vui rùi.',\n",
       "       'con bê sau này khó khăn đi lại ăn uống ngủ nghỉ, chắc hai con bê oẳn tù tì coi ai đầu thai trước cả hai không phân thắng thua nên dính vậy.',\n",
       "       'Rất hâm mộ chị, nhưng nhìn sơ sơ cũng 10 mối tình.\\xa0',\n",
       "       'Có cần thiết phải to và hoành tráng như vậy không? Xây xong bỏ phí chứ dùng gì đến.',\n",
       "       'Cầu mong ngài sớm bình phục',\n",
       "       'Chả hiểu nghe ở đâu. Vợ tôi bầu mà ăn linh tinh là tôi k thích rồi.',\n",
       "       'Tuyệt, cách hay nhất để quên người cũ là tìm người mới, tôi cũng giống như anh ấy.',\n",
       "       'Khâm phục người cha như anh',\n",
       "       'Như thế mới gọi là vùng vẫy giữa biển khơi !',\n",
       "       'Bayern thua thì buồn cười lắm nhỉ, bao năm nay Sevilla ko lọt nổi top 4 của Liga nhưng vả cho các anh tài các giải khác ko trượt phát nào, vua C2',\n",
       "       'nhìn cũng đẹp đi , nhưng nhìn từ trên xuống dưới ngay góc chữ D nhìn chán hết muốn nói',\n",
       "       'Rõ khổ , tội lại chồng lên tội .',\n",
       "       'Anh Bale nói thiếu, lẽ ra phải bảo là tôi sẽ đem khí chất chơi Golf của Real về đây mới đúng.',\n",
       "       'Đất phân lô liền kề là nơi trú ẩn an toàn nhất trong giai đoạn hiện nay khi các loại hình đầu tư khác gặp nhiều rủi ra.',\n",
       "       'Chính quyền địa phương quá chậm trễ', 'Ủng hộ Trump tái đắc cử',\n",
       "       'Bạn thân cơ, thân ai nấy lo. Thanh niên giờ quá manh động, hở tí mâu thuẫn là cầm dao chém giết người\\xa0',\n",
       "       'vậy là toi mất hàng trăm triệu USD rồi',\n",
       "       'Rất thích giọng ca của Hoài Lâm. Với tôi, Hoài Lâm hát ca khúc này rất hay, chạm được vào chỗ sâu nhất của tâm hồn. Cách thể hiện dốc mọi nỗi lòng, giọng ấm ngọt, khúc lên cao phiêu tốt, nói chung Hoài Lâm đã mang đến nhiều cảm xúc mạnh và nâng ca khúc này lên. Tôi sẽ chờ xem phim vì quá ấn tượng với soundtrack này.',\n",
       "       'Để xem Trump nghĩ ra cách chế nhạo như thế nào đây!',\n",
       "       'Ý chí muốn được sống quá mạnh mẽ! Đứa nào lì hơn đứa đó thắng!',\n",
       "       'MPT đẹp hút mắt luôn!.',\n",
       "       'Cộng thêm semedo là 10 cầu thủ bồ đào nha rồi, mua thêm 1 cầu thủ Bồ Đào Nha nữa là đủ một đội tuyển Bồ (với đủ các vị trí trên sân) thi đấu tại ngoại hạng Anh với HLV người Bồ. Bồ Đào Nha hoá là đây.',\n",
       "       'Cứ xem nó như thỏ thôi vì thật ra cũng đều là loài gậm nhấm cả xD',\n",
       "       'Mình vừa vote cho Fadil một phiếu dù i10 cũng là lựa chọn rất tốt nhưng mình ủng hộ hàng Việt Nam. Chúc mừng bác chủ tránh xa xe tải Wigo',\n",
       "       'Tóm lại toàn giả thuyết.Tri thức con nguời so với vũ trụ quá nhỏ bé. Mỗi chuyện trái đất đứng yên hay chuyển động còn cãi nhau cả bao thế hệ.\\xa0',\n",
       "       'Trí dự thì quá chuẩn rồi , chung kết Moma Dal sẽ cho No thua 2 set ,,,, tối nay No vào chung kết mà Dal chốn đi đâu vậy trời ??????',\n",
       "       'Trong clip này, ô tô chuyển làn không bật xi nhan, bản thân xe lắp camera hành trình lấn làn liền nét chui vào làn xe máy',\n",
       "       'Có vô số và có thể lớn hơn nữa. Vd như tam giác cân có chiều cao đỉnh tới cạnh đáy lă 0.2mm = 2e-7km cạnh đáy là 6e+15km. Thì S = 2e-7 x 6e+15 / 2 = 6e+8 = 600.000.000 sqkm. 2 chiều cao kia bằng nhau và < 2x 0,2 mm nên tổng 3 chiều cao nhỏ hơn 1mm',\n",
       "       'quá khúng khiếp.', 'Tiếc quá, nhạc hay như vậy...',\n",
       "       'Ở nam có Sướng, bắc có Phát - toàn đại za xăng dầu. Cuộc đời ngắn ngủi đôi khi Sướng một Phát rồi .... mặc đồ Juventus nhé',\n",
       "       'không bằng cầm thú',\n",
       "       'Bale tuy ghi ít bàn nhưng những bàn của bale giá trị hơn 7 ké gấp 10 .',\n",
       "       'Sau bao năm vất vả thì giờ anh đã có trái ngọt thật phi thường chúc 2 bố con bình an và hạnh phúc',\n",
       "       'Giá đất bây giờ vẫn trên trời. Theo tôi chưa lên mua vội, theo quy luật thì 2_ 3 năm hậu khủng khoảng giá đất sẽ xuống đáy như khủng hoảng kinh tế 1998 => 2000 xuống đáy, 2008 khủng hoảng => 2010+ 2011 xuống đáy.',\n",
       "       'Người mất cũng mất rồi, cát bụi về với cát bụi thôi.',\n",
       "       'HL có một giọng hát đẹp, lên cao xuống thấp xử lý rất tinh tế, cách cậu ấy đưa cảm xúc của mình vào bài hát chân thật như chính con người cậu ấy vậy.',\n",
       "       'Nhìn gia tộc quyền lực thấy choáng ngợp.',\n",
       "       'Chiều Xuân rất đẹp, còn Hồng Nhung tôi không thể nhận ra !',\n",
       "       'có nhiêu đó ngày nào cũng đá qa đá lại qài ko chán hả tr, ai cũng hay mà?',\n",
       "       'Một người cha trên cả tuyệt vời! Chúc anh và Bôm luôn thật khỏe mạnh và hạnh phúc!',\n",
       "       'Bất tài ,gian lận thương mại đã quá rõ ,đề nghị xử phạt nặng góp phần ổn định thị trường ,bảo vệ doanh nghiệp chân chính và người tiêu dùng.',\n",
       "       'mỹ giàu, mất hàng trăm triệu cũng được, quan trọng hơn là không phi công nào chết',\n",
       "       'Mong mọi điều tốt lành sẽ đến với ông và phu nhân. Tôi yêu Tổng thống Trump <3',\n",
       "       'Cách đây khoảng 50 năm mình cũng như thế này, nhớ quá',\n",
       "       'Trông mặt hai đứa này đã thấy bất lương rồi.',\n",
       "       'Nhiều cú đánh có thể nói đẹp không ngờ !!!',\n",
       "       'may là ca nhiễm không ủ bệnh lâu, nếu không thì những người này không cần cách ly 14 ngày, được tự do tiếp xúc trong cộng đồng ...ôi hỏi có toang lần nữa không a? nếu cứ thực hiện xét nghiệm âm tính rồi thì chỉ cần cách ly tại nhà 5 ngày thôi..',\n",
       "       'Thật đáng sợ, em search thử bà bầu ăn củ dền trên Google thì toàn nhắc đây là như là món rau củ giàu dưỡng chất cho mẹ và bé. Thực tế mẹ bầu 4.0 bây giờ ăn gì, uống gì đều dùng Google kiểm tra thông tin, chứ không phải ăn cái gì cũng đòi lên viện hoặc gọi bác sĩ được',\n",
       "       'Tôi ủng hộ Trump.',\n",
       "       'Không có công sinh thì cũng có công dưỡng, nhằm chứ không nhầm đâu!',\n",
       "       'Vẫn ủng hộ Trump!',\n",
       "       'Đồ ăn ở nhà làm nguyên liệu được chọn lọc, chế biến sạch sẽ, nấu chín đun sôi, bảo quản môi trường tủ lạnh trong vòng 3 ngày. Còn đây đồ hộp, nói không phụ gia, không chất bảo quản, thời hạn sử dụng 6 tháng. Việt Nam là xứ nhiệt đới nóng ẩm là điều kiện để nấm mốc và vi khuẩn phát triển mạnh, môi trường bụi bẩn nhiều nữa . Ai tin thì tin chứ tôi thì tôi không tin rồi. Chưa kể hàng được ship không đúng quy định bảo quản nữa (mấy anh shiper để trong rổ hàng to cùng với nhiều loại hàng hoá khác chạy lòng vòng dưới trời nắng chang chang).',\n",
       "       'Đá bi ep sân k có lên bóng cơ hội it oi.thắng nhưng k thích cach đó nó chỉ mai mắn. Arsenal k sứng đáng thắng trận nầy. Xét về mọi mặt thi đấu.',\n",
       "       'Kẻ 2 đường thẳng a // b có khoảng cách h = 1/3 mm. Trên a chọn điểm A bất kỳ, trên b chọn B,C có chiều dài l = vô cùng>> tổng chiều dài các đường cao của tam giác ABC < 3x1/3 mm < 1mmDiện tích tam giác ABC= 1/2*1/3*l = vô cùng',\n",
       "       'Nhà thầu nào làm cũng được. Nhưng nên ưu tiên các nhà thầu trong nước trước.',\n",
       "       'Soluto là xe cải lùi từ mẫu xe RIO của Kia. 2020 rồi mà cốp xe vẫn mở khoá cơ,đèn full Halogen',\n",
       "       'Thật vĩ đại!, Messi ghi hàng tá bàn thắng vào lưới Real và coi sân Hoàng Gia như sân tập, cay hơn nữa là Messi luôn cho MU ăn hành và cướp đi của họ 2 cái C1, cay hơn hết vẫn là việc Messi đạot 6QBV, 6 giày và lương cao nhất TG, CLB thì giữ lại như báu vật,..., còn idol Múi thì thua kém toàn diện cho dù đã dùng mọi thủ đoạn để bám theo như: ăn vạ hôi pen, tráo băng đội trưởng BĐN để tự bầu QBV cho mình, gập bụng khoe múi,.., nhưng vẫn không theo kịp Messi, vậy fan múi mới ghen tức anti Messi king khủng đến như vậy',\n",
       "       'Đây chính là trả lời tốt nhất cho đối thoại của hai ứng cử tổng thống nhiệm kỳ tới.',\n",
       "       'Sau ma túy thì là thuốc lá, rượu nhập lậu. ủng hộ 1000 phần trăm.',\n",
       "       'Trời ơi khủng khiếp!',\n",
       "       'Chúc cô chú luôn luôn vui vẻ , khỏe mạnh và hạnh phúc',\n",
       "       'Tuổi thơ tôi với những mơ mộng, gay cấn và trong sáng của TKKG mà trôi qua êm đềm. Kết quả thu đc là 2 cái đít chai trên mặt vì chuyên đắp chăn thắp đèn đọc trộm bố mẹ, khi đó tôi mới học cấp 2. Sau gần 30 năm cảm giác vẫn thế, vẫn háo hức. Nếu giữ nguyên tác nhất định sẽ mua làm quà tặng con gái để đặt vào tủ sách, cảm ơn tác giả.',\n",
       "       'Cần xử lý thật nghiêm tội bạo hành trẻ em để không còn xảy ra tình trạng đau lòng này nữa.',\n",
       "       'Tăng cơ bụng thì được nhưng đốt mỡ thì không nếu dinh dưỡng không hợp lý.',\n",
       "       'Tiết kiệm xăng nhất hiện tại là Suzuki Celerio. Tuy nhiên tiết kiệm xăng hơn Morning và giá rẻ nhất là Camry 3.5Q 2008. Thật vậy Vios đầy giá trị cốt lõi. Than',\n",
       "       'Cầm thú cũng không ác độc bằng hai chị em mụ này',\n",
       "       'tên này ngoài đời chắc côn đồ lắm đây',\n",
       "       'Hay lắm. Cuối cùng cũng về với thiên nhiên',\n",
       "       'Đúng là gương mặt anh nhìn khủng thật,hi vọng sau những lần mổ anh sẽ sớm trở lại với gương mặt bình thường nhất có thể!',\n",
       "       'Thay vài lần nữa là lứa cầu thủ triệu đôi vừa đến tuổi về hưu',\n",
       "       'Và cuối cùng chứng minh nói một đường làm một nẻo là thế',\n",
       "       'Mình vẫn là fans của đồ ăn tại gia, tự mang bọc vải đi chợ mua đồ, hạn chế dùng nilon đến mức tối đa. Ngon - Bổ -Rẻ, hạn chế tối đa túi nilon đến môi trường.',\n",
       "       'Người ta giáo dục con em trong gia đình?',\n",
       "       'Về việt nam thì giá bằng bao nhiêu lần 70.000usd vậy???',\n",
       "       'Đã vào đến chung kết thì em nào cũng có cơ hội vô địch, nhưng Vũ Quốc Anh - Đắk Lắk vẫn trội hơn phần còn lại. Sẽ là lần đầu tiên Vòng Nguyệt Quế về với Tây Nguyên!!!',\n",
       "       'E này đúng là rất nhưng cái giỏi của e này là có căn bản từ cha mẹ làm trong ngành giáo dục.Nể nhất là bé gái trong đoàn khi mẹ là công nhân may,cha là bảo vệ mà bé đã xuất sắc mang về tấm huy chương đồng cho bản thân và nước nhà. Rất khâm phục bé.../...',\n",
       "       'Không hiểu thế nào mà mua cái loại đó mà ăn được', 'Chuẩn xác',\n",
       "       'Sao ko có jackma và alibaba ?', 'Trẻ nó biết đc thì giỏi rồi',\n",
       "       'Rất phức tạp và bất cứ điều gì cũng có thể xảy ra! Nước Mỹ vốn dĩ là như vậy, giống như một bộ phim Holywood',\n",
       "       'Các chị thật xinh đẹp. Tôi hỏi là ông sếp mặt mũi thế nào',\n",
       "       'Miền tây(bến tre) đang hóng bão để có nước mưa sinh hoạt, rửa mặn, rửa phèn đồng ruộng. 2 năm nay lượng mưa ở bến tre rất ít, người nông dân không giao trồng lúa được , đất để không, nông dân phải chuyển đổi ngành nghề, vì trồng lúa bây giờ không có dư. Lúc trước nước sông chưa bị nhiễm mặn 1 năm làm 3 vụ , còn bây giờ 1 năm làm 1 vụ còn khó.',\n",
       "       'Phải xử phạt thật nặng không thể nhe tay với những cty sản xuất thực phẩm gây ảnh hưởng đến sức khỏe người dân',\n",
       "       'Mua ertiga mà đi. Lái rất đầm chắc, xăng tiết kiệm bái phục,',\n",
       "       'Giờ thấy lo quá, người dân chỗ nào cũng tụ tập rượu bia... các kiểu. Có lây nhiễm là toang luôn.',\n",
       "       'Lấy than tre ở đâu không biết nhưng chắc không phải nhật.',\n",
       "       'Biết đâu chú thích sống kiểu hoang dã thế, vì đã từng làm nhiều nghề. Quan trọng là bản thân thoải mái với những điều mình làm',\n",
       "       'Nhiều người đã sử dụng i10 khi chạy thử fadil thì chạy vội về bán i10.',\n",
       "       'Tra cứu thông tin trên CIC như nào, ai biết xin hướng dẫn giúp tôi với ạ.Tôi cảm ơn.',\n",
       "       'làn xe máy giờ cao điểm thấy taxi xe buyt toàn lấn làn này rồi bật xi nhan chạy bon bon , xong bật xi nhan ngược lại chạy vào làn xe mình khi hết kẹt',\n",
       "       'Lý do làm tầm thường hóa giải Nobel.',\n",
       "       '1. Vậy những con đường, công trình khác không có sự giám sát thì sao? Tại sao cứ phải đề cao giải pháp mang tính tình thế như vậy.2. Các bác nên nâng cao chất lượng, tăng tốc độ tối đa lên, 80km/h chưa phải là cao tốc, 5-10 năm nữa, xe hơi điện sẽ phổ biến, không còn nghe tiếng máy nữa, xe đời mới trên cao tốc mà nghe tiếng bánh xe với mặt đường dội lên cà rộp cà rộp chán lắm.',\n",
       "       'lại gần nó tưởng tranh thức ăn với nó thì nó phản ứng là phải rồi, con chó cũng thế nó mà đăng ăn thì bình thường nó hiền đến mấy mà khi ăn động vào nó phập cho thôi rồi',\n",
       "       'Đối với mấy thành phần này đình chỉ học tập thì đúng ý muốn của chúng rồi.',\n",
       "       'Nhìn mặt đã thấy GHÊ Rồi',\n",
       "       '20 năm mà lúc ra đi lật mặt như lật bánh tráng. Đòi đi bằng được với giá 0 đồng, lúc không đi được thì lại vì tình yêu mới ở lại. Nói như các cụ ngày xưa thì đúng là nuôi ong tay áo, nuôi cáo trong nhà, Nói thật tôi vẫn thích tính cách của 7 điệu hơn, mặc dù kiêu ngạo nhưng lại không giả tạo. Còn Si thì như kiểu sói đội lốt cừu, kiểu sống cứ giả tạo thế nào ấy.',\n",
       "       'Đọc thông số kỹ thuật bản Deluxe xong chán luôn cụ ạ. Cắt bớt option thì cũng vừa phải thôi chứ. Bản Luxury mà cũng chỉ 2 túi khí. Nản nuôn.Đúng như cái tên Lux có khác,nghe hơi lác lác',\n",
       "       'Bạn còn trẻ bạn nên tham gia bhnt vì.Bạn còn trẻ còn khoẻ. Phí bảo hiểm sẽ thấpNgoài ra bạn tham gia bhnt là cách bạn thể hiện trách nhiệm của mình với Mẹ.\\xa0',\n",
       "       'Khâm phục bố mẹ của em này. Mà trời k chịu đất thì đất phải chịu trời thôi',\n",
       "       'Tầm đó mua đc đời 2016-2019 luôn chứ tùy cũ mới, km và option. Ông a bán con Vios số tự động bản E CVT mua cuối 2018 giá 400tr mà mấy tháng nay ko bán đc luôn nè, xe giờ thảm lắm.',\n",
       "       'Kẹt xe nữa rồi', 'Quá đau xót! Chia buồn cùng gia đình!',\n",
       "       'Siêu phẩm của Messi xem đã thiệt. Hơn đứt cú đúp của Rô và Su. Đầu tuần quá mãn nguyện của Tùng và team, xin chúc mừng!',\n",
       "       'A Bo hiền lành, tính tình điềm đạm, nhã nhặn lịch sự, lại rất đẹp trai dễ thương, ai gặp anh ngoài đời sẽ rất quý mến!',\n",
       "       'Án mạng rồi thì có chạy đàng trời, mau tự thú cho nhẹ tội.',\n",
       "       'Thống kê sao được hết thực tế có thể gấp nhiều lần',\n",
       "       'tốt nhất là cấm trong lớp không dùng ĐT di động và nghe nhạcCấp 1 đến cấp 3 nên cấm, để học sinh có tư duy học bài tốt hơn.Theo tôi chỉ ở cấp cao đẳng đại học mới được sử dụng.',\n",
       "       'Đúng là Mỹ', 'Mô phật. Không phải người nữa rồi. a di đà phật.',\n",
       "       '\" Những người đàn ông thuộc tầng lớp lao động tay chân như Bickley, Karr, cùng bạn bè trên sà lan của họ, là \"fan cứng\" của Trump. Phần lớn họ là đàn ông da trắng, không có bằng đại học và trên 40 tuổi.\"',\n",
       "       'Chỉ Tiểu Vi là đẹp!',\n",
       "       'Hàng thủ Barca vẫn hơi lởm. Mess đã rất khó lường, Frankie va Mess sẽ là biến số cho bài toán phản công.',\n",
       "       'cuộc sống mưu sinh khó khăn đầy nơi, người giàu sang tiêu phí cho hàng hiệu cũng đầy rãi. Xã hội muôn màu. Tiếc thay cho những số phận không may mắn. Những ai đang chi tiêu lớn mà những thứ xa xỉ, nên cân nhắc lại.',\n",
       "       'Đau lòng quá đi.',\n",
       "       'Chúc mừng gia đình. Em bé rất xinh, giống bố, nếu mình có đứa con xinh như thế thì sẽ ngắm mãi không rời được mất. Mong mẹ bé sẽ sớm vượt qua được trầm cảm sau sinh, ngày xưa mình sinh xong không có áp lực gì mà vẫn bị chớm trầm cảm nên khá hiểu tâm trạng của người mẹ lúc này. Mong bình an sẽ đến với cả gia đình.',\n",
       "       'Nâng cao thêm, nâng mạnh lên - Chả có ai mua đâu mà nâng.',\n",
       "       'mỗi trận lụt ở quê tôi những ụ kiến kết thành bè phải gấp 10 lần như thế!!!!!!!!!!!!!!!!',\n",
       "       'Chó robot thì 1000 năm nữa cũng ko bằng đc chó nhà.',\n",
       "       'Bác chủ không nêu rõ mục đích. Nếu đi gia đình hoặc ở thành phố nên chọn số tự động bác ơi. Cùng tầm giá thì con Attrage ngon hơn.',\n",
       "       'Bạn trai chạy thoát may thật',\n",
       "       'Ủng hộ ông làm Tổng thống nước Mỹ, nếu ông Trump thắng cử nước Mỹ sẽ càng tan nát',\n",
       "       'Sự kết hợp hoàn hảo. Tiến lên ToT',\n",
       "       'Có nước rồi lên sao hỏa quẫy thôi',\n",
       "       'Ủng hộ ông A, sau ông B lên làm tổng thống thì cũng dở. Nên cứ \"im lặng là vàng\"',\n",
       "       'Đã xác định có độc, cơ quan chức năng phải cho thu hồi ngay.',\n",
       "       'Tuy là người Việt nhưng cũng một phiếu ủng hộ ông Trump :D',\n",
       "       'A Tâm ở hiền gặp lành rồi, chúc gd anh tâm luôn bình an',\n",
       "       'xin chúc mừng em đã đem vinh quang trí tuệ về cho tổ quốc;',\n",
       "       'Đến phiên tranh luận thứ hai ông nào không đến được hoặc không dám đến thì ông ấy thua',\n",
       "       'Bài viết khách quan và chính xác.\\xa0',\n",
       "       'Nhớ về Quê Hương nha các em.',\n",
       "       'Cảm ơn Anh rất nhiều vì sự năng động,sáng tạo và cả một chút liều để cứu nhiều bệnh nhân. Chúc Anh sức khoẻ,thành đạt và hạnh phúc',\n",
       "       'những cái túi nilong dày để có thể bảo quản được các loại chất lỏng sẽ đi về đâu :(',\n",
       "       'Hay lắm! Giọng của NS. Hà Chương cũng rất tình cảm. Khâm phục nghị lực của nhạc sĩ! Tôi là người miền nam nhưng rất thích nghe những ca khúc về xứ Quảng hay Huế.',\n",
       "       'Không thể cải tạo được, cần cách ly khỏi xã hội vĩnh viễn.',\n",
       "       'Thôi xong, nợ càng chồng chất rồi.',\n",
       "       'Nên thông báo khẩn cấp xuống từng ấp, xã, huyện trên toàn quốc để báo động cho từng hộ dân về sản phẩm này thay vì thông báo trên phương tiện truyền thông. Đâu phải người dân nào cũng theo dõi báo đài',\n",
       "       'Nếu đình chỉ công tác 3 cô giáo thì phải xử lý hình sự phụ huynh đã có hành vi xâm phạm trẻ em có tính chất côn đó mới đúng',\n",
       "       'Khổ thân. Phụ nữ thận trọng khi chọn nguoi kết hôn. Đã xảy ra nhiều vụ thế này rồi Liên lụy cả cha mẹ và gia đình',\n",
       "       '\"7 tỉnh, thành từ Hà Tĩnh đến Quảng Ngãi\" 5 tỉnh còn lại là những tỉnh nào?',\n",
       "       'Sancho nhất định làm cầu thủ bóng đá chân chính chứ không chịu làm Rùa hoặc khoác áo Thợ Nhuộm.',\n",
       "       'Tôi bắt đầu yêu Fati rồi đấy tuy rằng không ưa Messi mấy',\n",
       "       'Đài báo, tivi phải đồng lọat đưa tin, chính quyền các địa phuong phải thông trên loa phường mới đến tai người dân được. Thật đáng tiếc',\n",
       "       'Hoài lâm còn quá trẻ, cậu ấy nên gạt đi quá khứ để làm lại từ đầu.',\n",
       "       'Hạnh phúc sẽ đến với các bạn làm thiện nguyện.A DI ĐÀ PHẬT.',\n",
       "       'Cảm ơn tác giả. Những việc tưởng chừng khó xãy ra nhưng khi gặp chuyện sẽ rất hữu ích cho những gia đình có trẻ em. Ngay như người lớn cũng không phải ai cũng biết cách xoay xở.',\n",
       "       'Mấy bệnh nhân này không ai đọc báo hay xem thời sự trên truyền hình sao?',\n",
       "       'Càng kiên định con đường đã chọn. Coi như nằm gai nếm mật cùng các BN covid khác.',\n",
       "       'Tội nặng nhất là gieo vào đầu đứa bé tính trộm cắp, tuổi thơ trong sáng của bé đã bị bà cô nghiện ngập làm vẫn đục.',\n",
       "       'Cam thảo ăn ít có lợi cho sức khỏe . ăn nhiều thì khác, thứ gì cũng vậy, nên ăn vừa đủ thôi',\n",
       "       'sở hữu 1 con xe sedan hạng B như soloto ở mức giá dưới 500tr như này thì cũng ko trông đợi gì hơn, option nhiều, trang bị nhiều, giá này cũng dễ để sở hữu xe',\n",
       "       'Loại tội phạm này nên cách ly xã hội lâu vào',\n",
       "       'Số phận nghiệt ngã quá mà...!',\n",
       "       'Hú hồn, thấy quảng cáo trên Facebook hấp dẫn quá, định mua dùng thử... giá khá cao nên thấy tiếc tiền...dành thôi',\n",
       "       'Vaccine của nước nào vậy?',\n",
       "       'Vừa tích cho bạn vào City rồi nhé. Con này đi form cũng đẹp, lành. bền bỉ. Mình có mấy ông bạn đi đều khen.',\n",
       "       'Đấy tôi đã bảo mà, dân Mỹ rất thông minh, họ biết đc đâu mới là vị tổng thống mà họ cần.',\n",
       "       'Cái xe máy chạy 20 năm đã nát lắm rồi, vậy mà cái máy bay này 43 năm vẫn còn cho phép sử dụng thì tai nạn chỉ là vấn đề sớm hay muộn mà thôi',\n",
       "       'Một chiếc xe nguyên bản luôn luôn an toàn hơn một chiếc xe độ đèn, điện, âm thanh, dán kính..... chỉ làm cho dễ cháy nổ xe, hạn chế tầm nhìn..... Cho nên dùng xe tốt nhất không dán kính, không độ đèn, giàn loa, âm thanh.... nhất là hiện tại cứ mưa là ngập dễ chập điện.....',\n",
       "       'Chỉ cần nhìn vào các bé thì đánh giá được chương trình như thế nào. Có bé nào đi học về mà cảm thấy vui vẻ, hạnh phúc không?\\xa0 Khi nào các bé đến trường mỗi ngày là một niềm vui thì mới đúng là giáo dục.',\n",
       "       'Tui mua cruze 1.8 AT 2016 33k km giá 370tr, xe hơi hao xăng do xác nặng, đi đầm chắc.Đi xe này chú ý vệ sinh dàn lạnh thường xuyên, hộp phải thay nhớt thường xuyên 5000km là mình thay rồi 4,2 lít.Phụ tùng thì ra gara or vào vinfast mà mua, xe đi ngon hơn vios 100 lần.',\n",
       "       'Kick-out !',\n",
       "       'Ước gì được đi bộ cùng đàn Linh dương 1 lần. Không biết nó di cư bao xa. Nhưng tôi từng đi bộ gần 100km vẫn thấy bth. Nhưng đó là dọc đường có tiếp tế nước.Nếu xa hơn nữa tôi vẫn đi được. Với điều kiện có thể có nước uống dọc đường. Nước sông suối là được.',\n",
       "       'Tuyệt vời messi thần thánh, bàn pen do pa ti.kiếm đc có tính không?? Tính thì si ghi đc 707 bàn. Cố lên messi anh sắp bắt kịp cr7( 743 bàn)',\n",
       "       'Chúc mừng sự may mắn để về nhà.',\n",
       "       'Nhật sai lầm khi buông bỏ thị trường điện thoại di động và không phát triển các sản phẩm viễn thông. Để Hàn quốc Samsung Trung quốc Huewei, oppo, v.v... thống trị mảng di động . Mong muốn Nhật mạnh trở lại , để đồng lương của những người học tiếng Nhật có giá chút.',\n",
       "       'Ý đồ đánh thuế của Trump là thế mà, ép chuyển sản xuất ra khỏi TQ, đa dạng hóa chuỗi cũng ứng nhưng chuyện này đâu phải làm trong một vài tháng. Lúc đầu vẫn phải nhập khẩu linh kiện TQ dù dời nhà máy sang Ấn Độ hay Đông Nam Á, nhưng 5-10 năm sau các quốc gia này sẽ học hỏi từ các công ty Mỹ, châu Âuvà copy để tự sản xuất linh kiện và xây chuỗi cung ứng như TQ đã làm 30 năm trước.',\n",
       "       'Đợt này mở bay quốc tế nên không để tránh khỏi nguồn bệnh lây vào nước ta nên chúng ta vẫn phải chấp hành tuyệt đối việc tự giác đeo khẩu trang không là bv chúng ta và gia đình chúng ta trước đó các bạn nhé.\\xa0',\n",
       "       'Mấy hôm nay em đọc báo thấy bảo nội thất của dòng Seltos Luxury bị cắt bớt nhiều nên có vẻ chán. Nếu cá nhân em thì em chọn Kona đi cho nó đầm',\n",
       "       'Chiều về qua không biết chuyện gì kẹt cả 1 đoạn đường giờ mới hay là bắt các con bạc',\n",
       "       'Arsenal có thời khắc có thể gỡ hòa, nhưng tiếc họ không tận dụng được. Lir đã thể hiện bản lĩnh và xứng đáng giành chiến thắng. Họ pressing thật khủng khiếp',\n",
       "       'Nên lắp camera hành trình. Nó kết hợp cả camera lùi rồi. Ngoài ra không nên nghe ai gạ gẫm mà lắp thêm lung tung.',\n",
       "       'Ân Độ lên đưa ra luật nghiêm khắc hơn , nên tử hình nhg kẻ có hành vi cưỡng hiếp phụ nữ có lẽ sẽ giảm bớt đi đc tình trạng này',\n",
       "       'Rất hâm mộ Pirlo nhưng ở serie A thì juventus chỉ cần chơi 1 cách bình thường là sẽ vô địch, như năm ngoái inter và lazio toàn tự bắn vào chân nên juve chơi dưới bình thường mà vẫn vô địch',\n",
       "       'Việc gì cũng có tính hai mặt, việc của người làm công tác giáo dục là phải làm sao để phát huy tính tích cực và hạn chế tiêu cực. Khi cho học sinh dùng điện thoại di động trong việc học cũng vậy . Không nên cấm cái này cấm cái kia. Không ai quản lý được việc hoc sinh đang tra cứu tài liệu hay tán gẫu hay việc gì đó ...',\n",
       "       'Thiếu 1 tình huống đường 2 chiều nhưng vạch vàng liền(coi như con lươn).Nhiều lái xe đè vạch và lấn sang làn đường bên kia nhưng lại bị hù là đi sai làn thay vì lấn vạch.Giá đúng là 300-400 tăng lên 3tr-5tr .',\n",
       "       'Nếu Juve vô địch thì ko chừng người ta sẽ nói là Morata gánh Rô vô địch bất kể Morata có ghi bàn hay ko mất.',\n",
       "       'hồi bé học tiểu học bị miết, mà lúc đó cắn răng để kéo xuống cho nó khỏi kẹt, nghĩ lại thấy thốn quá hehe',\n",
       "       'Đây chính kết quả đến từ sự quyết tâm dập dịch cùng với kinh nghiệm của đợt dịch đầu tiên đã giúp chúng ta chủ động trong chống dịch. Hãy luôn cảnh giác và không được lơ là. Việt Nam muôn năm!',\n",
       "       'Quá thất vọng cho một buổi bàn luận giữa hai ứng viên tổng thống! Không khác gì ngoài chợ chửi nhau! Kiểu cướp lời của TT Trump là quá mất lịch sự và thiếu văn hoá kinh khủng!',\n",
       "       'Mình thấy các đơn vị vận chuyển vẫn chưa chú trọng nhiều vào đổi mới công nghệ hay tối ưu quy trình. Vẫn là câu chuyện cạnh tranh, giảm giá, shipper đình công, hàng hóa thất lạc, thái độ phục vụ,.... Chỉ khi nào áp dụng công nghệ hiện đại thay thế con người thì mới thật sự thay đổi được. Quanh đi quẩn lại vẫn dùng công nghệ \"chạy bằng cơm\" thì khó có thể bắt kịp các nước phát triển',\n",
       "       'Thà đừng kết hôn thì có lẽ 2 người vẫn bên nhau.kết hôn rồi ly hôn lằng nhằng 3 năm vẫn chưa xong...',\n",
       "       'Các cháu đã biết gì đâu, mình cũng 2 đứa đi lớp, đọc mà xót lắm',\n",
       "       'Bale là 1 cầu thủ giỏi nhưng ít cố gắng luyện tập và thi đấu không biết phối sức nên chấn thương nhiều.Nói cho cùng thì Real là 1 tập thể mạnh với Cr7 trong đội hình thì Bale vẫn chỉ là 1 cầu thủ giỏi thôi!Trên đời này để dự bị cho Cr7 chỉ có 3 người xứng đáng: Neymar và Messi,Pele và Maradona thì kém 1 bậc so với Cr7 nhưng trên vạn người,zizo,Ro béo xếp thứ 3...',\n",
       "       'Em đi thấy bình thường, xe cách âm tốt.Vẫn hài lòng với Kona.Em cũng rất thích form Seltos, nhưng sau khi ngó nghiêng, lái thử thì em chốt Kona . Do em ưu tiên cho vợ nên lựa xe có hàng ghế sau rộng rãi, có điều hoà sau, và nhất là đi Kona không bị ù ạ (em thấy khoản cách âm của Kona làm khá tốt)',\n",
       "       'Các cụ có câu \" gừng càng già càng cay \" quả không sai',\n",
       "       'Lạm dụng than tre. Bánh mì đen không ngon, theo trend được vài bữa.',\n",
       "       'Chúc mừng Bayern có một năm đại thàng công và là nơi nương tựa cho rất nhiều fan du mục từ các CLB chuyển khác vui ké như : fan Rô, fan Juve, fan MU, fan Real.',\n",
       "       'Tuyệt', 'Làm gói mỳ tôm :D',\n",
       "       'Nhiều thanh niên lắp trợ sáng đi đường làng cũng bật. Các ông lái oto cũng chẳng kém đi trong phố cũng bật pha rọi vào mắt người đi đường. Sao công an không làm mạnh tay chấn áp các việc như thế này đi.',\n",
       "       'seltos đi bạn, đẹp miễn chê!',\n",
       "       'Sự chủ quan của ông Trump đã phải trả giá đắt. Hy vọng ông sẽ sớm vượt qua.',\n",
       "       'Luật Mỹ nếu nổ súng khi đang ở trên xe là tội nặng hơn nhiều. Tội này càng bị nâng cao nếu xe đang chạy. Lý do chính là khi tay súng ở trên xe đang di chuyển cơ hội rất cao sẽ bị lạc đạn và gây hại oan cho nạn nhân khác không phải nạn nhân như dự định. Trong trường hợp này, chính xác là anh cảnh sát đang ngồi trong nhà với con bị lạc đạn mà chết.',\n",
       "       'Mắc bệnh vì chủ quan, bây giờ được gọi là chiến binh nữa cơ. Gia đình này hài hước thật.',\n",
       "       'Chống cự cảnh sát thì hậu quả như vậy thôi, cứ theo lệnh thì làm gì có rắc rối',\n",
       "       'Dạo này hs bị tai bay vạ gió nhiều quá!',\n",
       "       'Mặc dù bác phân vân i10 sedan và Fadil bản base, nhưng em góp ý thêm bác lấy con Kia Soluto mà đi bác ạ, cũng nhiều sự lựa chọn như bản base AT của nó chỉ 420-430 rộng rãi.',\n",
       "       'Chỉ có 2cái gọi là vòi Rồng căn cứ kích thước quy ước và lượng chuẩn độ ẩm (còn lại đều là vòi Rắn).. Các vật thể bay ngoài hành tinh thường sử dụng cách nạp nhiên liệu lỏng dạng nước biển rồi nitrat hoá thành nhiên liệu bay bền tích tụ công nghệ nano mà kg cần gas hay nhiên liệu hạt nhân. Elon Musk cũng tự biết điều này từ nhiều năm, có điều chưa công bố.',\n",
       "       'Cá voi xanh thường bơi từ vùng biển bắc cực đến nam cực và ngược lại. lộ trình của chúng đi qua gần nước Mỹ nên có thể theo dõi được.Cá voi chỉ ăn phiêu sinh vật sinh trưởng vùng nước lạnh (các cực) vào mùa đông. Cho nên khi chuyển sang mùa hạ ở Bắc cực thì cá voi phải di cư đến Nam cực kiếm ăn , vì lúc đó ở Nam cực sẽ là mùa đông. Trong thời gian di chuyển, cá voi nhịn ăn. Thường thì cá voi con được sinh ra trong thời gian di chuyển và nếu có bơi xa mẹ sẽ bị cá mập bắt ăn thịt. Cá mập giết cá voi con, nhưng chỉ ăn cái lưỡi của nó !',\n",
       "       'Lây nhiễm là điều tất yếu. Đất nước thì dịch bệnh đang bùng phát mà tụ tập đông người như vậy lại còn không đeo khẩu trang.',\n",
       "       'Tất cả đều là của Châu Âu làm nhưng được cho là cửa Mỹ... những gì Đức, Pháp, Anh... làm đều được cho là Mỹ làm....',\n",
       "       'Chúng tôi thuê các cô trông, giữ, dạy trẻ chứ đâu chỉ để gửi con đến trường để chúng chơi? Các cô không nên trông dạy trẻ nếu không kiểm soát và điều khiển dk các thành tố bên trong và bên ngoài',\n",
       "       'Hối hận vì lãng phí những năm tháng học sinh lười biếng, giờ nghe ko hiểu nổi 1 khái niệm hic',\n",
       "       'MU h như nhóm đội loay hoay trang europa leauge ấy, năm nay k biết vào nổi tôp 7 k nữa nè chứ mà San với Cho',\n",
       "       'Thế thì tất cả các lễ lạc từ nay đến cuối năm sẽ bị xếp lại... Một Giáng Sinh buồn trong bệnh tật và chết chóc.?!?!...',\n",
       "       'Đầu cơ đang khiến giá cả bất hợp lý. Nhà xã hội giá 25 triệu đồng/m2, hơn 2 tỷ đồng/căn thì người có thu nhập trung bình vẫn không thể mua nổi, huống chi là người có thu nhập thấp.',\n",
       "       \"Hai mái Đan Trường ngày nay khác ngày xưa quá, ngày xưa đẹp hơn, ngày này giống mới ngủ dậy vậy :')\",\n",
       "       'Bạn Tùng thì quá giỏi nếu tính theo tiêu chuẩn quốc tế IELTS rồi. So sánh với người bản địa là không công bằng, trừ khi lớn lên ở nước ngoài hoặc có bố mẹ người nước ngoài.',\n",
       "       'Đội ngũ y bác sĩ BV Chợ Rẫy chuyên môn rất cao. Và hơn hết là trách nhiệm.Chúc mừng anh.',\n",
       "       'Cứ 5 giờ chiều mấy cái loa gần nhà tớ \" Đây là đài phát thanh quận ..\", rồi cũng cho mọi người nghe một vài tin tức và cả nhạc nữa, nhưng không thấy nhắc đến món này. Mình đọc báo hàng ngày nên nắm được thông tin.',\n",
       "       'Cá sấu há miệng vẫn kiếm được miếng ăn.',\n",
       "       'Trời ơi 7 năm trước đi Quy Nhơn ăn con này trong quán họ nướng, hết có 250 ngàn. Và ăn chả có gì đặc biệt. Sao giờ đắt kinh khủng vậy',\n",
       "       'Có , đường cao dưới 1 mm nhưng các cạnh còn lại kéo dài đến một nơi cách trái đất một ngàn năm ánh sáng thì tổng diện tích sẽ lớn hơn trái đất .',\n",
       "       'Thương con quá', 'HAGL đua vô địch ? Mình xin cười nhẹ một cái !',\n",
       "       'Dễ thôi. Hôm bữa tôi còn làm được món trứng chiên đen kìa',\n",
       "       'Toyota Vios,không thân !',\n",
       "       'Ế ẩm càng tốt, chứ đánh bắt riết thì diệt chủng hết.',\n",
       "       'Vậy mà mở đường bay, kiểm tra nhanh. Ko biét có phát hiện đc ko',\n",
       "       'Một hướng đi đúng cho Bale. Tot cần bổ sung hàng công khi đang chỉ có Kane và Son.',\n",
       "       'good! Hãy nghiên cứ và đầu tư thật nhiều~',\n",
       "       'Nếu người ta có đăng ký kinh doanh và đăng ký tên thương hiệu thì không thể phạt người ta được phạt là người cấp phép cho thương hiệu na ná kia! Còn nếu người ta kinh doanh mà không đăng ký thì phạt',\n",
       "       'Chung thân mà mới 10 năm 5 tháng đã ra tù',\n",
       "       'Tính tới tính lui cũng chỉ được 75% là tối đa không biết tới lúc tôi nghỉ có gì mới hơn không !!!',\n",
       "       '1 đứa bé 6t mà bị 2 ng lớn đánh đập . Tội nghiệp cháu',\n",
       "       'đây là 1 giải pháp rất hữu ích để giảm kẹt xe, cướp giật, phóng xe vượt ẩu... bên cạnh đó, mình thấy tìm giải pháp để điều chỉnh dải phân cách 2 bên đường cho phù hợp với các khung giờ cao điểm cũng là 1 giải pháp hữu ích, hiện nay có nhiều thời điểm 1 bên đường rất đông, trong khi chiều ngược lại thì vắng tanh, nhất là giờ tan sở. Nếu mình có giải pháp điều chỉnh dải phân cách linh động theo khung giờ thì sẽ bớt kẹt xe rất nhiều',\n",
       "       'nhất nghệ tinh là đây, rất đáng để tham khảo cho các bạn đang tìm mục tiêu cho sự nghiệp cũng như học hành.',\n",
       "       'nghệ sĩ Trần Phương và nghệ sĩ Trà Giang trong phim Chị Tư Hậu rất ấn tượng. Tôi rất thích xem phim này.',\n",
       "       'Coclaurin và nornuciferin ( các glyxerit ) có trong hạt na độc với tế bào và làm ngưng tập tiểu cầu , ngoài ra có loại acid cao phân tử có tác dụng với HIV ,may mắn là hạt na có lớp vỏ khá chắc không bị thủy phân trong dạ dày nên lỡ nuốt nguyên hạt cũng không sao ( đừng làm vỡ hạt ) ,trong rễ na cũng độc như hạt, phần ăn được trong quả ngon và dinh dưỡng.',\n",
       "       'Cuộc đấu thật sự , tuyệt vời .',\n",
       "       'Còn khoảng 1 hoặc 2 năm nữa là ta không còn được xem và chiêm ngưỡng M10 hoặc CR7 đá đỉnh cao nữa rồi ,dù biết trẻ già măng mọc nhưng hơi tiếc nuối khi không còn xem 2 cầu thủ này',\n",
       "       'Bale về Tot thì 99% năm nay Tot sẽ có C1 rồi. Tiếc quá lũ trẻ suốt ngày rêu rao, thần tượng Bale nhưng đâu có dám bỏ tiền ra mua cậu ta về Barca.',\n",
       "       'Cực kì hữu ích', 'Các Cô làm sao ngăn được tên côn đồ ???',\n",
       "       '7 chỗ, giá hợp lý, San đứng đầu phân khúc SUV chứ đâu?',\n",
       "       'cứ lấy tỷ lệ comment ủng hộ ở đây là biết TT Trump tái đắc cử rồi',\n",
       "       'Biểu tượng của sự sống vĩnh hằng.\\xa0',\n",
       "       'Thực sự hâm mộ ntk Mạnh Cuờng.',\n",
       "       'Biden mà lên thì Mỹ sẽ tiếp tục suy tàn. Thật buồn.',\n",
       "       'Nissan đang giảm giá kìa bạn, bạn quất luôn cho nhanh khỏi phải nghĩ 355tr MT, 400 AT',\n",
       "       'Giải pháp an toàn nhất là mua đất nhỏ quận 1,3,10.... Nói thẳng là không thể lỗ vì đất trung tâm tuy mắc nhưng giá trị tăng theo lạm phát. Mua đất xa TT thì hên xui, có thể lời đậm nhưng cũng có thể lỗ nặng.',\n",
       "       'Dù không ủng hộ và có phần không ưa Trump nhưng cũng muốn ông đắc cử làn nữa, vì sao? Vì Trump đang lột tả những điều bất công tồn tại bấy lâu nay, tuy thể hiện có phần khó coi nhưng đó là người dám nghĩ, dám làm, công bằng là công bằng.',\n",
       "       'Cần công khai thật chi tiết quy trình nhập cảnh thời Covid; sau thủ tục HQuan là trách nhiệm đưa đi cách li của CQĐP; thống nhất chung cả nước, giao CQĐP theo dõi tại cộng đồng sau cách ly, quy định hạn chế đi lại; Chí phí cách li người NC chịu; Mở cửa là thời điểm có thể coi là nguy cơ rất cao mọi người cần có ý thức tự bảo vệ mình, gđ và cả cộng đồng',\n",
       "       'Bale đi rồi ai ghi những bàn quyết định ở những trận quyết định cho Real đây?',\n",
       "       '2 bố con rất tình cảm. Chúc mừng anh và con đã có thành công.',\n",
       "       'Xét về tính kinh tế và hiệu quả thì i10 hơn Fadil đó.',\n",
       "       'barca chỉ thua nhà vô địch.. quá hợp lý !',\n",
       "       'Barca Đụng Bayern Munich thì xác định bị loại từ vòng bảng sớm nhé',\n",
       "       'Cầm tù cho lâu. Tội ko dung thứ đc.Chúc con gái may mắn, mong tương lai tươi sáng chờ con phía trước.',\n",
       "       'Em là nhân tài của Quốc gia. Mong em sau này đi du học hãy về phục vụ đất nước. Đây là mong muốn của Anh nhưng quyền quyết định lại là ở em',\n",
       "       'ko có sự khc biệt nhiều trong 2 con vì m cũng chỉ đi loanh quanh chủ yếu hơn nhau ở option, chế độ hậu mãi này nọ',\n",
       "       'Thật là tuyệt vời....Cứu nhân độ thế là đây ....',\n",
       "       'Hi vọng giảm còn cấp 6 khi đổ bộ vào đất liền.',\n",
       "       '26 triệu đô + lương cho một mùa bóng. Totenham quả là dám chi.Còn Real thu về 26 triệu đô + tiết kiệm được 1 khoản chi lương 350 bảng/tuần. Thương vụ này Real thắng lớn.',\n",
       "       'Cả châu Á dồn lại cũng chỉ bằng một nữa của Mỹ. Ghê thiệt.\\xa0',\n",
       "       'Hồi mới nổi kiu ông hãy suy xét kỹ mọi điều thì ông cãi lại + ương bướng quyết theo con đường của ông. Giờ thì ông than.. Thật ra ông muốn sao..!?',\n",
       "       'Sẽ tốn rất nhiều tiền để sửa biển hiệu, namecard cho doanh nghiệp và các cá nhân',\n",
       "       'Bão ơi từ đâu đếnĐi theo hướng Biển ĐôngGây ra bao tai hoạTan nát bao cõi lòngBão ơi từ đâu đếnBão có biết hay không?Mong bão thương người ViệtTan ngay giữa Biển Đông!',\n",
       "       'làm công ăn lương mà 10 năm dư được 3tỷ. 2 vk chồng tôi làm 10 năm âm nợ gia đình 2 bên 100trịu.hi',\n",
       "       'Tôi thì mê, sung sướng khi đi xe hơi không phải vì nắng chẳng tới đầu mưa chẳng ướt gót chân và tính an toàn của nó mà cái chính là khi ngồi trong xe nhìn ra sau tôi thấy đông fan chạy theo , thật là sung sướng cảm giác mình là ngôi sao, thần tượng chỉ hơi boăn khoăn không biết là tại mình là ngôi sao hay là mer, có lần tôi đi xe buýt nhìn ra sau quá cảm động khi fan còn nhiều hơn ! Rõ rồi chính tôi là thần tượng là ngôi sao chứ không phải Mercedes !',\n",
       "       'Jennifer Aniston và Brad Pitt giờ nhìn thấy già mà xấu nữa.',\n",
       "       'Mua là để đi chứ không phải để cho thuê,bạn ý đã nói rõ cần tư vấn xe sx năm nào,tầm đó mua được xe morning tầm 2015,i10 đời thấp hơn',\n",
       "       'Riêng đấu cúp thì MC chưa là gì\\xa0',\n",
       "       'Cái gu của người TQ về nội thất sặc sỡ nhỉ?',\n",
       "       'Ngày ngày đón tin vui, mong dịch qua sớm',\n",
       "       'Nếu vũ trụ có giới hạn thì bên kia giới hạn ấy là cái gì.',\n",
       "       'Nếu học viên ở nước ngoài rồi thì giờ phải về để thực hành lại à :-/',\n",
       "       'Không còn là một con người nữa thật là thương tâm với cháu bé',\n",
       "       'Hay, đọc mấy bài phá án này công nhận cảnh sát giỏi thật.',\n",
       "       'Các Bác Sĩ thật tuyệt vời, ước mơ tương lai các con cũng trở thành ... Bác Sĩ hay Y Tá. Tôi chỉ ước thôi nhé. ( nhưng tôi đoán ở và tiếp xúc lâu dài các con sẽ có xu hướng yêu thích công việc)Chúc hai con hay ăn chóng lớn.',\n",
       "       'Ký ức tuổi thơ của tôi lại ùa về.',\n",
       "       'Học đi đôi với hành mà....giờ trẻ thơ bị hành học nên đánh mất tuổi thơ bắn bi thả diều.ăn trên xe, ngủ tạm trên xe để đi học',\n",
       "       'Trẻ đẹp tài năng nhưng khối óc đã làm việc sai quy trình nhân loại.',\n",
       "       '1 đêm thu được 25tr???? tội các chú chó.và gia chủ quá',\n",
       "       'Cám ơn nhà trường, cám ơn quý thầy cô, mong quý thầy cô luôn quan tâm coi học sinh như con em mình, một lần nữa xin chân thành cảm ơn quý thầy cô.',\n",
       "       'Thật thương Các bé. Súc sinh chứ không phải con người.',\n",
       "       'Wowy đăng cấp thật sự', 'Này là giá đất hóc môn, các bác ạ.',\n",
       "       'Qua nét vẽ của họa sĩ,các nghệ sĩ sống động như thật,nhất là ns Văn Cao,Khánh Ly,Thanh Thúy,Thái Thanh...Tác giả rất khéo léo lột tả được đôi mắt ẩn chứa nhiều nổi niềm sâu lắng của những bậc tài hoa đang được người đời ngưỡng mộ !Rất mong được tham dự triển lãm của Hs Lê Sa Long sớm!',\n",
       "       'Nếu đi cao tốc 1000km chắc hơi tốn nhiều tiền phí.',\n",
       "       'Nhìn taxi bay cồng kềnh và chiếm diện tích kho bãi đậu quá, khó khả thi.',\n",
       "       'Ivanka nhìn có tố chất tổng thống nữ đầu tiên của Mỹ; mạnh mẽ lịch lãm',\n",
       "       'Điểm thi IELTS của bạn cao thật, xin chúc mừng. Nhưng thi đi thi lại tới 20 lần để làm gì vậy?',\n",
       "       'Bài hát vô cùng ý nghĩa , sâu sắc ! Quá ngưỡng mộ tài năng của Cô ! Dù đã ở tuổi 76 nhưng bà vẫn còn hoạt động nghệ thuật một cách hết sức miệt mài... ️️️',\n",
       "       '10x10000 + 1 gia đình ghèo nhất châu Á, có gia đình tôi ghi tên đó.',\n",
       "       'Biden chúc Trump và Đệ nhất phu nhân Melania \"nhanh chóng bình phục\" sau khi cả hai dương tính nCoV. Nhưng nếu ngược lại, Biden bị nhiễm và Trump âm tính thì chắc chắn Trump sẽ có một màn chế giễu ra trò!',\n",
       "       'Anh là một ông bố tuyệt vời ,có tâm ,có đức . Chúc Bôm đạt được nhiều thành công trong tương lai',\n",
       "       'Lúc trước thích Angelina Jolie lắm, nhưng từ sau những lùm xùm về vụ ly hôn thì không thích cô ấy nữa... Hết duyên rồi nên chia tay trong êm thắm, sao cứ muốn gây khó khăn cho Brad Pitt.?! Chỉ khổ & tội cho mấy đứa nhỏ thôi. :|',\n",
       "       'Vui nhất là khi đọc tới đoạn bố mẹ, ông bà nội ngoại tới đón về. Vậy là con ko bị bơ vơ giữa dòng đời này...',\n",
       "       'Bar đá như đi bộ, Elche thì như nghiệp dư toàn chuyền cho đối thủ, mấy ông bên bar cũng lững thững chả buồn tấn công, chất lượng chuyên môn trận này quá kém, điểm sáng nhất là griedman và Coutinho còn tích cực chạy và phối hợp tý, thân!',\n",
       "       'Bài toán mà thầy đưa ra và hình vẽ làm mọi người lầm tưởng là hình học phẳng. Tuy nhiên nếu áp vào trái đất thì đây là hình học không gian cho nên chỉ cần đường cao 1mm nhưng các cạnh tam giác vẫn có thể trải dài đến vô tận ==> Diện tích tam giác lúc này là lớn hơn trái đất.\\xa0',\n",
       "       'Nhìn mấy mẫu đẹp đến kinh dị.',\n",
       "       'Không hiểu sao nhìn trận này mình cảm thấy có hi vọng năm nay hơn những trận tưng bừng ngày trước. Đuối về thế trận mà hiệu quả chắt chiu cơ hội. Cuối mùa tính sau giờ quẩy đã anh em pháo nhỉ =))',\n",
       "       'Tiến lên nào Bayern',\n",
       "       'Cậu ấy đá quá hay mà lại bán đi. Ông chủ tịch đúng là chẳng cần biết barca sau này ra sao.',\n",
       "       'adidaphat. mong các con sớm siêu thoát. các cơ quan chức năng nên rà soát chứ khi xảy ra việc mới rút kinh nghiệm thì mới làm à.',\n",
       "       'Chân lý là cụ thể, cách mạng là sáng tạo, không phải anh làm được cái gì mà anh đã làm như thế nào mới là quan trọng nhất.',\n",
       "       'Chúc mừng em đã trở lại . Bài hát hay quá ! :^*',\n",
       "       'Một năm tràn ngập thiên tai, và bất ổn. Mong giờ đến cuối năm mọi chuyện sẽ qua',\n",
       "       'Công nhận kỹ xảo quá đỉnh', 'Một cái chết xứng đáng .',\n",
       "       'Tôi không thích điều này, vẫn nhớ như in cái cảnh Bale làm mình làm mẩy để được sang Real bằng mọi cách, qua được Real rồi thì phát biểu nói lại Tott. Bây giờ muốn được thoát khỏi Real cũng làm biết bao nhiêu trò hề và phát biểu nói xấu Real khi vẫn còn đang trong biên chế của họ chứ chưa phải ra đi nữa. Tài năng của anh tới đâu tôi không cần biết nhưng đạo đức của anh thì ko chấp nhận được.',\n",
       "       'Trước kia tôi dạy hs thì ngoài sách giáo khoa là bắt buộc phải mua, còn các tài liệu tham khảo hay bất cứ gì đó tôi toàn phát miễn phí cho hs. Mà giờ tài liệu tham khảo có đầy trên mạng, chỉ cho hs tự về nhà down, cài hay tự in mà học.',\n",
       "       'Kỳ lạ. Mẹ nuôi 39 tuổi, con nuôi 16 tuổi, dương tính ma túy, chưa có bằng lái, lái xe gây tai nạn đặc biệt nghiêm trọng, 30 tháng tù ?',\n",
       "       'Ủa rồi người đã nhẫn tâm vứt bỏ con mình có bị xử lý gì không?Này bé phước lớn còn được cứu, đẻ ra rồi bỏ mà cũng đưa lại cho nuôi được cũng chịu',\n",
       "       'Đi bộ cả trận cuối cùng có chiến thắng',\n",
       "       'Seltos chỉ dài 4,3 m. Seltos thuộc phân khúc CUV loại B nên hàng ghế phía sau rất chật. Phải thử ngồi vào mới cảm nhận dc. Kona bản 2.0 thấy khá rộng rãi.',\n",
       "       'Xin chúc Bác sĩ cùng đội ngũ cộng sự và đặc biệt là hai con sức khỏe, hạnh phúc.',\n",
       "       'Chỉ mong loài này đừng tuyệt chủng và các loài khác đang đừng bên bờ tuyệt chủng.',\n",
       "       'ghê quá , kiếm vài ngàn một tháng đã khó , mấy cô này kiếm toàn là vài trăm ngàn cho đến cả triệu một tháng , sau khi về hưu thì sống thoải mái nhỉ ( nếu biết để dành )',\n",
       "       'sao ko lấy lao mà đâm nó , để nó tấn công vậy lỡ chìm tàu thì sao ?rớt xuống nước là nó xé thịt ra ăn',\n",
       "       'cái này hay này,VN cần học hỏi để giảm thiểu ô nhiễm môi trường và giảm thiểu tai nạn cũng như mấy trẻ trâu đua xe,phát hiện ra tịch thu luôn.',\n",
       "       'Nếu ai từng sống trong khu nhà chơi đề sẽ hiểu ít nhiều về bộ phim này.Về cách quay làm mình thấy thực sự lạ, đa số là quay nghiêng.Về âm thanh thì rất tốt.Về nội dung thì tùy cảm nhận mỗi người. Bản thân mình chỉ thấy là, sau khi bước ra khỏi rạp là một cảm giác buồn, và đến ngày hôm sau khi nghĩ về vẫn thấy buồn. Có thể ngoài khi cũng đang có nhiều đứa trẻ phải vật lộn với cuộc sống như Ròm và Phúc. Nhận thấy bản thân mình thật may mắn khi không trải qua những điều đó.Cuối cùng, chúc đoàn làm phim gặt hái được nhiều thành công sắp tới nhé.',\n",
       "       'Đau quá, thương con',\n",
       "       'Mấy cháu thanh thiếu niên tha hương lập nghiệp, không lo làm ăn, tụ 5 tụ 7 bày đặt ăn nhậu , kết quả này chỉ là sớm hay muộn thôi !\\xa0',\n",
       "       'Người đẹp Nam Mỹ bao giờ cũng bốc lửa và hấp dẫn.Chúc mừng em.',\n",
       "       'Một người cha đáng mơ ước . Chúc chú và gia đình sức khỏe .',\n",
       "       'Vậy giá đất phân lô bán nền trên đó thế nào haha',\n",
       "       'Chúc hai em và các cháu luôn mạnh khoẻ và hạnh phúc. Hy vọng ngày nào đó em sẽ thấy được mọi người.',\n",
       "       'Chúc mừng Bayern Munich đã đoạt cú ăn 5. Đoạt thêm fifa club world cup là ăn 6 để làm được cú ăn 6 như fc Barcelona mùa 2008-2009. Đại dịch covy mà Bayern Munich ko được rước cúp ăn mừng',\n",
       "       'Ars đã có cơ hội để khiến liv ôm hận nhưng họ không làm được ở những thời điểm then chốt.',\n",
       "       'Bức ảnh cuối thấy hạnh phúc làm sao, giờ đất Sài Gòn hiếm có cảnh gđ con cháu quây quầng bên ánh lửa hồng như vậy lắm. Tuy họ nghèo tiền bạc nhưng mình cảm nhận họ rất hạnh phúc, điều mà có khi chúng ta mãi tìm mà chưa chắc đã được. Chúc gđ anh nhiều sức khỏe và ổn định cuộc sống.',\n",
       "       'Bộ sách lớp một có tới 14 quyển. Tội mấy cháu quá, học suốt ngày. Lưng còng, mắt cận, hết cả tuổi thơ...',\n",
       "       'Nhân đạo nhất với 2 người này là nên cách ly ra khỏi xh vĩnh viễn.\\xa0',\n",
       "       'Ngay cả các chuyên gia y tế trong ban đặc trách phòng chống dịch của WH cũng nói mọi người nên tự cách ly hai tuần khi biết mình có tiếp xúc với người dương tính, dù mình vẫn đang xét nghiệm âm tính và không có triệu chứng. Nhà Trắng biết trợ lý Hope Hicks dương tính vào sáng thứ Năm, nhưng Trump vẫn bay đến New Jersey để dự một buổi gây quĩ ngay sau đó, và phía Biden hoàn toàn không được cho biết dù ông Biden có nguy cơ vì đứng tranh luận với Trump hôm thứ Ba. Mọi tin tức bắt đầu khi kênh Bloomberg loan báo, nếu không thì đến bây giờ chắc người dân Mỹ cũng không biết gì.',\n",
       "       'Chúng nó chơi trò Rồng rắn lên mây đó mà :))',\n",
       "       'sắp đc liệt vào danh sách tuyệt chủng đến nơi rồi',\n",
       "       'Mau khỏe nhé cháu! Cảm ơn đội ngũ y bác sỹ.',\n",
       "       'Xin tri ân những Người Thầy thuốc! Xin cầu mong cho mọi người luôn khỏe mạnh, hạnh phúc và an lạc!',\n",
       "       'Đối tượng chính phát sinh số ca lây nhiễm mới bây giờ là người nhập cảnh. Như vậy, quan trọng nhất lúc này là làm thật tốt biện pháp cách ly và bảo vệ sức khỏe các thầy thuốc, hai yêu cầu này được thực hiện tốt là hoàn toàn yên tâm !',\n",
       "       'xe mất phanh ah?',\n",
       "       'Cám ơn VnExpress đã đưa tin rất cập nhật,chính xác và khách quan.',\n",
       "       'Nên có giấy triệu tập. Ko đến cơ quan coi như trốn tránh trách nhiệm xử lý theo luật pháp. Người lớn đánh trẻ con thật sự rất hèn hạ.',\n",
       "       'Hoài Lâm mình đánh giá là có thực tài, giọng hát có chất riêng không lẫn với ca sĩ khác...Nếu em không vướng vào chuyện tình cảm sớm, có lẽ giờ đã là một ca sĩ ở đỉnh cao (vì rất nhiều ca sĩ trẻ khác không hát được như Lâm đâu!), âu cũng là giá phải trả cho sự \"bồng bột của tuổi trẻ\" của chính mình và \"thiếu tư duy đầu tư, thiếu người định hướng\" nên bị lạc đường!!! Mong Lâm nhanh chóng tìm được con đường đi cho mình, đừng quá tự ti, vì ai chẳng có lỡ lầm trong đời...chỉ là có đứng lên được hay không???',\n",
       "       'Rõ ràng là mức độ lây nhiễm Covit 19 ở Trung quốc đã được kiểm soát và từng bước bị đẩy lùi, trong nhiều các biện pháp chống dịch thì tiêm vaccin là biện pháp chủ động và hiệu quả cao.\\xa0',\n",
       "       'Thật sự rất ý nghĩa . Cảm ơn gia đình ông rất nhiều !',\n",
       "       'Trương Quốc Vinh thật sự là một nghệ sĩ đặc biệt. Chú ấy ra đi cũng 17 năm rồi, 17 năm đủ để thay đổi biết bao con người, đủ để thời đại biến thiên, đủ để nhiều điều bị quên...ấy vậy mà mọi người lại nhớ chú ấy. Thỉnh thoảng coi các chương trình âm nhạc, tui vẫn thấy họ hát những ca khúc của chú ấy, cảnh tượng vẫn trăm lần như một, từ người ca đến người nghe đôi mắt đều ướt, họ cứ lẳng lặng nghe, cứ lẳng lặng lau nước mắt, từ người có tuổi đến tuổi trẻ thanh niên đều như vậy, khó hiểu mà lại dễ hiểu. Sinh nhật vui vẻ.',\n",
       "       'Cần coi lại chất lượng xây dựng công trình này.\\xa0',\n",
       "       'Thời buổi này còn sử dụng bao ni lông thế này thì thật nguy hiểm',\n",
       "       '\"Thời điểm chính xác con người sử dụng lửa vẫn còn gây tranh cãi, nhưng nhiều bằng chứng cho thấy thời điểm này là khoảng một triệu năm trước\". Đây là quan điểm theo Thuyết tiến hóa thôi. Từ lâu đã có bằng chứng khảo cổ chứng minh rằng con người xuất hiện cùng thời với khủng long, thậm chí là trước đó nữa, tức là hàng trăm triệu năm trước và họ cũng p[hát minh ra lửa từ hàng trăm triệu năm trước, ở mọi chủng tộc, chứ không đợi có suối nước nóng làm chín thức ăn. Nếu thế những nơi không có suối nước nóng họ chỉ biết ăn thức ăn sống thôi sao?.',\n",
       "       'Real thật khôn khéo đẩy cục nợ Bale và đặc biệt cài vào hợp đồng mua lại Reguilon trong 2 năm đầu khi đó tài năm trẻ sẽ bắt đầu bước vào độ chín để thay thế Macelo đã quá già. Thật cao tay',\n",
       "       'chả hề gì, 2 tuần sau ông ấy sẽ vượt qua thôi',\n",
       "       'Cầu mong mọi người bình an!\\xa0',\n",
       "       'Mỗi năm bán 300k xe thì thua xa Vios. Xe sang Đức/Âu/Hàn giá rẻ hơn xe bình dân Toy/Nhật. Thật vậy Vios đầy giá trị cốt lõi. Than',\n",
       "       'Con người ko biết sướng ở trong cái sướng, lúc nhận ra cái khổ thì ko còn quay đầu lại đc nữa.',\n",
       "       'Tội ác này không phải sát nhân nhưng còn ghê tỏm hơn',\n",
       "       'i10 ngon bổ rẻ , xe rộng vừa đủkia máy mạnh hơn nhưng chật và đi cao tốc ko đầm bằng',\n",
       "       'Nếu sau này ai lấy được người mẹ đã sinh ra em bé này thì thật là kinh khủng. sao họ lại có thể nhẫn tâm tới như thế chứ?',\n",
       "       'Tội nghiệp bé quá!',\n",
       "       'Nên có 1 bộ luật linh động gặp những trường hợp đặc biệt thì sẽ được phán xét theo ý kiến của nhân dân chứ tội cha mẹ ngược đãi trẻ em chắc cũng phạt hành chính rồi nộp phạt xong cho về thôi',\n",
       "       'thấy tính cách em cũng hiền lành dễ gần. Chúc em vui và hạnh phúc!',\n",
       "       'Tôi thấy ở Việt Nam có luật rồi mà sao vẫn thấy rất nhiều xe độ ống xả gây khó chịu và nguy hiểm cho người tham gia giao thông. Rất mong cơ quan chức năng mạnh tay với lỗi vi phạm này !',\n",
       "       'Vâng, sử dụng hàng nội địa là yêu nước.',\n",
       "       '200tr chỉ mua đc gái dịch vụ hoàn lương hoặc xe cổ thôi nhé, xe mới xe lướt thì phải trả góp.',\n",
       "       'Trời ơi, đừng có biến những thứ truyền thống thành thứ bình thường. Những thứ trên không thể gọi là bánh trung thu, chỉ là bánh ngọt ăn trong mùa thu thôi nhé, không có chút màu sắc gì giống bánh trung thu - dòng bánh nướng có màu đặc trưng dùng thưởng trà dưới trăng, phù hợp cho mọi lứa tuổi, màu ấm áp của tiệc quây quần đoàn viên. Lý do nhiều người mua dòng bánh mini này chỉ 1 chữ thôi RẺ, sợ mập, ăn chơi chia đông người cho dễ. Còn thực tế người coi trọng giá trị truyền thống hoặc mua biếu không ai mua bánh này.',\n",
       "       'Ở Mỹ trốn thuế hơi bị khó, doanh nghiệp liên quan đến tổng thống càng khó hơn. Đây là trò bẩn nhằm hạ uy tín. Ông mà trốn thuế người ta đã bỏ tù rồi chứ nói chi tranh cử tổng thống.',\n",
       "       'chúc phúc cho cả nhà nha.',\n",
       "       'Vinfast LUX SA 2.0 còn nhiều nhược điểm, nhưng khả năng vận hành thì quá tuyệt, bạn hãy lên xe và cảm nhận. Tại sao người Hàn là 1 cường quốc oto còn Việt Nam thì chưa? nó phụ thuộc vào bạn.\\xa0',\n",
       "       'Giành đã khó, giữ còn khó hơn!',\n",
       "       'Quá chủ quan!! Coi thường bệnh dịch nguy hiểm và cái kết không thể tránh khỏi !!',\n",
       "       'Trong tiết học đã có thầy cô, có giáo án xét đi duyệt lại biết bao lần, kiến thức như vậy là đủ cho học sinh rồi, nhiều môn còn quá nặng là khác. Học sinh muốn tra cứu trên mạng thì về nhà mà làm, còn trong lớp thì tập trung vào mà học. Chẳng lẽ thày cô và giáo án không đủ cho kiến thức 1, 2 tiết học mà học sinh phải dùng mạng thay vào?',\n",
       "       'Biết là phải cảnh giác cao độ nhưng cũng không thể khư khư đóng cửa mãi được. Bao nhiêu đồng bào làm ăn lao động bên nước ngoài đang vật vã không về nước được. Đừng nghĩ họ đi nước ngoài là giàu có, sung sướng gì. Họ đi xuất khẩu lao động hợp pháp, bán sức lao động nơi xứ người cũng là để gửi tiền về lo cho gia đình, cho cuộc sống giàu sang tốt đẹp hơn thì đất nước cũng phồn vinh hơn. Bây giờ bao nhiêu người đang vất vưởng lay lứt kiếm cái ăn qua ngày để chờ ngày được về.',\n",
       "       'năm rồi mới có con cá ngừ triệu đô',\n",
       "       'Bây giờ các hãng xe tư nhân đã có bến riêng trong nội thành. Việc đi lại có nhiều phương tiện cho người dân lựa chọn... Nên chả có ai dại gì nhà từ Hốc Môn, Bình Chánh mà ra tận BXMĐ mới để đi.Một dự án không hiệu quả, cả về lâu dài! Chờ xem!',\n",
       "       'Không cần nói nhiều!, việc Messi đã đoạt 6 QBV, 6 giày vàng, lương cao nhất,..., mọi thứ đều bỏ xa 7 tạ đã khiến 7 tạ và fan của gã cay lắm, nay Messi ở lại và được Barca đối đãi như ông hoàng thì họ lại còn ghen tức và cay đắng dài dài, hi hi!.',\n",
       "       'Thực sự xem phim của Nan rất cuốn hút, ko thể để mất 1 giây. Ko ai có thể phủ nhận tài năng và cũng khó ai có thể học được cách dựng phim độc đáo của ông',\n",
       "       'Khi bạn được sinh ra đã ở ngay vạch đích.',\n",
       "       'Đề xuất thêm luôn dòng chữ nhỏ phía dưới chú thích tên này là của vị nào? Sống thời gian nào, có công như thế nào..',\n",
       "       'Không còn gì để nói,cũng 4 lần vô địch châu âu,nào có kém gì ai,cái gì cũng vậy cao trào rồi sẽ đến thoái trào để mở ra một kỷ nguyên mới,điển hình là Liverpool',\n",
       "       'Dồn tiền tính toán mua một chỗ thật sự tốt và phù hợp chứ rải ra hai ba chỗ là không nên, vì lô đất có giá trị cao ở vị trí tốt thường tăng giá nhanh hơn đất giá rẻ trong hẻm nhỏ hoặc vùng ven.',\n",
       "       'mong tất cả các tuyến dời từ bến xe cũ sang bến xe mới càng sớm càng tốt để giảm tải kẹt xe, tạo điều kiện thuận lợi cho người dân',\n",
       "       '30 tháng tù vì gây tai nạn chết 2 người trong tình trạng sử dụng ma tuý! Liệu có đủ tính răn đe?',\n",
       "       'Cầu mong thế giới bình an!',\n",
       "       'Bão tan mà vẫn chưa hết bàng hoàng, cố tỉnh dậy để dọn dẹp cây cối gãy đổ trong vườn nhà, thật là vất vả..',\n",
       "       'Tôi nghĩ răng nên tham khảo những người trải nghiêm xe để chon. Theo tôi cerato chăng hơn mấy attra.',\n",
       "       'Bình thường thôi, quân thua chém tướng. Mình nghĩ HAGL cần 1 hlv có tầm về thành thích, và tiếng nói, chứ 2 hlv đó thì cũng chưa thay đổi được nhiều. Có lẽ HAGL nên mời kiatisuk hay hlv Thụy Hải, đây là những người có tính cách mạnh mẽ thì may chăng mới thay đổi được hệ thống.',\n",
       "       'Coutinho hay Griezmann có lúc không thấy ở đâu, Messi vẫn là cầu thủ nổi bật nhất trên sân!',\n",
       "       'Điều tra nguyên nhân: là do cổng trường đổ sập.',\n",
       "       'Chúc bé con khỏe mạnh bình an nhé! Tin vui quá!!!',\n",
       "       'Qúa hay, Bale về sẽ tăng sức tấn công cho Tot và giúp Son trở nên nguy hiểm hơn. Dẫu sao, Bale vẫn là cầu thủ đẳng cấp thuộc hàng hiếm.',\n",
       "       'Mô Phật!Nhân quả từ kiếp nào đã tạo ra việc hi hữu trăm năm có 1 này?',\n",
       "       'Mỗi ng 1 cảm nhận thôi cũng tùy nhu cầu, mục đích sử dụng nữa. soluto bản bản MT cũng chưa tới 400tr thêm nữa đợt này có giảm 50% phí trước bạ quá rẻ',\n",
       "       'Hi vọng HAGL sớm tìm được hlv đủ tầm để dẫn dắt các em.',\n",
       "       'Tôi rất tự hào khi người dân đồng lòng, đoàn kết chống dịch. Chỉ có thể là Việt Nam. Khi hoàn cảnh, thời điểm khó khăn nhất đối với đất nước, mới thấy được rằng người dân đoàn kết, đồng lòng đến cỡ nào.',\n",
       "       'Nhìn 2 bộ mắt này sát nhân quá, xử thật nghiêm cho nó chừa',\n",
       "       'Nên qua m28 chạy thì xem ai về đích',\n",
       "       'Nói chung : Messi vẫn cực kỳ hay, ko được nêu tên nhưng pha bóng đi bóng cực kỳ đẳng cấp. Bằng phản lưới công messi, bàn cuối cũng khả năng đi qua người quá đỉnh . Có thể anh ko ghi bàn nhưng ai cũng thấy đẳng cấp kĩ thuật quá đỉnh của Messi vẫn nguyên',\n",
       "       'Vẫn không hiểu lỗi đè vạch liền màu vàng ở ngoài đô thị thì gọi là lỗi gì?',\n",
       "       'Đây là 1 trong những lý do giúp cho VN giải phóng hoàn toàn thống nhất đất nước, cảm ơn những người như gia đình ông Ten rất nhiều!',\n",
       "       'Hãy đọc \"Phần lớn họ là đàn ông da trắng, không có bằng đại học và trên 40 tuổi.\" và đọc thêm\"Trump đã thu hút được số phiếu bầu của đàn ông da trắng không có bằng đại học với tỷ lệ cao nhất\"',\n",
       "       'Mình tưởng họ đã đáp lên Mặt Trăng rồi, thì việc đổ bộ tiếp theo sẽ trở nên đơn giản chứ.',\n",
       "       'Lại còn hướng thẳng vào Đà Nẵng nữa mới chịu ạ',\n",
       "       'Không nên cho nhập cảnh. Không mở đường bay nữa',\n",
       "       '25km thật ko tưởng, thật khủng khiếp.',\n",
       "       'Falldill cốp chật ghế lưng sau cứng trong xe chật ních máy 1.4 thì kinh doanh tốn xăng lúc bán xe cũ thì giá thanh lý - làm con i10 hai đầu cho lành',\n",
       "       'Cái này là truy sát đến cùng rồi, lại không hề có mâu thuẫn từ trước. Nhiều tình tiết tăng nặng lắm, tội nặng lắm.Tất cả chỉ để thõa mãn bản ngã lúc chém giết, chẳng biết sau ngày ngồi biệt giam chơ ngày thi hành án có cảm thấy đáng không.Đáng thương gia đình bị hại,Khổ gia đình các bị cáo, lại ra tòa khóc lóc xin cho con cái- \"thường ngày cháu ngoan lắm\".',\n",
       "       'chrom hay crom bạn?',\n",
       "       'Cô này chẳng đẹp, chẳng sangLàm sao dám sánh ngang bằng Việt tôi!!!',\n",
       "       'Lux đi bạn ơi, xe vừa đẹp, chạy ổn mà đóng góp được cho đất nước dại gì mình không làm. Cái này bạn nào có tài sản trên 1 tỉ mới hiểu',\n",
       "       'Khi nhận vé đặc cách tuyên bố hùng hồn lắm mà sao lại out sớm thế Murray?',\n",
       "       'Chỉ cần cây cầu này hoàn thành thì chỉ trong vài năm tới Nhơn Trạch sẽ lên thành phố!',\n",
       "       'Tất cả các biển báo này đều có trong luật từ lâu, tài xế nào cũng phải biết, nhưng khoảng 6 năm trước , khi giao thông công chánh cắm biển trộn làn gần các ngã tư cộng với việc kẹt xe,các tài xế nghiễm nhiên tự đi vào lane quẹo trái hay phải dù đi thẳng vào',\n",
       "       'Lại nhắc lại kỷ lục 2 trận Bayern ghi được 8 bàn. Đúng là kỷ lục khó phá, có thể là lưu danh sử sách muôn đời',\n",
       "       'Mỗi việc đeo khẩu trang mà không làm được.',\n",
       "       'Nếu trả về tự nhiên thì ai sẽ nuôi những cần thủ đây . Trong khi con cá đã quá già rồi . Ai cũng có giới hạn thôi đừng miễn cưỡng dù nó có qgiữ uý hiếm tới mấy trừ khi nó là vật vô tri thì còn được .',\n",
       "       'Đây thuộc loại nhà xưởng rồi', 'Tuyệt vời quá Việt Nam ơi',\n",
       "       'Thương tâm quá',\n",
       "       'Má ơi con vi khuẩn gì mà nguy hiểm quá vậy. Bán đồ chay mà ko có tâm gì hết.',\n",
       "       'Là 1 loài giáp xác thuộc bộ Chân đều (Isopoda), có tên khoa học là Bathynomus sp. thế mà cũng ăn được. Ít hôm nữa Dán, Bọ hung chắc cũng đưa lên mâm ăn hết.',\n",
       "       'Người Mỹ và nhiều người trên thế giới sẽ cầu nguyện cho ngài sớm vượt qua Covid-19 này.',\n",
       "       'Biden sẽ kiếm được phiếu từ các doanh nghiệp này. Nước Mỹ khó khăn để vĩ đại trở lại.',\n",
       "       'Như đối với môn văn thì lỡ làm bài thấp đã khó gỡ lại rồi bh giảm cột điểm càng gây thêm áp lực cho học sinh đó chỉ là 1 vd điển hình',\n",
       "       'Đi xe như thế này thì nên bỏ tù. Lấn làn bất chấp, thấy đèn đỏ còn cố đạp ga, rồi gây tai nạn.',\n",
       "       'Chỉ Án sơ thẩm thôi, còn phúc thẩm nữa mà',\n",
       "       'Không còn là người nữa rồi !',\n",
       "       'Siêu xe làm ra không khó, các nước như Ma Rốc (châu phi), Thái Lan, Singapore, Ba Lan, UAE, Ả Rập saudi, Quatar, Trung Quốc, Philippin, Đài Loan, Criattia, ... đều làm được hết. Nhưng quan trọng chất lượng độ bền đều thua xe Nhật , Hàn hết.',\n",
       "       'Tôi yêu bạn!',\n",
       "       'Trời ơi... Ngày đầu tiên đi học cũng là ngày đầu tiên các con đi mãi không về. Cầu mong các con được siêu thoát về với tổ tiên. Đề nghị tất cả các trường học trên cả nước hãy kiểm tra kỹ lưỡng cơ sở vật chất để các em học tập được an toàn.',\n",
       "       'Hãy để các cơ sở đào tạo y tế, những đơn vị sử dụng chọn lọc, ai không đạt kiến thức, tay nghề thì đứng ngoài.Kỳ thi chứng chỉ hành nghề sẽ là kỳ thi sinh tử, khốc liệt, nhiều tiêu cực hơn cả thi công chức, mà chất lượng lao động vẫn thế, vì tốt nghiệp đai học xong vẫn chưa đủ quy chuẩn hành nghề, chỉ như lao động tự do.Nước ngoài có nước làm, có nước không, như chương trình giáo dục VNEN copy từ Colombia thực tế không hiệu quả. Bộ y tế hãy xem lại.',\n",
       "       'Lại thêm 1 giấy phép con, bao năm ăn học không bằng 1 buổi thi trắc nghiệm. Tại sao không nâng cấp đội ngũ giảng dạy cho tốt lên ?',\n",
       "       'Cây Trâm trước đây mưa to sẽ chảy ra hướng phường 9 bên đó là ruộng + con kênh đào to đùng ngay trên đường số 9. Bây giờ nguời ta lấp kênh làm đường đặt cái cống bé tẹo. Ngày bé cứ mùa mưa là hai anh em cùng đi bắt cá, cua ăn không hết. Nước không chảy xuống hố ga mà thấy toàn nước dứoi cống trào ngược lên.',\n",
       "       'mua ngay nếu không đâm va ngập nước.',\n",
       "       'Những con đường thật đẹp. Góp phần tạo điểm nhấn cho Sài Gòn.',\n",
       "       '16 tuổi mà liều gớm', 'Angelina Jolie - đẳng cấp là mãi mãi!',\n",
       "       'Cái gì cũng có cái được và cái mất. Một lớp học trung bình ở Việt Nam 50 hs/ lớp. Không biết giáo viên có bao quát hết được 50 cái diện thoại kết nối wifi trong tiết học mà không dùng điện thoại. Đóng tiền 100k/ năm gửi tin nhắc điện tử mà bài báo đã phản ánh thu đủ loại tiền mới đọc hôm qua. Giờ phải trang bị thêm cái điện thoại thông minh cho con đi học nữa chắc kêu trời. Chả biết làm sao cho vừa.',\n",
       "       'Tuy anh không hay đọc truyện cho lắm nhưng anh sẽ ủng hộ em một quyển, chắc em trai anh sẽ thích',\n",
       "       'Thật biết lợi dụng người tiêu dùng. Hy vọng là khách hàng không mù quáng mua cho họ',\n",
       "       'đọc xong sống lạnh sống lưng, cha mẹ nào mà ác quá, tội nghiệp con, chúc con khỏe mạnh',\n",
       "       'Tuổi thơ của tôi và cũng là của rất nhiều người khác nữa. Nhớ.....',\n",
       "       'Có kẻ thứ 3 cơ hội trong vách đá ở giữa.',\n",
       "       'Tình hình này, cần có kế hoạch chuyển hướng xuất khẩu sang thị trường khác thôi !',\n",
       "       'Mãi yêu mến giọng hát hoài lâm',\n",
       "       'Sao không có gđ Phạm Nhật Vượng nhỉ.',\n",
       "       'Ủng hộ ngài Trump. Còn ông binden nay nói gì là việc của ông.',\n",
       "       'Phương án nào cũng ok miễn là có làm và làm nhanh làm tốt làm rẻ',\n",
       "       'Tôi đã quên rằng Covid 19 đang còn tồn tại.',\n",
       "       'Việt Nam cố lên! Đất nước chiến thắng!',\n",
       "       'Cuộc chiến đấu sinh tồn nửa tiếng như vậy thật là lâu, cuối cùng mỗi con đi mỗi đường. Có thể xem như con mồi đã chiến thắng vì không vào bụng của con rắn nào cả.',\n",
       "       'tạo hình Darkseid xấu quá, nhìn gầy gò thế nào ấy, giống quân sai vặt hơn là boss. Tuy hung dữ nhưng thiếu khí chất bá vương như Thanos. Trong phim hoạt hình và truyện tranh Darkseid nhìn ngầu hơn nhiều.',\n",
       "       'tui thích Jolibe hơn, vừa rẻ vừa ngon',\n",
       "       '3 em trường thường, 1 em trường chuyên sẽ làm dậy sóng cuộc chiến trường chuyên và trường thường của các bạn thuộc 2 phe. Tôi thì thấy ai vô địch năm này đều xứng đáng, 4 em đều giỏi. Chúc các em thi đấu hết mình',\n",
       "       'Rút kinh nghiệm đợt dịch bùng phát tại Đà Nẵng, kiên quyết không để bùng phát lần 3, nhanh chóng vực lại sản xuất, ổn định đời sống nhân dân.',\n",
       "       'Mấy xe phân khúc này để đi trong phố thay xe máy cho nên đừng có lăn tăn về độ bền và giữ giá/mất giá. Điều cần là nội thất khoang cái nào rộng rãi để gia đình ngồi dễ chịu là được.Hai xe này mình đã ngồi nhiều và thấy i10 là dễ chịu hơn. Hàng ghế sau ngồi thò thẳng được cái cẳng chân dưới 2 gầm ghế trước thích lắm. Mà sedan thì bỏ đồ rộng rãi và tách biệt cho nên không hôi xe.',\n",
       "       'Vấn đề là ko trung gian, nhưng sẽ phụ thuộc rất nhiều vào bên bán vì ko có bên thứ 3 tham gia vào',\n",
       "       'Bà tạo dáng đúng cho tháng 10 luôn ấy, mùa của lễ hội Halloween.',\n",
       "       'Đối đầu', '300 mua xe mới mà đi tôi j đi xe cũ làm j cho khổ',\n",
       "       'Khi tôi chết hãy đưa tôi ra biển...',\n",
       "       'Andy cole nói đúng, đừng thuyết phục cầu thủ hàng đầu đến để đợi 2 3 năm vô địch. Nên tốt nhất hay đặt mục tiêu vô địch luôn, nếu ko thì khỏi mua, mà MU mà muốn vô địch giờ còn xa vời lắm.',\n",
       "       'Tôi vừa bán 1 chiếc cho anh rễ đời 2017 giá 100tr đó bạn!',\n",
       "       'Dòng phim khoa học viễn tưởng thường nhìn rất chi là ảo diệu và phi lý, nhưng dưới bàn tay của Nolan thì nó lại mang đến cảm giác thật và logic đến kinh ngạc.',\n",
       "       'Hỏi ae fan Bar sao Pi thẻ đỏ không ra khỏi sân nhỉ. Việt vị à, vậy sao bàn thắng của Fati lại đc công nhận!',\n",
       "       'Bài viết hay và nhiều thông tin! Cảm ơn tác giả!!!',\n",
       "       'Ko biết họ đã bắt ở đâu!',\n",
       "       'Phong toả kiểu gì doanh nghiệp lớn vừa nhỏ và làm công ăn lương đều bị ảnh hưởng.Nhìn Đài Loan,singarpo chống dịch đến thời điểm này là hay nhất Thế giới',\n",
       "       'Sao có loại người bố ác độc thế? Cần xử nghiêm tên\\xa0 này',\n",
       "       'Cuộc sống luôn khắc nghiệt với mọi loài.', 'Tốt lắm',\n",
       "       'Tôi tin rằng những người có tri thức, trung lập và hiểu biết lý lẽ đều sẽ bầu cho Biden nếu TT Trump vẫn không thay đổi chiến thuật cãi lộn trẻ con và bắt đầu tranh luận như những người đàn ông thực sự.',\n",
       "       '2 tỷ năm 2011 đầu tư vàng sau 9 năm lãi khoảng 800 + rủi ro rất nhiều2 tỷ năm 2011 gửi ngân hàng sau 9 năm lãi hơn lại vừa an toàn hơn ít rủi ro hơnTiền để chết 1 chỗ cứ nghĩ vàng là chắc mà ko chắc tí nào',\n",
       "       '2 tuyến như bây giờ thôi đã kẹt xe gần chết , vì lượng xe phải đổ dồn sang các tuyến khác , thêm 3 tuyến nữa thật ko dám tưởng tượng .',\n",
       "       'Thực sự lo lắng về bữa ăn của các cháu ở các trường học. Hy vọng các bếp ăn đặt lương tâm, đạo đức nghề nghiệp vào bữa ăn của các cháu.',\n",
       "       'Chó và rắn đều không phải là thức ăn! Nhắn nhủ đến 1 số người cái gì cũng muốn bỏ vào miệng!',\n",
       "       '2 chị em chắc mất hết nhân cách con người. Thương các cháu bao nhiêu thì muốn 2 tên này chịu tội bấy nhiêu.',\n",
       "       'chia buồn với gia đình những nạn nhân , bọn thanh niên thời nay như uông phải thuốc nổ vậy , lúc nào cũng lao vào đâm chém quyết giết cho bằng được kẻ địch ,chỉ vì những mâu thuẩn nhỏ nhặt, đến lúc ra toà thì khúm núm xin lỗi xin khoan hồng , xin giảm án để về sớm lo cho mẹ già con thơ , thật nản với bọn trẻ này',\n",
       "       'Vỏ mỳ tôm không bền với môi trường và dễ dàng bị phân rã thành vi nhựa. Nếu sử dụng vỏ mỳ tôm làm túi sẽ khiến vi nhựa dễ dàng phát tán ra môi trường và nơi sinh sống. Cái này là lợi bất cập hại. Áp dụng 3R là tốt nhưng không nên chạy theo phong trào mà cần có kiến thức, và tốt nhất là xin tư vấn của chuyên gia về tái chế nhựa.\\xa0',\n",
       "       'Anh là người đàn ông, người bố quá tuyệt vời, tôi rất hâm mộ và khâm phục nhân cách con người anh. Cố gắng nữa lên anh nhé! Chúc 2 bố con anh luôn luôn mạnh khoẻ; Luôn giữ vững tinh thần vui vẻ, lạc quan, yêu đời; Hạnh phúc và Thành công!',\n",
       "       'Hình thức này tồn tại rất nhiều ở khắp nơi trên cả nước. Đề nghị cơ quan chức năng vào cuộc dẹp bỏ nạn bạo hành trẻ em này.',\n",
       "       'Cá nhân mình nghĩ thì Arteta không đủ tầm để đưa Pháo Thủ trở lại đỉnh cao như thời Giáo sư. mọi gạch đá mình xin nhận.',\n",
       "       'Chưa mua có 2 lý do. Một là ko có tiền -cái này khó mua. Thứ 2 là có tiền vẫn ko mua vì chưa hiểu hết ý nghĩa BHNT. Cái này cần tư vấn mới hiểu vậy nên mới sinh ra người tư vấn, nhưng tư vấn cần người có kiến thức, có tầm ,kien trì .Co khi nhieu người đã rất cảm ơn vì đc tư vấn rồi đó mọi người ạ. Nghề của họ là đưa lại sự an toàn cho người khác và tất nhiên họ làm thì sẽ không phải ko công. Thích thì mua ko thích nghĩ đơn giản cho đỡ tức giận. Người tư vấn sau họ ko biết bạn đã đc tư vấn, và cho dù biết họ cũng muốn TV tiếp vì nghĩ có thể họ sẽ nói ra đc điều gì đó hay hơn.',\n",
       "       '8x ai từng mê giọng hát của anh điểm danh. Lúc đó đến giờ mình tóc bạc rồi vậy mà anh nhìn còn rất trẻ xD',\n",
       "       'Kết quả khảo sát chỉ để tham khảo. Chọn mẫu khảo sát khác nhau sẽ cho kết quả khác nhau hoàn toàn. 2016 mọi kết quả khảo sát đều nói Trump thua nhưng kết quả thì ngược lại. Vì vậy chưa hạ mà thì chưa ai có thể khẳng định được kết quả.',\n",
       "       '8-2 lặp lại à . haha',\n",
       "       'Thật khó phân biệt...mà có phân biệt thì lúc ngà ngà thì càng khó hơn',\n",
       "       'Mỗi xe có những ưu điểm nhất định. I10 là con xe quốc dân rồi, với ưu điểm kiểu dáng đẹp, tiêu hao ít nhiên liệu, bền bỉ, không gian bên trong rộng rãi. Fadil thì lại thiên về động cơ, đi Fadil thì cảm giác rất êm và bốc. Theo ý kiến cá nhân của tôi, với nhu cầu chạy thêm dịch vụ như của bạn thì nên chọn con i10 nhé.',\n",
       "       'Cố tí làm con Vios hoặc Accent là ok.',\n",
       "       'Cứ cay mắt thôi chả nói được gì với cha con \"anh Tuấn\" của Bôm cả. Cứ nhớ cái cách Bôm gọi \"Anh Tuấn ơi\" yêu thôi là yêu...',\n",
       "       'Bám tới tận 20 năm cơ nhỉ,Nếu không phải Si ăn ké thời kỳ hoàng kim của tuyển Tây Ban Nha với nòng cốt là các cầu thủ Bà Xã thì làm gì có được 6 bóng vàng.Cule đem số lượng quả bóng vàng ra so sánh nhiều bóng vàng hơn là xuất sắc hơn nhưng tôi chưa thấy ai đánh giá Modric xuất sắc hay giỏi hơn những Xavi, Inesta, Ibrahimovic..Nếu đánh giá việc lương cao hơn để nói ai đó xuất sắc hơn thì tôi cũng thua cule rồi, mấy cầu thủ như Hulk, Paulinho...đá bên Tàu lương cao hơn nhiều cầu thủ ở các giải Châu Âu.Cule bảo Si trung thành và yêu Bà Xã nhưng Si chỉ ở lại để bám đúng hơn, tại sao khi Bà Xã trong thời kỳ đỉnh cao với nhiều cầu thủ xuất sắc xung quanh thì Si không rời đi mà phải đợi đến khi câu lạc bộ trắng tay và thua thảm 2_8 anh ta lại nằng nặc đòi bỏ đi.Nói gì ở Bà Xã, trên tuyển cũng thế, cứ hễ thua là bỏ tuyển.',\n",
       "       'nói chung mỗi người một quan điểm, nhưng đa số tôi vẫn phản đối việc cho trẻ sử dụng điện thoại trong giờ học.',\n",
       "       'Con người cũng vậy..người ở thành phố thọ ít hơn người sống ở quê và người dưới đồng quê thọ ít hơn người sống trên rừng núi.',\n",
       "       'Thương về miền trung.', 'Cố lên Miền Trung ơi!',\n",
       "       'Không thể chấp nhận được hành vi bạo lực trẻ em.Và cũng nên xem lại 2 cô giáo kia. Cô kiểu vậy thì ko ai an tâm mà gửi con.\\xa0',\n",
       "       'Sau bao năm gánh tạ ở Dê Ân, cuối cùng a cũng đc nghỉ ngơi trở về EPL đá bóng vs niềm đam mê, mặc dù cục tạ đã nhẹ đi nhiều sau 2 mùa gần đây.',\n",
       "       'xứng đáng',\n",
       "       'Trẻ em sinh ra là để yêu thương, chăm sóc và bảo vệ./.',\n",
       "       'Giọng ca thế này thì nghệ sĩ trẻ còn phải luyện lâu lắm lắm mới mong bén gót bà.',\n",
       "       'Thương bé quá bé ơi. Bé nặng có 18kg. Thật đau xót',\n",
       "       'Nếu học sinh chỉ cần cái điện thoại thông minh là tự tra cứu học tập được thì thôi ở nhà tự học luôn đi chứ cần đến trường làm gì nữa?. Tưởng tượng cái cảnh giờ ra chơi thay vì chạy nhảy thì toàn ngồi cắm đầu chơi game chắc chết quá. Nhà có 1-2 đứa con mà việc cai nghiện ipad/iphone còn cực kỳ khổ sở thì thầy cô nào quản lý nổi học sinh chuyện này. Ở góc độ là 1 phụ huynh tôi cực lực phản đối.',\n",
       "       'Chữ cái phổ biến và sử dụng thực tiễn khi viết, đánh máy là kiểu viết bình thường, kiểu la tinh. Sách in 1 kiểu trong khi dạy viết thì phải uốn lượng, hoa văn... Tôi nghĩ không cần thiết và gây lãng phí thời gian, công sức. Cứ dạy cách viết đơn giản mà ai cũng đọc, hiểu và viết được.',\n",
       "       'Hoan hô các đc công an, cần thiết phải mạnh tay hơn nữa, có thể tiêu diệt ngay những tay có vũ khí để an toàn cho người vô tội',\n",
       "       'Đình chỉ học đối với những đứa chăm học nó mới sợ, chứ đứa lười nó càng thích.',\n",
       "       'Còn gì hơn nữa. Chỉ cần thế là quá đủ',\n",
       "       \"Ngày nào cũng phải nghe một vài bài tiếng anh của bạn ấy. Nghe đến nghiện giọng bạn ấy. Chàng trai 90kg năm xưa, còn hài hước nữa chứ :')\",\n",
       "       'Con trẻ nó biết gì, giành đồ chơi đánh lộn là bt, con tôi hồi xưa đi học cũng vậy, cô giáo phạt và bắt xin lỗi bạn , quan trọng là người lớn chúng ta cần giáo dục kịp thời. Việc anh phụ huynh này làm la không chấp nhận được.',\n",
       "       'Cầu mong mọi người bình an! Việt Nam cố lên! Đất nước chiến thắng!',\n",
       "       \"Tôi đã nói rồi, xem Messi lúc 5 tuổi, 17 tuổi, 20 tuổi, 25 tuổi hay hiện nay thì luôn có 1 đặc điểm chung của 1 thiên tài: khả năng qua người thượng thừa, luôn hướng về phía khung thành. Xem mà sướng. BLV quốc tế chỉ có thể thốt lên 'Brilliant... Messiiiii, Brilliant skill..ohhhhhh'.\",\n",
       "       'Bale tuyệt vời',\n",
       "       'Cầu xin ơn trên độ TT Trump vượt qua nạn kiếp để tiếp tục điều hành đất nước ,',\n",
       "       'Tôi yêu Việt Nam ta',\n",
       "       'Tôi không thể để M8+2 ra đi, trừ khi cậu ta chồng 800 triệu lên bàn hoặc Man City xách vali tiền đến đây.',\n",
       "       'Bóng đá là môn thể thao tập thể, một cá nhân xuất sắc không thể đảm bảo cho đội bóng luôn chiến thắng. Xét về cá nhân, Messi là cầu thủ hay nhất hiện nay và có lẽ là trong lịch sử nữa.',\n",
       "       'Có một điều hết sức quan trọng mà các nhà quản lý giáo dục có lẽ đã bỏ quên, đó là trong một tiết học, ngoài việc truyền đạt kiến thức sách vở, người giáo viên còn cần phải có thời gian để uốn nắn hành vi đối với các em học sinh. Với lượng kiến thức nặng nề và áp lực thành tích như hiện nay thì hiện tượng học sinh hư hỏng nhiều và bạo lực học đường là điều hiển nhiên sẽ xảy ra không dưới hình thức này thì cũng dưới hình thức khác',\n",
       "       'Bài viết hay,bổ ích !',\n",
       "       'Quá nguy hiểm, việc làm thẻ tín dụng hay làm giả hs như này ngân hàng để đối tượng qua mặt dễ dàng, theo tôi ngoài chữ ký cần có dấu vân tay, chụp mặt người vay rồi ngân hàng mới cho mở thẻ hoăc cho vay. Cơ quan công an tư vấn và kiểm soát thêm cho các ngân hàng về vấn đề này, nếu không như này tạo kẻ hở quá nguy hiểm và dễ dàng cho kẻ xấu.',\n",
       "       'Việc bạn tư vấn bằng hoặc hơn lãi suất ngân hàng thường là k chính xác. Mức họ tư vấn là mức minh họa hoặc cùng lắm là được vài năm đầu.Nên mua bảo hiểm nhân thọ để đảm bảo an toàn cho cuộc sống bạn và gia đình. Nhiều người tư vấn nên bỏ ra 10 - 20% nhưng với tôi thấy nó k nên. Nên dừng tại 5% - 10% là hợp lý hơn.',\n",
       "       'Cháu tôi đi học được 3 tuần, đọc viết chậm hơn các bạn, một tuần 7 ngày học 6 ngày, suốt ngày ngồi bàn học. Theo tôi trẻ em cần phải được chơi nhiều hơn, học đến đâu thì học, đừng nên ép các cháu quá!',\n",
       "       'Cảm giác như gặp công chúa Annabelle phiên bản mắt bé.',\n",
       "       'Mong cho thế giới và nước nhà sớm nghiên cứu thành công vacin',\n",
       "       'Đề nghị bộ y tế quy định cách ly 14 ngày. Tất cả mọi người nhập cảnh vào Việt Nam không ngoại lệ bất kỳ một ai.\\xa0',\n",
       "       'Hãy mua xe Hàn tập lái 1 năm rùi đổi xe Nhật.300 mua được nhiều xe BC Hàn 2018-20',\n",
       "       'Bale sao ko qua bà xã để gánh tạ thay Suarez nhỉ, fan m28 thần tượng Bale lắm mà. Qua mà gánh m28 chứ mùa này bà xã lại trắng tay tiếp.',\n",
       "       'Mừng nhất là hơn 10 ngày nay không còn ca tử vong hoặc trở nặng bệnh. Những kinh nghiệm trong điều trị hai kỳ dịch vừa qua là vô cùng quan trọng, giúp chúng ta tự tin hơn trong điều trị cũng như kiểm soát dịch bệnh !',\n",
       "       'Mọi người đều khen họa sĩ vẽ đẹp nhưng thật sự, mình không thấy hài lòng chút nào ở các tranh vẽ hai ca sĩ Ngọc Lan và Khánh Ly. Những nghệ sĩ khác mình không quan tâm nhiều nên không có ý kiến. Riêng mình thần tượng hai ca sĩ Ngọc Lan và Khánh Ly nên đã xem và lưu giữ ảnh của hai ca sĩ rất nhiều. Thế nhưng nhìn vào các bức vẽ Ngọc Lan và Khánh Ly, mình không nhận ra được, chỉ hao hao giống khoảng 40% mà thôi, đồng thời cũng chưa khắc họa được thần thái riêng của hai ca sĩ.',\n",
       "       'Tôi tra mãi ko tìm ra cái ông tên đường nhà tôi làm gì quê quán ở đâu thành tựu thế nào',\n",
       "       'Nuôi con khôn lớn tới chừng tuổi đó..có nỗi đau nào bằng',\n",
       "       'thiên thời, địa lợi, nhân hòa dường như đều đang chống lại Barca',\n",
       "       'Bên Hàn Quốc chê kona , lại mê seltos, đất nước dùng chủ yêu xe nội địa, vì chê kona bé, nội thất đồ nhựa loại rẻ tiền. Top 10 o tô bán chạy nhất 6 tháng đầu năm tại Hàn Quốc có e seltos, còn kona bị covy dí chạy mất hút.Mặc khác cơn sốt đặt hàng e seltos tại nhiều nước trong đó có h.Quốc , còn kona có nghe tên mà lại k.có tuổi kkk',\n",
       "       'Quy đinh cho học sinh sử dụng điện thoai di động sẽ bị phá sản vì đại đa số phụ huynh học sinh không đồng thuận . học sinh mang điện thoai di động vào trường lớp sẽ xảy ra nhiều hệ lụy : Mang ra khoe khoang đẵng cấp chức năng với nhau tạo tánh đố kỵ ,học sinh nghèo thì tiền đâu mua ĐTDĐ ?. Thầy cô đâu có khả năng quan sát và theo dõi các em học sinh đang học hay chơi game ? sẽ xảy ra tình trạng hư hỏng và mất cắp . . . nói chung là bất khả thi .',\n",
       "       'Còn người là được. Tiền mất bao nhiêu không quan trọng, bắt người đền là được.',\n",
       "       'Thiết nghĩ cần quan tâm đến an toàn cho người lao động hơn một chút. Như a công nhân trong hình cưa cây không có mắt kính, khẩu trang, nón, găng tay... bảo hộ. Nhỡ có chuyện gì thì chỉ có anh ấy và gia đình là chịu thiệt.',\n",
       "       'Rất hài hước và thú vị!',\n",
       "       'Rơi súng không có nghĩa là hết nguy hiểm ,11 năm tù quá nặng.',\n",
       "       'Đưa ra cái giá 300 triệu ~ thì may ra còn lừa được, chứ cái giá 55triệu về tỉnh nơi tôi vô hẻm mới mua được, mặt tiền từ 150 triệu.',\n",
       "       'Dao Fati lại ăn mừng theo phong cách CR7, chắc là chán không muốn đá nữa rồi',\n",
       "       'Đây là hình thức kỷ luật phản giáo dục. 1 tuần nghỉ học liệu các học sinh đó có theo kịp chương trình. Đi học không hiểu bài càng khiến các em chán nản, bỏ bê học hành và lao vào các thói hư, tật xấu khác. Hình thức kỷ luật này không làm cho các em tốt lên mà còn làm cho các em thêm chán nản và coi thường việc học hành, coi thường kỷ luật',\n",
       "       'Độc tố này quá nguy hiểm, có lẽ cần phải đưa thông tin dừng ăn Pate Minh Chay lên phương tiện truyền thông địa phương, thôn bản để dân chú ý hơn. Vẫn biết việc này có thể ảnh hưởng lâu dài đến doanh nghiệp, nhưng mạng người mới thực sự quan trọng.',\n",
       "       'Làm thức ăn chăn nuôi',\n",
       "       'Cảm thấy lo lắng, nếu như cách ly xh xảy ra giống như hồi t3',\n",
       "       'Hãy từng bước chứng tỏ mình là cầu thủ có giá trị thực sự nha Bale. Đừng có ăn bám nơi mình thi đấu và cũng đừng bao giờ gởi tờ burofax cho chủ tịch nha. Đàn ông mà, khi đã quyết đi thì đi hẳn chứ đừng giả vờ khóc lóc đổ thừa rồi lại muối mặt quay đầu lại, nhá.',\n",
       "       'Tôi thấy xe bồn đỏ đèn phanh từ lúc xe có camera chưa vượt nhưng xe vẫn chạy. Lúc đâm vào người vẫn đang đỏ đèn phanh. Hình như mất phanh thì phải',\n",
       "       'Chuyện cũ rích mà không có giải pháp.',\n",
       "       'Cơ bản nhất là vệ sinh từ khâu chăn nuôi và đặc biệt là giết mổ. Kinh khủng nhất là lấy tiết ở khu giết mổ tập trung. Nước dịch, nước phân bám vào lông, vào da lợn sau đó theo tiết chảy vào thau. Các bạn thử tưởng tượng xem.',\n",
       "       'Tự nhiên bị vạ lây. Khổ cho 2 chú bảo vệ và gia đình.',\n",
       "       'Có. Góc ở đỉnh A tiến tới 180 độ. 2 góc kia tiến về 0.',\n",
       "       'Một ý tưởng hay để thiết kế một chiếc áo thun.',\n",
       "       'Chúc mừng Bà Xã bị thăng.Chúc mừng Bà Đầm đã hòa.',\n",
       "       'Chúc cô luôn vui khoẻ. Và chúc các lãoNghẹ sĩ dồi dào sưc khoẻ',\n",
       "       'cầu chúc ông mau bình phục, ông ấy là 1 người cha tuyệt vời',\n",
       "       'Nhìn thấy quái đản không đẹp chúc nào .',\n",
       "       'Với tất cả chúng ta, Trump luôn là người đầy bất ngờ! Mong ông sớm bình phục!',\n",
       "       'Mong Tổng thống Trump sớm phục hồi',\n",
       "       'Bây giờ là năm 2020, tôi nghĩ nên mua các loại xe dùng số tự động là phù hợp nhất. Còn về CVT thì CVT của Vios có độ bền cao hơn Mitsubishi.',\n",
       "       'Cám ơn BS và đó là công việc của y học hiện đại, của BS.',\n",
       "       'Nói chung là con người điều mong muốn hơn cái hiện tại.',\n",
       "       'tưởng đâu bão vào Đà nẵng trưa hôm nay. tối qua 23h00 thấy gió mạnh lên nên phải cả đêm hạ cả giàn hoa lan vào nhà. bây giờ, 3h00 đi ngủ. ổn rồi.',\n",
       "       'Tiến lên Juve ! Tiến lên Pirlo, CR7 !',\n",
       "       'Chúc an lành cho cậu bé và rất cảm ơn tập thể y bác sĩ đã tận tình cứu chữa. Chúc khỏe.',\n",
       "       'Tại sao đối tượng Long không bị bắt đi cai nghiện hoặc đi tù ?',\n",
       "       'Dụng cụ của bạn hơi \"gồ ghề\", khó nhọc cho phụ nữ. Nếu bạn yêu thích và chú tâm về phong cảnh ... bạn nên học hỏi và giới hạn trang bị trong phạm vi này. Nếu chưa phải \"pro\", bán hình phong cảnh để sống, \\'ENJOY\" LÀ CHÍNH, thì bạn nên tìm những hiệu máy gọnnhẹ hơn. Kỹ thuật, đâm mê, góc nhìn và tâm hồn quan trọng hơn dụng cụ.',\n",
       "       'Rong được con cá này vào bờ mệt lắm nhưng mà rất khoái',\n",
       "       'Cố thêm vài chục mua Vios 2014-2016.',\n",
       "       'Ôi 1 tin không tốt! nhưng ông Trump sẽ vượt qua được!',\n",
       "       'Xe này đi đô thị tầm 8-9l/100km. Lên cao tốc 130km/h êm ru, cách âm tốt, đầm chắc. Chỉ có vấn đề thay thế phụ tùng về sau ko biết thế nào khi GM đã ko hỗ trợ ở VN. Nhưng mà giá đó mà xe ko vấn đề gì thì cứ xúc nhanh kẻo người khác mua mất.',\n",
       "       'Thích nhất câu \"Trong khi 777X đang phải chứng minh độ an toàn của chiếc cánh ẽo ợt với các nhà làm luật. Nếu muốn chốt đơn, A350 sẽ không để các ngài gọi nhỡ dù chỉ một cuộc!\". Nghe thật cà khịa theo kiểu gieo nhân gặp quả vậy. :)))',\n",
       "       'Cứ xe Hyun mà chọn nhé. Kia cùng mẹ nhưng là thằng đi sau, có thế nào thì công nghệ và hiệu năng xe Hyun vẫn ổn áp hơn. Cá nhân tôi đi hai xe cũng thấy vậy, Kona ổn hơn',\n",
       "       'Mấy bác có công quá lớn không kể được!',\n",
       "       'Năm đó mà Nhật đã tự sản xuất được tàu sân bay, máy bay, oto....cái mà nhiều nước đến tận bây giờ còn không làm được. Không nể phục là không được.',\n",
       "       'điện thoại là sản phẩm công nghệ nhưng xài điện thoại thì có cả tỉ mục đích , ko phải cứ xài điện thoại là nắm được công nghệ , thật là nhầm lẫn tai hại',\n",
       "       'Chủ yếu là do cách phát âm khác nhau giữa người nam và người bắc thôi. Ghi lệch đi tí để âm tiết nghe gần gũi dễ nhớ và dễ đọc theo thói quen phát âm, chứ không vấn đề gì.',\n",
       "       'Kona đi thử thấy ngon nhưng cách đây mấy ngày đi đường thấy em Selto mới ra kiểu dáng đẹp quá. Nói chung bác tránh xa thùng tôn là tốt rồi, hai xe này xe nào cũng ngon, nhưng cá nhân mình thích Selto hơn.',\n",
       "       'Lần đầu tiên thấy việc kỳ lạ như này.',\n",
       "       'càng đơn giản hóa càng tốt!',\n",
       "       'Hởi các Cẩu Tặc hảy đọc bài nầy mà bỏ nghề....',\n",
       "       'Khuyên chân thành nên mua e ak mua bảo hiểm cũng như là một khoản tiết kiệm',\n",
       "       'Năm nay sẽ trắng tay và bắt đầu thời kỳ đen tối và 20 năm nữa mới quay lại',\n",
       "       'Hổ dữ còn không ăn thịt con...Đồ khốn nạn, không phải con người...Đứa bé có 6 tuổi mà đánh Bé tàn nhẫn như vậy...',\n",
       "       'Cuộc sống của thần tiên thì cũng chỉ đến như thế này, thần tiên tỷ tỷ ah.',\n",
       "       'Nhìn giống Nam Em đến 95%', 'Thiên nhiên thật kỳ thú',\n",
       "       'Học ở trường cả ngày, tối về học đến 23h, chương trình rất phù hợp với các cháu',\n",
       "       'Hậu quả khi ông Trump rút khỏi rất nhiều hiệp ước quốc tế, trong đó có hiệp ước khí thải và nhà kính! Bởi vậy mấy năm nay Mỹ hứng chịu rất nhiều bão tố, thiên tai hoạn nạn thiệt hại quá thảm khốc về người và kinh tế!',\n",
       "       'Tưởng khó nhưng không khó! Tôi thấy mấy vụ ở Việt Nam còn ly kỳ hơn.',\n",
       "       'Anh Tùng đặt vấn đề \" tôi không hiểu tại sao ngân hàng có thể mở thẻ tín dụng chỉ với một chiếc chứng minh thư, mà không cần sự có mặt cũng như chữ ký của tôi như vậy. Quy trình của ngân hàng lỏng lẻo tới vậy hay sao? \"Theo tôi trong trương hợp này ngân hàng rất chặt chẽ, theo dõi biết rất rõ điểm tín dụng và khả năng tài chánh của anh đảm bảo anh sẽ thanh toán đủ các khoản chi \" từ người khác \", đảm bảo nguyên tắc vàng Quyền Lợi Ngân hàng là trên hết.',\n",
       "       'Người thứ 11~20 đến từ Việt Nam ! The Bloomberg dự báo sẽ có cơn bão soán ngôi top10 trong 5-10 năm tới.',\n",
       "       'Giữ lại để ông hành hạ đây.',\n",
       "       'Đổi tên đường không khó, khó là cái hộ khẩu và CMND của những người sống trên những con đường ấy. Sao lúc đặt tên đường không tìm xem có chính xác hay chưa?',\n",
       "       'Điểm sàn như thế này là quá thấp. ít nhất theo phổ điểm năm nay phải 24đ.',\n",
       "       'Đã đến lúc cách ly người sử dụng Ma Túy.',\n",
       "       'Nút quan trọng nhất là nút An Phú thì không làm!',\n",
       "       'Tôi cũng bị dính chấu, may mà ít thôi!',\n",
       "       'Nga đăng ký bản quyền trước và đã tiêm cho các đối tượng nguy cơ cao gồm quân đội và bác sỹ, y tá.',\n",
       "       'Ui trời ơi, ngưỡng mộ vô ngần, cách mà người ta áp dụng công nghệ để giải quyết vấn đề thực tế thật tuyệt vời!',\n",
       "       'dập dịch rất tốt nhưng hy vọng dân mình không chủ quan. hiện tại các quán cà phê, quán nhậu tại ĐN mở lại rất đông người ngồi, tất nhiên không đeo khẩu trang, các hoạt động ngoài trời cũng thấy 1 phần không đeo khẩu trang',\n",
       "       'Gọi cạnh của 1 hình vuông cầu kính là a.Chúng ta để ý trong hình có duy nhất một tam giác vuông (góc dưới, bên phải):Cạnh huyền của tam giác vuông chính là a, ta có 0 < a <17.Trong phạm vi đó, cạnh huyền (a) chỉ có thể là 5 (để 2 cạnh góc vuông lần lượt là 3 và 4), do đó:- Chu vi của hệ thông cầu kính là = 16 x a = 80m;- Diện tích là = 7 x 5 x5 = 175m2.',\n",
       "       'Với cách làm bóng đá kiểu đốt cháy giai đoạn các cầu thủ trẻ thì Bầu Đức mãi chỉ nhận được những bông hoa nhỏ trên cánh đồng hoang',\n",
       "       '\\xa0Phải đi lên từ năng lực mình mới có giá trị',\n",
       "       'Đẹp quá. Mong cả nhà của tui được một lần ngắm cực quang cùng nhau',\n",
       "       'Nhu cầu dầu giảm sẽ tốt cho trái đất. Kkk',\n",
       "       'Những bạn trẻ có Tâm hồn cao đẹp...rất ngưỡng mộ và mong là các bạn sẽ tiếp tục công việc ý nghĩa này',\n",
       "       'Mùa Oscar sang năm sẽ ra sao khi các tác phẩm ko đc ra rạp',\n",
       "       'Fati lúc tối lập hattrick hả mọi người :-/',\n",
       "       'Nhớ hồi BoBo hát ở sân hàng Đẫy năm 2001, khán giả quá đông và bỏ lại hàng loạt đôi dép do dẫm chân nhau chạy theo BoBo dưới bãi cỏ',\n",
       "       'Mong TT D. Trum mau bình phục!',\n",
       "       'Tương tự cua nhện, thức ăn của bọ biển là xác của các loài động vật biển chìm xuống đáy như cá voi, hải cẩu,.. :-)',\n",
       "       'Thị trường ôtô VN giá ~1,5 tỷ dần bị xe Hàn thâu tóm hết rồi. Với cái đà này thì 10 năm nữa ra đường toàn thấy xe Hàn giống như đồ gia dụng điện tử tivi, tủ lạnh, máy giặt, smartphone....trong các gia đình hiện nay.',\n",
       "       'nhìn nhà dân ra tới đường hầu như không có vỉa hè. Có những đoạn bước ra khỏi cửa nhà là xuống dưới lòng đường luôn, chịu !',\n",
       "       'Tập thể dục rất tốt nhưng cũng phải tuân thủ luật giao thông chứ',\n",
       "       'Lần sau có mời thì nên mời mấy clb mạnh mạnh chút như bayer,liver,roma chẳng hạn. Mời ELche thì trao luôn cup cho rồi, đá đấm gì nữa.',\n",
       "       'Rất đơn giản: Vẽ hình chữ nhật ABCD, AB=CD=b; AD=BC=a. Gọi O là tâm của nó (giao 2 đường chéo). Xét tam giác AOB, sẽ thấy: đường cao từ đỉnh O là a/2, đường cao từ đỉnh A = đường cao từ đỉnh B luôn nhỏ hơn a. Vậy tổng 3 đường cao < 5a/2.Chọn a < 2/5mm thì tam giác AOB luôn có tổng 3 đường cao nhỏ hơn 1mm, bất chấp giá trị b bằng bao nhiêu. Vậy chỉ cần chọn b đủ lớn thì diện tích tam giác AOB có thể bằng bao nhiêu cũng được chứ đừng nói là diện tích trái đất --> điều phải chứng minh.',\n",
       "       'Mua Tesla là không tốn đồng bạc xăng nào',\n",
       "       'Kiểm soát đường biên giới là biện pháp tốt nhất để không lây nhiễm.',\n",
       "       'Mình thích bé này quá', 'Trông cây sồi cổ thụ đẹp quá.',\n",
       "       'Chúc mừng bacer,đội hình năm nay vẫn ngon phết đủ sức vô địch c1,nếu hlv giỏi....tuyến trên có cuotinho trở lại,thần đồng fati kết hợp với messi và griezmann tạo nên bộ tứ tấn công mạnh mẽ,tuyến giửa kết hợp kinh nghiệm của busquets và sức trẻ của De jong tạo nên sự nhuần nhuyễn,2 cánh có alba tuy già tí nhưng vẫn còn đẳng cấp,sergi roberto vẫn tấn công và thủ rất ngon,trung vệ piqie và lenglet cũng tạm ổn.',\n",
       "       'Hehe, thuật phân li tán của ông này đúng là cao thủ.',\n",
       "       'Trên CMND ai cũng có dấu vân tay. Tai sao khi đăng kí không bảo người ta lăm tay lên đó để đối chiếu???',\n",
       "       'Nobel Hòa bình giành cho đoàn Bs Cuba là rất xứng đáng. Đất nước, con người Cuba rất tuyệt vời!',\n",
       "       'Nên xây dựng những bồn nước to như chung cư để bơm nước lên chống ngập. Mỗi quận xây khoảng 2,3 sau đó xã ra từ từ theo cống.',\n",
       "       'Nghe mà khiếp, ta nói một tháng ăn trộm bằng chục năm làm luôn, 30 tr 1 ngày 900 tr 1 tháng đó',\n",
       "       'Chúc mừng các chú, câu được cá to.', 'Cha gì cái hạng này.',\n",
       "       'Fan M28 chuẩn bị qua kia chê 7 hôi pen, còn bên này thì khen pen của 28 là thơm dù bàn thắng vô thưởng vô phạt. Ku em Fati đá quá hay 1 mình gánh team. Trận đấu chỉ cần 19 phút là kết quả thắng thua đã rõ, chẳng cần ai kia phải thơm pen của đồng đội =)))',\n",
       "       'Cầu siêu cho bé',\n",
       "       'Mình mặc dù không thích các kỳ thi Toán quốc tế nhưng phải nói thật khá ngưỡng mộ em. Hy vọng em lớn lên sẽ thành công\\xa0',\n",
       "       'vụ án quá nghiêm trọng mà có 30 tháng tù là sao hả trời?',\n",
       "       'Anh chắc không xét nghiệm mới có con số đó, chứ ng ở Anh về đa số nhiễm bệnh mà, con số có thể lớn hơn nhiều (nhận định cá nhân)',\n",
       "       'Sấy khô nghiền nát để chế biến thức ăn chăn nuôi thành phần dinh dưỡng rất cao, cá này chết không phải do dịch bệnh.yen tâm',\n",
       "       'Khổ thân các fan messi quá, bài nào cũng lôi ro vào đc. Dù chẳng liên quan gì. Điều đó chứng tỏ ido của các bạn thấp kém quá, thấp kém quá. Các bạn làm như vậy càng làm nhiều người coi thường messi của các bạn hơn mà thôi.',\n",
       "       'Ơ VN cá lóc bị đập đầu bốp bốp nấu canh chua mỗi ngày...',\n",
       "       'cho mọi người chưa hiểu hết về nội dung bộ phim: Các bạn có thể hiểu Neil chính là Max( con trai của Kat và Sator) quay ngược quá khứ trở về để cứu nhân vật chính và mẹ mình. Bằng chứng là Neil biết mọi thứ về nhân vật chính và anh có nói rằng chúng ta đã biết nhau trong một thời gian dài với nhân vật chính; và hơn nữa anh sẵn sàng hi sinh mạng sống của mình để cứu Kat- một người anh mới gặp, khi Neil và nhân vật chính thực hiện cú nhảy thời gian đưa Kat quay trở về căn phòng ở viện bảo tàng tranh lúc máy bay nổ để đảo ngược vết thương của Kat bằng cỗ máy đảo ngược. Qua đó ta có thể thấy Kat phải là một người vô cùng quan trọng và gần gũi với Neil. Khi bắt đầu bấm máy bộ phim, Robert Pattison phải nhuộm màu tóc thành màu vàng để khớp với màu tóc của cậu bé Max. Xuyên suốt bộ phim, Kat luôn luôn nói về cậu con trai bé nhỏ của mình nhưng chúng ta gần như không hề nhìn thấy mặt cậu bé và chỉ có duy nhất một cảnh quay về cậu trong cả bộ phim- điều này ngụ ý rằng cậu con trai mà cô nói tới đứng ngay trước mắt cô với một phiên bản trưởng thành. Đoạn kết phim, nhân vật chính điềm tĩnh và trìu mến dõi theo hình bóng hai mẹ con dắt tay nhau đi, cảnh này giống như ẩn dụ rằng tình bạn của họ bắt đầu từ đó- khớp với lời Neil nói rằng tình bạn của họ đã có từ rất lâu. Vậy là cả bộ phim nói về hành trình đi ngược về quá khứ để cứu mẹ và nhân vật chính của Neil và đáng tiếc rằng anh cũng đã hi sinh mạng sống của mình khi đỡ đạn thay cho nhân vật chính.',\n",
       "       'Ở quê tôi huyện đấu ra đất ở có thể nói là rất nhiều nhưng càng đấu thì giá càng cao và cái cơ bản giá khởi điểm đưa ra cũng đã rất cao rồi',\n",
       "       'Tôi cũng khóc !',\n",
       "       'Đức già hay trẻ, Đức sa cơNguyện làm fan Đức, vững tay cờBayern hay Đức thì cũng thếCúp về, cờ Đức tràn giấc mơ...',\n",
       "       'Tôi xem \"Ròm\" tôi chả hiểu tác giả định nói gì. Lúc kết thúc phim, tôi thấy quá hụt hẫng. Tôi cảm thấy tiếc số tiền và thời gian đã bỏ ra. Thật. Tôi ko cảm nhận được cái giá trị gì từ bộ phim.Chắc là tôi ko đủ sâu sắc để hiểu. Chấp nhận vậy.',\n",
       "       'Tôi vẫn thấy anh Huy đưa con đi học mỗi buổi sáng sớm, ảnh luôn vui vẻ và rất tình cảm với các con, thật sự ngưỡng mộ anh. Chúc 2 bố nhiều sức khỏe và nhiều thành công hơn nữa để giúp đỡ các con trở thành các nhân tố cho xã hội',\n",
       "       'THẬT KHÔNG THỂ TIN KHI NHỮNG THỨ ĐÓ ĐƯỢC LẤY RA TỪ CHIẾC BAO TỬ THẦN KỲ ?',\n",
       "       'Rõ ràng Basa mạnh hơn Schalke khi 2 lần chọc thủng lưới Bayern.',\n",
       "       'Liệu ông ấy có thể như một cây săn bàn bị chấn thương nhưng vẫn trở lại được sân bóng và ghi bàn quyết định vào phút thứ 89 không nhỉ ?',\n",
       "       '\"Bầu khí quyển giàu kim loại\" như vậy, hành tinh này có bầu khí quyển chưa hơi kim loại. Vũ trụ thật kỳ diệu.',\n",
       "       'I10 bền bỉ hơn nhé, Fadil máy Aveo cũ mèm',\n",
       "       'Ảo tưởng, nếu rời TQ thì điểm đến là các nước nhân công rẻ chứ về Mỹ tiền đâu trả lương . Chưa kể các ngành công nghiệp phụ trợ và chuỗi cung ứng khủng khiếp',\n",
       "       'Bột than chỉ dùng khi bị ngộ độc, nếu dùng làm thực phẩm ăn mỗi ngày là có hại cho sức khỏe.',\n",
       "       'Ủng hộ TT Trump làm thêm nhiệm kỳ nữa',\n",
       "       'truy giết đến cùng .a men, thiết nghĩ tình tiết tăng nặng sẽ được áp dụng.',\n",
       "       'NGHỆ SĨ YÊU TÚ ĐỨC HOÀN TRONG PHIM SAO THÁNG TÁM...ĐÓNG VAI MỴ..',\n",
       "       'Ai ko thấy em này giỏi thì sẽ học ngoại ngữ tốt.đừng bảo giờ nghĩ giỏi ngoại ngữ là 1 cái gì đó cao siêu thì học sẽ dễ chứ nghĩ nó khó thì tâm lí đó sẽ gây học rất ko nhớ',\n",
       "       'Trẻ em phải được vui chơi chạy nhảy, tại sao phải bắt trẻ em mới lớp 1 mà phải đọc giỏi, viết giỏi. Đề nghị phải thay đổi cải cách lại để trẻ vừa học vừa chơi chứ đi học xong về nhà ba mẹ kèm bài vở như tra tấn nhau vậy thì đứa trẻ nào muốn đi học nữa. Xin thua...',\n",
       "       'Sao con người k xử lí sự cố này để bảo vệ thiên nhiên. Lại là vấn đề đầu tiên. Tiền trong vấn đề này quan trọng thật, thật bi thảm',\n",
       "       'tôi ở Tây Nguyên giờ muốn về nhà, lại phải trả thêm phí di chuyển và mất thời gian, thêm phiền toái nữa. tôi nghĩ các nhà quản lý xây dựng một công trình gì cũng phải tạo sự thuận lợi, tiết kiệm cho người dân. Nhưng bến xe mới này thì với tôi là sự bất tiện, tăng chi phí. Tôi nghĩ rất nhiều người sẽ như tôi',\n",
       "       'Chống dịch vừa ổn 1 tí bây giờ phải lo chống bão. Ôi Đà Nẵng quê tôi!',\n",
       "       'cứ tưởng họ yêu nhau thật sự.',\n",
       "       'Làm vậy mà không thấy làm vậy là rất tàn nhẫn với bác chủ tiệm sao????',\n",
       "       'xin gởi lời chia buồn đến gia đình, anh chàng rể này quá mất nhân tính, đê hèn khi cầm dao đâm chém những phụ nữ không tấc sắc trong tay, thật hết ý kiến cho loại người này.',\n",
       "       'Chỉ cần lấy thau, chậu... đường kính khoảng 30_50cm, đổ đầy nước. Sau đó cho các bé nín thở, úp mặt xuống nước nhiều lần, các bé sẽ biết lấy hơi, nín thở.... Và sẽ nhanh chóng biết bơi!!!!',\n",
       "       'Rất nhanh và dứt khoát: Give out edge xD',\n",
       "       'Khẩn trương sang youtube để nghe lại',\n",
       "       'Dù gì cũng là anh em ruột rà. Đất do cha mẹ để lại e mình sa cơ mới về nương gia đình, chia 50m cho e cất cái nhà nhỏ cũng gọi là tình nghĩa. Gio ra tòa mất phân nửa mà tình anh em chẳng còn. Chỉ sợ ông anh kia đã kịp làm giấy chủ quyền hết rồi.',\n",
       "       'Barca không yếu, đội hình giá trị thứ 2 thế giới việc chuyển từ xoay quanh cá nhân sang tập thể giúp họ đa dạng hơn. Nhưng cần thử lửa hơn nữa.',\n",
       "       'Chạy dịch vụ cứ xe nhật mà múc. Xe Hàn đi chơi thôi.',\n",
       "       'Đọc bài mà tức run với bọn này, đề nghị phạt thật nặng để làm gương cho kẻ khác.',\n",
       "       'Cải cách giáo dục, dạy bơi mẫu giáo là thiết yếu',\n",
       "       'Thành phần này nguy hiểm quá, nên cho đi lâu 1 chút',\n",
       "       'Mong các bé mau bình phục, mong nhà Chùa nơi chăm sóc các bé cần xem xét lại, đảm bảo các tiêu chuẩn về an toàn thực phẩm, nhất là các loại thực phẩm đang trôi nổi trên thị trường.',\n",
       "       'Suy cho cùng đối với con người cảm giác được ăn và cảm nhận chỉ 10 cm tính từ miệng xuống họng,cơ thể giữ lại được gì thì giữ sau đấy thì tất cả như nhau. Cho nên cũng không cần phải ăn uống cầu kỳ quá. Trường hợp của con ếch này thì việc ăn hoàn toàn vô nghĩa, hàng ra rồi mà nó vẫn nhơn nhơn thế kia thì ăn làm gì mất công đánh răng. Hihi',\n",
       "       'Ghi âm tiếng chó sủa, hổ gầm, sư tử rống xong đó cho phát triên loa công suất lớn là xua đuổi được thôi',\n",
       "       'Một BẢNG XẾP HẠNG mà chẳng ai muốn là người đứng đầu nhưng mấy ngày qua vẫn có một số nước tranh nhau huy chương Đồng như Italy và Iran. Chắc Iran sẽ còn vượt qua Hàn Quốc để lên hạng 2, nếu không quyết liệt thì họ rất có thể về nhất.',\n",
       "       'Diện tích cầu kính là 161,818 m2; chu vi là 76,928 m.',\n",
       "       'Nhất quỷ nhì ma thứ ba là các cháu . May mắn là không làm sao bài học nhớ đời nhé !',\n",
       "       'Tôi không đồng ý với bản án này,quá nhẹ.',\n",
       "       '3 con treo lơ lửng im ru mà không ai bắt luôn',\n",
       "       'mua cruze 2013-2015 đủ tiền đó. ngon hơn mấy em kia',\n",
       "       'Học võ lại là người châu Âu vậy mà 67 tuổi trông như 90 tuổi. Nhưng vẻ ngoài không quan trọng. Quan trọng là bà ấy còn rất khoẻ.',\n",
       "       'Nên áp dụng khung hình cao nhất với bọn này',\n",
       "       'Tot mạnh khủng thật.',\n",
       "       'Không nên áp dụng khoan hồng với thể loại côn đồ này.',\n",
       "       'Ấy mới đầu mùa, không khéo Si sẽ có cúp, sướng cules nhỉ',\n",
       "       'Thẳng thắn là khi đưa ra ý kiến mang tính xây dựng một cách không e dè. Còn Trump chẳng đưa ra ý kiến gì, chỉ toàn những lời miệt thị cá nhân. Đó là thô lỗ chứ không phải thẳng thắn.',\n",
       "       'Pháp luật cũng như lương tâm thì chia đều cho các con, không phân biệt trai gái, nếu cha mẹ không để lại di chúc.',\n",
       "       'Mép trên của cầu kính nếu đâm trúng góc trái trên thì mình tính được, còn không thì chịu',\n",
       "       'Mình thấy ông này rất kém...',\n",
       "       'Asernal đá đẹp quyến rủ...nhưng để trở thành Đại Gia Châu Âu thực sự thì chắc 100 năm nữa. Bao năm rùi, chắc 30 năm nay thấy họ cứ vậy hoài, chỉ là sân sau cung cấp cầu thủ cho Barca thôi.\\xa0\\xa0',\n",
       "       'Đẹp và dễ thương.',\n",
       "       'Trời ơi nhắc đến đường Nguyễn Hữu Cảnh là ốc ác nổi hết trơn... Ngập nước kẹt xe ai cũng rầu... Giờ cấm 6 tháng qua cầu vượt Nguyễn Hữu Cảnh nữa rất căng thẳng',\n",
       "       '3-0, Barca ưu trội hơn nhưng chơi không mạnh mẽ, cuốn hút và hấp dẫn nữa. Messi không là tâm điểm nhưng chơi vẫn hay, ghi dấu bằng những pha đột phá trong 2 bàn sau. Thể lực cả đội FCB chưa đạt, yếu nhất là Messi. Thôi, chúc mừng Barca, mong đội chơi mạnh mẽ hơnThôi, chúc mừng',\n",
       "       'Nhiều người còn chưa nắm thông tin', 'Quá đẹp!\\xa0',\n",
       "       'Có thể đây là kiếp nạn cuối cùng trong năm của Trump. Thông thường trước khi thành công may mắn sẽ gặp nhiều rủi ro. Tui tin tuyệt đối vào Trump, ông sẻ thắng',\n",
       "       'Cái thùng phi phát nổ...', 'Sức mạnh của sự đoàn kết.',\n",
       "       'Sáng dậy thấy tin vầy yêu đời hẳn ... hihi',\n",
       "       'Đối với cá nhân tôi thì Tình Khúc Vàng vẫn không chơi lại Đi Về Nơi Xa. Cảm xúc của Đi Về Nơi Xa cực kỳ mạnh mẽ, và hòa âm phối khí của ca khúc rất đặc sắc',\n",
       "       'Đẹp như tiên giáng trần, ko biết cô ấy phải chịu đựng những gì trong cuộc sống mà phải tìm đến cái chết. Thật là đáng tiếc, chúc em hp trên thiên đường',\n",
       "       'Cầu mong mọi người bình an! Việt Nam cố lên! Đất nước chiến thắng!',\n",
       "       'Răng nó bằng quả chuối, răng mình bằng hạt ngô. Như vậy nếu nó ăn chuối thì cũng không khác gì mình ăn ngô. Hihi...',\n",
       "       'Dù con chó nào nhìn đẹp nhìn sạch đến đâu cũng k dám lại gần. Thấy chó con mà chạy theo liếm chân là sợ hãi hùng luôn. Bản chất chó là loài hung dữ, nên trước sau gì cũng lộ thói hung dữ ra thôi',\n",
       "       'Giờ đọc tên thật với tên sai mới thấy hài hài, nên giữ nguyên tên đường Nơ Trang Long chứ thay tên đúng vào đọc muốn ngọng luôn lắm',\n",
       "       'Dùng bạo lực để giải quyết bạo lực chưa bao giờ là cách làm tốt nhất , việc đình chỉ nghỉ học chỉ là phản ứng mang tính giải quyết cái ngọn , muốn giải quyết được gốc rễ phải hiểu được nguyên nhân dẫn đến nảy sinh vấn đề !',\n",
       "       'Juve mua Rô về mục đích chính là vô địch C1 chí ít là vô tới chung kết nhưng chỉ loanh quanh khu vực gửi xe và vòng 1/8. Nay mượn lại Morata từ Aletico một người cũ đã ghi bàn trong trận chung kết C1 cho Juve cũng chỉ với mục đích chính là cõng Tạ thoát khỏi vòng 1/8 c1 thôi',\n",
       "       'Nhìn mặt là thấy bất lương rồi',\n",
       "       'I10 bạn ơi, chưa nói đến thẩm mỹ với option. bạn mua con fadil 400tr xong 1 tháng sau khuyến mãi các kiểu tự nhiên bạn mất xừ đôi chục. Bực lắm =)). làm con I10 sendan bản AT chạy chả mượt mà giữ giá.',\n",
       "       'Đã nhậu con này, ngon vô đối. Tôm Hùm gọi bằng cụ :D',\n",
       "       'Dự là 4-0 cho Bayer',\n",
       "       'Thật sự rất khó chịu với cách giáo dục ntn, năm nay con gái tôi cũng vào lớp 1, tôi ko hiểu nổi:Đầu năm học thì loạn đầu sách giáo khoaVào năm học thì lớp 1 đã học cả ngàyHọc kiểu j mà 6 buổi học hết bảng chữ cái, nhưng các cháu cầm bút quá ít, thế mà đã học Toán, học mỹ thuật, học âm nhạc... học lắm thế, các cháu mới lớp 1 thôi...Cầm bút còn chưa thạo, thế mà viết 1 chữ cái đc 3 dòng đã chuyển sang học chữ cái khác, nét viết còn chưa kịp nhớ, đặt bút từ đâu, kết thúc ở đâu, tròn xổ, móc... tôi lạy.',\n",
       "       'ở Mỹ người ta không đánh bắt ven bờ, không bắt cá nhỏ, cho nên cá rất nhiều và sẽ còn rất nhiều con cá trê cỡ này đang sống',\n",
       "       'các doanh nghiệp quốc tế hay báo lỗ hay lợi nhuận âm, vậy mà vẫn làm ăn, không lạ sao?\\xa0',\n",
       "       'Arteta sẽ đưa Arsenal vô địch NHA trong 2-3 năm tới',\n",
       "       'Người Bố tuyệt vời quá! Chúc GD luôn khỏe, hạnh phúc.',\n",
       "       'Thực tế mà nói, không có cách nào có thể quản lý học sinh sử dụng điện thoại đúng mục đích cả. Một lớp 40-50 người, thử hỏi được bao nhiêu học sinh cầm điện thoại tra cứu, bao nhiêu dùng để lên mạng chơi. Sau khi dùng xong, giáo viên có khả năng kiểm tra lại hết toàn bộ học sinh xem ai là người chịu tra tài liệu không. Kiến thức giảng dạy một môn trung bình 45 phút (gồm cả thời gian kiểm tra miệng hoặc 15 phút đầu giờ, thời gian ghi chép bài vở), thì học sinh còn được bao nhiêu phút để học mà còn phải bỏ thời gian tra cứu thêm kiến thức ngoài. Công việc này lễ ra giáo viên phải yêu cầu làm ở nhà thông qua việc cho sẵn câu hỏi hoặc đề tài trước khi đến lớp. Ý kiến của tôi là: với bậc THPT, nên giảm việc ghi chép bài vở lại, thay bằng tài liệu photo sẵn. Những kiến thức nào quan trọng cần ghi chép thì mới ghi chép. Giống với đại học. Nói thật 45 phút, giáo viên đọc, học sinh viết thì còn giảng được cái gì nữa. Nói gì hiểu bài.',\n",
       "       'Cám ơn các bác sĩ và nghệ sĩ đã tham gia quay MV này thật hay và ý nghĩa.',\n",
       "       'Sao nhiều bác cứ lôi MU vào vụ kiểu như này thế nhỉ ?! ARS tôi nghĩ mùa này sẽ đáng xem hơn đấy, ! nhưng quan trọng cuối mùa xếp ở vị trí thứ bao nhiêu thôi, còn trận này chỉ đơn giản Ars gặp nhà vô địch mùa trước và vẫn quá mạnh so với phần còn lại nên thua ! Nói về MU,Tôi để ý MU cứ khởi đầu chệch choạc nhưng càng đá lại càng ổn định hơn !',\n",
       "       'Ủng hộ các bác sĩ Cuba giải nobel hòa bình, Việt Nam rất biết ơn đất nước anh em Cuba',\n",
       "       'TQ thật vĩ đại!',\n",
       "       'Thế là hèn ! To con hơn , có công cụ hỗ trợ mà không bắt được cậu bé 14 tuổi !',\n",
       "       'Cơ hội rời Real. Nghe nó cứ tréo ngoe thế nào ấy nhỉ. Nhớ ngày nào Bale vùng vằng, làm mình làm mẩy để cớ cơ hội đến Real mà.',\n",
       "       'Đúng rồi anh, cháu học yếu thì nên chọn trường nào bèo bèo. Đu đưa vào BK kẻo ra không nổi lại quay về nhà báo hiếu cha mẹ thì mệt.',\n",
       "       'Các mẹ đơn thân có con gái tốt nhất không nên đi bước nữa. Yêu thì yêu xong rồi ai về nhà nấy.',\n",
       "       'Chỉ mới bắt đầu cho những chuyến bay thương mại, một chuyến bay đã có tới 17 người nhiễm, hàng trăm người phải cách ly, hàng nghìn người phục vụ cách ly, rồi các biện pháp, phương tiện và rất nhiều thứ cần phục vụ cho cách ly...thật là lợi bất cập hại.',\n",
       "       'không có từ nào khác để viết ngoài hai chử tuyệt vời',\n",
       "       'Thương quá là thương Bôm và a QT! Cố gắng lên 2 cha con nhé',\n",
       "       'Để vài trăm Usd mà cách âm tốt thì các Hãng đã làm rồi.Mình thì chỉ mê tem thể thao của Toy- cảm giác lái và độ vọt khác hẳn.',\n",
       "       'Đẹp cả người, cả nết',\n",
       "       'Mỗi ngày một niềm vui và đây thật sự là niềm vui lớn nhất',\n",
       "       'Bảo Thanh béo ra nhiều quá,riêng anh Trung Anh và Hoàng Thuỳ Linh giữ phong độ rất ổn định',\n",
       "       'QUÁ NỂ PHỤC ANH TUẤN!',\n",
       "       'Electra thiết kế tối giản nhưng vô cùng đẹp đẽ và mạnh mẽ.Thay cho nhà Toy, Alphard thiết kế cho người ngoài hành tinh\\xa0',\n",
       "       'VN rất quyết liệt trong vấn đề chống Covid-19 từ chính quyền cho tới người dân, họ ý thức được sự nguy hiểm của dịch bệnh. Cho dù có Covid-19 lần 3 thì cũng sẽ dễ dàng đánh bại vì sự đồng lòng và kinh nghiệm của toàn nước Việt.',\n",
       "       'Do bất cẩn của mọi người, do công ty tài chính / ngân hàng kiểm soát gây lên tình trạng này, vậy nên cần thận trọng',\n",
       "       '\" Gặp Liverpool, chúng tôi đã đốt quá nhiều sức \"Công nhận hwa các cầu thủ ARS khi hàng hv có bóng thì cuống cuồng chuyền, sợ cầm lâu 1s làm mất bóng, và khi k có bóng thì hàng công đuổi theo bóng trong vô vọng mà cảm thấy thương :VTốn sức quá.',\n",
       "       'Chúc gia đình anh luôn đầy ắp tiếng cười, hạnh phúc đong đầy.',\n",
       "       'Quá nhiều vấn đề phát sinh, các nước nghèo sẽ là những nước lãnh hậu quả nặng nề nhất.',\n",
       "       'Nam mô A di đà Phật! Cầu mong mọi người bình an!',\n",
       "       'Người ta đã định bán gấp xe Hàn rồi mà cắm đầu vô mấy cái congnong minin này làm gì, cùng đời săn được em Altis hoặc Vios nào đi còn sướng chán chứ dại gì chơi mấy cái máy cày congnong này. Thân !',\n",
       "       'không biết hiện giờ trên thế giới và vn người ta phát hành album để bán ra dưới dạng 1 cái đĩa , thẻ nhớ , usb hay dạng nào khác nhỉ. chưa mua bao giờ cũng ko thấy ai bán',\n",
       "       'Nghị lực phi thường .',\n",
       "       'Tên Hùng này vừa côn đồ, vừa hèn hạ. Mong Cq CA vào cuộc xử lý thật nghiêm.',\n",
       "       'Hữu ích ! Xin cảm ơn.',\n",
       "       'Vào lớp 1 để học chử hay học chử xong mới vào lớp 1 ??? Phụ huynh và nhà trườngcần đánh giá lại điều này !',\n",
       "       'Hèn gì gần cả chục năm nay kg thấy chú hát hò, bắn rap .Thì ra là bận làm kinh tế.',\n",
       "       'Giảng dạy Công nghệ thông tin (CNTT) cho học sinh từ sớm (bậc tiểu học) là cần thiết. Cũng như giảng dạy về cách sử dụng điện thoại thông minh (ĐT) để tra cứu thông tin (TT) là không thừa - giúp các em biết cách tiếp cận, tìm tòi các TT cần thiết, bổ ích, làm phong phú thêm cho các bài học trên lớp. Nhưng để khai thác các TT đó ngay trên lớp học lại là một vấn đề khác. Trên lớp, Thầy là người khai mở tri thức, người dẫn dắt, truyền cảm hứng, niềm say mê nghiên cứu, sáng tạo cho học sinh. Phải biết quý, tôn trọng các kiến thức và vai trò của người thầy. Thầy không thể chỉ là một ông phụ giảng cho Google, không phải là \"ông dân phòng\" suốt buổi tất tả lo \"dẹp chợ\" - khi cho học sinh được dùng ĐT trên lớp.Hãy để việc tìm tòi, khám phá TT ấy cho các em khi ở ngoài học đường - các em còn nhiều thời gian lắm.',\n",
       "       'Cô ấy phù hợp làm tổng thống hơn cả cha và Biden.',\n",
       "       'Thủ tục ngân hàng đơn giản không đồng nghĩa với việc rủi ro cao bạn Quang Phạm Văn nhé.',\n",
       "       'Ăn chay chưa chắc đã tốt cho sức khỏe, cái tốt nhất của nó là ở ý nghĩa của việc ăn chay. Đồ chay giả thịt vừa mất đi ý nghĩa này, lại vừa cực kỳ có hại cho sức khỏe vì những chất phụ gia giả thịt',\n",
       "       'Fadil hạng A bằng giá với kia soluto hạng B, còn lại vài thua mọi mặt, bạn nên cân nhắc.',\n",
       "       'Tóm lại là nhạt.',\n",
       "       'Được nhé, hoàn toàn có thể tưởng tượng được. góc đỉnh tiến dần tới 180, cạnh đáy cũng sẽ vô cùng dài.... còn đường cao từ đỉnh xuống đáy sẽ vô cùng nhỏ cho tiến tới 1mm, tương tự đường cao từ hai đỉnh còn lại cũng nhỏ (chú ý đường cao lúc này nằm ngoài tam giác nên sẽ nhỏ) cái này vẽ ra là có thể thấy. Còn chứng minh thì phải dùng công thức.',\n",
       "       'Covid-19 đang nợ Lewandowski một Quả bóng vàng! Chứ không phải Bóng đá nợ Si một Chức vô địch TG như các Cules vẫn kêu gào.',\n",
       "       'Thiếu giáo dục nhân cách và đạo đức,sống ảo, xem phim hành động: xã hội đen,..cộng thêm sử dụng Bia rượu vào không kiểm soát bản thân, thích thể hiện, máu Anh hùng... dẫn đến hành động xấu và gây hậu quả nghiêm trọng cho bản thân, gia đình và xã hội.',\n",
       "       'khổ cho cháu bé quá vì đã gặp người bố tàn ác quá',\n",
       "       'Nhiều cầu thủ hay quá',\n",
       "       'các nhà khoa học đã nêu vấn đề rất tốt và các nhà lành đạo thì đã rất quyết đoán, họ đều vì một đất nước phát triển bền vững cho muôn đời sau!',\n",
       "       'bản án không có tính răn đe.',\n",
       "       'Không biết không quan tâm nhóm nhạc Hàn Quốc nào, toàn nhảy múa đu đưa.',\n",
       "       'Ăn chay mà nghĩ các món: heo quay chay, đùi gà chay, thịt ba chỉ chạy, patê chay,....toàn hình hài món mặn trong cái bóng chay thì chay nỗi gì. Ăn chay thì tâm phải tịnh, không nghĩ đến sát sinh, lòng hướng thiện.',\n",
       "       'Quan trọng là quản lý như thế nào để phụ huynh không đi cửa hậu để con có học bạ đẹp như mơ. Đề nghị nên ra đề thi hoặc kiểm tra ra chéo cho các trường thì họa may có sự công bằng cho các cháu, ví dụ như giáo viên trường A ra đề cho trường B rồi trường B ra đề cho trường C cứ ra xoay vòng không trùng lặp trường nào hết thì các cháu không còn phải tâp trung vô các cô trong lớp để học thêm rồi biết đề hoặc biết nội dung sẻ kiểm tra trước các bạn không đi học thêm.',\n",
       "       'Chỉ có thể là ở MỸ mới có cuộc cải nhau giữa tổng thống và ứng viên tổng thống cải nhau như hai bà bán cá ngoài chợ',\n",
       "       'Đây thực chất là phân bón gọi dân dã là phân đạm nông dân vẫn dùng bón cho lúa ngô và hoa màu khác. nếu được trộn với dầu diesel sẽ thành thuốc nổ dùng phổ biến trong khai thác đá và công nghiệp xây dựng. do để trong kho quá lâu và có lẽ không được thông gió tốt nên sự thăng hoa của nó tạo ra nguồn khí dễ cháy nổ đậm đặc, không may gặp phải tác nhân là tia lửa nên phát nổ !',\n",
       "       'Chúc mừng thầy , mặc dù chưa học thầy ngày nào nhưng xin phép gọi là thầy. Thầy giỏi quá,',\n",
       "       'Con tui sau này muốn học sao học, đúp lại cũng được, tui vẫn cho bé ăn ngủ chơi đầy đủ. Một khi thể chất tốt thì làm gì cũng được, còn không thì bỏ đi, thất bại toàn tập.',\n",
       "       'Chủ Tịch Cáo già Perez đã đẩy được Golf thủ đi...Đội hình Tottenham đang rệu quá ! Mourinho thiếu tiền đạo lên chỉ đồng ý mượn một năm...Bale hợp ý thích của CT Levy...Thời đỉnh cao của Bale đã qua 7 năm rồi , chấn thương liên miên chỉ hợp với đánh Golf thôi . Khổ thân Jose Mourinho ,chúng ta chờ xem anh ta trên sân bóng hay trên sân Golf là hợp nhất...',\n",
       "       'Mỗi lần đọc những tin này thấy buồn quá',\n",
       "       'Mua xe điện bạn ơi. Tesla chẳng hạn',\n",
       "       'Nhìn nó bên cạnh mà lạnh xương sống, dù nó có vẻ đang muốn nói \"tôi là một chú cá sấu vui tính yêu đời và yêu con người, tôi hiền lắm, tôi ko cắn đâu\" =))..',\n",
       "       'Ăn chán chưa từng thấy, thua cả con hàu, thua xa bào ngư Việt Nam.',\n",
       "       'Thật ra thì có kẻ đã gọi điện kích động nạn nhân và mai phục sẵn khi biết chắc nạn nhân sẽ xuống nhà. Nạn nhân chết bởi cú đánh lún sọ lúc đầu tiên. Đâm chém sau này chỉ là muốn chắc chắn đã chết. Người cùng làng, ăn nhận cùng chỗ nên quá chủ quan mà chết. Âu cũng là số phận.',\n",
       "       'Jollibee có món gà tắm nước mắm khá hợp vị miền nam.theo mình thì Jollibee này sớm sẽ trở thành một trong những chuỗi đáng gờm tại VN.',\n",
       "       'Arsenal có thủ môn mới hay quá! Chúc mừng Pháo thủ. Thực ra với giải đấu Cup như thế này thì hợp với Arsenal hơn.',\n",
       "       'Chúc mừng các chiến sỹ công an trong ban chuyên an',\n",
       "       'Nhớ ngày xưa yêu dấu nơi quê nghèo Hậu Giang',\n",
       "       'Cá nhân riêng mình nghe rất mệt :(( Một bài hát sầu não - ủy mị - làm cho tâm hồn của người nghe thêm nặng nề :(( Chẳng có giá trị gì cho tâm hồn cả. Chắc có lẽ mình đã \"già\" rồi :)',\n",
       "       'Rất ngưỡng mộ Ivanka Trump là cô gái tài sắc vẹn toàn. Con gái như vậy ông bố nào chẳng yêu quí. Chúc mừng Donal Trump, hy vọng ông tái đắc cử Tổng thống',\n",
       "       'Bale là cầu thủ giỏi nhưng tính tình kỳ quặc và hay chấn thương! Nên chỉ dừng mức tạm của Real! 1 thương vụ ko tốt chỉ tốt hơn Hảzard',\n",
       "       'các thánh cuồng Trump vào biện hộ cái đi nào :)',\n",
       "       'Hết sức đau lòng. Các trường phải kiểm tra cánh cổng, trụ cổng vòm cổng...cho an toàn. Cầu mong các linh hồn bé bỏng sớm siêu thoát.\\xa0',\n",
       "       'Vậy mà có người đòi nhanh chóng có vaccine covid19',\n",
       "       'Mấy người đạp xe như vầy quá thiếu ý thức , ỷ đi đông thì muốn chạy sao thì chạy ah !!',\n",
       "       'nếu nó ngon và tốt cho sức khỏe thì càng tốt chứ sao?. nhiều món ăn đâu cần thẩm mỹ miễn là người thưởng thức thích là được.',\n",
       "       'Cải tiến chương trình nhiều quá thành ra không còn chuẩn chỉnh nữa. Cấp 1 thì học cộng trừ nhân chia thôi, giờ về mở sách con ra thấy làm phép gộp, tách, gôm .... Ngay cả người lớn còn ít dùng những từ đó để làm phép toàn hàng ngày thì làm sao tụi nhỏ hiểu.',\n",
       "       'Nhận được hộp bánh mà ngậm ngùi... Ruột 4 bánh nướng bt thôi, mà hộp và túi thì... chắc đắt hơn ruột. Xót xa khi phải mang vứt rác, mất công, và hại môi trường lắm lắm. Nên học TQ, là nơi khỏi nguồn mà nay họ cũng chuyển xu hướng giản dị coi trọng chất hơn hình thức.',\n",
       "       'Serie về Robert langdon thật khủng khiếp, logic táo bạo đầy mê hoặc, thank you sir!',\n",
       "       'Nhà e vừa đặt cọc tuần sau lấy đây, đợt này giảm nhiều bác chọn bản AT lux là ngon luôn, xe rộng rãi, full option mà giá tốt nữa thì ngon lành',\n",
       "       'Mua ertiga hoặc xl7. Trường xe dễ lái. Tiết kiệm xăng. Đa dụng.',\n",
       "       'Đã từng, nhưng ko quay lại được đâu, chỉ có quay đầu đi hướng khác, nhưng quay đầu đi hướng khác mà vẫn không quên được, vẫn phải nhớ, sầu càng thêm sầu. Còn gì để thương, còn gì để nhớ, còn gì để quên!',\n",
       "       'Cần xem lại các quy định pháp luật trong việc xử lý các bố mẹ có hành vi bạo hành trẻ như thế. Với lý lịch phức tạp của người bố như thế, đáng ra ngay từ khi phát hiện con thường xuyên bị đánh là đã phải có biện pháp các ly con khỏi bố chứ không chỉ đơn giản là mời lên ký cam kết rồi về.',\n",
       "       'Coi như xong nhiệm kỳ rồi ông',\n",
       "       'Mỹ: Mercedes - Lexus- Audi-BMW ( khai láo chứ BMW đứng thứ 4)VN: Lexus - Mercedes- Audi- BMW (Mình đã trừ các dòng xe phổ thông của mercedes ra khỏi bảng tính).Thân',\n",
       "       'Nên kiếm công việc bảo vệ, giữ xe. Mà làm đừng săn bắt chim trời cá nước tội nghiệp nó lắm, đến ngày cạn kiệt cũng phải đi làm việc khác',\n",
       "       'Chúc cháu và gia đình anh luôn khỏe mạnh.',\n",
       "       'Đình chỉ học có khi còn thích . Theo tôi vẫn cho đi học bình thường , buổi còn lại bắt đi lao động công ích.tái phạm thời gian lao động nhiều hơn.',\n",
       "       'Này là quá nhẹ so với tài xế contaner',\n",
       "       'Tôi thì thấy các em thật đại diện cho thế hệ trẻ: tràn đầy năng lượng, sức trẻ, nhiệt huyết, sáng tạo và tài năng. Nhìn các em tôi có cảm xúc không nên lời. Đây chính là nguồn tài nguyên chất xám cho đất nước. Rất mong các em phát triển bản thân đúng hướng để mãi tỏa sáng trên đường đời sau này.',\n",
       "       'Tại sao họ từ nước ngoài về nhưng không có giấy xác nhận âm tính. Mình nghe nói có giấy mới được về mà.',\n",
       "       'đọc tới đâu nổi da gà tới đó, quá giỏi luôn ấy',\n",
       "       'Botulinum chất độc mạnh nhất từng được biết, với liều gây chết trung bình (LD50) ở người khoảng 1,3-2,1 ng/kg tiêm tĩnh mạch hoặc tiêm bắp và 10-13 ng/kg khi hít vào. Ghê quá',\n",
       "       '\"Cô giữ quyền nuôi cả sáu con suốt những năm qua. Brad Pitt muốn tòa án chia đều thời gian hai người được gặp các con.\"Xem đây đủ thấy ai biết điều, ai quá đáng.',\n",
       "       'Tứ quái TKKG xuất bản đúng những năm tuổi teen của mình, giờ đã 36 tuổi. Lúc trước không có nhiều điều kiện, cuốn đọc được, cuốn thì không (chỉ có bộ 7 viên ngọc rồng là theo đủ bộ). Giờ mình sẽ lại sưu tầm cho đủ bộ này. Hì.',\n",
       "       'Ác mộng đi học của con. Lớp một con em sĩ số 54 em. Trường ở quận gò vấp',\n",
       "       'Nội dung chất lượng quá, xin cảm ơn!',\n",
       "       'Đọc bình luận mấy ngày nay , Tôi thấy phụ huynh nào cũng kêu khó , kêu khổ.... , Không lẽ tất cả đều sai chỉ có mình chủ biên thì đúng ?',\n",
       "       'quá 2tr. đủ truy tố',\n",
       "       'Vẫn là Pen, một bên cướp Pen của em út với một bên tự làm tự ăn, vậy thì ai hôi pen bẩn vậy cule?',\n",
       "       'người trẻ còn sức khoẻ k lo làm ăn đi ăn trộm của bà già sức yếu mưu sinh từng ngày',\n",
       "       'Đây là chiến công tuyệt vời của các Anh công an Việt Nam .',\n",
       "       'Việt Nam thật tuyệt vời',\n",
       "       'Ý của Cules: Ông Lê Văn này lại ăn ké nữa rồi. Ghi bàn ầm ầm từ vòng bảng, ko....vậy mà đến CK không ghi bàn là không tính đâu. Chỉ tính là ăn ké cup thôi.Lê Văn: Ô ăn ké vẫn hơn ăn bám. Không như ai kia chỉ biết vòng bảng, còn ko thì đếm cỏ.',\n",
       "       'k biết nó anh hùng cỡ nào, nhưng thấy mặt chuột là k có cảm tình',\n",
       "       'Bão Noul được dự báo là cấp 12 ...?! Thương bà con mình quá , vừa chống bão , vừa chống dịch . Khó khăn chồng chất khó khăn ....',\n",
       "       'Cái nhà này tóp hậu.',\n",
       "       'Các cháu đã học cả ngày, đề nghị bộ không ép các cháu học thêm buổi tối để các cháu đc nghỉ ngơi. Với thời của tôi chỉ học nửa buổi mà bây giờ các cháu đã học cả ngày như vậy là đã gấp đôi thời lượng, chương trình thì nặng, vậy thời gian đâu để các cháu đc vui chơi theo đúng tuổi thơ của mình.',\n",
       "       'Các loài dưới biển còn có cơ hội lẫn sâu xuống đáy đại dương để tránh fon ngi, còn những động vật trên cạn thì đang dắt tay nhau tuyệt chủng',\n",
       "       'Chết chưa! Lần trước ko có lượt về mà 2-8. Lần này cả đi lẫn về ko biết tỷ số nhiêu ta?',\n",
       "       'Ngưỡng mộ anh cả trên màn ảnh lẫn cuộc sống đời thực. Chúc cháu và gia đình anh luôn ngập tràn hạnh phúc.',\n",
       "       'Chia buồn cùng cá sấu vợ',\n",
       "       'Dí súng Vào đầu Đi không nổ. Nếu nổ thì sao???',\n",
       "       'Hình ảnh minh họa rất hay và đễ hiểu.',\n",
       "       'Với khối lượng như trên, khi vụ nổ xảy ra sức ép của vụ nổ cực lớn xé toác những thứ ở gần, kể cả con người ở gần khu vực vụ nổ. Trong video clip thấy nhiều xe đi trên đường vẫn đi lại bình thường, thậm chí có một số xe dừng lại để xem vụ nổ nữa..',\n",
       "       'Tôi thấy việc ông ấy nhiễm covid vào lúc này như là 1 dấu mốc quyết định tái đắc cử. nếu trong 2 tuần TT khỏi bệnh thần kỳ, ông ấy sẽ minh chứng bản thân đã vượt qua covid như nào, còn không thì khả năng cao sẽ chả ai dám bầu cho ông ấy',\n",
       "       'Bạn thử tìm hiểu Ciaz 2020 mới ra mắt xem sao. Mình đang đi bản 2019, xăng 5,4 lít hỗn hợp.',\n",
       "       'Huyền thoại mà ăn nói thế chẳng khác nào dìm bùn mờ U thần thánh à , có bết bát quá thì cầu thủ tài năng mới không thèm đến vì sẽ chôn vùi sự nghiệp B) B) B)',\n",
       "       'Điều đó cho thấy Messi không phải cừu đen. Cũng không phải cứ khăng khăng đòi mắc võng trong vòng cấm. Với Messi đơn giản là đội bóng giành chiến thắng.',\n",
       "       'Ngoài Benfica từng có C1 ra thì tất cả các CLB ở đây không thể bì được với AC đâu.',\n",
       "       'bố mẹ đẻ ra là cá sấu nhưng lại thích làm cá heo',\n",
       "       'Tôi sẽ không gây ra bất cứ sự xung đột nào với cậu ấy\" ông ko bị đá là may đấy . ngồi đấy mà',\n",
       "       'nhìn là đã đủ thốn rồi',\n",
       "       'Giá đất mặt bằng chung cho qua cuối năm sau cũng không tăng nổi đâu bạn, giảm nhiều hay ít tùy vùng thôi. Lời khuyên cá nhân tôi thì chưa nên mua bây giờ, thay vì mua đất hoặc gưởi ngân hàng thì có thể dùng tiền đó đầu tư nghành mà vợ chồng bạn am hiểu, chứ vợ chồng bạn làm việc siêng năng dành dụm tích góp được 3 tỷ, nếu bạn mua đất ngay bây giờ thì cuối năm nếu mặt bằng chung giá đất xuống chỉ cần khoảng 10% thôi là bạn đã bị mất khoảng 300 triệu, nếu bạn để qua cuối năm hoặc năm sau mua sẽ không phải mất mấy tháng doanh thu làm ăn vất vả của vợ chồng bạn.Những người đang sỡ hữu đất bằng tiền của họ chứ không phải vay mượn thì chẳng ai bán thời điểm này đâu, trừ những người có chuyện đột xuất bắt buộc phải bán thì họ mới bán, mà thời điểm này người mua đất rất ít nên nếu bạn tìm được những người bán này hoặc những người đang vay mượn để đầu tư đất nhưng không trụ nổi nữa thì bạn có thể mặc cả nhiều hơn, thuận mua vừa bán, giá sẽ mềm hơn.',\n",
       "       'Cả một trời tuổi thơ của tôi.',\n",
       "       'Sao ko lắp hệ thống loa để đuổi?', 'Sống chung với lô cốt tiếp .',\n",
       "       'còn chờ gì nữa mà không trao cho họ?!',\n",
       "       'Olympia vẫn luôn là một sân chơi trí tuệ khiến bao thế hệ đam mê. Là sự khát khao của bao em nhỏ trên con đường khám phá tri thức. Chúc một ngày CN thật sôi động của trận chung kết năm nay... Chúc mừng chương trình truyền cảm hứng tiếp thu tri thức Đường lên đỉnh Olympia. Chúc các thí sinh sẽ có một trận chung kết thành công và ý nghĩa. Chúc mừng chúc mừng ️',\n",
       "       'Bạn nên giữ vàng lại và từ nay đến cuối năm lúc nào nó lên đỉnh 2000 USD thì bán. Tôi từ trước đến giờ đầu tư đất nhưng giờ cũng chuyển qua vàng. Trong vòng 10 ngày qua nếu bạn đầu tư vàng với số tiền đó đã lời 70triệu. Từ hôm vàng rớt giá thôi nhé. Ngày 22/9 bán ra 55,8 triệu. Ngày25/9 mua vào 54,8 triệu. Lời 50 triệu. Ngày hôm nay 2/10 bán tiếp 55,7 triệuLời tiếp 45 triệu. Tôi đã làm.',\n",
       "       'biệt thự nhà riêng to đùng thế kia mà chủ (hay khách) phải đỗ xe ở ngoài thế kia thì xem ra kiến trúc sư của ông này quá tệ ...',\n",
       "       'Trong cái khó ló cái khôn, người tài thật sự khi khó khăn họ sẽ có những cống hiến tuyệt vời xuất sắc. Cảm ơn bác sĩ cấp và các y bác sĩ.',\n",
       "       'Bánh trung thu sao lại phải có quả trứng muối bên trong nhỉ. trẻ con giờ cũng không thích ăn bánh nữa. người lớn thì lại càng không (đa số). vậy nên hãy để cho một vài năm ko có bánh trung thu, rồi quay lại sau đi, khi đó mới thêm trân quý truyền thống lâu đời',\n",
       "       'Cấp 1 nói chung và lớp 1 nói riêng theo tôi có gì mà phải năm nào cũng cải cách.Mục tiêu của gd tiểu học là cho các con được làm quen môi trường học tập,kiến thức cơ bản và quan trọng nhất là phải tạo cho các con niềm hứng thú trong học tập chứ không phải nhồi nhét,biết đọc biết viết sớm để làm gì?Lại nhớ tuổi thơ của mình sáng học,chiều chơi mà có mù chữ đâu!',\n",
       "       'Tôi thấy hay đó chứ.'], dtype=object)"
      ]
     },
     "execution_count": 11,
     "metadata": {
      "tags": []
     },
     "output_type": "execute_result"
    }
   ],
   "source": [
    "comment_test = df_test['Comment']\n",
    "comment_test = np.array(comment_test)\n",
    "comment_test"
   ]
  },
  {
   "cell_type": "code",
   "execution_count": 12,
   "metadata": {
    "executionInfo": {
     "elapsed": 4,
     "status": "ok",
     "timestamp": 1622630835128,
     "user": {
      "displayName": "Nguyễn Thái Minh Đức",
      "photoUrl": "",
      "userId": "05286920215519665493"
     },
     "user_tz": -420
    },
    "id": "1_xn-NWVdTxF"
   },
   "outputs": [],
   "source": [
    "vocab_size = 10000\n",
    "embedding_dim = 64\n",
    "max_length = 100"
   ]
  },
  {
   "cell_type": "code",
   "execution_count": 13,
   "metadata": {
    "executionInfo": {
     "elapsed": 1393,
     "status": "ok",
     "timestamp": 1622630836517,
     "user": {
      "displayName": "Nguyễn Thái Minh Đức",
      "photoUrl": "",
      "userId": "05286920215519665493"
     },
     "user_tz": -420
    },
    "id": "1bcXGY3LdpTT"
   },
   "outputs": [],
   "source": [
    "from tensorflow.keras.preprocessing.text import Tokenizer\n",
    "from tensorflow.keras.preprocessing.sequence import pad_sequences"
   ]
  },
  {
   "cell_type": "code",
   "execution_count": 14,
   "metadata": {
    "executionInfo": {
     "elapsed": 6,
     "status": "ok",
     "timestamp": 1622630836518,
     "user": {
      "displayName": "Nguyễn Thái Minh Đức",
      "photoUrl": "",
      "userId": "05286920215519665493"
     },
     "user_tz": -420
    },
    "id": "PXc1qKjaeF5K"
   },
   "outputs": [],
   "source": [
    "tokenizer = Tokenizer(num_words=vocab_size, oov_token='<OOV>')\n",
    "tokenizer.fit_on_texts(comment_train)"
   ]
  },
  {
   "cell_type": "code",
   "execution_count": 15,
   "metadata": {
    "executionInfo": {
     "elapsed": 480,
     "status": "ok",
     "timestamp": 1622630836994,
     "user": {
      "displayName": "Nguyễn Thái Minh Đức",
      "photoUrl": "",
      "userId": "05286920215519665493"
     },
     "user_tz": -420
    },
    "id": "UAlXkb7Yew8S"
   },
   "outputs": [],
   "source": [
    "comment_train_sequences = tokenizer.texts_to_sequences(comment_train)"
   ]
  },
  {
   "cell_type": "code",
   "execution_count": 16,
   "metadata": {
    "executionInfo": {
     "elapsed": 17,
     "status": "ok",
     "timestamp": 1622630836995,
     "user": {
      "displayName": "Nguyễn Thái Minh Đức",
      "photoUrl": "",
      "userId": "05286920215519665493"
     },
     "user_tz": -420
    },
    "id": "2GEBsFRpfbp5"
   },
   "outputs": [],
   "source": [
    "padded_comment_train_sequences = pad_sequences(comment_train_sequences, maxlen=max_length, truncating='post', padding='post')"
   ]
  },
  {
   "cell_type": "code",
   "execution_count": 17,
   "metadata": {
    "colab": {
     "base_uri": "https://localhost:8080/"
    },
    "executionInfo": {
     "elapsed": 16,
     "status": "ok",
     "timestamp": 1622630836997,
     "user": {
      "displayName": "Nguyễn Thái Minh Đức",
      "photoUrl": "",
      "userId": "05286920215519665493"
     },
     "user_tz": -420
    },
    "id": "qhNxRyWQgCoQ",
    "outputId": "17979af6-8538-4716-9b0f-786068742b78"
   },
   "outputs": [
    {
     "data": {
      "text/plain": [
       "(7000, 100)"
      ]
     },
     "execution_count": 17,
     "metadata": {
      "tags": []
     },
     "output_type": "execute_result"
    }
   ],
   "source": [
    "padded_comment_train_sequences.shape"
   ]
  },
  {
   "cell_type": "code",
   "execution_count": 18,
   "metadata": {
    "colab": {
     "base_uri": "https://localhost:8080/"
    },
    "executionInfo": {
     "elapsed": 15,
     "status": "ok",
     "timestamp": 1622630836998,
     "user": {
      "displayName": "Nguyễn Thái Minh Đức",
      "photoUrl": "",
      "userId": "05286920215519665493"
     },
     "user_tz": -420
    },
    "id": "99m3Mrw_nPtN",
    "outputId": "b01fb35a-70a9-41bb-f150-eeccdf75b67c"
   },
   "outputs": [
    {
     "data": {
      "text/plain": [
       "(2000, 100)"
      ]
     },
     "execution_count": 18,
     "metadata": {
      "tags": []
     },
     "output_type": "execute_result"
    }
   ],
   "source": [
    "comment_valid_sequences = tokenizer.texts_to_sequences(comment_valid)\n",
    "padded_comment_valid_sequences = pad_sequences(comment_valid_sequences, maxlen=max_length, truncating='post', padding='post')\n",
    "padded_comment_valid_sequences.shape"
   ]
  },
  {
   "cell_type": "code",
   "execution_count": 19,
   "metadata": {
    "colab": {
     "base_uri": "https://localhost:8080/"
    },
    "executionInfo": {
     "elapsed": 13,
     "status": "ok",
     "timestamp": 1622630836998,
     "user": {
      "displayName": "Nguyễn Thái Minh Đức",
      "photoUrl": "",
      "userId": "05286920215519665493"
     },
     "user_tz": -420
    },
    "id": "X6LvPAAwgFOI",
    "outputId": "5b930253-27b4-4d5d-dd35-6b5d7da861d6"
   },
   "outputs": [
    {
     "data": {
      "text/plain": [
       "(1000, 100)"
      ]
     },
     "execution_count": 19,
     "metadata": {
      "tags": []
     },
     "output_type": "execute_result"
    }
   ],
   "source": [
    "comment_test_sequences = tokenizer.texts_to_sequences(comment_test)\n",
    "padded_comment_test_sequences = pad_sequences(comment_test_sequences, maxlen=max_length, truncating='post', padding='post')\n",
    "padded_comment_test_sequences.shape"
   ]
  },
  {
   "cell_type": "code",
   "execution_count": 73,
   "metadata": {
    "executionInfo": {
     "elapsed": 892,
     "status": "ok",
     "timestamp": 1622636637717,
     "user": {
      "displayName": "Nguyễn Thái Minh Đức",
      "photoUrl": "",
      "userId": "05286920215519665493"
     },
     "user_tz": -420
    },
    "id": "wcIYNJTscm0j"
   },
   "outputs": [],
   "source": [
    "from tensorflow.keras.models import Sequential\n",
    "from tensorflow.keras.layers import Embedding, Bidirectional, LSTM, Dense\n",
    "\n",
    "model = Sequential()\n",
    "model.add(Embedding(vocab_size, embedding_dim, input_length=max_length))\n",
    "model.add(Bidirectional(LSTM(32)))\n",
    "model.add(Dense(16, activation='relu'))\n",
    "model.add(Dense(1, activation='sigmoid'))"
   ]
  },
  {
   "cell_type": "code",
   "execution_count": 21,
   "metadata": {
    "colab": {
     "base_uri": "https://localhost:8080/"
    },
    "executionInfo": {
     "elapsed": 8,
     "status": "ok",
     "timestamp": 1622630838258,
     "user": {
      "displayName": "Nguyễn Thái Minh Đức",
      "photoUrl": "",
      "userId": "05286920215519665493"
     },
     "user_tz": -420
    },
    "id": "o1rGMf13ifPN",
    "outputId": "a6a6d4ee-55b0-4417-94ce-6c625da1dd4d"
   },
   "outputs": [
    {
     "name": "stdout",
     "output_type": "stream",
     "text": [
      "Model: \"sequential\"\n",
      "_________________________________________________________________\n",
      "Layer (type)                 Output Shape              Param #   \n",
      "=================================================================\n",
      "embedding (Embedding)        (None, 100, 64)           640000    \n",
      "_________________________________________________________________\n",
      "bidirectional (Bidirectional (None, 64)                24832     \n",
      "_________________________________________________________________\n",
      "dense (Dense)                (None, 16)                1040      \n",
      "_________________________________________________________________\n",
      "dense_1 (Dense)              (None, 1)                 17        \n",
      "=================================================================\n",
      "Total params: 665,889\n",
      "Trainable params: 665,889\n",
      "Non-trainable params: 0\n",
      "_________________________________________________________________\n"
     ]
    }
   ],
   "source": [
    "model.summary()"
   ]
  },
  {
   "cell_type": "code",
   "execution_count": 74,
   "metadata": {
    "executionInfo": {
     "elapsed": 423,
     "status": "ok",
     "timestamp": 1622636641629,
     "user": {
      "displayName": "Nguyễn Thái Minh Đức",
      "photoUrl": "",
      "userId": "05286920215519665493"
     },
     "user_tz": -420
    },
    "id": "MMZMPVdpit00"
   },
   "outputs": [],
   "source": [
    "model.compile(optimizer='adam', loss='binary_crossentropy', metrics=['acc'])"
   ]
  },
  {
   "cell_type": "code",
   "execution_count": 75,
   "metadata": {
    "colab": {
     "base_uri": "https://localhost:8080/"
    },
    "executionInfo": {
     "elapsed": 170209,
     "status": "ok",
     "timestamp": 1622636813152,
     "user": {
      "displayName": "Nguyễn Thái Minh Đức",
      "photoUrl": "",
      "userId": "05286920215519665493"
     },
     "user_tz": -420
    },
    "id": "Tnleavnri-ks",
    "outputId": "84be9c77-411a-4331-c051-f761f1f86eaf"
   },
   "outputs": [
    {
     "name": "stdout",
     "output_type": "stream",
     "text": [
      "Epoch 1/10\n",
      "219/219 [==============================] - 20s 78ms/step - loss: 0.4700 - acc: 0.7773 - val_loss: 0.4123 - val_acc: 0.8015\n",
      "Epoch 2/10\n",
      "219/219 [==============================] - 17s 75ms/step - loss: 0.3453 - acc: 0.8511 - val_loss: 0.4208 - val_acc: 0.8000\n",
      "Epoch 3/10\n",
      "219/219 [==============================] - 17s 76ms/step - loss: 0.2634 - acc: 0.8941 - val_loss: 0.4507 - val_acc: 0.8060\n",
      "Epoch 4/10\n",
      "219/219 [==============================] - 17s 76ms/step - loss: 0.1915 - acc: 0.9274 - val_loss: 0.5386 - val_acc: 0.7855\n",
      "Epoch 5/10\n",
      "219/219 [==============================] - 17s 77ms/step - loss: 0.1430 - acc: 0.9471 - val_loss: 0.6006 - val_acc: 0.7970\n",
      "Epoch 6/10\n",
      "219/219 [==============================] - 17s 77ms/step - loss: 0.1053 - acc: 0.9626 - val_loss: 0.6673 - val_acc: 0.7805\n",
      "Epoch 7/10\n",
      "219/219 [==============================] - 17s 76ms/step - loss: 0.0787 - acc: 0.9751 - val_loss: 0.8397 - val_acc: 0.7945\n",
      "Epoch 8/10\n",
      "219/219 [==============================] - 17s 76ms/step - loss: 0.0615 - acc: 0.9800 - val_loss: 0.8768 - val_acc: 0.7820\n",
      "Epoch 9/10\n",
      "219/219 [==============================] - 17s 76ms/step - loss: 0.0575 - acc: 0.9783 - val_loss: 0.8675 - val_acc: 0.7790\n",
      "Epoch 10/10\n",
      "219/219 [==============================] - 17s 76ms/step - loss: 0.0413 - acc: 0.9871 - val_loss: 0.9836 - val_acc: 0.7800\n"
     ]
    },
    {
     "data": {
      "text/plain": [
       "<tensorflow.python.keras.callbacks.History at 0x7f6c027eae90>"
      ]
     },
     "execution_count": 75,
     "metadata": {
      "tags": []
     },
     "output_type": "execute_result"
    }
   ],
   "source": [
    "model.fit(padded_comment_train_sequences, constructiveness_train, epochs=10, validation_data=(padded_comment_valid_sequences, constructiveness_valid))"
   ]
  },
  {
   "cell_type": "code",
   "execution_count": 80,
   "metadata": {
    "colab": {
     "base_uri": "https://localhost:8080/"
    },
    "executionInfo": {
     "elapsed": 1045,
     "status": "ok",
     "timestamp": 1622636873117,
     "user": {
      "displayName": "Nguyễn Thái Minh Đức",
      "photoUrl": "",
      "userId": "05286920215519665493"
     },
     "user_tz": -420
    },
    "id": "7marIkDUpbbR",
    "outputId": "16118062-4133-45b5-a238-08a9aa84cc91"
   },
   "outputs": [
    {
     "data": {
      "text/plain": [
       "array([[0.9991847 ],\n",
       "       [0.9983933 ],\n",
       "       [0.01866663],\n",
       "       ...,\n",
       "       [0.00140545],\n",
       "       [0.01611298],\n",
       "       [0.25797525]], dtype=float32)"
      ]
     },
     "execution_count": 80,
     "metadata": {
      "tags": []
     },
     "output_type": "execute_result"
    }
   ],
   "source": [
    "#model.fit(X_train_vector, y_sentiment_train)\n",
    "padded_comment_valid_sequences_pred = model.predict(padded_comment_valid_sequences)\n",
    "\n",
    "padded_comment_valid_sequences_pred"
   ]
  },
  {
   "cell_type": "code",
   "execution_count": 71,
   "metadata": {
    "colab": {
     "base_uri": "https://localhost:8080/",
     "height": 320
    },
    "executionInfo": {
     "elapsed": 376,
     "status": "error",
     "timestamp": 1622636586390,
     "user": {
      "displayName": "Nguyễn Thái Minh Đức",
      "photoUrl": "",
      "userId": "05286920215519665493"
     },
     "user_tz": -420
    },
    "id": "pynvgFynrNIc",
    "outputId": "4959d072-2a30-4a6b-d9f1-f3ccb24817d6"
   },
   "outputs": [
    {
     "ename": "ValueError",
     "evalue": "ignored",
     "output_type": "error",
     "traceback": [
      "\u001b[0;31m---------------------------------------------------------------------------\u001b[0m",
      "\u001b[0;31mValueError\u001b[0m                                Traceback (most recent call last)",
      "\u001b[0;32m<ipython-input-71-d070dc4a278b>\u001b[0m in \u001b[0;36m<module>\u001b[0;34m()\u001b[0m\n\u001b[1;32m      1\u001b[0m \u001b[0;32mfrom\u001b[0m \u001b[0msklearn\u001b[0m\u001b[0;34m.\u001b[0m\u001b[0mmetrics\u001b[0m \u001b[0;32mimport\u001b[0m \u001b[0maccuracy_score\u001b[0m\u001b[0;34m\u001b[0m\u001b[0;34m\u001b[0m\u001b[0m\n\u001b[0;32m----> 2\u001b[0;31m \u001b[0maccuracy_score\u001b[0m\u001b[0;34m(\u001b[0m\u001b[0mcst_valid\u001b[0m\u001b[0;34m,\u001b[0m \u001b[0mpadded_comment_valid_sequences_pred\u001b[0m\u001b[0;34m)\u001b[0m\u001b[0;34m\u001b[0m\u001b[0;34m\u001b[0m\u001b[0m\n\u001b[0m",
      "\u001b[0;32m/usr/local/lib/python3.7/dist-packages/sklearn/metrics/_classification.py\u001b[0m in \u001b[0;36maccuracy_score\u001b[0;34m(y_true, y_pred, normalize, sample_weight)\u001b[0m\n\u001b[1;32m    183\u001b[0m \u001b[0;34m\u001b[0m\u001b[0m\n\u001b[1;32m    184\u001b[0m     \u001b[0;31m# Compute accuracy for each possible representation\u001b[0m\u001b[0;34m\u001b[0m\u001b[0;34m\u001b[0m\u001b[0;34m\u001b[0m\u001b[0m\n\u001b[0;32m--> 185\u001b[0;31m     \u001b[0my_type\u001b[0m\u001b[0;34m,\u001b[0m \u001b[0my_true\u001b[0m\u001b[0;34m,\u001b[0m \u001b[0my_pred\u001b[0m \u001b[0;34m=\u001b[0m \u001b[0m_check_targets\u001b[0m\u001b[0;34m(\u001b[0m\u001b[0my_true\u001b[0m\u001b[0;34m,\u001b[0m \u001b[0my_pred\u001b[0m\u001b[0;34m)\u001b[0m\u001b[0;34m\u001b[0m\u001b[0;34m\u001b[0m\u001b[0m\n\u001b[0m\u001b[1;32m    186\u001b[0m     \u001b[0mcheck_consistent_length\u001b[0m\u001b[0;34m(\u001b[0m\u001b[0my_true\u001b[0m\u001b[0;34m,\u001b[0m \u001b[0my_pred\u001b[0m\u001b[0;34m,\u001b[0m \u001b[0msample_weight\u001b[0m\u001b[0;34m)\u001b[0m\u001b[0;34m\u001b[0m\u001b[0;34m\u001b[0m\u001b[0m\n\u001b[1;32m    187\u001b[0m     \u001b[0;32mif\u001b[0m \u001b[0my_type\u001b[0m\u001b[0;34m.\u001b[0m\u001b[0mstartswith\u001b[0m\u001b[0;34m(\u001b[0m\u001b[0;34m'multilabel'\u001b[0m\u001b[0;34m)\u001b[0m\u001b[0;34m:\u001b[0m\u001b[0;34m\u001b[0m\u001b[0;34m\u001b[0m\u001b[0m\n",
      "\u001b[0;32m/usr/local/lib/python3.7/dist-packages/sklearn/metrics/_classification.py\u001b[0m in \u001b[0;36m_check_targets\u001b[0;34m(y_true, y_pred)\u001b[0m\n\u001b[1;32m     88\u001b[0m     \u001b[0;32mif\u001b[0m \u001b[0mlen\u001b[0m\u001b[0;34m(\u001b[0m\u001b[0my_type\u001b[0m\u001b[0;34m)\u001b[0m \u001b[0;34m>\u001b[0m \u001b[0;36m1\u001b[0m\u001b[0;34m:\u001b[0m\u001b[0;34m\u001b[0m\u001b[0;34m\u001b[0m\u001b[0m\n\u001b[1;32m     89\u001b[0m         raise ValueError(\"Classification metrics can't handle a mix of {0} \"\n\u001b[0;32m---> 90\u001b[0;31m                          \"and {1} targets\".format(type_true, type_pred))\n\u001b[0m\u001b[1;32m     91\u001b[0m \u001b[0;34m\u001b[0m\u001b[0m\n\u001b[1;32m     92\u001b[0m     \u001b[0;31m# We can't have more than one value on y_type => The set is no more needed\u001b[0m\u001b[0;34m\u001b[0m\u001b[0;34m\u001b[0m\u001b[0;34m\u001b[0m\u001b[0m\n",
      "\u001b[0;31mValueError\u001b[0m: Classification metrics can't handle a mix of binary and continuous targets"
     ]
    }
   ],
   "source": [
    "from sklearn.metrics import accuracy_score\n",
    "accuracy_score(cst_valid, padded_comment_valid_sequences_pred)"
   ]
  },
  {
   "cell_type": "markdown",
   "metadata": {
    "id": "SOrJcomU9mpd"
   },
   "source": [
    "## 1.Naive Bayes (MultinomialNB)"
   ]
  },
  {
   "cell_type": "code",
   "execution_count": 42,
   "metadata": {
    "colab": {
     "base_uri": "https://localhost:8080/"
    },
    "executionInfo": {
     "elapsed": 915,
     "status": "ok",
     "timestamp": 1622632288390,
     "user": {
      "displayName": "Nguyễn Thái Minh Đức",
      "photoUrl": "",
      "userId": "05286920215519665493"
     },
     "user_tz": -420
    },
    "id": "jro_7cz6akzw",
    "outputId": "a815bde2-1859-4ecc-8280-ad3b8e4cedc1"
   },
   "outputs": [
    {
     "data": {
      "text/plain": [
       "array([[0., 0., 0., ..., 0., 0., 0.],\n",
       "       [0., 0., 0., ..., 0., 0., 0.],\n",
       "       [0., 0., 0., ..., 0., 0., 0.],\n",
       "       ...,\n",
       "       [0., 0., 0., ..., 0., 0., 0.],\n",
       "       [0., 0., 0., ..., 0., 0., 0.],\n",
       "       [0., 0., 0., ..., 0., 0., 0.]])"
      ]
     },
     "execution_count": 42,
     "metadata": {
      "tags": []
     },
     "output_type": "execute_result"
    }
   ],
   "source": [
    "from sklearn.feature_extraction.text import TfidfVectorizer\n",
    "vectorizer = TfidfVectorizer()\n",
    "#vectorizer.fit(X_train)\n",
    "cmt_train_vector = vectorizer.fit_transform(cmt_train).toarray()\n",
    "cmt_valid_vector = vectorizer.transform(cmt_valid).toarray()\n",
    "cmt_valid_vector"
   ]
  },
  {
   "cell_type": "code",
   "execution_count": 64,
   "metadata": {
    "colab": {
     "base_uri": "https://localhost:8080/"
    },
    "executionInfo": {
     "elapsed": 304,
     "status": "ok",
     "timestamp": 1622635951998,
     "user": {
      "displayName": "Nguyễn Thái Minh Đức",
      "photoUrl": "",
      "userId": "05286920215519665493"
     },
     "user_tz": -420
    },
    "id": "jv-6gmFZOx3J",
    "outputId": "baf2aaa5-b654-43c3-e95a-3bdae0dfc35e"
   },
   "outputs": [
    {
     "data": {
      "text/plain": [
       "(array([0, 1, 1, ..., 1, 1, 0]), array([0, 1, 0, ..., 0, 0, 0]))"
      ]
     },
     "execution_count": 64,
     "metadata": {
      "tags": []
     },
     "output_type": "execute_result"
    }
   ],
   "source": [
    "from sklearn import preprocessing\n",
    "from sklearn.preprocessing import LabelEncoder\n",
    "le = LabelEncoder()\n",
    "cst_train = le.fit_transform(cst_train)\n",
    "cst_valid = le.fit_transform(cst_valid)\n",
    "cst_train, cst_valid"
   ]
  },
  {
   "cell_type": "code",
   "execution_count": 65,
   "metadata": {
    "colab": {
     "base_uri": "https://localhost:8080/"
    },
    "executionInfo": {
     "elapsed": 418,
     "status": "ok",
     "timestamp": 1622635964344,
     "user": {
      "displayName": "Nguyễn Thái Minh Đức",
      "photoUrl": "",
      "userId": "05286920215519665493"
     },
     "user_tz": -420
    },
    "id": "HeUqM0Q6nfdt",
    "outputId": "184e621d-9c13-4fc4-e2d7-394e11269bd8"
   },
   "outputs": [
    {
     "data": {
      "text/plain": [
       "(array([0, 0, 1, ..., 0, 0, 1]), array([0, 0, 0, ..., 0, 0, 0]))"
      ]
     },
     "execution_count": 65,
     "metadata": {
      "tags": []
     },
     "output_type": "execute_result"
    }
   ],
   "source": [
    "le = LabelEncoder()\n",
    "txc_train = le.fit_transform(txc_train)\n",
    "txc_valid = le.fit_transform(txc_valid)\n",
    "txc_train, txc_valid"
   ]
  },
  {
   "cell_type": "markdown",
   "metadata": {
    "id": "1lq1sIbxm6KY"
   },
   "source": [
    "### Constructiveness Classification"
   ]
  },
  {
   "cell_type": "code",
   "execution_count": 46,
   "metadata": {
    "colab": {
     "base_uri": "https://localhost:8080/"
    },
    "executionInfo": {
     "elapsed": 298,
     "status": "ok",
     "timestamp": 1622632480325,
     "user": {
      "displayName": "Nguyễn Thái Minh Đức",
      "photoUrl": "",
      "userId": "05286920215519665493"
     },
     "user_tz": -420
    },
    "id": "ZIAw9AF5Ox3K",
    "outputId": "cdf878b1-e1de-4718-e07d-e0616a0c30a5"
   },
   "outputs": [
    {
     "data": {
      "text/plain": [
       "0.741"
      ]
     },
     "execution_count": 46,
     "metadata": {
      "tags": []
     },
     "output_type": "execute_result"
    }
   ],
   "source": [
    "from sklearn.naive_bayes import MultinomialNB\n",
    "\n",
    "model = MultinomialNB()\n",
    "\n",
    "model.fit(cmt_train_vector, cst_train)\n",
    "cst_valid_pred = model.predict(cmt_valid_vector)\n",
    "\n",
    "from sklearn.metrics import accuracy_score\n",
    "accuracy_score(cst_valid, cst_valid_pred)"
   ]
  },
  {
   "cell_type": "code",
   "execution_count": 47,
   "metadata": {
    "colab": {
     "base_uri": "https://localhost:8080/"
    },
    "executionInfo": {
     "elapsed": 459,
     "status": "ok",
     "timestamp": 1622632497498,
     "user": {
      "displayName": "Nguyễn Thái Minh Đức",
      "photoUrl": "",
      "userId": "05286920215519665493"
     },
     "user_tz": -420
    },
    "id": "xLRDQiJKOx3K",
    "outputId": "4a7756da-18df-4ff2-b7a0-5a1477783180"
   },
   "outputs": [
    {
     "name": "stdout",
     "output_type": "stream",
     "text": [
      "              precision    recall  f1-score   support\n",
      "\n",
      "           0       0.73      0.94      0.82      1271\n",
      "           1       0.79      0.40      0.53       729\n",
      "\n",
      "    accuracy                           0.74      2000\n",
      "   macro avg       0.76      0.67      0.67      2000\n",
      "weighted avg       0.75      0.74      0.71      2000\n",
      "\n"
     ]
    }
   ],
   "source": [
    "from sklearn.metrics import accuracy_score, f1_score, precision_score, recall_score, classification_report\n",
    "\n",
    "print(classification_report(cst_valid, cst_valid_pred))"
   ]
  },
  {
   "cell_type": "markdown",
   "metadata": {
    "id": "SavszuB_nMcw"
   },
   "source": [
    "### Toxicity Classification"
   ]
  },
  {
   "cell_type": "code",
   "execution_count": 66,
   "metadata": {
    "colab": {
     "base_uri": "https://localhost:8080/"
    },
    "executionInfo": {
     "elapsed": 305,
     "status": "ok",
     "timestamp": 1622636038615,
     "user": {
      "displayName": "Nguyễn Thái Minh Đức",
      "photoUrl": "",
      "userId": "05286920215519665493"
     },
     "user_tz": -420
    },
    "id": "1Q_zEBbFnMc4",
    "outputId": "ac3eff14-8055-402a-bc26-0c84f43dff63"
   },
   "outputs": [
    {
     "data": {
      "text/plain": [
       "0.8835"
      ]
     },
     "execution_count": 66,
     "metadata": {
      "tags": []
     },
     "output_type": "execute_result"
    }
   ],
   "source": [
    "from sklearn.naive_bayes import MultinomialNB\n",
    "\n",
    "model = MultinomialNB()\n",
    "\n",
    "model.fit(cmt_train_vector, txc_train)\n",
    "txc_valid_pred = model.predict(cmt_valid_vector)\n",
    "\n",
    "from sklearn.metrics import accuracy_score\n",
    "accuracy_score(txc_valid, txc_valid_pred)"
   ]
  },
  {
   "cell_type": "code",
   "execution_count": 67,
   "metadata": {
    "colab": {
     "base_uri": "https://localhost:8080/"
    },
    "executionInfo": {
     "elapsed": 281,
     "status": "ok",
     "timestamp": 1622636052240,
     "user": {
      "displayName": "Nguyễn Thái Minh Đức",
      "photoUrl": "",
      "userId": "05286920215519665493"
     },
     "user_tz": -420
    },
    "id": "VyEnurqInMc6",
    "outputId": "758c8948-f7d0-4cb3-aa03-0c4a5d21fae6"
   },
   "outputs": [
    {
     "name": "stdout",
     "output_type": "stream",
     "text": [
      "              precision    recall  f1-score   support\n",
      "\n",
      "           0       0.88      1.00      0.94      1768\n",
      "           1       0.00      0.00      0.00       232\n",
      "\n",
      "    accuracy                           0.88      2000\n",
      "   macro avg       0.44      0.50      0.47      2000\n",
      "weighted avg       0.78      0.88      0.83      2000\n",
      "\n"
     ]
    }
   ],
   "source": [
    "from sklearn.metrics import accuracy_score, f1_score, precision_score, recall_score, classification_report\n",
    "\n",
    "print(classification_report(txc_valid, txc_valid_pred))"
   ]
  },
  {
   "cell_type": "markdown",
   "metadata": {
    "id": "RDU9cMjMbWpY"
   },
   "source": [
    "### Confusion Matrix"
   ]
  },
  {
   "cell_type": "code",
   "execution_count": 68,
   "metadata": {
    "colab": {
     "base_uri": "https://localhost:8080/"
    },
    "executionInfo": {
     "elapsed": 298,
     "status": "ok",
     "timestamp": 1622636096557,
     "user": {
      "displayName": "Nguyễn Thái Minh Đức",
      "photoUrl": "",
      "userId": "05286920215519665493"
     },
     "user_tz": -420
    },
    "id": "ld53HCvA-jpn",
    "outputId": "65fdc516-dedf-4084-cde6-59df991e2ed0"
   },
   "outputs": [
    {
     "data": {
      "text/plain": [
       "array([[1194,   77],\n",
       "       [ 441,  288]])"
      ]
     },
     "execution_count": 68,
     "metadata": {
      "tags": []
     },
     "output_type": "execute_result"
    }
   ],
   "source": [
    "from sklearn.metrics import confusion_matrix\n",
    "\n",
    "cm_cst_nb = confusion_matrix(cst_valid, cst_valid_pred)\n",
    "cm_cst_nb"
   ]
  },
  {
   "cell_type": "code",
   "execution_count": 69,
   "metadata": {
    "colab": {
     "base_uri": "https://localhost:8080/"
    },
    "executionInfo": {
     "elapsed": 388,
     "status": "ok",
     "timestamp": 1622636129299,
     "user": {
      "displayName": "Nguyễn Thái Minh Đức",
      "photoUrl": "",
      "userId": "05286920215519665493"
     },
     "user_tz": -420
    },
    "id": "zkkkq1Y5Ox3L",
    "outputId": "bf1fc852-7b6a-47e2-be5e-5d8b6df4e31a"
   },
   "outputs": [
    {
     "data": {
      "text/plain": [
       "array([[1767,    1],\n",
       "       [ 232,    0]])"
      ]
     },
     "execution_count": 69,
     "metadata": {
      "tags": []
     },
     "output_type": "execute_result"
    }
   ],
   "source": [
    "from sklearn.metrics import confusion_matrix\n",
    "\n",
    "cm_txc_nb = confusion_matrix(txc_valid, txc_valid_pred)\n",
    "cm_txc_nb"
   ]
  },
  {
   "cell_type": "code",
   "execution_count": 70,
   "metadata": {
    "colab": {
     "base_uri": "https://localhost:8080/",
     "height": 448
    },
    "executionInfo": {
     "elapsed": 647,
     "status": "ok",
     "timestamp": 1622636249135,
     "user": {
      "displayName": "Nguyễn Thái Minh Đức",
      "photoUrl": "",
      "userId": "05286920215519665493"
     },
     "user_tz": -420
    },
    "id": "OLssyl-HOx3L",
    "outputId": "4ac9d59e-cfac-4014-e5ae-6e08c1c192ce"
   },
   "outputs": [
    {
     "data": {
      "text/plain": [
       "<matplotlib.axes._subplots.AxesSubplot at 0x7f6c1819bdd0>"
      ]
     },
     "execution_count": 70,
     "metadata": {
      "tags": []
     },
     "output_type": "execute_result"
    },
    {
     "data": {
      "image/png": "[encoded data removed]",
      "text/plain": [
       "<Figure size 1224x864 with 4 Axes>"
      ]
     },
     "metadata": {
      "needs_background": "light",
      "tags": []
     },
     "output_type": "display_data"
    }
   ],
   "source": [
    "from sklearn.metrics import confusion_matrix\n",
    "import seaborn as sns\n",
    "import matplotlib.pyplot as plt\n",
    "\n",
    "plt.figure(figsize=(17,12))\n",
    "plt.suptitle('Confusion Matrix: Naive Bayes', fontsize=20)\n",
    "\n",
    "plt.subplot(2,2,1)\n",
    "plt.title('Construtiveness Classification', fontsize=16)\n",
    "cm_cst_nb = confusion_matrix(cst_valid, cst_valid_pred)\n",
    "df_cm_cst_nb = pd.DataFrame(cm_cst_nb, index=np.unique(le.inverse_transform(cst_train)), columns=np.unique(le.inverse_transform(cst_train)))\n",
    "sns.heatmap(df_cm_cst_nb, annot=True, square=True, annot_kws={\"size\": 16}, fmt='2g', cmap='Greens')\n",
    "\n",
    "plt.subplot(2,2,2)\n",
    "plt.title('Toxicity Classification', fontsize=16)\n",
    "cm_txc_nb = confusion_matrix(txc_valid, txc_valid_pred)\n",
    "df_cm_txc_nb = pd.DataFrame(cm_txc_nb, index=np.unique(le.inverse_transform(txc_train)), columns=np.unique(le.inverse_transform(txc_train)))\n",
    "sns.heatmap(df_cm_txc_nb, annot=True, square=True, annot_kws={\"size\": 16}, fmt='2g', cmap='Greens')"
   ]
  },
  {
   "cell_type": "markdown",
   "metadata": {
    "id": "lXu_Fajob0ng"
   },
   "source": [
    "## 2.Random Forest"
   ]
  },
  {
   "cell_type": "markdown",
   "metadata": {
    "id": "8vXPT6SWcQD2"
   },
   "source": [
    "## 3.LSTM"
   ]
  },
  {
   "cell_type": "markdown",
   "metadata": {
    "id": "QGrICfLCqRw_"
   },
   "source": [
    "## 4.CNN"
   ]
  },
  {
   "cell_type": "markdown",
   "metadata": {
    "id": "dAeXoEMscecR"
   },
   "source": [
    "## 5.PhoBERT"
   ]
  }
 ],
 "metadata": {
  "colab": {
   "collapsed_sections": [],
   "name": "UIT-ViCTSD.ipynb",
   "provenance": [
    {
     "file_id": "1EZRJNNPhVplJezWLYYTui4uKT5Xqtj9A",
     "timestamp": 1622454643808
    }
   ],
   "toc_visible": true
  },
  "kernelspec": {
   "display_name": "Python 3",
   "language": "python",
   "name": "python3"
  },
  "language_info": {
   "codemirror_mode": {
    "name": "ipython",
    "version": 3
   },
   "file_extension": ".py",
   "mimetype": "text/x-python",
   "name": "python",
   "nbconvert_exporter": "python",
   "pygments_lexer": "ipython3",
   "version": "3.7.6"
  }
 },
 "nbformat": 4,
 "nbformat_minor": 1
}
