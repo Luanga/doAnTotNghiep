{
 "cells": [
  {
   "cell_type": "code",
   "execution_count": 1,
   "metadata": {},
   "outputs": [
    {
     "name": "stdout",
     "output_type": "stream",
     "text": [
      "{'ten': 'long', 'tuoi': '18', 'diachi': 'saigon'}\n",
      "long\n",
      "{'ten': 'long', 'tuoi': '18'}\n",
      "long\n",
      "18\n"
     ]
    }
   ],
   "source": [
    "mydict = {\n",
    "    \"ten\":\"long\",\n",
    "    \"tuoi\":\"18\",\n",
    "    \"diachi\":\"saigon\"\n",
    "}\n",
    "print(mydict)\n",
    "if \"ten\" in mydict:\n",
    "    print(mydict[\"ten\"])\n",
    "else:\n",
    "    print(\"no\")\n",
    "mydict.popitem()\n",
    "mydict.copy  \n",
    "print(mydict)\n",
    "for key in mydict.values():\n",
    "    print(key)\n",
    "    "
   ]
  },
  {
   "cell_type": "code",
   "execution_count": 2,
   "metadata": {},
   "outputs": [
    {
     "name": "stdout",
     "output_type": "stream",
     "text": [
      "no key found\n"
     ]
    }
   ],
   "source": [
    "try:\n",
    "    print(mydict[\"long\"])\n",
    "except KeyError:\n",
    "    print(\"no key found\")"
   ]
  },
  {
   "cell_type": "markdown",
   "metadata": {},
   "source": [
    "### `unique`\n",
    "exp: \"abcd\" -> unique\n",
    "     \"abca\" -> not unique\n",
    "    use hash table \n",
    "    python: dictionary"
   ]
  },
  {
   "cell_type": "code",
   "execution_count": 3,
   "metadata": {},
   "outputs": [
    {
     "ename": "IndentationError",
     "evalue": "expected an indented block (<ipython-input-3-68f96574b08d>, line 8)",
     "output_type": "error",
     "traceback": [
      "\u001b[0;36m  File \u001b[0;32m\"<ipython-input-3-68f96574b08d>\"\u001b[0;36m, line \u001b[0;32m8\u001b[0m\n\u001b[0;31m    else: print(\"0 co\")\u001b[0m\n\u001b[0m       ^\u001b[0m\n\u001b[0;31mIndentationError\u001b[0m\u001b[0;31m:\u001b[0m expected an indented block\n"
     ]
    }
   ],
   "source": [
    "str = \"abcda\"\n",
    "dictunique = {}\n",
    "for i in str:\n",
    "    dictunique[i] = [i]\n",
    "for i in str:\n",
    "    if i in dictunique:\n",
    "        \n",
    "    else: print(\"0 co\")\n",
    "    dictunique[i] = \"1\"\n",
    "\n",
    "print(dictunique)"
   ]
  },
  {
   "cell_type": "code",
   "execution_count": 7,
   "metadata": {},
   "outputs": [
    {
     "name": "stdout",
     "output_type": "stream",
     "text": [
      "luan\n",
      "kien\n",
      "luan,kien\n"
     ]
    }
   ],
   "source": [
    "def name(name,chuoi):\n",
    "    print(f\"{name},{chuoi}\")\n",
    "name(input(),input())"
   ]
  },
  {
   "cell_type": "code",
   "execution_count": 28,
   "metadata": {},
   "outputs": [
    {
     "data": {
      "text/plain": [
       "'0664376162'"
      ]
     },
     "execution_count": 28,
     "metadata": {},
     "output_type": "execute_result"
    }
   ],
   "source": [
    "import random as rd\n",
    "phone = \"{0:010}\".format(rd.randint(100000000,999999999))\n",
    "phone"
   ]
  },
  {
   "cell_type": "code",
   "execution_count": 34,
   "metadata": {},
   "outputs": [
    {
     "name": "stdout",
     "output_type": "stream",
     "text": [
      "123\n",
      "4\n",
      "5\n",
      "6\n",
      "7\n",
      "8\n",
      "luan\n"
     ]
    }
   ],
   "source": [
    "def variii(*args):\n",
    "    for i in args:\n",
    "        print(i)\n",
    "variii(\"123\",4,5,6,7,8,\"luan\")\n",
    "        "
   ]
  },
  {
   "cell_type": "code",
   "execution_count": 40,
   "metadata": {},
   "outputs": [
    {
     "name": "stdout",
     "output_type": "stream",
     "text": [
      "[(1, 1), [0, 2]]\n"
     ]
    }
   ],
   "source": [
    "ham = [(1,1),[0,2]]\n",
    "print (sorted(ham,key=lambda point: point[1]))"
   ]
  },
  {
   "cell_type": "code",
   "execution_count": 60,
   "metadata": {},
   "outputs": [
    {
     "ename": "SyntaxError",
     "evalue": "invalid syntax (<ipython-input-60-50cb0da3043c>, line 7)",
     "output_type": "error",
     "traceback": [
      "\u001b[0;36m  File \u001b[0;32m\"<ipython-input-60-50cb0da3043c>\"\u001b[0;36m, line \u001b[0;32m7\u001b[0m\n\u001b[0;31m    tonglist = [ tong = tong + i for i in list_number ]\u001b[0m\n\u001b[0m                      ^\u001b[0m\n\u001b[0;31mSyntaxError\u001b[0m\u001b[0;31m:\u001b[0m invalid syntax\n"
     ]
    }
   ],
   "source": [
    "list_number = [1,2,3,4,5,6,7,8]\n",
    "list_sort = [i for i in list_number if i % 2 == 0]\n",
    "print(list_sort)\n",
    "newlist = [i for i in list_number if i > 1]\n",
    "print(newlist)\n",
    "tong = 0\n",
    "tonglist = [ tong = tong + i for i in list_number ]\n",
    "print(tonglist)"
   ]
  },
  {
   "cell_type": "code",
   "execution_count": null,
   "metadata": {},
   "outputs": [],
   "source": []
  },
  {
   "cell_type": "code",
   "execution_count": null,
   "metadata": {},
   "outputs": [],
   "source": []
  },
  {
   "cell_type": "code",
   "execution_count": null,
   "metadata": {},
   "outputs": [],
   "source": []
  },
  {
   "cell_type": "code",
   "execution_count": null,
   "metadata": {},
   "outputs": [],
   "source": []
  },
  {
   "cell_type": "code",
   "execution_count": null,
   "metadata": {},
   "outputs": [],
   "source": []
  }
 ],
 "metadata": {
  "kernelspec": {
   "display_name": "Python 3",
   "language": "python",
   "name": "python3"
  },
  "language_info": {
   "codemirror_mode": {
    "name": "ipython",
    "version": 3
   },
   "file_extension": ".py",
   "mimetype": "text/x-python",
   "name": "python",
   "nbconvert_exporter": "python",
   "pygments_lexer": "ipython3",
   "version": "3.7.6"
  }
 },
 "nbformat": 4,
 "nbformat_minor": 4
}
