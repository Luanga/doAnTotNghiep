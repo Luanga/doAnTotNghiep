{
 "cells": [
  {
   "cell_type": "code",
   "execution_count": 1,
   "metadata": {
    "colab": {
     "base_uri": "https://localhost:8080/"
    },
    "executionInfo": {
     "elapsed": 44115,
     "status": "ok",
     "timestamp": 1622639797963,
     "user": {
      "displayName": "Thao Nguyen Thi Thu",
      "photoUrl": "",
      "userId": "18428235540546363177"
     },
     "user_tz": -420
    },
    "id": "6fD6G6t9wci4",
    "outputId": "0394128f-a97f-4686-853d-150abf8e3cc4"
   },
   "outputs": [
    {
     "name": "stdout",
     "output_type": "stream",
     "text": [
      "Mounted at /content/drive\n"
     ]
    }
   ],
   "source": [
    "from google.colab import drive\n",
    "drive.mount('/content/drive')"
   ]
  },
  {
   "cell_type": "markdown",
   "metadata": {
    "id": "fWIesYvZ5VnL"
   },
   "source": [
    "# Load dataset"
   ]
  },
  {
   "cell_type": "markdown",
   "metadata": {
    "id": "qhBcNOIA4vAI"
   },
   "source": [
    "## 1.Train set\n",
    "\n",
    "\n",
    "\n"
   ]
  },
  {
   "cell_type": "code",
   "execution_count": 2,
   "metadata": {
    "colab": {
     "base_uri": "https://localhost:8080/",
     "height": 423
    },
    "executionInfo": {
     "elapsed": 2355,
     "status": "ok",
     "timestamp": 1622639807168,
     "user": {
      "displayName": "Thao Nguyen Thi Thu",
      "photoUrl": "",
      "userId": "18428235540546363177"
     },
     "user_tz": -420
    },
    "id": "LPTY83PJtaRe",
    "outputId": "a97406a6-fd97-4a06-9372-b534496f4eac"
   },
   "outputs": [
    {
     "data": {
      "text/html": [
       "<div>\n",
       "<style scoped>\n",
       "    .dataframe tbody tr th:only-of-type {\n",
       "        vertical-align: middle;\n",
       "    }\n",
       "\n",
       "    .dataframe tbody tr th {\n",
       "        vertical-align: top;\n",
       "    }\n",
       "\n",
       "    .dataframe thead th {\n",
       "        text-align: right;\n",
       "    }\n",
       "</style>\n",
       "<table border=\"1\" class=\"dataframe\">\n",
       "  <thead>\n",
       "    <tr style=\"text-align: right;\">\n",
       "      <th></th>\n",
       "      <th>Unnamed: 0</th>\n",
       "      <th>Emotion</th>\n",
       "      <th>Sentence</th>\n",
       "    </tr>\n",
       "  </thead>\n",
       "  <tbody>\n",
       "    <tr>\n",
       "      <th>0</th>\n",
       "      <td>188</td>\n",
       "      <td>Other</td>\n",
       "      <td>cho mình xin bài nhạc tên là gì với ạ</td>\n",
       "    </tr>\n",
       "    <tr>\n",
       "      <th>1</th>\n",
       "      <td>166</td>\n",
       "      <td>Disgust</td>\n",
       "      <td>cho đáng đời con quỷ . về nhà lôi con nhà mày ...</td>\n",
       "    </tr>\n",
       "    <tr>\n",
       "      <th>2</th>\n",
       "      <td>1345</td>\n",
       "      <td>Disgust</td>\n",
       "      <td>lo học đi . yêu đương lol gì hay lại thích học...</td>\n",
       "    </tr>\n",
       "    <tr>\n",
       "      <th>3</th>\n",
       "      <td>316</td>\n",
       "      <td>Enjoyment</td>\n",
       "      <td>uớc gì sau này về già vẫn có thể như cụ này :))</td>\n",
       "    </tr>\n",
       "    <tr>\n",
       "      <th>4</th>\n",
       "      <td>1225</td>\n",
       "      <td>Enjoyment</td>\n",
       "      <td>mỗi lần có video của con là cứ coi đi coi lại ...</td>\n",
       "    </tr>\n",
       "    <tr>\n",
       "      <th>...</th>\n",
       "      <td>...</td>\n",
       "      <td>...</td>\n",
       "      <td>...</td>\n",
       "    </tr>\n",
       "    <tr>\n",
       "      <th>5543</th>\n",
       "      <td>1332</td>\n",
       "      <td>Disgust</td>\n",
       "      <td>đường của nhà cụ hay sao mà cụ cấm người ta đỗ...</td>\n",
       "    </tr>\n",
       "    <tr>\n",
       "      <th>5544</th>\n",
       "      <td>825</td>\n",
       "      <td>Other</td>\n",
       "      <td>nhìn mặt héo queo luôn</td>\n",
       "    </tr>\n",
       "    <tr>\n",
       "      <th>5545</th>\n",
       "      <td>165</td>\n",
       "      <td>Other</td>\n",
       "      <td>tao đi xe máy mỗi lần muốn để xe đi đâu là phi...</td>\n",
       "    </tr>\n",
       "    <tr>\n",
       "      <th>5546</th>\n",
       "      <td>363</td>\n",
       "      <td>Enjoyment</td>\n",
       "      <td>thích thân hình boss rồi nhan 😌</td>\n",
       "    </tr>\n",
       "    <tr>\n",
       "      <th>5547</th>\n",
       "      <td>1242</td>\n",
       "      <td>Sadness</td>\n",
       "      <td>ước mơ nhỏ nhoi của tao là được làm chị mà khô...</td>\n",
       "    </tr>\n",
       "  </tbody>\n",
       "</table>\n",
       "<p>5548 rows × 3 columns</p>\n",
       "</div>"
      ],
      "text/plain": [
       "      Unnamed: 0    Emotion                                           Sentence\n",
       "0            188      Other              cho mình xin bài nhạc tên là gì với ạ\n",
       "1            166    Disgust  cho đáng đời con quỷ . về nhà lôi con nhà mày ...\n",
       "2           1345    Disgust  lo học đi . yêu đương lol gì hay lại thích học...\n",
       "3            316  Enjoyment    uớc gì sau này về già vẫn có thể như cụ này :))\n",
       "4           1225  Enjoyment  mỗi lần có video của con là cứ coi đi coi lại ...\n",
       "...          ...        ...                                                ...\n",
       "5543        1332    Disgust  đường của nhà cụ hay sao mà cụ cấm người ta đỗ...\n",
       "5544         825      Other                             nhìn mặt héo queo luôn\n",
       "5545         165      Other  tao đi xe máy mỗi lần muốn để xe đi đâu là phi...\n",
       "5546         363  Enjoyment                    thích thân hình boss rồi nhan 😌\n",
       "5547        1242    Sadness  ước mơ nhỏ nhoi của tao là được làm chị mà khô...\n",
       "\n",
       "[5548 rows x 3 columns]"
      ]
     },
     "execution_count": 2,
     "metadata": {
      "tags": []
     },
     "output_type": "execute_result"
    }
   ],
   "source": [
    "import pandas as pd\n",
    "import numpy as np\n",
    "\n",
    "#Train set\n",
    "df_train = pd.read_excel('/content/drive/MyDrive/IE403/UIT-VSMEC/train_nor_811.xlsx')\n",
    "df_train"
   ]
  },
  {
   "cell_type": "markdown",
   "metadata": {
    "id": "oOU15q_75M7b"
   },
   "source": [
    "## 2.Test set"
   ]
  },
  {
   "cell_type": "code",
   "execution_count": 3,
   "metadata": {
    "colab": {
     "base_uri": "https://localhost:8080/",
     "height": 423
    },
    "executionInfo": {
     "elapsed": 1075,
     "status": "ok",
     "timestamp": 1622639814930,
     "user": {
      "displayName": "Thao Nguyen Thi Thu",
      "photoUrl": "",
      "userId": "18428235540546363177"
     },
     "user_tz": -420
    },
    "id": "dXUAkvxt4o8S",
    "outputId": "6beb38eb-6622-4478-a338-c0fefb80fbc5"
   },
   "outputs": [
    {
     "data": {
      "text/html": [
       "<div>\n",
       "<style scoped>\n",
       "    .dataframe tbody tr th:only-of-type {\n",
       "        vertical-align: middle;\n",
       "    }\n",
       "\n",
       "    .dataframe tbody tr th {\n",
       "        vertical-align: top;\n",
       "    }\n",
       "\n",
       "    .dataframe thead th {\n",
       "        text-align: right;\n",
       "    }\n",
       "</style>\n",
       "<table border=\"1\" class=\"dataframe\">\n",
       "  <thead>\n",
       "    <tr style=\"text-align: right;\">\n",
       "      <th></th>\n",
       "      <th>Unnamed: 0</th>\n",
       "      <th>Emotion</th>\n",
       "      <th>Sentence</th>\n",
       "    </tr>\n",
       "  </thead>\n",
       "  <tbody>\n",
       "    <tr>\n",
       "      <th>0</th>\n",
       "      <td>713</td>\n",
       "      <td>Sadness</td>\n",
       "      <td>người ta có bạn bè nhìn vui thật</td>\n",
       "    </tr>\n",
       "    <tr>\n",
       "      <th>1</th>\n",
       "      <td>1827</td>\n",
       "      <td>Surprise</td>\n",
       "      <td>cho nghỉ viêc mói đúng sao goi là kỷ luật</td>\n",
       "    </tr>\n",
       "    <tr>\n",
       "      <th>2</th>\n",
       "      <td>1166</td>\n",
       "      <td>Disgust</td>\n",
       "      <td>kinh vãi 😡</td>\n",
       "    </tr>\n",
       "    <tr>\n",
       "      <th>3</th>\n",
       "      <td>228</td>\n",
       "      <td>Fear</td>\n",
       "      <td>nhà thì không xa lắm nhưng chưa bao giờ đi vì ...</td>\n",
       "    </tr>\n",
       "    <tr>\n",
       "      <th>4</th>\n",
       "      <td>1942</td>\n",
       "      <td>Anger</td>\n",
       "      <td>bố không thích nộp đấy mày thích ý kiến không</td>\n",
       "    </tr>\n",
       "    <tr>\n",
       "      <th>...</th>\n",
       "      <td>...</td>\n",
       "      <td>...</td>\n",
       "      <td>...</td>\n",
       "    </tr>\n",
       "    <tr>\n",
       "      <th>688</th>\n",
       "      <td>432</td>\n",
       "      <td>Sadness</td>\n",
       "      <td>lúc thì cuốc đất è cổ ra không có giun mà câu ...</td>\n",
       "    </tr>\n",
       "    <tr>\n",
       "      <th>689</th>\n",
       "      <td>178</td>\n",
       "      <td>Enjoyment</td>\n",
       "      <td>các bác dẫn crush qua cây sữa nay mà hứng nước...</td>\n",
       "    </tr>\n",
       "    <tr>\n",
       "      <th>690</th>\n",
       "      <td>1863</td>\n",
       "      <td>Surprise</td>\n",
       "      <td>vợ chồng rồi mà trong sáng như này chỉ có tron...</td>\n",
       "    </tr>\n",
       "    <tr>\n",
       "      <th>691</th>\n",
       "      <td>476</td>\n",
       "      <td>Other</td>\n",
       "      <td>bep này vào binh dương dùng xuất</td>\n",
       "    </tr>\n",
       "    <tr>\n",
       "      <th>692</th>\n",
       "      <td>1607</td>\n",
       "      <td>Surprise</td>\n",
       "      <td>đôi mắt đằm thắm vãi</td>\n",
       "    </tr>\n",
       "  </tbody>\n",
       "</table>\n",
       "<p>693 rows × 3 columns</p>\n",
       "</div>"
      ],
      "text/plain": [
       "     Unnamed: 0    Emotion                                           Sentence\n",
       "0           713    Sadness                   người ta có bạn bè nhìn vui thật\n",
       "1          1827   Surprise          cho nghỉ viêc mói đúng sao goi là kỷ luật\n",
       "2          1166    Disgust                                         kinh vãi 😡\n",
       "3           228       Fear  nhà thì không xa lắm nhưng chưa bao giờ đi vì ...\n",
       "4          1942      Anger      bố không thích nộp đấy mày thích ý kiến không\n",
       "..          ...        ...                                                ...\n",
       "688         432    Sadness  lúc thì cuốc đất è cổ ra không có giun mà câu ...\n",
       "689         178  Enjoyment  các bác dẫn crush qua cây sữa nay mà hứng nước...\n",
       "690        1863   Surprise  vợ chồng rồi mà trong sáng như này chỉ có tron...\n",
       "691         476      Other                   bep này vào binh dương dùng xuất\n",
       "692        1607   Surprise                               đôi mắt đằm thắm vãi\n",
       "\n",
       "[693 rows x 3 columns]"
      ]
     },
     "execution_count": 3,
     "metadata": {
      "tags": []
     },
     "output_type": "execute_result"
    }
   ],
   "source": [
    "#Test set\n",
    "df_test = pd.read_excel('/content/drive/MyDrive/IE403/UIT-VSMEC/test_nor_811.xlsx')\n",
    "df_test"
   ]
  },
  {
   "cell_type": "markdown",
   "metadata": {
    "id": "2p2ulD0d71W9"
   },
   "source": [
    "# Methodology"
   ]
  },
  {
   "cell_type": "markdown",
   "metadata": {
    "id": "SOrJcomU9mpd"
   },
   "source": [
    "## 1.Naive Bayes (MultinomialNB)"
   ]
  },
  {
   "cell_type": "code",
   "execution_count": 4,
   "metadata": {
    "colab": {
     "base_uri": "https://localhost:8080/"
    },
    "executionInfo": {
     "elapsed": 666,
     "status": "ok",
     "timestamp": 1622639827264,
     "user": {
      "displayName": "Thao Nguyen Thi Thu",
      "photoUrl": "",
      "userId": "18428235540546363177"
     },
     "user_tz": -420
    },
    "id": "st49iaup6DNV",
    "outputId": "bd533a6a-9f07-4ceb-cdb1-c11bf431dca9"
   },
   "outputs": [
    {
     "data": {
      "text/plain": [
       "(0                   cho mình xin bài nhạc tên là gì với ạ\n",
       " 1       cho đáng đời con quỷ . về nhà lôi con nhà mày ...\n",
       " 2       lo học đi . yêu đương lol gì hay lại thích học...\n",
       " 3         uớc gì sau này về già vẫn có thể như cụ này :))\n",
       " 4       mỗi lần có video của con là cứ coi đi coi lại ...\n",
       "                               ...                        \n",
       " 5543    đường của nhà cụ hay sao mà cụ cấm người ta đỗ...\n",
       " 5544                               nhìn mặt héo queo luôn\n",
       " 5545    tao đi xe máy mỗi lần muốn để xe đi đâu là phi...\n",
       " 5546                      thích thân hình boss rồi nhan 😌\n",
       " 5547    ước mơ nhỏ nhoi của tao là được làm chị mà khô...\n",
       " Name: Sentence, Length: 5548, dtype: object,\n",
       " 0                       người ta có bạn bè nhìn vui thật\n",
       " 1              cho nghỉ viêc mói đúng sao goi là kỷ luật\n",
       " 2                                             kinh vãi 😡\n",
       " 3      nhà thì không xa lắm nhưng chưa bao giờ đi vì ...\n",
       " 4          bố không thích nộp đấy mày thích ý kiến không\n",
       "                              ...                        \n",
       " 688    lúc thì cuốc đất è cổ ra không có giun mà câu ...\n",
       " 689    các bác dẫn crush qua cây sữa nay mà hứng nước...\n",
       " 690    vợ chồng rồi mà trong sáng như này chỉ có tron...\n",
       " 691                     bep này vào binh dương dùng xuất\n",
       " 692                                 đôi mắt đằm thắm vãi\n",
       " Name: Sentence, Length: 693, dtype: object)"
      ]
     },
     "execution_count": 4,
     "metadata": {
      "tags": []
     },
     "output_type": "execute_result"
    }
   ],
   "source": [
    "X_train = df_train[\"Sentence\"]\n",
    "X_test = df_test[\"Sentence\"]\n",
    "X_train, X_test"
   ]
  },
  {
   "cell_type": "code",
   "execution_count": 5,
   "metadata": {
    "colab": {
     "base_uri": "https://localhost:8080/"
    },
    "executionInfo": {
     "elapsed": 1247,
     "status": "ok",
     "timestamp": 1622639832245,
     "user": {
      "displayName": "Thao Nguyen Thi Thu",
      "photoUrl": "",
      "userId": "18428235540546363177"
     },
     "user_tz": -420
    },
    "id": "aVndeqVm1nH_",
    "outputId": "e4b14815-6b07-4ae9-f614-76a30edc9334"
   },
   "outputs": [
    {
     "data": {
      "text/plain": [
       "(array([[0., 0., 0., ..., 0., 0., 0.],\n",
       "        [0., 0., 0., ..., 0., 0., 0.],\n",
       "        [0., 0., 0., ..., 0., 0., 0.],\n",
       "        ...,\n",
       "        [0., 0., 0., ..., 0., 0., 0.],\n",
       "        [0., 0., 0., ..., 0., 0., 0.],\n",
       "        [0., 0., 0., ..., 0., 0., 0.]]), array([[0., 0., 0., ..., 0., 0., 0.],\n",
       "        [0., 0., 0., ..., 0., 0., 0.],\n",
       "        [0., 0., 0., ..., 0., 0., 0.],\n",
       "        ...,\n",
       "        [0., 0., 0., ..., 0., 0., 0.],\n",
       "        [0., 0., 0., ..., 0., 0., 0.],\n",
       "        [0., 0., 0., ..., 0., 0., 0.]]))"
      ]
     },
     "execution_count": 5,
     "metadata": {
      "tags": []
     },
     "output_type": "execute_result"
    }
   ],
   "source": [
    "from sklearn.feature_extraction.text import TfidfVectorizer\n",
    "vectorizer = TfidfVectorizer()\n",
    "\n",
    "X_train_vector = vectorizer.fit_transform(X_train).toarray()\n",
    "X_test_vector = vectorizer.transform(X_test).toarray()\n",
    "X_train_vector, X_test_vector"
   ]
  },
  {
   "cell_type": "code",
   "execution_count": 6,
   "metadata": {
    "colab": {
     "base_uri": "https://localhost:8080/"
    },
    "executionInfo": {
     "elapsed": 298,
     "status": "ok",
     "timestamp": 1622639836630,
     "user": {
      "displayName": "Thao Nguyen Thi Thu",
      "photoUrl": "",
      "userId": "18428235540546363177"
     },
     "user_tz": -420
    },
    "id": "VH2IrLzf3WO3",
    "outputId": "661df122-5087-4566-d9db-928d45bb4080"
   },
   "outputs": [
    {
     "data": {
      "text/plain": [
       "(array([4, 1, 1, ..., 4, 2, 5]),\n",
       " array([5, 6, 1, 3, 0, 4, 4, 2, 4, 4, 4, 2, 1, 2, 5, 4, 1, 2, 4, 2, 3, 4,\n",
       "        2, 2, 6, 1, 5, 4, 2, 4, 6, 4, 5, 4, 6, 2, 4, 1, 1, 2, 0, 1, 1, 4,\n",
       "        2, 2, 5, 2, 5, 0, 6, 0, 3, 2, 4, 1, 3, 4, 1, 2, 5, 2, 0, 5, 2, 4,\n",
       "        1, 5, 2, 3, 1, 0, 4, 3, 5, 2, 2, 5, 4, 5, 3, 3, 2, 5, 3, 4, 2, 1,\n",
       "        4, 0, 2, 0, 2, 1, 2, 4, 2, 1, 2, 2, 5, 1, 1, 1, 2, 2, 3, 4, 4, 2,\n",
       "        5, 2, 2, 1, 2, 2, 2, 0, 2, 0, 5, 2, 4, 2, 2, 0, 4, 5, 5, 1, 5, 5,\n",
       "        3, 4, 2, 4, 2, 1, 2, 4, 2, 2, 4, 1, 2, 1, 2, 4, 2, 2, 0, 3, 6, 1,\n",
       "        5, 5, 2, 2, 5, 5, 2, 2, 2, 5, 2, 2, 3, 2, 2, 6, 2, 6, 2, 2, 2, 1,\n",
       "        2, 5, 1, 4, 1, 1, 5, 4, 2, 5, 3, 4, 1, 4, 0, 2, 2, 4, 2, 0, 1, 5,\n",
       "        2, 2, 1, 2, 4, 5, 5, 3, 4, 5, 4, 2, 5, 1, 6, 6, 1, 2, 1, 6, 1, 1,\n",
       "        1, 2, 4, 4, 2, 1, 1, 3, 6, 5, 2, 2, 1, 1, 3, 3, 2, 4, 5, 3, 2, 2,\n",
       "        5, 4, 1, 5, 2, 4, 0, 2, 4, 5, 4, 0, 5, 2, 5, 4, 3, 1, 5, 1, 3, 4,\n",
       "        2, 4, 4, 2, 2, 4, 1, 4, 3, 4, 4, 2, 2, 4, 2, 4, 2, 1, 2, 1, 6, 2,\n",
       "        5, 4, 1, 1, 2, 2, 1, 5, 1, 2, 5, 6, 5, 6, 6, 4, 1, 4, 0, 1, 5, 3,\n",
       "        5, 0, 1, 5, 5, 4, 1, 2, 4, 1, 0, 2, 2, 1, 2, 5, 3, 3, 4, 4, 5, 4,\n",
       "        1, 2, 2, 4, 0, 1, 6, 5, 1, 6, 2, 5, 6, 2, 4, 1, 4, 6, 0, 1, 1, 0,\n",
       "        4, 2, 5, 1, 0, 5, 3, 1, 5, 4, 6, 4, 1, 1, 4, 2, 5, 3, 5, 4, 3, 2,\n",
       "        4, 1, 5, 3, 2, 3, 5, 0, 1, 2, 5, 5, 2, 5, 2, 5, 0, 6, 5, 1, 4, 2,\n",
       "        1, 3, 3, 2, 4, 2, 4, 1, 1, 4, 5, 2, 4, 1, 6, 1, 4, 6, 6, 3, 6, 2,\n",
       "        1, 5, 1, 3, 2, 0, 0, 1, 5, 4, 2, 4, 5, 1, 4, 5, 5, 3, 6, 2, 1, 4,\n",
       "        4, 2, 1, 2, 4, 0, 1, 1, 2, 4, 4, 5, 2, 1, 3, 2, 6, 1, 2, 4, 2, 2,\n",
       "        2, 1, 2, 5, 3, 4, 4, 2, 4, 2, 1, 0, 1, 2, 2, 0, 5, 2, 2, 1, 1, 1,\n",
       "        2, 4, 4, 5, 2, 1, 0, 2, 5, 2, 2, 1, 5, 4, 2, 5, 4, 4, 4, 4, 1, 3,\n",
       "        5, 1, 2, 2, 1, 2, 5, 2, 2, 4, 2, 1, 6, 1, 0, 5, 2, 1, 2, 1, 4, 4,\n",
       "        5, 4, 5, 2, 2, 5, 2, 4, 1, 4, 6, 0, 3, 5, 4, 4, 1, 1, 4, 1, 1, 2,\n",
       "        5, 6, 2, 1, 2, 4, 5, 4, 2, 4, 1, 1, 2, 6, 5, 1, 1, 5, 5, 1, 3, 4,\n",
       "        2, 4, 1, 2, 2, 0, 2, 2, 2, 2, 5, 5, 1, 2, 1, 1, 2, 3, 1, 1, 4, 5,\n",
       "        0, 1, 2, 5, 1, 5, 4, 0, 5, 2, 2, 5, 5, 5, 4, 2, 5, 4, 2, 2, 5, 2,\n",
       "        2, 5, 2, 5, 1, 4, 4, 0, 1, 2, 4, 1, 3, 0, 2, 4, 5, 6, 5, 1, 4, 2,\n",
       "        4, 3, 2, 5, 4, 1, 2, 5, 5, 2, 2, 1, 1, 2, 2, 0, 2, 5, 5, 3, 6, 1,\n",
       "        5, 1, 1, 2, 4, 5, 1, 3, 2, 3, 6, 2, 2, 0, 2, 5, 2, 1, 4, 5, 1, 4,\n",
       "        2, 5, 2, 4, 2, 4, 5, 2, 6, 4, 6]))"
      ]
     },
     "execution_count": 6,
     "metadata": {
      "tags": []
     },
     "output_type": "execute_result"
    }
   ],
   "source": [
    "from sklearn import preprocessing\n",
    "from sklearn.preprocessing import LabelEncoder\n",
    "le = LabelEncoder()\n",
    "y_train = le.fit_transform(df_train[\"Emotion\"])\n",
    "y_test = le.fit_transform(df_test[\"Emotion\"])\n",
    "y_train, y_test"
   ]
  },
  {
   "cell_type": "code",
   "execution_count": 7,
   "metadata": {
    "colab": {
     "base_uri": "https://localhost:8080/"
    },
    "executionInfo": {
     "elapsed": 316,
     "status": "ok",
     "timestamp": 1622639840724,
     "user": {
      "displayName": "Thao Nguyen Thi Thu",
      "photoUrl": "",
      "userId": "18428235540546363177"
     },
     "user_tz": -420
    },
    "id": "LFcjcV9RvbcV",
    "outputId": "c0681431-5a4b-46b3-8e5a-0848cc860b31"
   },
   "outputs": [
    {
     "data": {
      "text/plain": [
       "0.4531024531024531"
      ]
     },
     "execution_count": 7,
     "metadata": {
      "tags": []
     },
     "output_type": "execute_result"
    }
   ],
   "source": [
    "from sklearn.naive_bayes import MultinomialNB\n",
    "\n",
    "model = MultinomialNB()\n",
    "\n",
    "model.fit(X_train_vector, y_train)\n",
    "y_pred = model.predict(X_test_vector)\n",
    "\n",
    "from sklearn.metrics import accuracy_score\n",
    "accuracy_score(y_test, y_pred)"
   ]
  },
  {
   "cell_type": "code",
   "execution_count": 8,
   "metadata": {
    "colab": {
     "base_uri": "https://localhost:8080/"
    },
    "executionInfo": {
     "elapsed": 363,
     "status": "ok",
     "timestamp": 1622639849975,
     "user": {
      "displayName": "Thao Nguyen Thi Thu",
      "photoUrl": "",
      "userId": "18428235540546363177"
     },
     "user_tz": -420
    },
    "id": "ojiOMcsN91bY",
    "outputId": "a6798845-f6f1-4a33-81af-5371a4f6758c"
   },
   "outputs": [
    {
     "name": "stdout",
     "output_type": "stream",
     "text": [
      "              precision    recall  f1-score   support\n",
      "\n",
      "           0       0.00      0.00      0.00        40\n",
      "           1       0.47      0.56      0.51       132\n",
      "           2       0.41      0.86      0.56       193\n",
      "           3       0.00      0.00      0.00        46\n",
      "           4       0.49      0.29      0.36       129\n",
      "           5       0.65      0.32      0.43       116\n",
      "           6       0.00      0.00      0.00        37\n",
      "\n",
      "    accuracy                           0.45       693\n",
      "   macro avg       0.29      0.29      0.27       693\n",
      "weighted avg       0.40      0.45      0.39       693\n",
      "\n"
     ]
    },
    {
     "name": "stderr",
     "output_type": "stream",
     "text": [
      "/usr/local/lib/python3.7/dist-packages/sklearn/metrics/_classification.py:1272: UndefinedMetricWarning: Precision and F-score are ill-defined and being set to 0.0 in labels with no predicted samples. Use `zero_division` parameter to control this behavior.\n",
      "  _warn_prf(average, modifier, msg_start, len(result))\n"
     ]
    }
   ],
   "source": [
    "from sklearn.metrics import accuracy_score, f1_score, precision_score, recall_score, classification_report\n",
    "\n",
    "print(classification_report(y_test, y_pred))"
   ]
  },
  {
   "cell_type": "markdown",
   "metadata": {
    "id": "RDU9cMjMbWpY"
   },
   "source": [
    "### Confusion Matrix"
   ]
  },
  {
   "cell_type": "code",
   "execution_count": 11,
   "metadata": {
    "colab": {
     "base_uri": "https://localhost:8080/"
    },
    "executionInfo": {
     "elapsed": 476,
     "status": "ok",
     "timestamp": 1622639950818,
     "user": {
      "displayName": "Thao Nguyen Thi Thu",
      "photoUrl": "",
      "userId": "18428235540546363177"
     },
     "user_tz": -420
    },
    "id": "ld53HCvA-jpn",
    "outputId": "18c087d4-c070-4895-9848-39c88ec0d35e"
   },
   "outputs": [
    {
     "data": {
      "text/plain": [
       "array([[  0,  25,   6,   0,   6,   3,   0],\n",
       "       [  0,  74,  44,   0,  10,   4,   0],\n",
       "       [  0,  13, 166,   1,  10,   3,   0],\n",
       "       [  0,   9,  29,   0,   4,   4,   0],\n",
       "       [  0,  19,  67,   0,  37,   6,   0],\n",
       "       [  0,   9,  64,   0,   6,  37,   0],\n",
       "       [  0,   7,  27,   0,   3,   0,   0]])"
      ]
     },
     "execution_count": 11,
     "metadata": {
      "tags": []
     },
     "output_type": "execute_result"
    }
   ],
   "source": [
    "from sklearn.metrics import confusion_matrix\n",
    "\n",
    "cm_nb = confusion_matrix(y_test, y_pred)\n",
    "cm_nb"
   ]
  },
  {
   "cell_type": "code",
   "execution_count": 10,
   "metadata": {
    "colab": {
     "base_uri": "https://localhost:8080/",
     "height": 413
    },
    "executionInfo": {
     "elapsed": 1029,
     "status": "ok",
     "timestamp": 1622639868079,
     "user": {
      "displayName": "Thao Nguyen Thi Thu",
      "photoUrl": "",
      "userId": "18428235540546363177"
     },
     "user_tz": -420
    },
    "id": "OLssyl-HOx3L",
    "outputId": "d09a7d30-74c7-4011-d979-1322a6284d6c"
   },
   "outputs": [
    {
     "data": {
      "text/plain": [
       "<matplotlib.axes._subplots.AxesSubplot at 0x7f24fb5f62d0>"
      ]
     },
     "execution_count": 10,
     "metadata": {
      "tags": []
     },
     "output_type": "execute_result"
    },
    {
     "data": {
      "image/png": "[encoded data removed]",
      "text/plain": [
       "<Figure size 1224x432 with 2 Axes>"
      ]
     },
     "metadata": {
      "needs_background": "light",
      "tags": []
     },
     "output_type": "display_data"
    }
   ],
   "source": [
    "from sklearn.metrics import confusion_matrix\n",
    "import seaborn as sns\n",
    "import matplotlib.pyplot as plt\n",
    "\n",
    "plt.figure(figsize=(17,6))\n",
    "plt.title('Confusion Matrix: Naive Bayes', fontsize=20)\n",
    "cm_tp_nb = confusion_matrix(y_test, y_pred)\n",
    "df_cm_tp_nb = pd.DataFrame(cm_tp_nb, index=np.unique(le.inverse_transform(y_train)), columns=np.unique(le.inverse_transform(y_train)))\n",
    "sns.heatmap(df_cm_tp_nb, annot=True, square=True, annot_kws={\"size\": 16}, fmt='2g', cmap='Greens')\n"
   ]
  },
  {
   "cell_type": "markdown",
   "metadata": {
    "id": "lXu_Fajob0ng"
   },
   "source": [
    "## 2.Random Forest"
   ]
  },
  {
   "cell_type": "markdown",
   "metadata": {
    "id": "8vXPT6SWcQD2"
   },
   "source": [
    "## 3.LSTM"
   ]
  },
  {
   "cell_type": "markdown",
   "metadata": {
    "id": "rsHgFR2L0t2o"
   },
   "source": [
    "## 4.CNN"
   ]
  },
  {
   "cell_type": "markdown",
   "metadata": {
    "id": "dAeXoEMscecR"
   },
   "source": [
    "## 5.PhoBERT"
   ]
  }
 ],
 "metadata": {
  "colab": {
   "collapsed_sections": [],
   "name": "UIT-VSMEC.ipynb",
   "provenance": [
    {
     "file_id": "1EZRJNNPhVplJezWLYYTui4uKT5Xqtj9A",
     "timestamp": 1622432969310
    }
   ],
   "toc_visible": true
  },
  "kernelspec": {
   "display_name": "Python 3",
   "language": "python",
   "name": "python3"
  },
  "language_info": {
   "codemirror_mode": {
    "name": "ipython",
    "version": 3
   },
   "file_extension": ".py",
   "mimetype": "text/x-python",
   "name": "python",
   "nbconvert_exporter": "python",
   "pygments_lexer": "ipython3",
   "version": "3.7.6"
  }
 },
 "nbformat": 4,
 "nbformat_minor": 1
}
