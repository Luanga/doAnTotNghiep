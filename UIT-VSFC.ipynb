{
 "cells": [
  {
   "cell_type": "code",
   "execution_count": null,
   "metadata": {
    "id": "6fD6G6t9wci4"
   },
   "outputs": [],
   "source": [
    "from google.colab import drive\n",
    "drive.mount('/content/drive')"
   ]
  },
  {
   "cell_type": "markdown",
   "metadata": {
    "id": "fWIesYvZ5VnL"
   },
   "source": [
    "# Load dataset"
   ]
  },
  {
   "cell_type": "markdown",
   "metadata": {
    "id": "qhBcNOIA4vAI"
   },
   "source": [
    "## 1.Train set\n",
    "\n",
    "\n",
    "\n"
   ]
  },
  {
   "cell_type": "code",
   "execution_count": 15,
   "metadata": {
    "executionInfo": {
     "elapsed": 420,
     "status": "ok",
     "timestamp": 1622647538066,
     "user": {
      "displayName": "Long Bui Bao",
      "photoUrl": "",
      "userId": "09988955862776780290"
     },
     "user_tz": -420
    },
    "id": "LPTY83PJtaRe"
   },
   "outputs": [],
   "source": [
    "import pandas as pd\n",
    "import numpy as np\n",
    "\n",
    "#Train set\n",
    "train_sentiment = pd.read_csv('/content/drive/MyDrive/IE403/UIT-VSFC/train/sentiments.txt', delimiter = \"\\t\", header = None)\n",
    "train_sents = pd.read_csv('/content/drive/MyDrive/IE403/UIT-VSFC/train/sents.txt', delimiter = \"\\t\", header = None)\n",
    "train_topics = pd.read_csv('/content/drive/MyDrive/IE403/UIT-VSFC/train/topics.txt', delimiter = \"\\t\", header = None)"
   ]
  },
  {
   "cell_type": "code",
   "execution_count": 16,
   "metadata": {
    "colab": {
     "base_uri": "https://localhost:8080/",
     "height": 203
    },
    "executionInfo": {
     "elapsed": 33,
     "status": "ok",
     "timestamp": 1622647538444,
     "user": {
      "displayName": "Long Bui Bao",
      "photoUrl": "",
      "userId": "09988955862776780290"
     },
     "user_tz": -420
    },
    "id": "ET5AnN4cyNaW",
    "outputId": "df05276d-1102-4e6d-e275-ad817456dbb9"
   },
   "outputs": [
    {
     "data": {
      "text/html": [
       "<div>\n",
       "<style scoped>\n",
       "    .dataframe tbody tr th:only-of-type {\n",
       "        vertical-align: middle;\n",
       "    }\n",
       "\n",
       "    .dataframe tbody tr th {\n",
       "        vertical-align: top;\n",
       "    }\n",
       "\n",
       "    .dataframe thead th {\n",
       "        text-align: right;\n",
       "    }\n",
       "</style>\n",
       "<table border=\"1\" class=\"dataframe\">\n",
       "  <thead>\n",
       "    <tr style=\"text-align: right;\">\n",
       "      <th></th>\n",
       "      <th>Sents</th>\n",
       "      <th>Topics</th>\n",
       "      <th>Sentiment</th>\n",
       "    </tr>\n",
       "  </thead>\n",
       "  <tbody>\n",
       "    <tr>\n",
       "      <th>0</th>\n",
       "      <td>slide giáo trình đầy đủ .</td>\n",
       "      <td>1</td>\n",
       "      <td>2</td>\n",
       "    </tr>\n",
       "    <tr>\n",
       "      <th>1</th>\n",
       "      <td>nhiệt tình giảng dạy , gần gũi với sinh viên .</td>\n",
       "      <td>0</td>\n",
       "      <td>2</td>\n",
       "    </tr>\n",
       "    <tr>\n",
       "      <th>2</th>\n",
       "      <td>đi học đầy đủ full điểm chuyên cần .</td>\n",
       "      <td>1</td>\n",
       "      <td>0</td>\n",
       "    </tr>\n",
       "    <tr>\n",
       "      <th>3</th>\n",
       "      <td>chưa áp dụng công nghệ thông tin và các thiết ...</td>\n",
       "      <td>0</td>\n",
       "      <td>0</td>\n",
       "    </tr>\n",
       "    <tr>\n",
       "      <th>4</th>\n",
       "      <td>thầy giảng bài hay , có nhiều bài tập ví dụ ng...</td>\n",
       "      <td>0</td>\n",
       "      <td>2</td>\n",
       "    </tr>\n",
       "  </tbody>\n",
       "</table>\n",
       "</div>"
      ],
      "text/plain": [
       "                                               Sents  Topics  Sentiment\n",
       "0                          slide giáo trình đầy đủ .       1          2\n",
       "1     nhiệt tình giảng dạy , gần gũi với sinh viên .       0          2\n",
       "2               đi học đầy đủ full điểm chuyên cần .       1          0\n",
       "3  chưa áp dụng công nghệ thông tin và các thiết ...       0          0\n",
       "4  thầy giảng bài hay , có nhiều bài tập ví dụ ng...       0          2"
      ]
     },
     "execution_count": 16,
     "metadata": {
      "tags": []
     },
     "output_type": "execute_result"
    }
   ],
   "source": [
    "df_train = pd.concat([train_sents, train_topics, train_sentiment], axis=1)\n",
    "df_train.columns = ['Sents', 'Topics', 'Sentiment']\n",
    "df_train.head()"
   ]
  },
  {
   "cell_type": "code",
   "execution_count": 17,
   "metadata": {
    "colab": {
     "base_uri": "https://localhost:8080/",
     "height": 203
    },
    "executionInfo": {
     "elapsed": 23,
     "status": "ok",
     "timestamp": 1622647538445,
     "user": {
      "displayName": "Long Bui Bao",
      "photoUrl": "",
      "userId": "09988955862776780290"
     },
     "user_tz": -420
    },
    "id": "Th3oc7fy3N8A",
    "outputId": "65a6b3e6-d130-4411-83c5-cb334d28f270"
   },
   "outputs": [
    {
     "data": {
      "text/html": [
       "<div>\n",
       "<style scoped>\n",
       "    .dataframe tbody tr th:only-of-type {\n",
       "        vertical-align: middle;\n",
       "    }\n",
       "\n",
       "    .dataframe tbody tr th {\n",
       "        vertical-align: top;\n",
       "    }\n",
       "\n",
       "    .dataframe thead th {\n",
       "        text-align: right;\n",
       "    }\n",
       "</style>\n",
       "<table border=\"1\" class=\"dataframe\">\n",
       "  <thead>\n",
       "    <tr style=\"text-align: right;\">\n",
       "      <th></th>\n",
       "      <th>Sents</th>\n",
       "      <th>Topics</th>\n",
       "      <th>Sentiment</th>\n",
       "    </tr>\n",
       "  </thead>\n",
       "  <tbody>\n",
       "    <tr>\n",
       "      <th>11421</th>\n",
       "      <td>chỉ vì môn game mà em học hai lần mà không qua...</td>\n",
       "      <td>1</td>\n",
       "      <td>0</td>\n",
       "    </tr>\n",
       "    <tr>\n",
       "      <th>11422</th>\n",
       "      <td>em cảm ơn cô nhiều .</td>\n",
       "      <td>0</td>\n",
       "      <td>2</td>\n",
       "    </tr>\n",
       "    <tr>\n",
       "      <th>11423</th>\n",
       "      <td>giao bài tập quá nhiều .</td>\n",
       "      <td>0</td>\n",
       "      <td>0</td>\n",
       "    </tr>\n",
       "    <tr>\n",
       "      <th>11424</th>\n",
       "      <td>giáo viên dạy dễ hiểu , nhiệt tình .</td>\n",
       "      <td>0</td>\n",
       "      <td>2</td>\n",
       "    </tr>\n",
       "    <tr>\n",
       "      <th>11425</th>\n",
       "      <td>gói gọn doubledot hay , tận tình , phù hợp với...</td>\n",
       "      <td>0</td>\n",
       "      <td>2</td>\n",
       "    </tr>\n",
       "  </tbody>\n",
       "</table>\n",
       "</div>"
      ],
      "text/plain": [
       "                                                   Sents  Topics  Sentiment\n",
       "11421  chỉ vì môn game mà em học hai lần mà không qua...       1          0\n",
       "11422                               em cảm ơn cô nhiều .       0          2\n",
       "11423                           giao bài tập quá nhiều .       0          0\n",
       "11424               giáo viên dạy dễ hiểu , nhiệt tình .       0          2\n",
       "11425  gói gọn doubledot hay , tận tình , phù hợp với...       0          2"
      ]
     },
     "execution_count": 17,
     "metadata": {
      "tags": []
     },
     "output_type": "execute_result"
    }
   ],
   "source": [
    "df_train.tail()"
   ]
  },
  {
   "cell_type": "code",
   "execution_count": 18,
   "metadata": {
    "colab": {
     "base_uri": "https://localhost:8080/",
     "height": 417
    },
    "executionInfo": {
     "elapsed": 19,
     "status": "ok",
     "timestamp": 1622647538446,
     "user": {
      "displayName": "Long Bui Bao",
      "photoUrl": "",
      "userId": "09988955862776780290"
     },
     "user_tz": -420
    },
    "id": "vc0tQ_gQ-bQe",
    "outputId": "c3e666e1-c0dd-4529-f6d9-710662fb2dde"
   },
   "outputs": [
    {
     "data": {
      "text/html": [
       "<div>\n",
       "<style scoped>\n",
       "    .dataframe tbody tr th:only-of-type {\n",
       "        vertical-align: middle;\n",
       "    }\n",
       "\n",
       "    .dataframe tbody tr th {\n",
       "        vertical-align: top;\n",
       "    }\n",
       "\n",
       "    .dataframe thead th {\n",
       "        text-align: right;\n",
       "    }\n",
       "</style>\n",
       "<table border=\"1\" class=\"dataframe\">\n",
       "  <thead>\n",
       "    <tr style=\"text-align: right;\">\n",
       "      <th></th>\n",
       "      <th>Sents</th>\n",
       "      <th>Topics</th>\n",
       "      <th>Sentiment</th>\n",
       "    </tr>\n",
       "  </thead>\n",
       "  <tbody>\n",
       "    <tr>\n",
       "      <th>0</th>\n",
       "      <td>slide giáo trình đầy đủ .</td>\n",
       "      <td>1</td>\n",
       "      <td>2</td>\n",
       "    </tr>\n",
       "    <tr>\n",
       "      <th>1</th>\n",
       "      <td>nhiệt tình giảng dạy , gần gũi với sinh viên .</td>\n",
       "      <td>0</td>\n",
       "      <td>2</td>\n",
       "    </tr>\n",
       "    <tr>\n",
       "      <th>2</th>\n",
       "      <td>đi học đầy đủ full điểm chuyên cần .</td>\n",
       "      <td>1</td>\n",
       "      <td>0</td>\n",
       "    </tr>\n",
       "    <tr>\n",
       "      <th>3</th>\n",
       "      <td>chưa áp dụng công nghệ thông tin và các thiết ...</td>\n",
       "      <td>0</td>\n",
       "      <td>0</td>\n",
       "    </tr>\n",
       "    <tr>\n",
       "      <th>4</th>\n",
       "      <td>thầy giảng bài hay , có nhiều bài tập ví dụ ng...</td>\n",
       "      <td>0</td>\n",
       "      <td>2</td>\n",
       "    </tr>\n",
       "    <tr>\n",
       "      <th>...</th>\n",
       "      <td>...</td>\n",
       "      <td>...</td>\n",
       "      <td>...</td>\n",
       "    </tr>\n",
       "    <tr>\n",
       "      <th>11421</th>\n",
       "      <td>chỉ vì môn game mà em học hai lần mà không qua...</td>\n",
       "      <td>1</td>\n",
       "      <td>0</td>\n",
       "    </tr>\n",
       "    <tr>\n",
       "      <th>11422</th>\n",
       "      <td>em cảm ơn cô nhiều .</td>\n",
       "      <td>0</td>\n",
       "      <td>2</td>\n",
       "    </tr>\n",
       "    <tr>\n",
       "      <th>11423</th>\n",
       "      <td>giao bài tập quá nhiều .</td>\n",
       "      <td>0</td>\n",
       "      <td>0</td>\n",
       "    </tr>\n",
       "    <tr>\n",
       "      <th>11424</th>\n",
       "      <td>giáo viên dạy dễ hiểu , nhiệt tình .</td>\n",
       "      <td>0</td>\n",
       "      <td>2</td>\n",
       "    </tr>\n",
       "    <tr>\n",
       "      <th>11425</th>\n",
       "      <td>gói gọn doubledot hay , tận tình , phù hợp với...</td>\n",
       "      <td>0</td>\n",
       "      <td>2</td>\n",
       "    </tr>\n",
       "  </tbody>\n",
       "</table>\n",
       "<p>11426 rows × 3 columns</p>\n",
       "</div>"
      ],
      "text/plain": [
       "                                                   Sents  Topics  Sentiment\n",
       "0                              slide giáo trình đầy đủ .       1          2\n",
       "1         nhiệt tình giảng dạy , gần gũi với sinh viên .       0          2\n",
       "2                   đi học đầy đủ full điểm chuyên cần .       1          0\n",
       "3      chưa áp dụng công nghệ thông tin và các thiết ...       0          0\n",
       "4      thầy giảng bài hay , có nhiều bài tập ví dụ ng...       0          2\n",
       "...                                                  ...     ...        ...\n",
       "11421  chỉ vì môn game mà em học hai lần mà không qua...       1          0\n",
       "11422                               em cảm ơn cô nhiều .       0          2\n",
       "11423                           giao bài tập quá nhiều .       0          0\n",
       "11424               giáo viên dạy dễ hiểu , nhiệt tình .       0          2\n",
       "11425  gói gọn doubledot hay , tận tình , phù hợp với...       0          2\n",
       "\n",
       "[11426 rows x 3 columns]"
      ]
     },
     "execution_count": 18,
     "metadata": {
      "tags": []
     },
     "output_type": "execute_result"
    }
   ],
   "source": [
    "df_train"
   ]
  },
  {
   "cell_type": "markdown",
   "metadata": {
    "id": "XjBhDNPP4gTM"
   },
   "source": [
    "## 2.Dev set\n",
    "\n"
   ]
  },
  {
   "cell_type": "code",
   "execution_count": 19,
   "metadata": {
    "executionInfo": {
     "elapsed": 702,
     "status": "ok",
     "timestamp": 1622647546272,
     "user": {
      "displayName": "Long Bui Bao",
      "photoUrl": "",
      "userId": "09988955862776780290"
     },
     "user_tz": -420
    },
    "id": "tFzNhlzk3ddO"
   },
   "outputs": [],
   "source": [
    "#Dev set\n",
    "dev_sentiment = pd.read_csv('/content/drive/MyDrive/IE403/UIT-VSFC/dev/sentiments.txt', delimiter = \"\\t\", header = None)\n",
    "dev_sents = pd.read_csv('/content/drive/MyDrive/IE403/UIT-VSFC/dev/sents.txt', delimiter = \"\\t\", header = None)\n",
    "dev_topics = pd.read_csv('/content/drive/MyDrive/IE403/UIT-VSFC/dev/topics.txt', delimiter = \"\\t\", header = None)"
   ]
  },
  {
   "cell_type": "code",
   "execution_count": 20,
   "metadata": {
    "colab": {
     "base_uri": "https://localhost:8080/",
     "height": 0
    },
    "executionInfo": {
     "elapsed": 16,
     "status": "ok",
     "timestamp": 1622647546794,
     "user": {
      "displayName": "Long Bui Bao",
      "photoUrl": "",
      "userId": "09988955862776780290"
     },
     "user_tz": -420
    },
    "id": "529deLpf4BpI",
    "outputId": "24c547e5-2b5e-4aca-ca9d-90661992dc91"
   },
   "outputs": [
    {
     "data": {
      "text/html": [
       "<div>\n",
       "<style scoped>\n",
       "    .dataframe tbody tr th:only-of-type {\n",
       "        vertical-align: middle;\n",
       "    }\n",
       "\n",
       "    .dataframe tbody tr th {\n",
       "        vertical-align: top;\n",
       "    }\n",
       "\n",
       "    .dataframe thead th {\n",
       "        text-align: right;\n",
       "    }\n",
       "</style>\n",
       "<table border=\"1\" class=\"dataframe\">\n",
       "  <thead>\n",
       "    <tr style=\"text-align: right;\">\n",
       "      <th></th>\n",
       "      <th>Sents</th>\n",
       "      <th>Topics</th>\n",
       "      <th>Sentiment</th>\n",
       "    </tr>\n",
       "  </thead>\n",
       "  <tbody>\n",
       "    <tr>\n",
       "      <th>0</th>\n",
       "      <td>giáo trình chưa cụ thể .</td>\n",
       "      <td>1</td>\n",
       "      <td>0</td>\n",
       "    </tr>\n",
       "    <tr>\n",
       "      <th>1</th>\n",
       "      <td>giảng buồn ngủ .</td>\n",
       "      <td>0</td>\n",
       "      <td>0</td>\n",
       "    </tr>\n",
       "    <tr>\n",
       "      <th>2</th>\n",
       "      <td>giáo viên vui tính , tận tâm .</td>\n",
       "      <td>0</td>\n",
       "      <td>2</td>\n",
       "    </tr>\n",
       "    <tr>\n",
       "      <th>3</th>\n",
       "      <td>giảng viên nên giao bài tập nhiều hơn , chia n...</td>\n",
       "      <td>0</td>\n",
       "      <td>0</td>\n",
       "    </tr>\n",
       "    <tr>\n",
       "      <th>4</th>\n",
       "      <td>giảng viên cần giảng bài chi tiết hơn , đi sâu...</td>\n",
       "      <td>0</td>\n",
       "      <td>0</td>\n",
       "    </tr>\n",
       "  </tbody>\n",
       "</table>\n",
       "</div>"
      ],
      "text/plain": [
       "                                               Sents  Topics  Sentiment\n",
       "0                           giáo trình chưa cụ thể .       1          0\n",
       "1                                   giảng buồn ngủ .       0          0\n",
       "2                     giáo viên vui tính , tận tâm .       0          2\n",
       "3  giảng viên nên giao bài tập nhiều hơn , chia n...       0          0\n",
       "4  giảng viên cần giảng bài chi tiết hơn , đi sâu...       0          0"
      ]
     },
     "execution_count": 20,
     "metadata": {
      "tags": []
     },
     "output_type": "execute_result"
    }
   ],
   "source": [
    "df_dev = pd.concat([dev_sents, dev_topics, dev_sentiment], axis=1)\n",
    "df_dev.columns = ['Sents', 'Topics', 'Sentiment']\n",
    "df_dev.head()"
   ]
  },
  {
   "cell_type": "code",
   "execution_count": 21,
   "metadata": {
    "colab": {
     "base_uri": "https://localhost:8080/",
     "height": 0
    },
    "executionInfo": {
     "elapsed": 14,
     "status": "ok",
     "timestamp": 1622647546795,
     "user": {
      "displayName": "Long Bui Bao",
      "photoUrl": "",
      "userId": "09988955862776780290"
     },
     "user_tz": -420
    },
    "id": "g35wqQc94QW0",
    "outputId": "992e6074-01b7-4502-a49d-8e745c71fc6f"
   },
   "outputs": [
    {
     "data": {
      "text/html": [
       "<div>\n",
       "<style scoped>\n",
       "    .dataframe tbody tr th:only-of-type {\n",
       "        vertical-align: middle;\n",
       "    }\n",
       "\n",
       "    .dataframe tbody tr th {\n",
       "        vertical-align: top;\n",
       "    }\n",
       "\n",
       "    .dataframe thead th {\n",
       "        text-align: right;\n",
       "    }\n",
       "</style>\n",
       "<table border=\"1\" class=\"dataframe\">\n",
       "  <thead>\n",
       "    <tr style=\"text-align: right;\">\n",
       "      <th></th>\n",
       "      <th>Sents</th>\n",
       "      <th>Topics</th>\n",
       "      <th>Sentiment</th>\n",
       "    </tr>\n",
       "  </thead>\n",
       "  <tbody>\n",
       "    <tr>\n",
       "      <th>1578</th>\n",
       "      <td>hướng dẫn lab mơ hồ .</td>\n",
       "      <td>0</td>\n",
       "      <td>0</td>\n",
       "    </tr>\n",
       "    <tr>\n",
       "      <th>1579</th>\n",
       "      <td>thầy cho chúng em những bài tập mang tính thực...</td>\n",
       "      <td>0</td>\n",
       "      <td>2</td>\n",
       "    </tr>\n",
       "    <tr>\n",
       "      <th>1580</th>\n",
       "      <td>thầy không dạy nhiều chủ yếu cho sinh viên tự ...</td>\n",
       "      <td>0</td>\n",
       "      <td>0</td>\n",
       "    </tr>\n",
       "    <tr>\n",
       "      <th>1581</th>\n",
       "      <td>em muốn đổi tên môn học vì tên môn là lập trìn...</td>\n",
       "      <td>1</td>\n",
       "      <td>0</td>\n",
       "    </tr>\n",
       "    <tr>\n",
       "      <th>1582</th>\n",
       "      <td>thầy vừa dạy vừa chat hoặc gọi điện thoại thườ...</td>\n",
       "      <td>0</td>\n",
       "      <td>0</td>\n",
       "    </tr>\n",
       "  </tbody>\n",
       "</table>\n",
       "</div>"
      ],
      "text/plain": [
       "                                                  Sents  Topics  Sentiment\n",
       "1578                              hướng dẫn lab mơ hồ .       0          0\n",
       "1579  thầy cho chúng em những bài tập mang tính thực...       0          2\n",
       "1580  thầy không dạy nhiều chủ yếu cho sinh viên tự ...       0          0\n",
       "1581  em muốn đổi tên môn học vì tên môn là lập trìn...       1          0\n",
       "1582  thầy vừa dạy vừa chat hoặc gọi điện thoại thườ...       0          0"
      ]
     },
     "execution_count": 21,
     "metadata": {
      "tags": []
     },
     "output_type": "execute_result"
    }
   ],
   "source": [
    "df_dev.tail()"
   ]
  },
  {
   "cell_type": "code",
   "execution_count": 22,
   "metadata": {
    "colab": {
     "base_uri": "https://localhost:8080/",
     "height": 0
    },
    "executionInfo": {
     "elapsed": 13,
     "status": "ok",
     "timestamp": 1622647546795,
     "user": {
      "displayName": "Long Bui Bao",
      "photoUrl": "",
      "userId": "09988955862776780290"
     },
     "user_tz": -420
    },
    "id": "vIwX5_5_-YIw",
    "outputId": "2f2dc612-c8ea-42e7-f91c-d4c1e4f36949"
   },
   "outputs": [
    {
     "data": {
      "text/html": [
       "<div>\n",
       "<style scoped>\n",
       "    .dataframe tbody tr th:only-of-type {\n",
       "        vertical-align: middle;\n",
       "    }\n",
       "\n",
       "    .dataframe tbody tr th {\n",
       "        vertical-align: top;\n",
       "    }\n",
       "\n",
       "    .dataframe thead th {\n",
       "        text-align: right;\n",
       "    }\n",
       "</style>\n",
       "<table border=\"1\" class=\"dataframe\">\n",
       "  <thead>\n",
       "    <tr style=\"text-align: right;\">\n",
       "      <th></th>\n",
       "      <th>Sents</th>\n",
       "      <th>Topics</th>\n",
       "      <th>Sentiment</th>\n",
       "    </tr>\n",
       "  </thead>\n",
       "  <tbody>\n",
       "    <tr>\n",
       "      <th>0</th>\n",
       "      <td>giáo trình chưa cụ thể .</td>\n",
       "      <td>1</td>\n",
       "      <td>0</td>\n",
       "    </tr>\n",
       "    <tr>\n",
       "      <th>1</th>\n",
       "      <td>giảng buồn ngủ .</td>\n",
       "      <td>0</td>\n",
       "      <td>0</td>\n",
       "    </tr>\n",
       "    <tr>\n",
       "      <th>2</th>\n",
       "      <td>giáo viên vui tính , tận tâm .</td>\n",
       "      <td>0</td>\n",
       "      <td>2</td>\n",
       "    </tr>\n",
       "    <tr>\n",
       "      <th>3</th>\n",
       "      <td>giảng viên nên giao bài tập nhiều hơn , chia n...</td>\n",
       "      <td>0</td>\n",
       "      <td>0</td>\n",
       "    </tr>\n",
       "    <tr>\n",
       "      <th>4</th>\n",
       "      <td>giảng viên cần giảng bài chi tiết hơn , đi sâu...</td>\n",
       "      <td>0</td>\n",
       "      <td>0</td>\n",
       "    </tr>\n",
       "    <tr>\n",
       "      <th>...</th>\n",
       "      <td>...</td>\n",
       "      <td>...</td>\n",
       "      <td>...</td>\n",
       "    </tr>\n",
       "    <tr>\n",
       "      <th>1578</th>\n",
       "      <td>hướng dẫn lab mơ hồ .</td>\n",
       "      <td>0</td>\n",
       "      <td>0</td>\n",
       "    </tr>\n",
       "    <tr>\n",
       "      <th>1579</th>\n",
       "      <td>thầy cho chúng em những bài tập mang tính thực...</td>\n",
       "      <td>0</td>\n",
       "      <td>2</td>\n",
       "    </tr>\n",
       "    <tr>\n",
       "      <th>1580</th>\n",
       "      <td>thầy không dạy nhiều chủ yếu cho sinh viên tự ...</td>\n",
       "      <td>0</td>\n",
       "      <td>0</td>\n",
       "    </tr>\n",
       "    <tr>\n",
       "      <th>1581</th>\n",
       "      <td>em muốn đổi tên môn học vì tên môn là lập trìn...</td>\n",
       "      <td>1</td>\n",
       "      <td>0</td>\n",
       "    </tr>\n",
       "    <tr>\n",
       "      <th>1582</th>\n",
       "      <td>thầy vừa dạy vừa chat hoặc gọi điện thoại thườ...</td>\n",
       "      <td>0</td>\n",
       "      <td>0</td>\n",
       "    </tr>\n",
       "  </tbody>\n",
       "</table>\n",
       "<p>1583 rows × 3 columns</p>\n",
       "</div>"
      ],
      "text/plain": [
       "                                                  Sents  Topics  Sentiment\n",
       "0                              giáo trình chưa cụ thể .       1          0\n",
       "1                                      giảng buồn ngủ .       0          0\n",
       "2                        giáo viên vui tính , tận tâm .       0          2\n",
       "3     giảng viên nên giao bài tập nhiều hơn , chia n...       0          0\n",
       "4     giảng viên cần giảng bài chi tiết hơn , đi sâu...       0          0\n",
       "...                                                 ...     ...        ...\n",
       "1578                              hướng dẫn lab mơ hồ .       0          0\n",
       "1579  thầy cho chúng em những bài tập mang tính thực...       0          2\n",
       "1580  thầy không dạy nhiều chủ yếu cho sinh viên tự ...       0          0\n",
       "1581  em muốn đổi tên môn học vì tên môn là lập trìn...       1          0\n",
       "1582  thầy vừa dạy vừa chat hoặc gọi điện thoại thườ...       0          0\n",
       "\n",
       "[1583 rows x 3 columns]"
      ]
     },
     "execution_count": 22,
     "metadata": {
      "tags": []
     },
     "output_type": "execute_result"
    }
   ],
   "source": [
    "df_dev"
   ]
  },
  {
   "cell_type": "markdown",
   "metadata": {
    "id": "oOU15q_75M7b"
   },
   "source": [
    "## 3.Test set"
   ]
  },
  {
   "cell_type": "code",
   "execution_count": 23,
   "metadata": {
    "executionInfo": {
     "elapsed": 2460,
     "status": "ok",
     "timestamp": 1622647549244,
     "user": {
      "displayName": "Long Bui Bao",
      "photoUrl": "",
      "userId": "09988955862776780290"
     },
     "user_tz": -420
    },
    "id": "dXUAkvxt4o8S"
   },
   "outputs": [],
   "source": [
    "#Test set\n",
    "test_sentiment = pd.read_csv('/content/drive/MyDrive/IE403/UIT-VSFC/test/sentiments.txt', delimiter = \"\\t\", header = None)\n",
    "test_sents = pd.read_csv('/content/drive/MyDrive/IE403/UIT-VSFC/test/sents.txt', delimiter = \"\\t\", header = None)\n",
    "test_topics = pd.read_csv('/content/drive/MyDrive/IE403/UIT-VSFC/test/topics.txt', delimiter = \"\\t\", header = None)"
   ]
  },
  {
   "cell_type": "code",
   "execution_count": 24,
   "metadata": {
    "colab": {
     "base_uri": "https://localhost:8080/",
     "height": 0
    },
    "executionInfo": {
     "elapsed": 35,
     "status": "ok",
     "timestamp": 1622647549253,
     "user": {
      "displayName": "Long Bui Bao",
      "photoUrl": "",
      "userId": "09988955862776780290"
     },
     "user_tz": -420
    },
    "id": "xWDXW-fX5zcx",
    "outputId": "974407f7-2889-406c-b839-a0023556961b"
   },
   "outputs": [
    {
     "data": {
      "text/html": [
       "<div>\n",
       "<style scoped>\n",
       "    .dataframe tbody tr th:only-of-type {\n",
       "        vertical-align: middle;\n",
       "    }\n",
       "\n",
       "    .dataframe tbody tr th {\n",
       "        vertical-align: top;\n",
       "    }\n",
       "\n",
       "    .dataframe thead th {\n",
       "        text-align: right;\n",
       "    }\n",
       "</style>\n",
       "<table border=\"1\" class=\"dataframe\">\n",
       "  <thead>\n",
       "    <tr style=\"text-align: right;\">\n",
       "      <th></th>\n",
       "      <th>Sents</th>\n",
       "      <th>Topics</th>\n",
       "      <th>Sentiment</th>\n",
       "    </tr>\n",
       "  </thead>\n",
       "  <tbody>\n",
       "    <tr>\n",
       "      <th>0</th>\n",
       "      <td>nói tiếng anh lưu loát .</td>\n",
       "      <td>0</td>\n",
       "      <td>2</td>\n",
       "    </tr>\n",
       "    <tr>\n",
       "      <th>1</th>\n",
       "      <td>giáo viên rất vui tính .</td>\n",
       "      <td>0</td>\n",
       "      <td>2</td>\n",
       "    </tr>\n",
       "    <tr>\n",
       "      <th>2</th>\n",
       "      <td>cô max có tâm .</td>\n",
       "      <td>0</td>\n",
       "      <td>2</td>\n",
       "    </tr>\n",
       "    <tr>\n",
       "      <th>3</th>\n",
       "      <td>giảng bài thu hút , dí dỏm .</td>\n",
       "      <td>0</td>\n",
       "      <td>2</td>\n",
       "    </tr>\n",
       "    <tr>\n",
       "      <th>4</th>\n",
       "      <td>giáo viên không giảng dạy kiến thức , hướng dẫ...</td>\n",
       "      <td>0</td>\n",
       "      <td>0</td>\n",
       "    </tr>\n",
       "  </tbody>\n",
       "</table>\n",
       "</div>"
      ],
      "text/plain": [
       "                                               Sents  Topics  Sentiment\n",
       "0                           nói tiếng anh lưu loát .       0          2\n",
       "1                           giáo viên rất vui tính .       0          2\n",
       "2                                    cô max có tâm .       0          2\n",
       "3                       giảng bài thu hút , dí dỏm .       0          2\n",
       "4  giáo viên không giảng dạy kiến thức , hướng dẫ...       0          0"
      ]
     },
     "execution_count": 24,
     "metadata": {
      "tags": []
     },
     "output_type": "execute_result"
    }
   ],
   "source": [
    "df_test = pd.concat([test_sents, test_topics, test_sentiment], axis=1)\n",
    "df_test.columns = ['Sents', 'Topics', 'Sentiment']\n",
    "df_test.head()"
   ]
  },
  {
   "cell_type": "code",
   "execution_count": 25,
   "metadata": {
    "colab": {
     "base_uri": "https://localhost:8080/",
     "height": 0
    },
    "executionInfo": {
     "elapsed": 29,
     "status": "ok",
     "timestamp": 1622647549255,
     "user": {
      "displayName": "Long Bui Bao",
      "photoUrl": "",
      "userId": "09988955862776780290"
     },
     "user_tz": -420
    },
    "id": "MuwGuluj6MYE",
    "outputId": "f2c2039b-6958-4ba8-91dd-26d05b2534dc"
   },
   "outputs": [
    {
     "data": {
      "text/html": [
       "<div>\n",
       "<style scoped>\n",
       "    .dataframe tbody tr th:only-of-type {\n",
       "        vertical-align: middle;\n",
       "    }\n",
       "\n",
       "    .dataframe tbody tr th {\n",
       "        vertical-align: top;\n",
       "    }\n",
       "\n",
       "    .dataframe thead th {\n",
       "        text-align: right;\n",
       "    }\n",
       "</style>\n",
       "<table border=\"1\" class=\"dataframe\">\n",
       "  <thead>\n",
       "    <tr style=\"text-align: right;\">\n",
       "      <th></th>\n",
       "      <th>Sents</th>\n",
       "      <th>Topics</th>\n",
       "      <th>Sentiment</th>\n",
       "    </tr>\n",
       "  </thead>\n",
       "  <tbody>\n",
       "    <tr>\n",
       "      <th>3161</th>\n",
       "      <td>các slide khó hiểu , ngôn ngữ trong slide phức...</td>\n",
       "      <td>0</td>\n",
       "      <td>0</td>\n",
       "    </tr>\n",
       "    <tr>\n",
       "      <th>3162</th>\n",
       "      <td>giáo viên giảng dạy có tâm huyết .</td>\n",
       "      <td>0</td>\n",
       "      <td>2</td>\n",
       "    </tr>\n",
       "    <tr>\n",
       "      <th>3163</th>\n",
       "      <td>chia sẻ cho em nhiều điều hay .</td>\n",
       "      <td>0</td>\n",
       "      <td>2</td>\n",
       "    </tr>\n",
       "    <tr>\n",
       "      <th>3164</th>\n",
       "      <td>em tiếp thu chậm .</td>\n",
       "      <td>0</td>\n",
       "      <td>0</td>\n",
       "    </tr>\n",
       "    <tr>\n",
       "      <th>3165</th>\n",
       "      <td>em có học ở một trung tâm tiếng anh ở ngoài tr...</td>\n",
       "      <td>1</td>\n",
       "      <td>1</td>\n",
       "    </tr>\n",
       "  </tbody>\n",
       "</table>\n",
       "</div>"
      ],
      "text/plain": [
       "                                                  Sents  Topics  Sentiment\n",
       "3161  các slide khó hiểu , ngôn ngữ trong slide phức...       0          0\n",
       "3162                 giáo viên giảng dạy có tâm huyết .       0          2\n",
       "3163                    chia sẻ cho em nhiều điều hay .       0          2\n",
       "3164                                 em tiếp thu chậm .       0          0\n",
       "3165  em có học ở một trung tâm tiếng anh ở ngoài tr...       1          1"
      ]
     },
     "execution_count": 25,
     "metadata": {
      "tags": []
     },
     "output_type": "execute_result"
    }
   ],
   "source": [
    "df_test.tail()"
   ]
  },
  {
   "cell_type": "code",
   "execution_count": 26,
   "metadata": {
    "colab": {
     "base_uri": "https://localhost:8080/",
     "height": 0
    },
    "executionInfo": {
     "elapsed": 21,
     "status": "ok",
     "timestamp": 1622647549255,
     "user": {
      "displayName": "Long Bui Bao",
      "photoUrl": "",
      "userId": "09988955862776780290"
     },
     "user_tz": -420
    },
    "id": "Lfe0ojKG-Rz4",
    "outputId": "513347ff-679f-4969-f1c5-225fef771e7a"
   },
   "outputs": [
    {
     "data": {
      "text/html": [
       "<div>\n",
       "<style scoped>\n",
       "    .dataframe tbody tr th:only-of-type {\n",
       "        vertical-align: middle;\n",
       "    }\n",
       "\n",
       "    .dataframe tbody tr th {\n",
       "        vertical-align: top;\n",
       "    }\n",
       "\n",
       "    .dataframe thead th {\n",
       "        text-align: right;\n",
       "    }\n",
       "</style>\n",
       "<table border=\"1\" class=\"dataframe\">\n",
       "  <thead>\n",
       "    <tr style=\"text-align: right;\">\n",
       "      <th></th>\n",
       "      <th>Sents</th>\n",
       "      <th>Topics</th>\n",
       "      <th>Sentiment</th>\n",
       "    </tr>\n",
       "  </thead>\n",
       "  <tbody>\n",
       "    <tr>\n",
       "      <th>0</th>\n",
       "      <td>nói tiếng anh lưu loát .</td>\n",
       "      <td>0</td>\n",
       "      <td>2</td>\n",
       "    </tr>\n",
       "    <tr>\n",
       "      <th>1</th>\n",
       "      <td>giáo viên rất vui tính .</td>\n",
       "      <td>0</td>\n",
       "      <td>2</td>\n",
       "    </tr>\n",
       "    <tr>\n",
       "      <th>2</th>\n",
       "      <td>cô max có tâm .</td>\n",
       "      <td>0</td>\n",
       "      <td>2</td>\n",
       "    </tr>\n",
       "    <tr>\n",
       "      <th>3</th>\n",
       "      <td>giảng bài thu hút , dí dỏm .</td>\n",
       "      <td>0</td>\n",
       "      <td>2</td>\n",
       "    </tr>\n",
       "    <tr>\n",
       "      <th>4</th>\n",
       "      <td>giáo viên không giảng dạy kiến thức , hướng dẫ...</td>\n",
       "      <td>0</td>\n",
       "      <td>0</td>\n",
       "    </tr>\n",
       "    <tr>\n",
       "      <th>...</th>\n",
       "      <td>...</td>\n",
       "      <td>...</td>\n",
       "      <td>...</td>\n",
       "    </tr>\n",
       "    <tr>\n",
       "      <th>3161</th>\n",
       "      <td>các slide khó hiểu , ngôn ngữ trong slide phức...</td>\n",
       "      <td>0</td>\n",
       "      <td>0</td>\n",
       "    </tr>\n",
       "    <tr>\n",
       "      <th>3162</th>\n",
       "      <td>giáo viên giảng dạy có tâm huyết .</td>\n",
       "      <td>0</td>\n",
       "      <td>2</td>\n",
       "    </tr>\n",
       "    <tr>\n",
       "      <th>3163</th>\n",
       "      <td>chia sẻ cho em nhiều điều hay .</td>\n",
       "      <td>0</td>\n",
       "      <td>2</td>\n",
       "    </tr>\n",
       "    <tr>\n",
       "      <th>3164</th>\n",
       "      <td>em tiếp thu chậm .</td>\n",
       "      <td>0</td>\n",
       "      <td>0</td>\n",
       "    </tr>\n",
       "    <tr>\n",
       "      <th>3165</th>\n",
       "      <td>em có học ở một trung tâm tiếng anh ở ngoài tr...</td>\n",
       "      <td>1</td>\n",
       "      <td>1</td>\n",
       "    </tr>\n",
       "  </tbody>\n",
       "</table>\n",
       "<p>3166 rows × 3 columns</p>\n",
       "</div>"
      ],
      "text/plain": [
       "                                                  Sents  Topics  Sentiment\n",
       "0                              nói tiếng anh lưu loát .       0          2\n",
       "1                              giáo viên rất vui tính .       0          2\n",
       "2                                       cô max có tâm .       0          2\n",
       "3                          giảng bài thu hút , dí dỏm .       0          2\n",
       "4     giáo viên không giảng dạy kiến thức , hướng dẫ...       0          0\n",
       "...                                                 ...     ...        ...\n",
       "3161  các slide khó hiểu , ngôn ngữ trong slide phức...       0          0\n",
       "3162                 giáo viên giảng dạy có tâm huyết .       0          2\n",
       "3163                    chia sẻ cho em nhiều điều hay .       0          2\n",
       "3164                                 em tiếp thu chậm .       0          0\n",
       "3165  em có học ở một trung tâm tiếng anh ở ngoài tr...       1          1\n",
       "\n",
       "[3166 rows x 3 columns]"
      ]
     },
     "execution_count": 26,
     "metadata": {
      "tags": []
     },
     "output_type": "execute_result"
    }
   ],
   "source": [
    "df_test"
   ]
  },
  {
   "cell_type": "markdown",
   "metadata": {
    "id": "2p2ulD0d71W9"
   },
   "source": [
    "# Methodology"
   ]
  },
  {
   "cell_type": "markdown",
   "metadata": {
    "id": "SOrJcomU9mpd"
   },
   "source": [
    "## 1.Naive Bayes (MultinomialNB)"
   ]
  },
  {
   "cell_type": "code",
   "execution_count": 27,
   "metadata": {
    "colab": {
     "base_uri": "https://localhost:8080/"
    },
    "executionInfo": {
     "elapsed": 14,
     "status": "ok",
     "timestamp": 1622647555735,
     "user": {
      "displayName": "Long Bui Bao",
      "photoUrl": "",
      "userId": "09988955862776780290"
     },
     "user_tz": -420
    },
    "id": "st49iaup6DNV",
    "outputId": "53afbada-7e79-4818-bbba-b87c8b3aa58d"
   },
   "outputs": [
    {
     "data": {
      "text/plain": [
       "0                                slide giáo trình đầy đủ .\n",
       "1           nhiệt tình giảng dạy , gần gũi với sinh viên .\n",
       "2                     đi học đầy đủ full điểm chuyên cần .\n",
       "3        chưa áp dụng công nghệ thông tin và các thiết ...\n",
       "4        thầy giảng bài hay , có nhiều bài tập ví dụ ng...\n",
       "                               ...                        \n",
       "11421    chỉ vì môn game mà em học hai lần mà không qua...\n",
       "11422                                 em cảm ơn cô nhiều .\n",
       "11423                             giao bài tập quá nhiều .\n",
       "11424                 giáo viên dạy dễ hiểu , nhiệt tình .\n",
       "11425    gói gọn doubledot hay , tận tình , phù hợp với...\n",
       "Name: Sents, Length: 11426, dtype: object"
      ]
     },
     "execution_count": 27,
     "metadata": {
      "tags": []
     },
     "output_type": "execute_result"
    }
   ],
   "source": [
    "X_train = df_train[\"Sents\"]\n",
    "X_test = df_test[\"Sents\"]\n",
    "X_train"
   ]
  },
  {
   "cell_type": "code",
   "execution_count": 28,
   "metadata": {
    "colab": {
     "base_uri": "https://localhost:8080/"
    },
    "executionInfo": {
     "elapsed": 479,
     "status": "ok",
     "timestamp": 1622647577109,
     "user": {
      "displayName": "Long Bui Bao",
      "photoUrl": "",
      "userId": "09988955862776780290"
     },
     "user_tz": -420
    },
    "id": "aVndeqVm1nH_",
    "outputId": "f70fa20f-8bf9-409c-fdf2-b852e017be0d"
   },
   "outputs": [
    {
     "data": {
      "text/plain": [
       "array([[0., 0., 0., ..., 0., 0., 0.],\n",
       "       [0., 0., 0., ..., 0., 0., 0.],\n",
       "       [0., 0., 0., ..., 0., 0., 0.],\n",
       "       ...,\n",
       "       [0., 0., 0., ..., 0., 0., 0.],\n",
       "       [0., 0., 0., ..., 0., 0., 0.],\n",
       "       [0., 0., 0., ..., 0., 0., 0.]])"
      ]
     },
     "execution_count": 28,
     "metadata": {
      "tags": []
     },
     "output_type": "execute_result"
    }
   ],
   "source": [
    "from sklearn.feature_extraction.text import TfidfVectorizer\n",
    "vectorizer = TfidfVectorizer()\n",
    "#vectorizer.fit(X_train)\n",
    "X_train_vector = vectorizer.fit_transform(X_train).toarray()\n",
    "X_test_vector = vectorizer.transform(X_test).toarray()\n",
    "X_train_vector"
   ]
  },
  {
   "cell_type": "markdown",
   "metadata": {
    "id": "BtSPmzn7OZf2"
   },
   "source": [
    "### Topic Classiﬁcation"
   ]
  },
  {
   "cell_type": "code",
   "execution_count": 30,
   "metadata": {
    "colab": {
     "base_uri": "https://localhost:8080/"
    },
    "executionInfo": {
     "elapsed": 364,
     "status": "ok",
     "timestamp": 1622647602920,
     "user": {
      "displayName": "Long Bui Bao",
      "photoUrl": "",
      "userId": "09988955862776780290"
     },
     "user_tz": -420
    },
    "id": "VH2IrLzf3WO3",
    "outputId": "e91be080-de19-49ac-dff4-ec35331030cd"
   },
   "outputs": [
    {
     "data": {
      "text/plain": [
       "array([1, 0, 1, ..., 0, 0, 0])"
      ]
     },
     "execution_count": 30,
     "metadata": {
      "tags": []
     },
     "output_type": "execute_result"
    }
   ],
   "source": [
    "from sklearn import preprocessing\n",
    "from sklearn.preprocessing import LabelEncoder\n",
    "le = LabelEncoder()\n",
    "y_topics_train = le.fit_transform(df_train[\"Topics\"])\n",
    "y_topics_test = le.fit_transform(df_test[\"Topics\"])\n",
    "y_topics_train"
   ]
  },
  {
   "cell_type": "code",
   "execution_count": 31,
   "metadata": {
    "colab": {
     "base_uri": "https://localhost:8080/"
    },
    "executionInfo": {
     "elapsed": 622,
     "status": "ok",
     "timestamp": 1622647603885,
     "user": {
      "displayName": "Long Bui Bao",
      "photoUrl": "",
      "userId": "09988955862776780290"
     },
     "user_tz": -420
    },
    "id": "LFcjcV9RvbcV",
    "outputId": "4bcbd8bc-2a86-48d8-c22a-880eaf432bce"
   },
   "outputs": [
    {
     "data": {
      "text/plain": [
       "0.8114339861023373"
      ]
     },
     "execution_count": 31,
     "metadata": {
      "tags": []
     },
     "output_type": "execute_result"
    }
   ],
   "source": [
    "from sklearn.naive_bayes import MultinomialNB\n",
    "\n",
    "model = MultinomialNB()\n",
    "\n",
    "model.fit(X_train_vector, y_topics_train)\n",
    "y_topics_pred = model.predict(X_test_vector)\n",
    "\n",
    "from sklearn.metrics import accuracy_score\n",
    "accuracy_score(y_topics_test, y_topics_pred)"
   ]
  },
  {
   "cell_type": "code",
   "execution_count": 32,
   "metadata": {
    "colab": {
     "base_uri": "https://localhost:8080/"
    },
    "executionInfo": {
     "elapsed": 19,
     "status": "ok",
     "timestamp": 1622647603887,
     "user": {
      "displayName": "Long Bui Bao",
      "photoUrl": "",
      "userId": "09988955862776780290"
     },
     "user_tz": -420
    },
    "id": "ojiOMcsN91bY",
    "outputId": "5736b6c9-05ec-4ea5-eb31-c1251041e1c7"
   },
   "outputs": [
    {
     "name": "stdout",
     "output_type": "stream",
     "text": [
      "              precision    recall  f1-score   support\n",
      "\n",
      "           0       0.83      0.97      0.89      2290\n",
      "           1       0.67      0.46      0.54       572\n",
      "           2       0.96      0.63      0.76       145\n",
      "           3       0.50      0.01      0.01       159\n",
      "\n",
      "    accuracy                           0.81      3166\n",
      "   macro avg       0.74      0.51      0.55      3166\n",
      "weighted avg       0.79      0.81      0.78      3166\n",
      "\n"
     ]
    }
   ],
   "source": [
    "from sklearn.metrics import accuracy_score, f1_score, precision_score, recall_score, classification_report\n",
    "\n",
    "print(classification_report(y_topics_test, y_topics_pred))"
   ]
  },
  {
   "cell_type": "markdown",
   "metadata": {
    "id": "EGUxJS3JOx3H"
   },
   "source": [
    "### Sentiment Classiﬁcation"
   ]
  },
  {
   "cell_type": "code",
   "execution_count": null,
   "metadata": {
    "id": "jv-6gmFZOx3J"
   },
   "outputs": [],
   "source": [
    "from sklearn import preprocessing\n",
    "from sklearn.preprocessing import LabelEncoder\n",
    "le = LabelEncoder()\n",
    "y_sentiment_train = le.fit_transform(df_train[\"Sentiment\"])\n",
    "y_sentiment_test = le.fit_transform(df_test[\"Sentiment\"])\n",
    "y_sentiment_train"
   ]
  },
  {
   "cell_type": "code",
   "execution_count": null,
   "metadata": {
    "id": "ZIAw9AF5Ox3K"
   },
   "outputs": [],
   "source": [
    "from sklearn.naive_bayes import MultinomialNB\n",
    "\n",
    "model = MultinomialNB()\n",
    "\n",
    "model.fit(X_train_vector, y_sentiment_train)\n",
    "y_sentiment_pred = model.predict(X_test_vector)\n",
    "\n",
    "from sklearn.metrics import accuracy_score\n",
    "accuracy_score(y_sentiment_test, y_sentiment_pred)"
   ]
  },
  {
   "cell_type": "code",
   "execution_count": null,
   "metadata": {
    "id": "xLRDQiJKOx3K"
   },
   "outputs": [],
   "source": [
    "from sklearn.metrics import accuracy_score, f1_score, precision_score, recall_score, classification_report\n",
    "\n",
    "print(classification_report(y_sentiment_test, y_sentiment_pred))"
   ]
  },
  {
   "cell_type": "markdown",
   "metadata": {
    "id": "RDU9cMjMbWpY"
   },
   "source": [
    "### Confusion Matrix"
   ]
  },
  {
   "cell_type": "code",
   "execution_count": null,
   "metadata": {
    "id": "ld53HCvA-jpn"
   },
   "outputs": [],
   "source": [
    "from sklearn.metrics import confusion_matrix\n",
    "\n",
    "cm_tp_nb = confusion_matrix(y_topics_test, y_topics_pred)\n",
    "cm_tp_nb"
   ]
  },
  {
   "cell_type": "code",
   "execution_count": null,
   "metadata": {
    "id": "zkkkq1Y5Ox3L"
   },
   "outputs": [],
   "source": [
    "from sklearn.metrics import confusion_matrix\n",
    "\n",
    "cm_sc_nb = confusion_matrix(y_sentiment_test, y_sentiment_pred)\n",
    "cm_sc_nb"
   ]
  },
  {
   "cell_type": "code",
   "execution_count": null,
   "metadata": {
    "id": "OLssyl-HOx3L"
   },
   "outputs": [],
   "source": [
    "from sklearn.metrics import confusion_matrix\n",
    "import seaborn as sns\n",
    "import matplotlib.pyplot as plt\n",
    "\n",
    "plt.figure(figsize=(17,12))\n",
    "plt.suptitle('Confusion Matrix: Naive Bayes', fontsize=20)\n",
    "\n",
    "plt.subplot(2,2,1)\n",
    "plt.title('Topic Classification', fontsize=16)\n",
    "cm_tp_nb = confusion_matrix(y_topics_test, y_topics_pred)\n",
    "df_cm_tp_nb = pd.DataFrame(cm_tp_nb, index=['Lecturer','Training Program','Facility','Others'], columns=['Lecturer','Training Program','Facility','Others'])\n",
    "sns.heatmap(df_cm_tp_nb, annot=True, square=True, annot_kws={\"size\": 16}, fmt='2g', cmap='Greens')\n",
    "\n",
    "plt.subplot(2,2,2)\n",
    "plt.title('Sentiment Classification', fontsize=16)\n",
    "cm_sc_nb = confusion_matrix(y_sentiment_test, y_sentiment_pred)\n",
    "df_cm_sc_nb = pd.DataFrame(cm_sc_nb, index=['Negative','Neutral','Positive'], columns=['Negative','Neutral','Positive'])\n",
    "sns.heatmap(df_cm_sc_nb, annot=True, square=True, annot_kws={\"size\": 16}, fmt='2g', cmap='Greens')"
   ]
  },
  {
   "cell_type": "markdown",
   "metadata": {
    "id": "lXu_Fajob0ng"
   },
   "source": [
    "## 2.Random Forest\n"
   ]
  },
  {
   "cell_type": "markdown",
   "metadata": {
    "id": "j6abqFUaEsUv"
   },
   "source": [
    "### Topic Classification"
   ]
  },
  {
   "cell_type": "code",
   "execution_count": null,
   "metadata": {
    "colab": {
     "base_uri": "https://localhost:8080/"
    },
    "executionInfo": {
     "elapsed": 13357,
     "status": "ok",
     "timestamp": 1622559626748,
     "user": {
      "displayName": "Thao Nguyen Thi Thu",
      "photoUrl": "",
      "userId": "18428235540546363177"
     },
     "user_tz": -420
    },
    "id": "M3ir-h1KEpYP",
    "outputId": "465af655-85ba-43e7-f6e9-79f05c2650fd"
   },
   "outputs": [
    {
     "data": {
      "text/plain": [
       "0.8559696778269109"
      ]
     },
     "execution_count": 27,
     "metadata": {
      "tags": []
     },
     "output_type": "execute_result"
    }
   ],
   "source": [
    "from sklearn.ensemble import RandomForestClassifier\n",
    "\n",
    "model = RandomForestClassifier()\n",
    "\n",
    "model.fit(X_train_vector, y_topics_train)\n",
    "y_topics_pred = model.predict(X_test_vector)\n",
    "\n",
    "from sklearn.metrics import accuracy_score\n",
    "accuracy_score(y_topics_test, y_topics_pred)"
   ]
  },
  {
   "cell_type": "code",
   "execution_count": null,
   "metadata": {
    "colab": {
     "base_uri": "https://localhost:8080/"
    },
    "executionInfo": {
     "elapsed": 330,
     "status": "ok",
     "timestamp": 1622559663564,
     "user": {
      "displayName": "Thao Nguyen Thi Thu",
      "photoUrl": "",
      "userId": "18428235540546363177"
     },
     "user_tz": -420
    },
    "id": "GfPo5OUjF0hL",
    "outputId": "03414afb-3317-4ddb-9b84-31dfd0143e8d"
   },
   "outputs": [
    {
     "name": "stdout",
     "output_type": "stream",
     "text": [
      "              precision    recall  f1-score   support\n",
      "\n",
      "           0       0.88      0.96      0.92      2290\n",
      "           1       0.74      0.62      0.67       572\n",
      "           2       0.92      0.84      0.88       145\n",
      "           3       0.73      0.28      0.41       159\n",
      "\n",
      "    accuracy                           0.86      3166\n",
      "   macro avg       0.82      0.67      0.72      3166\n",
      "weighted avg       0.85      0.86      0.84      3166\n",
      "\n"
     ]
    }
   ],
   "source": [
    "from sklearn.metrics import accuracy_score, f1_score, precision_score, recall_score, classification_report\n",
    "\n",
    "print(classification_report(y_topics_test, y_topics_pred))"
   ]
  },
  {
   "cell_type": "markdown",
   "metadata": {
    "id": "pVBg27REGCno"
   },
   "source": [
    "### Sentiment Classification"
   ]
  },
  {
   "cell_type": "code",
   "execution_count": null,
   "metadata": {
    "colab": {
     "base_uri": "https://localhost:8080/"
    },
    "executionInfo": {
     "elapsed": 12400,
     "status": "ok",
     "timestamp": 1622559852145,
     "user": {
      "displayName": "Thao Nguyen Thi Thu",
      "photoUrl": "",
      "userId": "18428235540546363177"
     },
     "user_tz": -420
    },
    "id": "DWzUQ2f2GJTn",
    "outputId": "bd4d5724-7fe8-4818-e0c5-0765572e914e"
   },
   "outputs": [
    {
     "data": {
      "text/plain": [
       "0.8704990524320909"
      ]
     },
     "execution_count": 29,
     "metadata": {
      "tags": []
     },
     "output_type": "execute_result"
    }
   ],
   "source": [
    "from sklearn.ensemble import RandomForestClassifier\n",
    "\n",
    "model = RandomForestClassifier()\n",
    "\n",
    "model.fit(X_train_vector, y_sentiment_train)\n",
    "y_sentiment_pred = model.predict(X_test_vector)\n",
    "\n",
    "from sklearn.metrics import accuracy_score\n",
    "accuracy_score(y_sentiment_test, y_sentiment_pred)"
   ]
  },
  {
   "cell_type": "code",
   "execution_count": null,
   "metadata": {
    "colab": {
     "base_uri": "https://localhost:8080/"
    },
    "executionInfo": {
     "elapsed": 552,
     "status": "ok",
     "timestamp": 1622559881671,
     "user": {
      "displayName": "Thao Nguyen Thi Thu",
      "photoUrl": "",
      "userId": "18428235540546363177"
     },
     "user_tz": -420
    },
    "id": "E7WkMSc4GqCD",
    "outputId": "8339dc46-7278-4692-fc2e-65509109e4e9"
   },
   "outputs": [
    {
     "name": "stdout",
     "output_type": "stream",
     "text": [
      "              precision    recall  f1-score   support\n",
      "\n",
      "           0       0.84      0.94      0.88      1409\n",
      "           1       0.70      0.13      0.21       167\n",
      "           2       0.91      0.89      0.90      1590\n",
      "\n",
      "    accuracy                           0.87      3166\n",
      "   macro avg       0.81      0.65      0.67      3166\n",
      "weighted avg       0.87      0.87      0.86      3166\n",
      "\n"
     ]
    }
   ],
   "source": [
    "from sklearn.metrics import accuracy_score, f1_score, precision_score, recall_score, classification_report\n",
    "\n",
    "print(classification_report(y_sentiment_test, y_sentiment_pred))"
   ]
  },
  {
   "cell_type": "markdown",
   "metadata": {
    "id": "G3TY6KuuGz8i"
   },
   "source": [
    "### Confusion Matrix"
   ]
  },
  {
   "cell_type": "code",
   "execution_count": null,
   "metadata": {
    "colab": {
     "base_uri": "https://localhost:8080/"
    },
    "executionInfo": {
     "elapsed": 471,
     "status": "ok",
     "timestamp": 1622559943510,
     "user": {
      "displayName": "Thao Nguyen Thi Thu",
      "photoUrl": "",
      "userId": "18428235540546363177"
     },
     "user_tz": -420
    },
    "id": "x6SoPIcsG51S",
    "outputId": "d4b8cb78-76d7-421b-d1fd-37f8242b6f2a"
   },
   "outputs": [
    {
     "data": {
      "text/plain": [
       "array([[2190,   84,    2,   14],\n",
       "       [ 208,  353,    8,    3],\n",
       "       [  15,    8,  122,    0],\n",
       "       [  80,   33,    1,   45]])"
      ]
     },
     "execution_count": 31,
     "metadata": {
      "tags": []
     },
     "output_type": "execute_result"
    }
   ],
   "source": [
    "from sklearn.metrics import confusion_matrix\n",
    "\n",
    "cm_tp_nb = confusion_matrix(y_topics_test, y_topics_pred)\n",
    "cm_tp_nb"
   ]
  },
  {
   "cell_type": "code",
   "execution_count": null,
   "metadata": {
    "colab": {
     "base_uri": "https://localhost:8080/"
    },
    "executionInfo": {
     "elapsed": 356,
     "status": "ok",
     "timestamp": 1622559973748,
     "user": {
      "displayName": "Thao Nguyen Thi Thu",
      "photoUrl": "",
      "userId": "18428235540546363177"
     },
     "user_tz": -420
    },
    "id": "rg78WxnAHE0y",
    "outputId": "26453765-ab95-4d34-d63d-04191e874739"
   },
   "outputs": [
    {
     "data": {
      "text/plain": [
       "array([[1322,    5,   82],\n",
       "       [  87,   21,   59],\n",
       "       [ 173,    4, 1413]])"
      ]
     },
     "execution_count": 32,
     "metadata": {
      "tags": []
     },
     "output_type": "execute_result"
    }
   ],
   "source": [
    "from sklearn.metrics import confusion_matrix\n",
    "\n",
    "cm_sc_nb = confusion_matrix(y_sentiment_test, y_sentiment_pred)\n",
    "cm_sc_nb"
   ]
  },
  {
   "cell_type": "code",
   "execution_count": null,
   "metadata": {
    "colab": {
     "base_uri": "https://localhost:8080/",
     "height": 297
    },
    "executionInfo": {
     "elapsed": 1166,
     "status": "ok",
     "timestamp": 1622560048652,
     "user": {
      "displayName": "Thao Nguyen Thi Thu",
      "photoUrl": "",
      "userId": "18428235540546363177"
     },
     "user_tz": -420
    },
    "id": "JexYDJL-HPu9",
    "outputId": "8ab4a8de-1011-4ba0-bd68-2467617a8803"
   },
   "outputs": [
    {
     "data": {
      "text/plain": [
       "<matplotlib.axes._subplots.AxesSubplot at 0x7f4198949e90>"
      ]
     },
     "execution_count": 33,
     "metadata": {
      "tags": []
     },
     "output_type": "execute_result"
    },
    {
     "data": {
      "image/png": "[encoded data removed]",
      "text/plain": [
       "<Figure size 1224x864 with 4 Axes>"
      ]
     },
     "metadata": {
      "needs_background": "light",
      "tags": []
     },
     "output_type": "display_data"
    }
   ],
   "source": [
    "from sklearn.metrics import confusion_matrix\n",
    "import seaborn as sns\n",
    "import matplotlib.pyplot as plt\n",
    "\n",
    "plt.figure(figsize=(17,12))\n",
    "plt.suptitle('Confusion Matrix: Random Forest', fontsize=20)\n",
    "\n",
    "plt.subplot(2,2,1)\n",
    "plt.title('Topic Classification', fontsize=16)\n",
    "cm_tp_nb = confusion_matrix(y_topics_test, y_topics_pred)\n",
    "df_cm_tp_nb = pd.DataFrame(cm_tp_nb, index=['Lecturer','Training Program','Facility','Others'], columns=['Lecturer','Training Program','Facility','Others'])\n",
    "sns.heatmap(df_cm_tp_nb, annot=True, square=True, annot_kws={\"size\": 16}, fmt='2g', cmap='Greens')\n",
    "\n",
    "plt.subplot(2,2,2)\n",
    "plt.title('Sentiment Classification', fontsize=16)\n",
    "cm_sc_nb = confusion_matrix(y_sentiment_test, y_sentiment_pred)\n",
    "df_cm_sc_nb = pd.DataFrame(cm_sc_nb, index=['Negative','Neutral','Positive'], columns=['Negative','Neutral','Positive'])\n",
    "sns.heatmap(df_cm_sc_nb, annot=True, square=True, annot_kws={\"size\": 16}, fmt='2g', cmap='Greens')"
   ]
  },
  {
   "cell_type": "markdown",
   "metadata": {
    "id": "8vXPT6SWcQD2"
   },
   "source": [
    "## 3.LSTM\n",
    "\n",
    "\n",
    "\n"
   ]
  },
  {
   "cell_type": "code",
   "execution_count": null,
   "metadata": {
    "id": "FsjhndugNFnP"
   },
   "outputs": [],
   "source": []
  },
  {
   "cell_type": "markdown",
   "metadata": {
    "id": "aeYBG2OUDf4n"
   },
   "source": [
    "## 4.CNN"
   ]
  },
  {
   "cell_type": "markdown",
   "metadata": {
    "id": "dAeXoEMscecR"
   },
   "source": [
    "## 5.PhoBERT"
   ]
  }
 ],
 "metadata": {
  "colab": {
   "collapsed_sections": [],
   "name": "UIT-VSFC.ipynb",
   "provenance": [],
   "toc_visible": true
  },
  "kernelspec": {
   "display_name": "Python 3",
   "language": "python",
   "name": "python3"
  },
  "language_info": {
   "codemirror_mode": {
    "name": "ipython",
    "version": 3
   },
   "file_extension": ".py",
   "mimetype": "text/x-python",
   "name": "python",
   "nbconvert_exporter": "python",
   "pygments_lexer": "ipython3",
   "version": "3.7.6"
  }
 },
 "nbformat": 4,
 "nbformat_minor": 1
}
