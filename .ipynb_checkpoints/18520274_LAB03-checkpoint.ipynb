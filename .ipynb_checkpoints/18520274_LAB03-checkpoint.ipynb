{
 "cells": [
  {
   "cell_type": "code",
   "execution_count": 50,
   "metadata": {
    "id": "15zu-tuG9Yqi"
   },
   "outputs": [],
   "source": [
    "import random as rd \n",
    "import numpy as np"
   ]
  },
  {
   "cell_type": "code",
   "execution_count": null,
   "metadata": {
    "id": "NmxFNaxUhZXk"
   },
   "outputs": [],
   "source": [
    "'''\n",
    "Yêu cầu:\n",
    "  SV 1500\n",
    "  GV 50\n",
    "  MH 10\n",
    "  BD 10000\n",
    "  MaGV: 80001 -> 80050\n",
    "  Xoas nhunwg khong xoas, add thêm thuộc tính \"Không tồn tại\"\n",
    "'''"
   ]
  },
  {
   "cell_type": "markdown",
   "metadata": {
    "id": "xWNb_A7D8ZIo"
   },
   "source": [
    "#Data\n"
   ]
  },
  {
   "cell_type": "code",
   "execution_count": 51,
   "metadata": {
    "id": "sbKf5SeE8b8g"
   },
   "outputs": [],
   "source": [
    "# DATA ĐỊA CHỈ\n",
    "import requests\n",
    "response = requests.get(\"https://cdn.jsdelivr.net/gh/thien0291/vietnam_dataset@1.0.0/data/SG.json\")\n",
    "data_address = response.json()['district']\n",
    "def random_address(data_diachi):\n",
    "  chon_dia_chi=data_address[rd.randint(0,len(data_address)-1)]\n",
    "  chon_phuong_xa=chon_dia_chi['ward'][rd.randint(0,len(chon_dia_chi['ward'])-1)]\n",
    "  so_nha=chon_dia_chi['street'][rd.randint(0,len(chon_dia_chi['street'])-1)]\n",
    "  quanhuyen='{} {}'.format(chon_dia_chi['pre'],chon_dia_chi['name'])\n",
    "  phuongxa='{} {}'.format(chon_phuong_xa['pre'],chon_phuong_xa['name'])\n",
    "  return '{} {} {}'.format(so_nha,phuongxa,quanhuyen)"
   ]
  },
  {
   "cell_type": "code",
   "execution_count": 52,
   "metadata": {
    "id": "LMB9ACrY9qx-"
   },
   "outputs": [],
   "source": [
    "# DATA ID SINH VIÊN\n",
    "data_id = [str(i) for i in range(21520001,21529999)]\n",
    "\n",
    "# DATA NAME\n",
    "# data_name = np.loadtxt(\"/content/girl.txt\", delimiter='\\n',dtype=str)\n",
    "data_name = ['Phương Chi', 'An Bình', 'An Di', 'An Hạ', 'An Hằng', 'An Khê', 'An Nhiên', 'An Nhàn', 'Anh Chi', 'Anh Hương', 'Anh Mai', 'Anh Phương', 'Anh Thi', 'Anh Thy', 'Anh Thơ', 'Anh Thư', 'Anh Thảo', 'Anh Vũ', 'Anh Ðào', 'Ban Mai', 'Bình Minh', 'Bình Yên', 'Bích Chiêu', 'Bích Châu', 'Bích Duyên', 'Bích Hiền', 'Bích Huệ', 'Bích Hà', 'Bích Hạnh', 'Bích Hải', 'Bích Hảo', 'Bích Hậu', 'Bích Hằng', 'Bích Hồng', 'Bích Hợp', 'Bích Lam', 'Bích Liên', 'Bích Loan', 'Bích Nga', 'Bích Ngà', 'Bích Ngân', 'Bích Ngọc', 'Bích Như', 'Bích Phượng', 'Bích Quyên', 'Bích Quân', 'Bích San', 'Bích Thoa', 'Bích Thu', 'Bích Thảo', 'Bích Thủy', 'Bích Trang', 'Bích Trâm', 'Bích Ty', 'Bích Vân', 'Bích Ðiệp', 'Bích Ðào', 'Băng Băng', 'Băng Tâm', 'Bạch Cúc', 'Bạch Hoa', 'Bạch Kim', 'Bạch Liên', 'Bạch Loan', 'Bạch Mai', 'Bạch Quỳnh', 'Bạch Trà', 'Bạch Tuyết', 'Bạch Vân', 'Bạch Yến', 'Bảo Anh', 'Bảo Bình', 'Bảo Châu', 'Bảo Huệ', 'Bảo Hà', 'Bảo Hân', 'Bảo Lan', 'Bảo Lễ', 'Bảo Ngọc', 'Bảo Phương', 'Bảo Quyên', 'Bảo Quỳnh', 'Bảo Thoa', 'Bảo Thúy', 'Bảo Tiên', 'Bảo Trâm', 'Bảo Trân', 'Bảo Trúc', 'Bảo Uyên', 'Bảo Vy', 'Bảo Vân', 'Bội Linh', 'Cam Thảo', 'Chi Lan', 'Chi Mai', 'Chiêu Dương', 'Cát Cát', 'Cát Linh', 'Cát Ly', 'Cát Tiên', 'Cát Tường', 'Cẩm Hiền', 'Cẩm Hường', 'Cẩm Hạnh', 'Cẩm Linh', 'Cẩm Liên', 'Cẩm Ly', 'Cẩm Nhi', 'Cẩm Nhung', 'Cẩm Thúy', 'Cẩm Tú', 'Cẩm Vân', 'Cẩm Yến', 'Di Nhiên', 'Diên Vỹ', 'Diễm Chi', 'Diễm Châu', 'Diễm Hương', 'Diễm Hạnh', 'Diễm Hằng', 'Diễm Khuê', 'Diễm Kiều', 'Diễm Liên', 'Diễm Lộc', 'Diễm My', 'Diễm Phúc', 'Diễm Phương', 'Diễm Phước', 'Diễm Phượng', 'Diễm Quyên', 'Diễm Quỳnh', 'Diễm Thúy', 'Diễm Thư', 'Diễm Thảo', 'Diễm Trang', 'Diễm Trinh', 'Diễm Uyên', 'Diệp Anh', 'Diệp Vy', 'Diệu Anh', 'Diệu Hiền', 'Diệu Hoa', 'Diệu Huyền', 'Diệu Hương', 'Diệu Hạnh', 'Diệu Hằng', 'Diệu Hồng', 'Diệu Lan', 'Diệu Linh', 'Diệu Loan', 'Diệu Nga', 'Diệu Ngà', 'Diệu Ngọc', 'Diệu Nương', 'Diệu Thiện', 'Diệu Thúy', 'Diệu Vân', 'Diệu Ái', 'Duy Hạnh', 'Duy Mỹ', 'Duy Uyên', 'Duyên Hồng', 'Duyên My', 'Duyên Mỹ', 'Duyên Nương', 'Dã Lan', 'Dã Lâm', 'Dã Thảo', 'Dạ Hương', 'Dạ Lan', 'Dạ Nguyệt', 'Dạ Thi', 'Dạ Thảo', 'Dạ Yến', 'Gia Hân', 'Gia Khanh', 'Gia Linh', 'Gia Nhi', 'Gia Quỳnh', 'Giang Thanh', 'Giang Thiên', 'Giao Hưởng', 'Giao Kiều', 'Giao Linh', 'Giáng Ngọc', 'Giáng Tiên', 'Giáng Uyên', 'Hiếu Giang', 'Hiếu Hạnh', 'Hiếu Khanh', 'Hiếu Minh', 'Hiền Chung', 'Hiền Hòa', 'Hiền Mai', 'Hiền Nhi', 'Hiền Nương', 'Hiền Thục', 'Hiểu Lam', 'Hiểu Vân', 'Hoa Liên', 'Hoa Lý', 'Hoa Thiên', 'Hoa Tiên', 'Hoa Tranh', 'Hoài An', 'Hoài Giang', 'Hoài Hương', 'Hoài Phương', 'Hoài Thương', 'Hoài Trang', 'Hoài Vỹ', 'Hoàn Châu', 'Hoàn Vi', 'Hoàng Cúc', 'Hoàng Hà', 'Hoàng Kim', 'Hoàng Lan', 'Hoàng Mai', 'Hoàng Miên', 'Hoàng Nguyên', 'Hoàng Oanh', 'Hoàng Sa', 'Hoàng Thư', 'Hoàng Xuân', 'Hoàng Yến', 'Hoạ Mi', 'Huyền Anh', 'Huyền Diệu', 'Huyền Linh', 'Huyền Ngọc', 'Huyền Nhi', 'Huyền Thoại', 'Huyền Thư', 'Huyền Trang', 'Huyền Trâm', 'Huyền Trân', 'Huệ An', 'Huệ Hương', 'Huệ Hồng', 'Huệ Lan', 'Huệ Linh', 'Huệ Lâm', 'Huệ My', 'Huệ Phương', 'Huệ Thương', 'Huệ Ân', 'Huỳnh Anh', 'Hà Giang', 'Hà Liên', 'Hà Mi', 'Hà My', 'Hà Nhi', 'Hà Phương', 'Hà Thanh', 'Hà Tiên', 'Hàm Duyên', 'Hàm Nghi', 'Hàm Thơ', 'Hàm Ý', 'Hương Chi', 'Hương Giang', 'Hương Lan', 'Hương Liên', 'Hương Ly', 'Hương Lâm', 'Hương Mai', 'Hương Nhi', 'Hương Thu', 'Hương Thảo', 'Hương Thủy', 'Hương Tiên', 'Hương Trang', 'Hương Trà', 'Hương Xuân', 'Hướng Dương', 'Hạ Băng', 'Hạ Giang', 'Hạ Phương', 'Hạ Tiên', 'Hạ Uyên', 'Hạ Vy', 'Hạc Cúc', 'Hạnh Chi', 'Hạnh Dung', 'Hạnh Linh', 'Hạnh My', 'Hạnh Nga', 'Hạnh Nhơn', 'Hạnh Phương', 'Hạnh San', 'Hạnh Thảo', 'Hạnh Trang', 'Hạnh Vi', 'Hải Anh', 'Hải Châu', 'Hải Duyên', 'Hải Dương', 'Hải Miên', 'Hải My', 'Hải Mỹ', 'Hải Ngân', 'Hải Nhi', 'Hải Phương', 'Hải Phượng', 'Hải San', 'Hải Sinh', 'Hải Thanh', 'Hải Thảo', 'Hải Thụy', 'Hải Uyên', 'Hải Vy', 'Hải Vân', 'Hải Yến', 'Hải Ân', 'Hải Ðường', 'Hảo Nhi', 'Hằng Anh', 'Hằng Nga', 'Họa Mi', 'Hồ Diệp', 'Hồng Anh', 'Hồng Bạch Thảo', 'Hồng Châu', 'Hồng Diễm', 'Hồng Giang', 'Hồng Hoa', 'Hồng Hà', 'Hồng Hạnh', 'Hồng Khanh', 'Hồng Khuê', 'Hồng Khôi', 'Hồng Linh', 'Hồng Liên', 'Hồng Lâm', 'Hồng Mai', 'Hồng Nga', 'Hồng Ngân', 'Hồng Ngọc', 'Hồng Nhung', 'Hồng Như', 'Hồng Nhạn', 'Hồng Oanh', 'Hồng Phúc', 'Hồng Phương', 'Hồng Quế', 'Hồng Thu', 'Hồng Thúy', 'Hồng Thư', 'Hồng Thảo', 'Hồng Thắm', 'Hồng Thủy', 'Hồng Trúc', 'Hồng Tâm', 'Hồng Vân', 'Hồng Xuân', 'Hồng Ðiệp', 'Hồng Ðào', 'Hồng Đăng', 'Khiết Linh', 'Khiết Tâm', 'Khuê Trung', 'Khánh Chi', 'Khánh Giang', 'Khánh Giao', 'Khánh Huyền', 'Khánh Hà', 'Khánh Hằng', 'Khánh Linh', 'Khánh Ly', 'Khánh Mai', 'Khánh My', 'Khánh Ngân', 'Khánh Ngọc', 'Khánh Quyên', 'Khánh Quỳnh', 'Khánh Thủy', 'Khánh Trang', 'Khánh Vi', 'Khánh Vy', 'Khánh Vân', 'Khúc Lan', 'Khả Khanh', 'Khả Tú', 'Khả Ái', 'Khải Ca', 'Khải Hà', 'Khải Tâm', 'Kim Anh', 'Kim Chi', 'Kim Cương', 'Kim Dung', 'Kim Duyên', 'Kim Hoa', 'Kim Hương', 'Kim Khanh', 'Kim Khuyên', 'Kim Khánh', 'Kim Lan', 'Kim Liên', 'Kim Loan', 'Kim Ly', 'Kim Mai', 'Kim Ngân', 'Kim Ngọc', 'Kim Oanh', 'Kim Phượng', 'Kim Quyên', 'Kim Sa', 'Kim Thanh', 'Kim Thoa', 'Kim Thu', 'Kim Thy', 'Kim Thông', 'Kim Thư', 'Kim Thảo', 'Kim Thủy', 'Kim Trang', 'Kim Tuyến', 'Kim Tuyết', 'Kim Tuyền', 'Kim Xuyến', 'Kim Xuân', 'Kim Yến', 'Kim Ánh', 'Kim Đan', 'Kiết Hồng', 'Kiết Trinh', 'Kiều Anh', 'Kiều Diễm', 'Kiều Dung', 'Kiều Giang', 'Kiều Hoa', 'Kiều Hạnh', 'Kiều Khanh', 'Kiều Loan', 'Kiều Mai', 'Kiều Minh', 'Kiều Mỹ', 'Kiều Nga', 'Kiều Nguyệt', 'Kiều Nương', 'Kiều Thu', 'Kiều Trang', 'Kiều Trinh', 'Kỳ Anh', 'Kỳ Diệu', 'Kỳ Duyên', 'Lam Giang', 'Lam Hà', 'Lam Khê', 'Lam Ngọc', 'Lam Tuyền', 'Lan Anh', 'Lan Chi', 'Lan Hương', 'Lan Khuê', 'Lan Ngọc', 'Lan Nhi', 'Lan Phương', 'Lan Thương', 'Lan Trúc', 'Lan Vy', 'Linh Chi', 'Linh Châu', 'Linh Duyên', 'Linh Giang', 'Linh Hà', 'Linh Lan', 'Linh Nhi', 'Linh Phương', 'Linh Phượng', 'Linh San', 'Linh Trang', 'Linh Ðan', 'Liên Chi', 'Liên Hoa', 'Liên Hương', 'Liên Như', 'Liên Phương', 'Liên Trân', 'Liễu Oanh', 'Loan Châu', 'Ly Châu', 'Lâm Nhi', 'Lâm Oanh', 'Lâm Tuyền', 'Lâm Uyên', 'Lê Quỳnh', 'Lưu Ly', 'Lệ Băng', 'Lệ Chi', 'Lệ Giang', 'Lệ Hoa', 'Lệ Huyền', 'Lệ Khanh', 'Lệ Nga', 'Lệ Nhi', 'Lệ Quyên', 'Lệ Quân', 'Lệ Thanh', 'Lệ Thu', 'Lệ Thủy', 'Lộc Uyên', 'Lộc Uyển', 'Lục Bình', 'Mai Anh', 'Mai Chi', 'Mai Châu', 'Mai Hiền', 'Mai Hà', 'Mai Hương', 'Mai Hạ', 'Mai Khanh', 'Mai Khôi', 'Mai Lan', 'Mai Linh', 'Mai Liên', 'Mai Loan', 'Mai Ly', 'Mai Nhi', 'Mai Phương', 'Mai Quyên', 'Mai Thanh', 'Mai Thu', 'Mai Thy', 'Mai Thảo', 'Mai Trinh', 'Mai Tâm', 'Mai Vy', 'Minh An', 'Minh Châu', 'Minh Duyên', 'Minh Hiền', 'Minh Huyền', 'Minh Huệ', 'Minh Hà', 'Minh Hương', 'Minh Hạnh', 'Minh Hằng', 'Minh Hồng', 'Minh Khai', 'Minh Khuê', 'Minh Loan', 'Minh Minh', 'Minh Nguyệt', 'Minh Ngọc', 'Minh Nhi', 'Minh Như', 'Minh Phương', 'Minh Phượng', 'Minh Thu', 'Minh Thúy', 'Minh Thư', 'Minh Thương', 'Minh Thảo', 'Minh Thủy', 'Minh Trang', 'Minh Tuyết', 'Minh Tuệ', 'Minh Tâm', 'Minh Uyên', 'Minh Vy', 'Minh Xuân', 'Minh Yến', 'Minh Đan', 'Mậu Xuân', 'Mộc Miên', 'Mộng Hoa', 'Mộng Hương', 'Mộng Hằng', 'Mộng Lan', 'Mộng Liễu', 'Mộng Nguyệt', 'Mộng Nhi', 'Mộng Quỳnh', 'Mộng Thi', 'Mộng Thu', 'Mộng Tuyền', 'Mộng Vi', 'Mộng Vy', 'Mộng Vân', 'Mộng Ðiệp', 'Mỹ Anh', 'Mỹ Diễm', 'Mỹ Dung', 'Mỹ Duyên', 'Mỹ Hiệp', 'Mỹ Hoàn', 'Mỹ Huyền', 'Mỹ Huệ', 'Mỹ Hường', 'Mỹ Hạnh', 'Mỹ Khuyên', 'Mỹ Kiều', 'Mỹ Lan', 'Mỹ Loan', 'Mỹ Lệ', 'Mỹ Lợi', 'Mỹ Nga', 'Mỹ Ngọc', 'Mỹ Nhi', 'Mỹ Nhân', 'Mỹ Nương', 'Mỹ Phương', 'Mỹ Phượng', 'Mỹ Phụng', 'Mỹ Thuần', 'Mỹ Thuận', 'Mỹ Trang', 'Mỹ Trâm', 'Mỹ Tâm', 'Mỹ Uyên', 'Mỹ Vân', 'Mỹ Xuân', 'Mỹ Yến', 'Nghi Dung', 'Nghi Minh', 'Nghi Xuân', 'Nguyên Hồng', 'Nguyên Thảo', 'Nguyết Ánh', 'Nguyệt Anh', 'Nguyệt Cát', 'Nguyệt Cầm', 'Nguyệt Hà', 'Nguyệt Hồng', 'Nguyệt Lan', 'Nguyệt Minh', 'Nguyệt Nga', 'Nguyệt Quế', 'Nguyệt Uyển', 'Nguyệt Ánh', 'Ngân Anh', 'Ngân Hà', 'Ngân Thanh', 'Ngân Trúc', 'Ngọc Anh', 'Ngọc Bích', 'Ngọc Cầm', 'Ngọc Diệp', 'Ngọc Dung', 'Ngọc Hiền', 'Ngọc Hoa', 'Ngọc Hoan', 'Ngọc Hoàn', 'Ngọc Huyền', 'Ngọc Huệ', 'Ngọc Hà', 'Ngọc Hân', 'Ngọc Hạ', 'Ngọc Hạnh', 'Ngọc Hằng', 'Ngọc Khanh', 'Ngọc Khuê', 'Ngọc Khánh', 'Ngọc Lam', 'Ngọc Lan', 'Ngọc Linh', 'Ngọc Liên', 'Ngọc Loan', 'Ngọc Ly', 'Ngọc Lâm', 'Ngọc Lý', 'Ngọc Lệ', 'Ngọc Mai', 'Ngọc Nhi', 'Ngọc Nữ', 'Ngọc Oanh', 'Ngọc Phụng', 'Ngọc Quyên', 'Ngọc Quế', 'Ngọc Quỳnh', 'Ngọc San', 'Ngọc Sương', 'Ngọc Thi', 'Ngọc Thy', 'Ngọc Thơ', 'Ngọc Trinh', 'Ngọc Trâm', 'Ngọc Tuyết', 'Ngọc Tâm', 'Ngọc Tú', 'Ngọc Uyên', 'Ngọc Uyển', 'Ngọc Vy', 'Ngọc Vân', 'Ngọc Yến', 'Ngọc Ái', 'Ngọc Ánh', 'Ngọc Ðiệp', 'Ngọc Ðàn', 'Ngọc Ðào', 'Nhan Hồng', 'Nhã Hương', 'Nhã Hồng', 'Nhã Khanh', 'Nhã Lý', 'Nhã Mai', 'Nhã Sương', 'Nhã Thanh', 'Nhã Trang', 'Nhã Trúc', 'Nhã Uyên', 'Nhã Yến', 'Nhã Ý', 'Như Anh', 'Như Bảo', 'Như Hoa', 'Như Hảo', 'Như Hồng', 'Như Loan', 'Như Mai', 'Như Ngà', 'Như Ngọc', 'Như Phương', 'Như Quân', 'Như Quỳnh', 'Như Thảo', 'Như Trân', 'Như Tâm', 'Như Ý', 'Nhất Thương', 'Nhật Dạ', 'Nhật Hà', 'Nhật Hạ', 'Nhật Lan', 'Nhật Linh', 'Nhật Lệ', 'Nhật Mai', 'Nhật Phương', 'Nhật Ánh', 'Oanh Thơ', 'Oanh Vũ', 'Phi Khanh', 'Phi Nhung', 'Phi Nhạn', 'Phi Phi', 'Phi Phượng', 'Phong Lan', 'Phương An', 'Phương Anh', 'Phương Chi', 'Phương Châu', 'Phương Diễm', 'Phương Dung', 'Phương Giang', 'Phương Hiền', 'Phương Hoa', 'Phương Hạnh', 'Phương Lan', 'Phương Linh', 'Phương Liên', 'Phương Loan', 'Phương Mai', 'Phương Nghi', 'Phương Ngọc', 'Phương Nhi', 'Phương Nhung', 'Phương Phương', 'Phương Quyên', 'Phương Quân', 'Phương Quế', 'Phương Quỳnh', 'Phương Thanh', 'Phương Thi', 'Phương Thùy', 'Phương Thảo', 'Phương Thủy', 'Phương Trang', 'Phương Trinh', 'Phương Trà', 'Phương Trâm', 'Phương Tâm', 'Phương Uyên', 'Phương Yến', 'Phước Bình', 'Phước Huệ', 'Phượng Bích', 'Phượng Liên', 'Phượng Loan', 'Phượng Lệ', 'Phượng Nga', 'Phượng Nhi', 'Phượng Tiên', 'Phượng Uyên', 'Phượng Vy', 'Phượng Vũ', 'Phụng Yến', 'Quế Anh', 'Quế Chi', 'Quế Linh', 'Quế Lâm', 'Quế Phương', 'Quế Thu', 'Quỳnh Anh', 'Quỳnh Chi', 'Quỳnh Dao', 'Quỳnh Dung', 'Quỳnh Giang', 'Quỳnh Giao', 'Quỳnh Hoa', 'Quỳnh Hà', 'Quỳnh Hương', 'Quỳnh Lam', 'Quỳnh Liên', 'Quỳnh Lâm', 'Quỳnh Nga', 'Quỳnh Ngân', 'Quỳnh Nhi', 'Quỳnh Nhung', 'Quỳnh Như', 'Quỳnh Phương', 'Quỳnh Sa', 'Quỳnh Thanh', 'Quỳnh Thơ', 'Quỳnh Tiên', 'Quỳnh Trang', 'Quỳnh Trâm', 'Quỳnh Vân', 'Sao Băng', 'Sao Mai', 'Song Kê', 'Song Lam', 'Song Oanh', 'Song Thư', 'Sông Hà', 'Sông Hương', 'Sơn Ca', 'Sơn Tuyền', 'Sương Sương', 'Thanh Bình', 'Thanh Dân', 'Thanh Giang', 'Thanh Hiếu', 'Thanh Hiền', 'Thanh Hoa', 'Thanh Huyền', 'Thanh Hà', 'Thanh Hương', 'Thanh Hường', 'Thanh Hạnh', 'Thanh Hảo', 'Thanh Hằng', 'Thanh Hồng', 'Thanh Kiều', 'Thanh Lam', 'Thanh Lan', 'Thanh Loan', 'Thanh Lâm', 'Thanh Mai', 'Thanh Mẫn', 'Thanh Nga', 'Thanh Nguyên', 'Thanh Ngân', 'Thanh Ngọc', 'Thanh Nhung', 'Thanh Nhàn', 'Thanh Nhã', 'Thanh Phương', 'Thanh Thanh', 'Thanh Thiên', 'Thanh Thu', 'Thanh Thúy', 'Thanh Thư', 'Thanh Thảo', 'Thanh Thủy', 'Thanh Trang', 'Thanh Trúc', 'Thanh Tuyết', 'Thanh Tuyền', 'Thanh Tâm', 'Thanh Uyên', 'Thanh Vy', 'Thanh Vân', 'Thanh Xuân', 'Thanh Yến', 'Thanh Đan', 'Thi Cầm', 'Thi Ngôn', 'Thi Thi', 'Thi Xuân', 'Thi Yến', 'Thiên Di', 'Thiên Duyên', 'Thiên Giang', 'Thiên Hà', 'Thiên Hương', 'Thiên Khánh', 'Thiên Kim', 'Thiên Lam', 'Thiên Lan', 'Thiên Mai', 'Thiên Mỹ', 'Thiên Nga', 'Thiên Nương', 'Thiên Phương', 'Thiên Thanh', 'Thiên Thêu', 'Thiên Thư', 'Thiên Thảo', 'Thiên Trang', 'Thiên Tuyền', 'Thiếu Mai', 'Thiều Ly', 'Thiện Mỹ', 'Thiện Tiên', 'Thu Duyên', 'Thu Giang', 'Thu Hiền', 'Thu Hoài', 'Thu Huyền', 'Thu Huệ', 'Thu Hà', 'Thu Hậu', 'Thu Hằng', 'Thu Hồng', 'Thu Linh', 'Thu Liên', 'Thu Loan', 'Thu Mai', 'Thu Minh', 'Thu Nga', 'Thu Nguyệt', 'Thu Ngà', 'Thu Ngân', 'Thu Ngọc', 'Thu Nhiên', 'Thu Oanh', 'Thu Phong', 'Thu Phương', 'Thu Phượng', 'Thu Sương', 'Thu Thuận', 'Thu Thảo', 'Thu Thủy', 'Thu Trang', 'Thu Việt', 'Thu Vân', 'Thu Vọng', 'Thu Yến', 'Thuần Hậu', 'Thy Khanh', 'Thy Oanh', 'Thy Trúc', 'Thy Vân', 'Thái Chi', 'Thái Hà', 'Thái Hồng', 'Thái Lan', 'Thái Lâm', 'Thái Thanh', 'Thái Thảo', 'Thái Tâm', 'Thái Vân', 'Thùy Anh', 'Thùy Dung', 'Thùy Dương', 'Thùy Giang', 'Thùy Linh', 'Thùy Mi', 'Thùy My', 'Thùy Nhi', 'Thùy Như', 'Thùy Oanh', 'Thùy Uyên', 'Thùy Vân', 'Thúy Anh', 'Thúy Diễm', 'Thúy Hiền', 'Thúy Huyền', 'Thúy Hà', 'Thúy Hương', 'Thúy Hường', 'Thúy Hạnh', 'Thúy Hằng', 'Thúy Kiều', 'Thúy Liên', 'Thúy Liễu', 'Thúy Loan', 'Thúy Mai', 'Thúy Minh', 'Thúy My', 'Thúy Nga', 'Thúy Ngà', 'Thúy Ngân', 'Thúy Ngọc', 'Thúy Phượng', 'Thúy Quỳnh', 'Thúy Vi', 'Thúy Vy', 'Thúy Vân', 'Thơ Thơ', 'Thư Lâm', 'Thư Sương', 'Thương Huyền', 'Thương Nga', 'Thương Thương', 'Thường Xuân', 'Thạch Thảo', 'Thảo Hương', 'Thảo Hồng', 'Thảo Linh', 'Thảo Ly', 'Thảo Mai', 'Thảo My', 'Thảo Nghi', 'Thảo Nguyên', 'Thảo Nhi', 'Thảo Quyên', 'Thảo Tiên', 'Thảo Trang', 'Thảo Uyên', 'Thảo Vy', 'Thảo Vân', 'Thục Anh', 'Thục Khuê', 'Thục Nhi', 'Thục Oanh', 'Thục Quyên', 'Thục Trang', 'Thục Trinh', 'Thục Tâm', 'Thục Uyên', 'Thục Vân', 'Thục Ðoan', 'Thục Ðào', 'Thục Ðình', 'Thụy Du', 'Thụy Khanh', 'Thụy Linh', 'Thụy Lâm', 'Thụy Miên', 'Thụy Nương', 'Thụy Trinh', 'Thụy Trâm', 'Thụy Uyên', 'Thụy Vân', 'Thụy Ðào', 'Thủy Hằng', 'Thủy Hồng', 'Thủy Linh', 'Thủy Minh', 'Thủy Nguyệt', 'Thủy Quỳnh', 'Thủy Tiên', 'Thủy Trang', 'Thủy Tâm', 'Tinh Tú', 'Tiên Phương', 'Tiểu Mi', 'Tiểu My', 'Tiểu Quỳnh', 'Trang Anh', 'Trang Linh', 'Trang Nhã', 'Trang Tâm', 'Trang Ðài', 'Triều Nguyệt', 'Triều Thanh', 'Triệu Mẫn', 'Trung Anh', 'Trà Giang', 'Trà My', 'Trâm Anh', 'Trâm Oanh', 'Trân Châu', 'Trúc Chi', 'Trúc Lam', 'Trúc Lan', 'Trúc Linh', 'Trúc Liên', 'Trúc Loan', 'Trúc Ly', 'Trúc Lâm', 'Trúc Mai', 'Trúc Phương', 'Trúc Quân', 'Trúc Quỳnh', 'Trúc Vy', 'Trúc Vân', 'Trúc Ðào', 'Trúc Đào', 'Trầm Hương', 'Tuyết Anh', 'Tuyết Băng', 'Tuyết Chi', 'Tuyết Hoa', 'Tuyết Hân', 'Tuyết Hương', 'Tuyết Hồng', 'Tuyết Lan', 'Tuyết Loan', 'Tuyết Lâm', 'Tuyết Mai', 'Tuyết Nga', 'Tuyết Nhi', 'Tuyết Nhung', 'Tuyết Oanh', 'Tuyết Thanh', 'Tuyết Trinh', 'Tuyết Trầm', 'Tuyết Tâm', 'Tuyết Vy', 'Tuyết Vân', 'Tuyết Xuân', 'Tuyền Lâm', 'Tuệ Lâm', 'Tuệ Mẫn', 'Tuệ Nhi', 'Tâm Hiền', 'Tâm Hạnh', 'Tâm Hằng', 'Tâm Khanh', 'Tâm Linh', 'Tâm Nguyên', 'Tâm Nguyệt', 'Tâm Nhi', 'Tâm Như', 'Tâm Thanh', 'Tâm Trang', 'Tâm Ðoan', 'Tâm Đan', 'Tùng Linh', 'Tùng Lâm', 'Tùng Quân', 'Tùy Anh', 'Tùy Linh', 'Tú Anh', 'Tú Ly', 'Tú Nguyệt', 'Tú Quyên', 'Tú Quỳnh', 'Tú Sương', 'Tú Trinh', 'Tú Tâm', 'Tú Uyên', 'Túy Loan', 'Tường Chinh', 'Tường Vi', 'Tường Vy', 'Tường Vân', 'Tịnh Lâm', 'Tịnh Nhi', 'Tịnh Như', 'Tịnh Tâm', 'Tịnh Yên', 'Tố Loan', 'Tố Nga', 'Tố Nhi', 'Tố Quyên', 'Tố Tâm', 'Tố Uyên', 'Từ Dung', 'Từ Ân', 'Uyên Minh', 'Uyên My', 'Uyên Nhi', 'Uyên Phương', 'Uyên Thi', 'Uyên Thy', 'Uyên Thơ', 'Uyên Trâm', 'Uyên Vi', 'Uyển Khanh', 'Uyển My', 'Uyển Nghi', 'Uyển Nhi', 'Uyển Nhã', 'Uyển Như', 'Vi Quyên', 'Vinh Diệu', 'Việt Hà', 'Việt Hương', 'Việt Khuê', 'Việt Mi', 'Việt Nga', 'Việt Nhi', 'Việt Thi', 'Việt Trinh', 'Việt Tuyết', 'Việt Yến', 'Vy Lam', 'Vy Lan', 'Vàng Anh', 'Vành Khuyên', 'Vân Anh', 'Vân Chi', 'Vân Du', 'Vân Hà', 'Vân Hương', 'Vân Khanh', 'Vân Khánh', 'Vân Linh', 'Vân Ngọc', 'Vân Nhi', 'Vân Phi', 'Vân Phương', 'Vân Quyên', 'Vân Quỳnh', 'Vân Thanh', 'Vân Thúy', 'Vân Thường', 'Vân Tiên', 'Vân Trang', 'Vân Trinh', 'Vũ Hồng', 'Xuyến Chi', 'Xuân Bảo', 'Xuân Dung', 'Xuân Hiền', 'Xuân Hoa', 'Xuân Hân', 'Xuân Hương', 'Xuân Hạnh', 'Xuân Lan', 'Xuân Linh', 'Xuân Liễu', 'Xuân Loan', 'Xuân Lâm', 'Xuân Mai', 'Xuân Nghi', 'Xuân Ngọc', 'Xuân Nhi', 'Xuân Nhiên', 'Xuân Nương', 'Xuân Phương', 'Xuân Phượng', 'Xuân Thanh', 'Xuân Thu', 'Xuân Thảo', 'Xuân Thủy', 'Xuân Trang', 'Xuân Tâm', 'Xuân Uyên', 'Xuân Vân', 'Xuân Yến', 'Xuân xanh', 'Yên Bằng', 'Yên Mai', 'Yên Nhi', 'Yên Ðan', 'Yên Đan', 'Yến Anh', 'Yến Hồng', 'Yến Loan', 'Yến Mai', 'Yến My', 'Yến Nhi', 'Yến Oanh', 'Yến Phương', 'Yến Phượng', 'Yến Thanh', 'Yến Thảo', 'Yến Trang', 'Yến Trinh', 'Yến Trâm', 'Yến Ðan', 'Ái Hồng', 'Ái Khanh', 'Ái Linh', 'Ái Nhi', 'Ái Nhân', 'Ái Thi', 'Ái Thy', 'Ái Vân', 'Ánh Dương', 'Ánh Hoa', 'Ánh Hồng', 'Ánh Linh', 'Ánh Lệ', 'Ánh Mai', 'Ánh Nguyệt', 'Ánh Ngọc', 'Ánh Thơ', 'Ánh Trang', 'Ánh Tuyết', 'Ánh Xuân', 'Ðan Khanh', 'Ðan Quỳnh', 'Ðan Thu', 'Ðinh Hương', 'Ðoan Thanh', 'Ðoan Trang', 'Ðài Trang', 'Ðông Nghi', 'Ðông Nhi', 'Ðông Trà', 'Ðông Tuyền', 'Ðông Vy', 'Ðông Ðào', 'Ðồng Dao', 'Ý Bình', 'Ý Lan', 'Ý Nhi', 'Đan Linh', 'Đan Quỳnh', 'Đan Thanh', 'Đan Thu', 'Đan Thư', 'Đan Tâm', 'Đinh Hương', 'Đoan Thanh', 'Đoan Trang', 'Đài Trang', 'Đông Nghi', 'Đông Trà', 'Đông Tuyền', 'Đông Vy', 'Đơn Thuần', 'Đức Hạnh', 'Ấu Lăng']\n"
   ]
  },
  {
   "cell_type": "code",
   "execution_count": 53,
   "metadata": {
    "id": "vYwjmbeV-vTj"
   },
   "outputs": [],
   "source": [
    "# DATA LƯƠNG GIẢNG VIÊN\n",
    "data_salary = {'CN':2.34, 'KS':2.34, 'ThS':2.69, 'TS':3.95, 'PGS':5, 'GS':9}"
   ]
  },
  {
   "cell_type": "code",
   "execution_count": 54,
   "metadata": {
    "colab": {
     "base_uri": "https://localhost:8080/"
    },
    "id": "Jck0kd1zQbHJ",
    "outputId": "3f584831-23af-4578-9ff1-0bc51122e4d5"
   },
   "outputs": [
    {
     "name": "stdout",
     "output_type": "stream",
     "text": [
      "{'IT000': 'Hệ thống thông tin kế toán', 'IT001': 'Hoạch định nguồn lực doanh nghiệp', 'IT002': 'Tiếng Anh tăng cường 1', 'IT003': 'Tiếng Anh tăng cường 2', 'IT004': 'Tiếng Anh tăng cường 3', 'IT005': 'Tiếng Anh tăng cường 4', 'IT006': 'Nhập môn máy tính lượng tử', 'IT007': 'Kiến trúc máy tính', 'IT008': 'Giới\\xa0thiệu\\xa0ngành\\xa0Kỹ Thuật Máy tính', 'IT009': 'Lý thuyết mạch điện', 'IT010': 'Hệ thống số', 'IT011': 'Vi xử lý-vi điều khiển', 'IT012': 'Các thiết bị và mạch điện tử', 'IT013': 'Xử lý tín hiệu số', 'IT014': 'Thiết kế vi mạch với HDL', 'IT015': 'Hệ thống nhúng', 'IT016': 'Hệ điều hành nâng cao', 'IT017': 'Lập trình nhúng căn bản', 'IT018': 'Lập trình hệ thống với Java', 'IT019': 'Kiến trúc máy tính nâng cao', 'IT020': 'Đồ án môn học thiết kế mạch', 'IT021': 'Điều khiển tự động', 'IT022': 'Lập trình trên thiết bị di động', 'IT023': 'Thiết kế mạng', 'IT024': 'Đồ án môn học ngành KTMT', 'IT025': 'Thực hành điện- điện tử', 'IT026': 'Thiết kế luận lý số', 'IT027': 'Thực hành Kiến trúc máy tính', 'IT028': 'Lý thuyết mạch điện', 'IT029': 'Các thiết bị và mạch điện tử', 'IT030': 'Đồ án 1', 'IT031': 'An toàn mạng máy tính', 'IT032': 'Điều khiển tự động nâng cao', 'IT033': 'Thiết kế và lập trình Web', 'IT034': 'Xử lý tín hiệu số', 'IT035': 'Đồ án 2', 'IT036': 'Lập trình nhúng căn bản', 'IT037': 'Điều khiển tự động', 'IT038': 'ThiẾT kế hệ thống số với HDL', 'IT039': 'Tương tác người - máy', 'IT040': 'Thiết kế vi mạch với HDL', 'IT041': 'Thiết kế vi mạch số', 'IT042': 'Thiết kế hệ thống nhúng', 'IT043': 'ThiẾT kế hệ thống nhúng không dây', 'IT044': 'Hệ thống chứng thực số', 'IT045': 'Thiết kế vi mạch', 'IT046': 'Robot công nghiệp', 'IT047': 'Robot công nghiệp', 'IT048': 'Thị giác máy tính', 'IT049': 'Hệ thống thời gian thực', 'IT050': 'Xử lý song song và hệ thống phân tán', 'IT051': 'Trình biên dịch', 'IT052': 'Lập trình hệ thống với Java', 'IT053': 'Logic mờ và ứng dụng', 'IT054': 'Điều khiển tự động nâng cao', 'IT055': 'Trình biên dịch', 'IT056': 'Logic mờ và ứng dụng', 'IT057': 'Kỹ thuật chế tạo vi mạch', 'IT058': 'Thiết kế vi mạch hỗn hợp', 'IT059': 'Kĩ thuật thiết kế mạch in', 'IT060': 'Thiết kế vi mạch tương tự', 'IT061': 'Thiết kế dựa trên vi xử lý', 'IT062': 'Tự động hóa thiết kế vi mạch', 'IT063': 'Tối ưu hóa dựa trên FPGA', 'IT064': 'Kỹ thuật chế tạo vi mạch', 'IT065': 'Thiết kế vi mạch hỗn hợp', 'IT066': 'Tiếng Anh chuyên ngành Kỹ thuật Máy tính', 'IT067': 'Thiết kế vi mạch tương tự', 'IT068': 'Thiết kế dựa trên vi xử lý', 'IT069': 'Tự động hóa thiết kế vi mạch', 'IT070': 'Tối ưu hóa dựa trên FPGA', 'IT071': 'Hệ thống thời gian thực', 'IT072': 'Công nghệ IoT và Ứng dụng', 'IT073': 'Trí tuệ nhân tạo cho hệ thống nhúng', 'IT074': 'Lập trình nhúng trên các thiết bị di động', 'IT075': 'Hệ thống thông minh', 'IT076': 'Trí tuệ nhân tạo cho xe tự hành', 'IT077': 'Trí tuệ nhân tạo cho IoT', 'IT078': 'Kiến trúc IoT: Giao thức mạng và bảo mật', 'IT079': 'Thiết kế Antenna tích hợp cho thiết bị IoT', 'IT080': 'Kỹ thuật hệ thống máy tính', 'IT081': 'Các hệ điều hành nhúng', 'IT082': 'Thiết kế số', 'IT083': 'Kỹ thuật chế tạo vi mạch', 'IT084': 'Tương tác người máy', 'IT085': 'Tương tác người – Máy', 'IT086': 'Đồ án chuyên ngành Hệ thống nhúng và Robot', 'IT087': 'Đồ án chuyên ngành Thiết kế vi mạch và phần cứng', 'IT088': 'Kỹ thuật thiết kế kiểm tra', 'IT089': 'Kỹ thuật hệ thống máy tính', 'IT090': 'Chuyên đề hệ thống nhúng và robot', 'IT091': 'Đồ án chuyên ngành Hệ thống nhúng và IoT', 'IT092': 'Chuyên đề thiết kế vi mạch và phần cứng', 'IT093': 'Lập trình hệ thống', 'IT094': 'Thiết kế vi mạch hướng ASIC', 'IT095': 'Thiết kế hệ thống SoC', 'IT096': 'Chuyên đề thiết kế hệ vi mạch 1', 'IT097': 'Chuyên đề thiết kế hệ vi mạch 2', 'IT098': 'Xử lý tín hiệu số và ứng dụng', 'IT099': 'Chuyên đề thiết kế hệ thống nhúng 1', 'IT100': 'Chuyên đề thiết kế hệ thống nhúng 2', 'IT101': 'Lập trình song song và hệ phân tán', 'IT102': 'Thực tập doanh nghiệp', 'IT103': 'Thực tập doanh nghiệp', 'IT104': 'Khóa luận tốt nghiệp', 'IT105': 'Luận văn chuyên sâu đặc thù', 'IT106': 'Quản lý giao tiếp', 'IT107': 'Mạng máy tính', 'IT108': 'Bảo mật', 'IT109': 'Dự án nghiên cứu', 'IT110': 'Thiết kế và phát triển website', 'IT111': 'Internet of Things', 'IT112': 'An toàn mạng máy tính', 'IT113': 'Pháp chứng kỹ thuật số', 'IT114': 'Quản lý an toàn thông tin', 'IT115': 'Mạng máy tính', 'IT116': 'Máy học nâng cao', 'IT117': 'Máy học trong xử lý ngôn ngữ tự nhiên', 'IT118': 'Giới\\xa0thiệu\\xa0ngành\\xa0Khoa học Máy tính', 'IT119': 'Máy học nâng cao', 'IT120': 'Máy học trong xử lý ngôn ngữ tự nhiên', 'IT121': 'Chuyên đề ứng dụng Trí tuệ nhân tạo', 'IT122': 'Nguyên lý và phương pháp lập trình', 'IT123': 'Phân tích & thiết kế thuật toán', 'IT124': 'Cơ sở lập trình', 'IT125': 'Nhập môn công nghệ phần mềm', 'IT126': 'Đồ họa máy tính', 'IT127': 'Trí tuệ nhân tạo', 'IT128': 'Các hệ cơ sở tri thức', 'IT129': 'Lý thuyết thông tin', 'IT130': 'Máy học', 'IT131': 'Nhập môn công nghệ tri thức & máy học', 'IT132': 'Nguyên lý và phương pháp lập trình', 'IT133': 'Khoa học máy tính I', 'IT134': 'Phân tích và thiết kế thuật toán', 'IT135': 'Đồ họa máy tính và Xử lý ảnh', 'IT136': 'Máy học', 'IT137': 'Toán cho Khoa học máy tính', 'IT138': 'Lập trình Python cho Máy học', 'IT139': 'Tư duy tính toán', 'IT140': 'Xử lý ngôn ngữ tự nhiên nâng cao', 'IT141': 'Trí tuệ nhân tạo nâng cao', 'IT142': 'Xử lý ngôn ngữ tự nhiên', 'IT143': 'Ngôn ngữ học máy tính', 'IT144': 'Khoa học máy tính II', 'IT145': 'Biểu diễn tri thức và suy luận', 'IT146': 'Các hệ cơ sở tri thức', 'IT147': 'Xử lý ngôn ngữ tự nhiên', 'IT148': 'Xử lý ngôn ngữ tự nhiên nâng cao', 'IT149': 'Máy học nâng cao', 'IT150': 'Máy học xử lý ngôn ngữ tự nhiên', 'IT151': 'Lập trình symbolic trong trí tuệ nhân tạo', 'IT152': 'Ngôn ngữ học máy tính', 'IT153': 'Khai thác dữ liệu và ứng dụng', 'IT154': 'Máy học và ứng dụng', 'IT155': 'Ngữ nghĩa học tính toán', 'IT156': 'Nhập môn Thị giác máy tính', 'IT157': 'Tính toán đa phương tiện', 'IT158': 'Nhận dạng Thị giác', 'IT159': 'Lập trình C/C++', 'IT160': 'Chuyên đề nghiên cứu khoa học', 'IT161': 'Seminar', 'IT162': 'Kỹ thuật lập trình trí tuệ nhân tạo', 'IT163': 'Hệ thống đa tác tử', 'IT164': 'Khai thác dữ liệu và ứng dụng', 'IT165': 'Lập trình symbolic trong trí tuệ nhân tạo', 'IT166': 'Máy học nâng cao', 'IT167': 'Các hệ giải bài toán thông minh', 'IT168': 'Ngôn ngữ học ngữ liệu', 'IT169': 'Biểu diễn tri thức và ứng dụng', 'IT170': 'Các hệ thống hỏi-đáp', 'IT171': 'Máy học trong xử lý ngôn ngữ tự nhiên', 'IT172': 'Dịch máy', 'IT173': 'Các kĩ thuật trong xử lý ngôn ngữ tự nhiên', 'IT174': 'Thị giác máy tính nâng cao', 'IT175': 'Máy học trong Thị giác Máy tính', 'IT176': 'Đồ họa game', 'IT177': 'Lập trình tính toán hình thức', 'IT178': 'Tìm Kiếm Ảnh và Video', 'IT179': 'Truy vấn thông tin đa phương tiện', 'IT180': 'Tổ chức ngôn ngữ lập trình', 'IT181': 'Xử lý âm thanh và tiếng nói', 'IT182': 'Lập trình hướng đối tượng nâng cao cho môi trường windows', 'IT183': 'Nhận dạng', 'IT184': 'Xử lý văn bản Y khoa', 'IT185': 'Cấu trúc tập tin', 'IT186': 'Hệ thống máy tính', 'IT187': 'Chuyên đề NCKH 1', 'IT188': 'Phương pháp số cho máy tính kỹ thuật số', 'IT189': 'Chuyên đề NCKH 2', 'IT190': 'Cơ sở tính toán', 'IT191': 'Toán rời rạc cho máy tính', 'IT192': 'Seminar chuyên đề 1', 'IT193': 'Seminar chuyên đề 2', 'IT194': 'Công nghệ Java', 'IT195': 'Phân tích thiết kế HTTT quản lý', 'IT196': 'Các dịch vụ web', 'IT197': 'Công nghệ đa tác tử (Muli-Agent)', 'IT198': 'Logic mờ và ứng dụng', 'IT199': 'Xử lý ảnh và ứng dụng', 'IT200': 'Các kỹ thuật trong xử lý NNTN', 'IT201': 'Các hệ giải toán thông minh', 'IT202': 'Hệ suy diễn mờ', 'IT203': 'Mạng neural và thuật giải di truyền', 'IT204': 'Dịch máy', 'IT205': 'Web ngữ nghĩa', 'IT206': 'Lý thuyết automat và ứng dụng', 'IT207': 'Đồ họa máy tính', 'IT208': 'Mã hóa thông tin', 'IT209': 'Phát triển ứng dụng trên di động', 'IT210': 'Nhận dạng', 'IT211': 'Trực quan máy tính', 'IT212': 'Truy xuất thông tin', 'IT213': 'Các vấn đề chọn lọc trong Thị giác máy tính', 'IT214': 'Khai thác dữ liệu đa phương tiện', 'IT215': 'Thuật toán và tiến trình trong an toàn máy tính', 'IT216': 'Nhập môn Công nghệ phần mềm', 'IT217': 'Mạng máy tính', 'IT218': 'Các kĩ thuật học sâu và ứng dụng', 'IT219': 'Hệ điều hành', 'IT220': 'Cấu trúc dữ liệu và giải thuật', 'IT221': 'An ninh mạng', 'IT222': 'Trí tuệ nhân tạo', 'IT223': 'Các vấn đề xã hội trong tính toán', 'IT224': 'Luận văn', 'IT225': 'Khóa luận tốt nghiệp', 'IT226': 'Các công nghệ web và ứng dụng', 'IT227': 'Môn tốt nghiệp KHMT 2', 'IT228': 'Thực tập tốt nghiệp', 'IT229': 'Công nghệ .NET', 'IT230': 'Khoá luận tốt nghiệp', 'IT231': 'Chuyên đề J2EE', 'IT232': 'Hệ điều hành Linux', 'IT233': 'Lập trình cơ sở dữ liệu', 'IT234': 'Lý thuyết thông tin', 'IT235': 'Ngôn ngữ lập trình C#', 'IT236': 'Ngôn ngữ lập trình Java', 'IT237': 'Phân tích thiết kế hệ thống thông tin', 'IT238': 'Phân tích thiết kế hướng đối tượng với UML', 'IT239': 'Quản lý dự án', 'IT240': 'Xây dựng phần mềm hướng đối tượng', 'IT241': 'Phương pháp luận nghiên cứu khoa học', 'IT242': 'Toán rời rạc nâng cao', 'IT243': 'Đại số máy tính', 'IT244': 'Cấu trúc dữ liệu và giải thuật nâng cao', 'IT245': 'Một số ứng dụng của xử lý ngôn ngữ tự nhiên', 'IT246': 'Thị giác máy tính trong tương tác người – máy', 'IT247': 'Phát triển ứng dụng đa phương tiện trên thiết bị di động', 'IT248': 'Thực tại ảo', 'IT249': 'Trực quan hóa thông tin', 'IT250': 'Các vấn đề nghiên cứu và ứng dụng trong khoa học máy tính', 'IT251': 'Đồ án chuyên ngành', 'IT252': 'Đồ họa trong video game', 'IT253': 'Thị giác máy tính trong tương tác người-máy', 'IT254': 'Lập trình Javascript và ứng dụng', 'IT255': 'Tổng hợp tiếng nói', 'IT256': 'Nguyên lý các hệ cơ sở dữ liệu', 'IT257': 'Các hệ cơ sở dữ liệu phân tán', 'IT258': 'Thực tập', 'IT259': 'Lập trình', 'IT260': 'Mạng máy tính', 'IT261': 'Thực hành nghề nghiệp', 'IT262': 'Toán cho Tin học', 'IT263': 'Bảo mật', 'IT264': 'Quản lý dự án máy tính thành công', 'IT265': 'Thiết kế và phát triển cơ sở dữ liệu', 'IT266': 'Kiến trúc máy tính', 'IT267': 'Dự án nghiên cứu', 'IT268': 'Công nghệ kinh doanh thông minh', 'IT269': 'Toán rời rạc', 'IT270': 'Cấu trúc dữ liệu và giải thuật', 'IT271': 'Lập trình nâng cao', 'IT272': 'Máy học', 'IT273': 'Điện toán đám mây', 'IT274': 'Tin học đại cương', 'IT275': 'Khoa học máy tính I', 'IT276': 'Khoa học máy tính II', 'IT277': 'Tin học đại cương (TE)', 'IT278': 'Kỹ năng truyền thông làm việc nhóm', 'IT279': 'Văn hóa doanh nghiệp Nhật', 'IT280': 'Cơ sở dữ liệu', 'IT281': 'Giới\\xa0thiệu\\xa0ngành\\xa0Khoa học Dữ liệu', 'IT282': 'Thống kê và xác suất chuyên sâu', 'IT283': 'Học máy thống kê', 'IT284': 'Thu thập và tiền xử lý dữ liệu', 'IT285': 'Tính toán song song & phân tán', 'IT286': 'Phân tích và trực quan dữ liệu', 'IT287': 'Tối ứu hoá và ứng dụng', 'IT288': 'Phân tích dữ liệu lớn', 'IT289': 'Deep Learning trong khoa học dữ liệu', 'IT290': 'Đồ án khoa học dữ liệu và ứng dụng 1', 'IT291': 'Đồ án khoa học dữ liệu và ứng dụng 2', 'IT292': 'Đồ án khoa học dữ liệu và ứng dụng', 'IT293': 'Hệ khuyến nghị', 'IT294': 'Các giải thuật khai phá dữ liệu lớn', 'IT295': 'Phân tích thống kê đa biến', 'IT296': 'Thống kê Bayes', 'IT297': 'Thiết kế và phân tích thực nghiệm', 'IT298': 'Phân tích dữ liệu chuỗi thời gian và ứng dụng', 'IT299': 'Phân tích dữ liệu lớn trong tài chính', 'IT300': 'Phân tích dữ liệu truyền thông xã hội', 'IT301': 'Mô hình đồ thị xác suất', 'IT302': 'Thực tập doanh nghiệp', 'IT303': 'Xử lý ngôn ngữ tự nhiên cho Khoa học dữ liệu', 'IT304': 'Khóa luận tốt nghiệp', 'IT305': 'Cấu trúc dữ liệu và giải thuật', 'IT306': 'Cấu trúc dữ liệu & giải thuật nâng cao', 'IT307': 'Kinh tế học đại cương', 'IT308': 'Quản trị doanh nghiệp', 'IT309': 'Tiếp thị căn bản', 'IT310': 'Giới\\xa0thiệu\\xa0ngành\\xa0Thương mại Điện tử', 'IT311': 'Phân tích thiết kế quy trình nghiệp vụ doanh nghiệp', 'IT312': 'Nhập môn quản trị chuỗi cung ứng', 'IT313': 'Quản trị quan hệ khách hàng và nhà cung cấp', 'IT314': 'QuẢN trị dự án TMĐT', 'IT315': 'Thực tập doanh nghiệp', 'IT316': 'Quản trị quan hệ khách hàng và nhà cung cấp', 'IT317': 'NhẬp môn quản trị cuỗi cung ứng', 'IT318': 'Pháp luật trong thương mại điện tử', 'IT319': 'ThỰc tập doanh nhiệp', 'IT320': 'Pháp luật trong thương mại điện tử', 'IT321': 'Nguyên lý kế toán', 'IT322': 'Tiếp thị trực tuyến (E-Marketing)', 'IT323': 'Thiết kế Hệ thống Thương mại điện tử', 'IT324': 'Tiếp thị trực tuyến', 'IT325': 'Thiết kế hệ thống thương mại điện tử', 'IT326': 'Quản trị chiến lược kinh doanh điện tử', 'IT327': 'Quản trị sản xuất', 'IT328': 'Quản trị tài chính doanh nghiệp', 'IT329': 'Quản trị kênh phân phối', 'IT330': 'An toàn và bảo mật thương mại điện tử', 'IT331': 'Quản trị nhân lực', 'IT332': 'Hệ thống thanh toán trực tuyến', 'IT333': 'Quản trị bán hàng', 'IT334': 'Khóa luận tốt nghiệp', 'IT335': 'Mạch số', 'IT336': 'Kinh tế tiền tệ', 'IT337': 'Anh văn 1', 'IT338': 'English for Communication 1', 'IT339': 'General English', 'IT340': 'Anh văn 2', 'IT341': 'English for Communication 1', 'IT342': 'General English', 'IT343': 'Anh văn 3', 'IT344': 'Anh văn 1', 'IT345': 'Anh văn 2', 'IT346': 'Anh văn 3', 'IT347': 'Anh văn Bổ túc', 'IT348': 'Anh văn 0', 'IT349': 'Anh văn 1', 'IT350': 'Anh văn 2', 'IT351': 'Anh văn 3', 'IT352': 'Anh văn 4', 'IT353': 'Anh văn 5', 'IT354': 'Tiếng anh tăng cường I', 'IT355': 'Tiếng anh tăng cường II', 'IT356': 'Tiếng Anh I', 'IT357': 'Tiếng Anh II', 'IT358': 'Tiếng Anh chuyên ngành CNTT', 'IT359': 'Anh văn sơ cấp 1', 'IT360': 'Anh văn sơ cấp 2', 'IT361': 'Anh văn bổ túc', 'IT362': 'Tiếng Anh I', 'IT363': 'Tiếng Anh II', 'IT364': 'Nâng cao kỹ năng nghe, nói tiếng Anh 1', 'IT365': 'Nâng cao kỹ năng nghe, nói tiếng Anh 2', 'IT366': 'Nâng cao kỹ năng đọc, viết tiếng Anh 1', 'IT367': 'Nâng cao kỹ năng đọc, viết tiếng Anh 2', 'IT368': 'Tư tưởng Hồ Chí Minh', 'IT369': 'Giới\\xa0thiệu\\xa0ngành\\xa0Công nghệ Thông tin', 'IT370': 'Cơ sở hạ tầng công nghệ thông tin', 'IT371': 'Các công nghệ nền', 'IT372': 'Quản lý thông tin', 'IT373': 'Internet và công nghệ Web', 'IT374': 'Nhập môn bảo đảm và an ninh thông tin', 'IT375': 'Thiết kế giao diện người dùng', 'IT376': 'Thiết kế giao diện người dùng', 'IT377': 'Xử lý dữ liệu thống kê', 'IT378': 'Quản trị doanh nghiệp', 'IT379': 'Hệ thống quản trị qui trình nghiệp vụ', 'IT380': 'Tối ưu hóa công cụ tìm kiếm', 'IT381': 'Xử lý ảnh vệ tinh', 'IT382': 'Đồ án chuẩn bị tốt nghiệp', 'IT383': 'Đồ án', 'IT384': 'Kiến trúc và tích hợp hệ thống', 'IT385': 'Công nghệ Java', 'IT386': 'Hệ thống định vị toàn cầu (GPS)', 'IT387': 'Tin học môi trường', 'IT388': 'Công nghệ Dữ liệu lớn', 'IT389': 'Kỹ thuật phát triển hệ thống Web', 'IT390': 'Các chủ đề toán học cho KHDL', 'IT391': 'Máy học', 'IT392': 'Xử lý dữ liệu lớn', 'IT393': 'Kỹ thuật lập trình Python', 'IT394': 'Phân tích dữ liệu bằng Python', 'IT395': 'Phân tích dữ liệu bằng Python &R', 'IT396': 'Phân tích dữ liệu', 'IT397': 'Interconnections Networks', 'IT398': 'Computer Graphics and Visualization', 'IT399': 'Signal Processing over Networks', 'IT400': 'Human-Computer Interaction', 'IT401': 'Artificial Intelligence', 'IT402': 'Viết báo cáo kỹ thuật bằng tiếng Nhật', 'IT403': 'Quản trị quan hệ khách hàng', 'IT404': 'Kiến trúc và tích hợp hệ thống', 'IT405': 'Công nghệ Java', 'IT406': 'Hệ thống định vị toàn cầu', 'IT407': 'Tin học môi trường', 'IT408': 'Công nghệ lập trình đa nền tảng cho ứng dụng di động', 'IT409': 'Thực tập doanh nghiệp', 'IT410': 'Tin-Sinh học', 'IT411': 'Hệ thống thông tin địa lý 3 chiều', 'IT412': 'Khai thác dữ liệu truyền thông xã hội', 'IT413': 'Khai phá truyền thông xã hội', 'IT414': 'Công nghệ phân tích dữ liệu lớn', 'IT415': 'Nhập môn ẩn thông tin và ứng dụng', 'IT416': 'Khóa luận tốt nghiệp', 'IT417': 'Tái cấu trúc quy trình doanh nghiệp', 'IT418': 'Mô hình hóa dữ liệu, quy trình và đối tượng', 'IT419': 'Tiếng Anh tổng quát (tạm gọi)', 'IT420': 'Toeic 1', 'IT421': 'Tiếng Anh tổng quát 2 (tạm gọi)', 'IT422': 'Toeic 2', 'IT423': 'Tiếng Anh giao tiếp (tạm gọi)', 'IT424': 'Toeic 3', 'IT425': 'Giới\\xa0thiệu\\xa0ngành\\xa0Hệ thống Thông tin', 'IT426': 'Thiết kế cơ sở dữ liệu', 'IT427': 'Các hệ cơ sở tri thức', 'IT428': 'Hệ quản trị cơ sở dữ liệu', 'IT429': 'Cơ sở dữ liệu phân tán', 'IT430': 'Hệ quản trị cơ sở dữ liệu Oracle', 'IT431': 'Khai thác dữ liệu', 'IT432': 'Hệ thống thông tin kế toán', 'IT433': 'Phân tích thiết kế hệ thống thông tin', 'IT434': 'Nhập môn công nghệ phần mềm', 'IT435': 'Lập trình cơ sở dữ liệu', 'IT436': 'Nhập môn hệ thống thông tin địa lý', 'IT437': 'PTTK hướng đối tượng với UML', 'IT438': 'Lập trình ứng dụng Web với Java', 'IT439': 'Phát triển ứng dụng web', 'IT440': 'Quản lý dự án công nghệ thông tin', 'IT441': 'Hệ quản trị cơ sở dữ liệu', 'IT442': 'Cơ sở dữ liệu phân tán', 'IT443': 'Thực tập tốt nghiệp', 'IT444': 'Đồ án xây dựng một hệ thống thông tin', 'IT445': 'Thiết kế cơ sở dữ liệu', 'IT446': 'Thiết kế hướng đối tượng với UML', 'IT447': 'Lập trình Java', 'IT448': 'Kho dữ liệu và OLAP', 'IT449': 'Kỹ năng tư vấn', 'IT450': 'Pháp luật trong Thương mại điện tử', 'IT451': 'Xây dựng HTTT trên các framework', 'IT452': 'Khai thác dữ liệu và ứng dụng', 'IT453': 'Hệ thống thông tin kế toán', 'IT454': 'Nhập môn Hệ thống thông tin địa lý', 'IT455': 'Khai thác dữ liệu', 'IT456': 'Lập trình ứng dụng trên thiết bị di động', 'IT457': 'Hệ hỗ trợ quyết định', 'IT458': 'Thương mại điện tử', 'IT459': 'Phân tích không gian', 'IT460': 'Hệ cơ sở dữ liệu không gian', 'IT461': 'Quản lý dự án hệ thống thông tin', 'IT462': 'Kho dữ liệu và OLAP', 'IT463': 'An toàn và bảo mật HTTT', 'IT464': 'Hệ thống thông tin quản lý', 'IT465': 'Đồ án xây dựng hệ thống thông tin', 'IT466': 'Phân tích thiết kế hệ thống', 'IT467': 'Hệ thống thông tin quản lý', 'IT468': 'Thương mại điện tử', 'IT469': 'An toàn và bảo mật hệ thống thông tin', 'IT470': 'Hoạch định nguồn lực doanh nghiệp', 'IT471': 'Cơ sở dữ liệu nâng cao', 'IT472': 'Dự báo kinh doanh', 'IT473': 'Sinh tin học', 'IT474': 'Thị trường chứng khoán', 'IT475': 'Khởi nghiệp', 'IT476': 'Chính phủ điện tử', 'IT477': 'Luật CNTT', 'IT478': 'Phân tích không gian', 'IT479': 'Hệ cơ sở dữ liệu không gian', 'IT480': 'Mạng xã hội', 'IT481': 'Khóa luận tốt nghiệp', 'IT482': 'Thiết kế, quản lý và quản trị hệ CSDL', 'IT483': 'Điện toán đám mây', 'IT484': 'Phân tích dữ liệu kinh doanh', 'IT485': 'Kho dữ liệu và OLAP', 'IT486': 'Dữ liệu lớn', 'IT487': 'Công nghệ thông tin cho thương mại điện tử', 'IT488': 'Các ứng dụng thông minh và hỗ trợ ra quyết định', 'IT489': 'Hệ truyền thông dữ liệu', 'IT490': 'Thực tập cuối khóa', 'IT491': 'Thực tập doanh nghiệp', 'IT492': 'Khóa luận tốt nghiệp', 'IT493': 'Thực tập cuối khóa', 'IT494': 'Nhập môn lập trình', 'IT495': 'Lập trình hướng đối tượng', 'IT496': 'Cấu trúc dữ liệu và giải thuật', 'IT497': 'Cơ sở dữ liệu', 'IT498': 'Nhập môn mạng máy tính', 'IT499': 'Kiến trúc máy tính', 'IT500': 'Hệ điều hành', 'IT501': 'Lập trình trực quan', 'IT502': 'Giới thiệu ngành', 'IT503': 'Tổ chức và cấu trúc máy tính', 'IT504': 'Nhập môn lập trình thi đấu', 'IT505': 'Tổ chức và Cấu trúc Máy tính II', 'IT506': 'Cấu trúc dữ liệu cho lập trình thi đấu', 'IT507': 'Nhập môn Quản trị doanh nghiệp', 'IT508': 'Nhập môn công tác kỹ sư', 'IT509': 'Communication', 'IT510': 'Tiếng Nhật 1', 'IT511': 'Tiếng Nhật 2', 'IT512': 'Tiếng Nhật 3', 'IT513': 'Tiếng Nhật 4', 'IT514': 'Tiếng Nhật 5', 'IT515': 'Tiếng Nhật 6', 'IT516': 'Tiếng Nhật 7', 'IT517': 'Tiếng Nhật 8', 'IT518': 'Đại số tuyến tính', 'IT519': 'Đại số tuyến tính', 'IT520': 'Giải tích 1', 'IT521': 'Giải tích 2', 'IT522': 'Đại số tuyến tính', 'IT523': 'Cấu trúc rời rạc', 'IT524': 'Xác suất thống kê', 'IT525': 'Giải tích', 'IT526': 'Toán cao cấp A1', 'IT527': 'Toán cao cấp A2', 'IT528': 'Cấu trúc rời rạc', 'IT529': 'Giải tích 1', 'IT530': 'Giải tích 2', 'IT531': 'Toán rời rạc cho máy tính', 'IT532': 'Toán cao cấp A1 (TE)', 'IT533': 'Toán cao cấp A2 (TE)', 'IT534': 'Đại số tuyến tính', 'IT535': 'Cấu trúc rời rạc (TE)', 'IT536': 'Giải tích I', 'IT537': 'Giải tích II', 'IT538': 'Đại số tuyến tính', 'IT539': 'Giáo dục quốc phòng', 'IT540': 'Giáo dục quốc phòng', 'IT541': 'Quản trị chuỗi cung ứng', 'IT542': 'Khai phá dữ liệu và ứng dụng', 'IT543': 'Kinh tế chính trị Mác-Lênin (TE)', 'IT544': 'Kinh tế chính trị Mác-Lênin (TE1)', 'IT545': 'Phát triển ứng dụng web', 'IT546': 'Lập trình hướng đối tượng', 'IT547': 'Quản lý dự án hệ thống thông tin', 'IT548': 'Management Science Methods', 'IT549': 'Sofware Quality Management', 'IT550': 'Managerial Decision Theory', 'IT551': 'Phân tích thiết kế hệ thống', 'IT552': 'Thiết kế, quản lý và quản trị hệ CSDL', 'IT553': 'Điện toán đám mây', 'IT554': 'Dữ liệu lớn', 'IT555': 'Công nghệ thông tin trong thương mại điện tử', 'IT556': 'Control and Audit of Information Systems', 'IT557': 'Các ứng dụng thông minh và hỗ trợ ra quyết định', 'IT558': 'Các chủ đề nâng cao trong phát triển hệ thống', 'IT559': 'Các hệ thống mô phỏng trên máy tính', 'IT560': 'Hệ truyền thông dữ liệu', 'IT561': 'Hệ thống thông tin tính toán', 'IT562': 'Quản lý thông tin địa lý', 'IT563': 'Tiếng Nhật Sơ cấp 1', 'IT564': 'Tiếng Nhật Sơ cấp 2', 'IT565': 'Giới\\xa0thiệu\\xa0ngành\\xa0Mạng máy tính và Truyền thông dữ liệu', 'IT566': 'Giới\\xa0thiệu\\xa0ngành\\xa0An toàn Thông tin', 'IT567': 'An toàn mạng máy tính', 'IT568': 'Điện tử cho công nghệ thông tin', 'IT569': 'Hệ điều hành Linux', 'IT570': 'Lý thuyết thông tin', 'IT571': 'Truyền dữ liệu', 'IT572': 'Lập trình mạng căn bản', 'IT573': 'Xử lý tín hiệu trong truyển thông', 'IT574': 'Mạng truyền thông và di động', 'IT575': 'Lập trình ứng dụng mạng', 'IT576': 'Tín hiệu và mạch', 'IT577': 'Thiết bị mạng và truyền thông ĐPT', 'IT578': 'Công nghệ mạng viễn thông', 'IT579': 'Thiết kế Mạng', 'IT580': 'Đồ án chuyên ngành', 'IT581': 'Thực tập doanh nghiệp', 'IT582': 'Kỹ năng mềm', 'IT583': 'Đồ án môn học Lập trình ứng dụng Mạng', 'IT584': 'Phát triển ứng dụng trên thiết bị di động', 'IT585': 'Mật mã học', 'IT586': 'Thiết bị mạng và truyền thông ĐPT', 'IT587': 'Cơ chế hoạt động của mã độc', 'IT588': 'Hệ thống nhúng Mạng không dây', 'IT589': 'Quản trị mạng và hệ thống', 'IT590': 'An toàn kiến trúc hệ thống', 'IT591': 'Kỹ thuật phân tích mã độc', 'IT592': 'Phân tích thiết kế hệ thống truyền thông và mạng', 'IT593': 'Đồ án môn Lập trình ứng dụng mạng', 'IT594': 'Đồ án chuyên ngành', 'IT595': 'Hệ thống tìm kiếm, phát hiện và ngăn ngừa xâm nhập', 'IT596': 'Tấn công mạng', 'IT597': 'Quản trị hệ thống mạng', 'IT598': 'Quản lý rủi ro và an toàn thông tin trong doanh nghiệp', 'IT599': 'Lập trình ứng dụng Web', 'IT600': 'Lập trình hệ thống', 'IT601': 'Thương mại Điện tử và Triển khai ứng dụng', 'IT602': 'An ninh nhân sự, định danh và chứng thực', 'IT603': 'An toàn dữ liệu, khôi phục thông tin sau sự cố', 'IT604': 'Bảo mật web và ứng dụng', 'IT605': 'Thực tập doanh nghiệp', 'IT606': 'Bảo mật hệ thống dữ liệu', 'IT607': 'Mật mã học', 'IT608': 'Cơ chế hoạt động của mã độc', 'IT609': 'Quản trị hệ thống mạng', 'IT610': 'Xây dựng chuẩn chính sách an toàn thông tin trong doanh nghiệp', 'IT611': 'Công nghệ thoại IP', 'IT612': 'Ứng dụng truyền thông và an ninh thông tin', 'IT613': 'Phát triển ứng dụng trên thiết bị di động', 'IT614': 'Kỹ thuật lập trình mạng trên Linux', 'IT615': 'Xây dựng ứng dụng web', 'IT616': 'Lập trình trên Linux', 'IT617': 'Pháp chứng mạng di động', 'IT618': 'Công nghệ tường lửa và bảo vệ mạng ngoại vi', 'IT619': 'Bảo mật với smartcard và NFC', 'IT620': 'Công nghệ vệ tinh', 'IT621': 'Hệ thống tìm kiếm, phát hiện và ngăn ngừa xâm nhập', 'IT622': 'An toàn mạng không dây và di động', 'IT623': 'Xây dựng chuẩn chính sách an toàn thông tin trong doanh nghiệp', 'IT624': 'Xử lý tín hiệu trong truyền thông', 'IT625': 'Tính toán lưới', 'IT626': 'Pháp chứng kỹ thuật số', 'IT627': 'Phát triển ứng dụng trên thiết bị di động', 'IT628': 'An toàn mạng nâng cao', 'IT629': 'Công nghệ mạng viễn thông', 'IT630': 'Tính toán lưới', 'IT631': 'Khóa luận tốt nghiệp', 'IT632': 'Bảo mật Internet', 'IT633': 'Đồ án tốt nghiệp', 'IT634': 'Pháp chứng kỹ thuật số', 'IT635': 'Bảo mật trên Internet', 'IT636': 'Thực tập doanh nghiệp', 'IT637': 'Thương mại Điện tử và Triển khai ứng dụng', 'IT638': 'Bảo mật Internet', 'IT639': 'Tiểu luận tốt nghiệp', 'IT640': 'Khóa luận tốt nghiệp', 'IT641': 'Xây dựng ứng dụng web', 'IT642': 'Hệ thống đa tác tử di động thông minh', 'IT643': 'Lập trình an toàn và khai thác lỗ hổng phần mềm', 'IT644': 'Phương pháp học máy trong an toàn thông tin', 'IT645': 'An toàn thông tin trong kỷ nguyên', 'IT646': 'Đánh giá hiệu năng hệ thống mạng máy tính', 'IT647': 'Công nghệ Internet of things hiện đại', 'IT648': 'Hệ tính toán phân bố', 'IT649': 'An toàn mạng máy tính nâng cao', 'IT650': 'Bảo mật Internet of things', 'IT651': 'Công nghệ truyền thông đa phương tiện', 'IT652': 'Truyền thông xã hội và kinh doanh', 'IT653': 'Giải thuật xử lý song song và phân bố', 'IT654': 'AI ứng dụng trong mạng và truyền thông', 'IT655': 'Lập trình hướng đối tượng', 'IT656': 'Lập trình hướng đối tượng', 'IT657': 'Hệ điều hành', 'IT658': 'Hệ điều hành', 'IT659': 'Giáo dục thể chất 1', 'IT660': 'Giáo dục thể chất 2', 'IT661': 'Giáo dục thể chất 3', 'IT662': 'Giáo dục thể chất', 'IT663': 'Giáo dục thể chất 1', 'IT664': 'Giáo dục thể chất 2', 'IT665': 'Nhập môn điện tử', 'IT666': 'Nhập môn mạch số', 'IT667': 'Vật lý kỹ thuật', 'IT668': 'Những NLCB của chủ nghĩa Mác-Lênin', 'IT669': 'Triết học Mác-Lênin', 'IT670': 'Vật lý đại cương A1', 'IT671': 'Vật lý đại cương A2', 'IT672': 'Vật lý đại cương A3', 'IT673': 'General Physics 1', 'IT674': 'General Physics 2', 'IT675': 'Vật lý đại cương A2 (TE1)', 'IT676': 'Vật lý đại cương I', 'IT677': 'Vật lý đại cương II', 'IT678': 'Phương pháp khoa học', 'IT679': 'Giới\\xa0thiệu\\xa0ngành\\xa0Kỹ thuật Phần mềm', 'IT680': 'Phương pháp Phát triển phần mềm hướng đối tượng', 'IT681': 'Phương pháp mô hình hóa', 'IT682': 'Nhập môn phát triển game', 'IT683': 'Các phương pháp lập trình', 'IT684': 'Nhập môn Công nghệ phần mềm', 'IT685': 'Lập trình nhúng căn bản', 'IT686': 'Đặc tả hình thức', 'IT687': 'Phân tích thiết kế hệ thống', 'IT688': 'Kiểm chứng phần mềm', 'IT689': 'Phát triển, vận hành, bảo trì phần mềm', 'IT690': 'Phương pháp Phát triển phần mềm hướng đối tượng', 'IT691': 'Đồ án mã nguồn mở', 'IT692': 'Đồ án chuyên ngành', 'IT693': 'Kiểm chứng phần mềm', 'IT694': 'Nhập môn ứng dụng di động', 'IT695': 'Đồ án 1', 'IT696': 'Đồ án 2', 'IT697': 'Phân tích thiết kế hệ thống', 'IT698': 'Kiểm chứng phần mềm', 'IT699': 'Phát triển, vận hành, bảo trì phần mềm', 'IT700': 'Quản lý dự án công nghệ thông tin', 'IT701': 'Phát triển phần mềm hướng đối tượng', 'IT702': 'Phát triển phần mềm mã nguồn mở', 'IT703': 'Xử lý phân bố', 'IT704': 'Công nghệ phần mềm chuyên sâu', 'IT705': 'Giao tiếp người máy', 'IT706': 'Thiết kế Game', 'IT707': 'Lập trình game nâng cao', 'IT708': 'Phát triển phần mềm mã nguồn mở', 'IT709': 'Công nghệ .NET', 'IT710': 'Ngôn ngữ lập trình Java', 'IT711': 'Công nghệ .NET', 'IT712': 'Một số thuật toán thông minh', 'IT713': 'Lập trình đồ họa 3 chiều với Direct3D', 'IT714': 'Lập trình trên thiết bị di động', 'IT715': 'Công nghệ Web và ứng dụng', 'IT716': 'Thiết kế Game', 'IT717': 'Nhập môn lập trình 3D game', 'IT718': 'Chuyên đề J2EE', 'IT719': 'Cơ sở dữ liệu nâng cao', 'IT720': 'Phát triển và vận hành game', 'IT721': 'Lập trình TTNT trong Game', 'IT722': 'Thiết kế 3D Game Engine', 'IT723': 'Ngôn ngữ lập trình Java', 'IT724': 'Chuyên đề E-commerce', 'IT725': 'Chuyên đề CSDL nâng cao', 'IT726': 'Chuyên đề E-Government', 'IT727': 'Các phương pháp lập trình', 'IT728': 'Công nghệ XML và ứng dụng', 'IT729': 'Phương pháp luận sáng tạo KH-CN', 'IT730': 'Các thuật toán thông minh', 'IT731': 'Logic mờ', 'IT732': 'Xử lý phân bổ', 'IT733': 'Quản lý dự án công nghệ thông tin', 'IT734': 'Công nghệ Web và ứng dụng', 'IT735': 'Logic mờ', 'IT736': 'Công nghệ Portal', 'IT737': 'Lập trình game trong các thiết bị di động', 'IT738': 'Kỹ thuật lập trình nhúng', 'IT739': 'Lập trình trên thiết bị di động', 'IT740': 'Công nghệ Web và ứng dụng', 'IT741': 'Chuyên đề M-commerce', 'IT742': 'Nhập môn Quản trị doanh nghiệp', 'IT743': 'Chuyên đề E-learning', 'IT744': 'Xử lý song song', 'IT745': 'Phát triển ứng dụng VR', 'IT746': 'Chuyên đề các quy trình phát triển phần mềm hiện đại', 'IT747': 'Máy học và các công cụ', 'IT748': 'Kiến trúc Phần mềm', 'IT749': 'Kỹ thuật phân tích yêu cầu', 'IT750': 'Quản lý dự án Phát triển Phần mềm', 'IT751': 'Serminar các vấn đề hiện đại của CNPM', 'IT752': 'Mẫu thiết kế', 'IT753': 'Điện toán đám mây', 'IT754': 'Nguyên lý thiết kế thế giới ảo', 'IT755': 'Chuyên đề E-Government', 'IT756': 'Chuyên đề Mobile and Pervasive Computing', 'IT757': 'Đồ án môn học mã nguồn mở', 'IT758': 'Đồ án môn học chuyên ngành', 'IT759': 'Thực tập tốt nghiệp', 'IT760': 'Khóa luận tốt nghiệp', 'IT761': 'Phương pháp NCKH trong tin học', 'IT762': 'Phương pháp luận sáng tạo KH-CN', 'IT763': 'Chủ nghĩa xã hội khoa học', 'IT764': 'Kỹ năng giao tiếp', 'IT765': 'Kỹ năng giao tiếp', 'IT766': 'Tiếng Anh chuyên ngành CNTT', 'IT767': 'Kỹ năng giao tiếp', 'IT768': 'Những nguyên lý cơ bản của chủ nghĩa Mác Lênin', 'IT769': 'Đường lối cách mạng của Đảng CS Việt Nam', 'IT770': 'Tư tưởng Hồ Chí Minh', 'IT771': 'Kỹ năng nghề nghiệp', 'IT772': 'Phương pháp luận sáng tạo KH-CN', 'IT773': 'Pháp luật đại cương', 'IT774': 'Triết học Mác – Lênin', 'IT775': 'Kinh tế chính trị Mác – Lênin', 'IT776': 'Chủ nghĩa xã hội khoa học', 'IT777': 'Lịch sử Đảng Cộng sản Việt Nam', 'IT778': 'Kỹ năng mềm', 'IT779': 'Xác suất thống kê', 'IT780': 'Xác xuất thống kê', 'IT781': 'Phân tích thống kê', 'IT782': 'Thống kê', 'IT783': 'TOEIC 450', 'IT784': 'TOEIC 450', 'IT785': 'Lịch sử Đảng CSVN', 'IT786': 'Đường lối cách mạng của Đảng CSVN', 'IT787': 'Lập trình trên Windows'}\n"
     ]
    }
   ],
   "source": [
    "# DATA MÔN HỌC\n",
    "data_course_name = ['Hệ thống thông tin kế toán', 'Hoạch định nguồn lực doanh nghiệp', 'Tiếng Anh tăng cường 1', 'Tiếng Anh tăng cường 2', 'Tiếng Anh tăng cường 3', 'Tiếng Anh tăng cường 4', 'Nhập môn máy tính lượng tử', 'Kiến trúc máy tính', 'Giới\\xa0thiệu\\xa0ngành\\xa0Kỹ Thuật Máy tính', 'Lý thuyết mạch điện', 'Hệ thống số', 'Vi xử lý-vi điều khiển', 'Các thiết bị và mạch điện tử', 'Xử lý tín hiệu số', 'Thiết kế vi mạch với HDL', 'Hệ thống nhúng', 'Hệ điều hành nâng cao', 'Lập trình nhúng căn bản', 'Lập trình hệ thống với Java', 'Kiến trúc máy tính nâng cao', 'Đồ án môn học thiết kế mạch', 'Điều khiển tự động', 'Lập trình trên thiết bị di động', 'Thiết kế mạng', 'Đồ án môn học ngành KTMT', 'Thực hành điện- điện tử', 'Thiết kế luận lý số', 'Thực hành Kiến trúc máy tính', 'Lý thuyết mạch điện', 'Các thiết bị và mạch điện tử', 'Đồ án 1', 'An toàn mạng máy tính', 'Điều khiển tự động nâng cao', 'Thiết kế và lập trình Web', 'Xử lý tín hiệu số', 'Đồ án 2', 'Lập trình nhúng căn bản', 'Điều khiển tự động', 'ThiẾT kế hệ thống số với HDL', 'Tương tác người - máy', 'Thiết kế vi mạch với HDL', 'Thiết kế vi mạch số', 'Thiết kế hệ thống nhúng', 'ThiẾT kế hệ thống nhúng không dây', 'Hệ thống chứng thực số', 'Thiết kế vi mạch', 'Robot công nghiệp', 'Robot công nghiệp', 'Thị giác máy tính', 'Hệ thống thời gian thực', 'Xử lý song song và hệ thống phân tán', 'Trình biên dịch', 'Lập trình hệ thống với Java', 'Logic mờ và ứng dụng', 'Điều khiển tự động nâng cao', 'Trình biên dịch', 'Logic mờ và ứng dụng', 'Kỹ thuật chế tạo vi mạch', 'Thiết kế vi mạch hỗn hợp', 'Kĩ thuật thiết kế mạch in', 'Thiết kế vi mạch tương tự', 'Thiết kế dựa trên vi xử lý', 'Tự động hóa thiết kế vi mạch', 'Tối ưu hóa dựa trên FPGA', 'Kỹ thuật chế tạo vi mạch', 'Thiết kế vi mạch hỗn hợp', 'Tiếng Anh chuyên ngành Kỹ thuật Máy tính', 'Thiết kế vi mạch tương tự', 'Thiết kế dựa trên vi xử lý', 'Tự động hóa thiết kế vi mạch', 'Tối ưu hóa dựa trên FPGA', 'Hệ thống thời gian thực', 'Công nghệ IoT và Ứng dụng', 'Trí tuệ nhân tạo cho hệ thống nhúng', 'Lập trình nhúng trên các thiết bị di động', 'Hệ thống thông minh', 'Trí tuệ nhân tạo cho xe tự hành', 'Trí tuệ nhân tạo cho IoT', 'Kiến trúc IoT: Giao thức mạng và bảo mật', 'Thiết kế Antenna tích hợp cho thiết bị IoT', 'Kỹ thuật hệ thống máy tính', 'Các hệ điều hành nhúng', 'Thiết kế số', 'Kỹ thuật chế tạo vi mạch', 'Tương tác người máy', 'Tương tác người – Máy', 'Đồ án chuyên ngành Hệ thống nhúng và Robot', 'Đồ án chuyên ngành Thiết kế vi mạch và phần cứng', 'Kỹ thuật thiết kế kiểm tra', 'Kỹ thuật hệ thống máy tính', 'Chuyên đề hệ thống nhúng và robot', 'Đồ án chuyên ngành Hệ thống nhúng và IoT', 'Chuyên đề thiết kế vi mạch và phần cứng', 'Lập trình hệ thống', 'Thiết kế vi mạch hướng ASIC', 'Thiết kế hệ thống SoC', 'Chuyên đề thiết kế hệ vi mạch 1', 'Chuyên đề thiết kế hệ vi mạch 2', 'Xử lý tín hiệu số và ứng dụng', 'Chuyên đề thiết kế hệ thống nhúng 1', 'Chuyên đề thiết kế hệ thống nhúng 2', 'Lập trình song song và hệ phân tán', 'Thực tập doanh nghiệp', 'Thực tập doanh nghiệp', 'Khóa luận tốt nghiệp', 'Luận văn chuyên sâu đặc thù', 'Quản lý giao tiếp', 'Mạng máy tính', 'Bảo mật', 'Dự án nghiên cứu', 'Thiết kế và phát triển website', 'Internet of Things', 'An toàn mạng máy tính', 'Pháp chứng kỹ thuật số', 'Quản lý an toàn thông tin', 'Mạng máy tính', 'Máy học nâng cao', 'Máy học trong xử lý ngôn ngữ tự nhiên', 'Giới\\xa0thiệu\\xa0ngành\\xa0Khoa học Máy tính', 'Máy học nâng cao', 'Máy học trong xử lý ngôn ngữ tự nhiên', 'Chuyên đề ứng dụng Trí tuệ nhân tạo', 'Nguyên lý và phương pháp lập trình', 'Phân tích & thiết kế thuật toán', 'Cơ sở lập trình', 'Nhập môn công nghệ phần mềm', 'Đồ họa máy tính', 'Trí tuệ nhân tạo', 'Các hệ cơ sở tri thức', 'Lý thuyết thông tin', 'Máy học', 'Nhập môn công nghệ tri thức & máy học', 'Nguyên lý và phương pháp lập trình', 'Khoa học máy tính I', 'Phân tích và thiết kế thuật toán', 'Đồ họa máy tính và Xử lý ảnh', 'Máy học', 'Toán cho Khoa học máy tính', 'Lập trình Python cho Máy học', 'Tư duy tính toán', 'Xử lý ngôn ngữ tự nhiên nâng cao', 'Trí tuệ nhân tạo nâng cao', 'Xử lý ngôn ngữ tự nhiên', 'Ngôn ngữ học máy tính', 'Khoa học máy tính II', 'Biểu diễn tri thức và suy luận', 'Các hệ cơ sở tri thức', 'Xử lý ngôn ngữ tự nhiên', 'Xử lý ngôn ngữ tự nhiên nâng cao', 'Máy học nâng cao', 'Máy học xử lý ngôn ngữ tự nhiên', 'Lập trình symbolic trong trí tuệ nhân tạo', 'Ngôn ngữ học máy tính', 'Khai thác dữ liệu và ứng dụng', 'Máy học và ứng dụng', 'Ngữ nghĩa học tính toán', 'Nhập môn Thị giác máy tính', 'Tính toán đa phương tiện', 'Nhận dạng Thị giác', 'Lập trình C/C++', 'Chuyên đề nghiên cứu khoa học', 'Seminar', 'Kỹ thuật lập trình trí tuệ nhân tạo', 'Hệ thống đa tác tử', 'Khai thác dữ liệu và ứng dụng', 'Lập trình symbolic trong trí tuệ nhân tạo', 'Máy học nâng cao', 'Các hệ giải bài toán thông minh', 'Ngôn ngữ học ngữ liệu', 'Biểu diễn tri thức và ứng dụng', 'Các hệ thống hỏi-đáp', 'Máy học trong xử lý ngôn ngữ tự nhiên', 'Dịch máy', 'Các kĩ thuật trong xử lý ngôn ngữ tự nhiên', 'Thị giác máy tính nâng cao', 'Máy học trong Thị giác Máy tính', 'Đồ họa game', 'Lập trình tính toán hình thức', 'Tìm Kiếm Ảnh và Video', 'Truy vấn thông tin đa phương tiện', 'Tổ chức ngôn ngữ lập trình', 'Xử lý âm thanh và tiếng nói', 'Lập trình hướng đối tượng nâng cao cho môi trường windows', 'Nhận dạng', 'Xử lý văn bản Y khoa', 'Cấu trúc tập tin', 'Hệ thống máy tính', 'Chuyên đề NCKH 1', 'Phương pháp số cho máy tính kỹ thuật số', 'Chuyên đề NCKH 2', 'Cơ sở tính toán', 'Toán rời rạc cho máy tính', 'Seminar chuyên đề 1', 'Seminar chuyên đề 2', 'Công nghệ Java', 'Phân tích thiết kế HTTT quản lý', 'Các dịch vụ web', 'Công nghệ đa tác tử (Muli-Agent)', 'Logic mờ và ứng dụng', 'Xử lý ảnh và ứng dụng', 'Các kỹ thuật trong xử lý NNTN', 'Các hệ giải toán thông minh', 'Hệ suy diễn mờ', 'Mạng neural và thuật giải di truyền', 'Dịch máy', 'Web ngữ nghĩa', 'Lý thuyết automat và ứng dụng', 'Đồ họa máy tính', 'Mã hóa thông tin', 'Phát triển ứng dụng trên di động', 'Nhận dạng', 'Trực quan máy tính', 'Truy xuất thông tin', 'Các vấn đề chọn lọc trong Thị giác máy tính', 'Khai thác dữ liệu đa phương tiện', 'Thuật toán và tiến trình trong an toàn máy tính', 'Nhập môn Công nghệ phần mềm', 'Mạng máy tính', 'Các kĩ thuật học sâu và ứng dụng', 'Hệ điều hành', 'Cấu trúc dữ liệu và giải thuật', 'An ninh mạng', 'Trí tuệ nhân tạo', 'Các vấn đề xã hội trong tính toán', 'Luận văn', 'Khóa luận tốt nghiệp', 'Các công nghệ web và ứng dụng', 'Môn tốt nghiệp KHMT 2', 'Thực tập tốt nghiệp', 'Công nghệ .NET', 'Khoá luận tốt nghiệp', 'Chuyên đề J2EE', 'Hệ điều hành Linux', 'Lập trình cơ sở dữ liệu', 'Lý thuyết thông tin', 'Ngôn ngữ lập trình C#', 'Ngôn ngữ lập trình Java', 'Phân tích thiết kế hệ thống thông tin', 'Phân tích thiết kế hướng đối tượng với UML', 'Quản lý dự án', 'Xây dựng phần mềm hướng đối tượng', 'Phương pháp luận nghiên cứu khoa học', 'Toán rời rạc nâng cao', 'Đại số máy tính', 'Cấu trúc dữ liệu và giải thuật nâng cao', 'Một số ứng dụng của xử lý ngôn ngữ tự nhiên', 'Thị giác máy tính trong tương tác người – máy', 'Phát triển ứng dụng đa phương tiện trên thiết bị di động', 'Thực tại ảo', 'Trực quan hóa thông tin', 'Các vấn đề nghiên cứu và ứng dụng trong khoa học máy tính', 'Đồ án chuyên ngành', 'Đồ họa trong video game', 'Thị giác máy tính trong tương tác người-máy', 'Lập trình Javascript và ứng dụng', 'Tổng hợp tiếng nói', 'Nguyên lý các hệ cơ sở dữ liệu', 'Các hệ cơ sở dữ liệu phân tán', 'Thực tập', 'Lập trình', 'Mạng máy tính', 'Thực hành nghề nghiệp', 'Toán cho Tin học', 'Bảo mật', 'Quản lý dự án máy tính thành công', 'Thiết kế và phát triển cơ sở dữ liệu', 'Kiến trúc máy tính', 'Dự án nghiên cứu', 'Công nghệ kinh doanh thông minh', 'Toán rời rạc', 'Cấu trúc dữ liệu và giải thuật', 'Lập trình nâng cao', 'Máy học', 'Điện toán đám mây', 'Tin học đại cương', 'Khoa học máy tính I', 'Khoa học máy tính II', 'Tin học đại cương (TE)', 'Kỹ năng truyền thông làm việc nhóm', 'Văn hóa doanh nghiệp Nhật', 'Cơ sở dữ liệu', 'Giới\\xa0thiệu\\xa0ngành\\xa0Khoa học Dữ liệu', 'Thống kê và xác suất chuyên sâu', 'Học máy thống kê', 'Thu thập và tiền xử lý dữ liệu', 'Tính toán song song & phân tán', 'Phân tích và trực quan dữ liệu', 'Tối ứu hoá và ứng dụng', 'Phân tích dữ liệu lớn', 'Deep Learning trong khoa học dữ liệu', 'Đồ án khoa học dữ liệu và ứng dụng 1', 'Đồ án khoa học dữ liệu và ứng dụng 2', 'Đồ án khoa học dữ liệu và ứng dụng', 'Hệ khuyến nghị', 'Các giải thuật khai phá dữ liệu lớn', 'Phân tích thống kê đa biến', 'Thống kê Bayes', 'Thiết kế và phân tích thực nghiệm', 'Phân tích dữ liệu chuỗi thời gian và ứng dụng', 'Phân tích dữ liệu lớn trong tài chính', 'Phân tích dữ liệu truyền thông xã hội', 'Mô hình đồ thị xác suất', 'Thực tập doanh nghiệp', 'Xử lý ngôn ngữ tự nhiên cho Khoa học dữ liệu', 'Khóa luận tốt nghiệp', 'Cấu trúc dữ liệu và giải thuật', 'Cấu trúc dữ liệu & giải thuật nâng cao', 'Kinh tế học đại cương', 'Quản trị doanh nghiệp', 'Tiếp thị căn bản', 'Giới\\xa0thiệu\\xa0ngành\\xa0Thương mại Điện tử', 'Phân tích thiết kế quy trình nghiệp vụ doanh nghiệp', 'Nhập môn quản trị chuỗi cung ứng', 'Quản trị quan hệ khách hàng và nhà cung cấp', 'QuẢN trị dự án TMĐT', 'Thực tập doanh nghiệp', 'Quản trị quan hệ khách hàng và nhà cung cấp', 'NhẬp môn quản trị cuỗi cung ứng', 'Pháp luật trong thương mại điện tử', 'ThỰc tập doanh nhiệp', 'Pháp luật trong thương mại điện tử', 'Nguyên lý kế toán', 'Tiếp thị trực tuyến (E-Marketing)', 'Thiết kế Hệ thống Thương mại điện tử', 'Tiếp thị trực tuyến', 'Thiết kế hệ thống thương mại điện tử', 'Quản trị chiến lược kinh doanh điện tử', 'Quản trị sản xuất', 'Quản trị tài chính doanh nghiệp', 'Quản trị kênh phân phối', 'An toàn và bảo mật thương mại điện tử', 'Quản trị nhân lực', 'Hệ thống thanh toán trực tuyến', 'Quản trị bán hàng', 'Khóa luận tốt nghiệp', 'Mạch số', 'Kinh tế tiền tệ', 'Anh văn 1', 'English for Communication 1', 'General English', 'Anh văn 2', 'English for Communication 1', 'General English', 'Anh văn 3', 'Anh văn 1', 'Anh văn 2', 'Anh văn 3', 'Anh văn Bổ túc', 'Anh văn 0', 'Anh văn 1', 'Anh văn 2', 'Anh văn 3', 'Anh văn 4', 'Anh văn 5', 'Tiếng anh tăng cường I', 'Tiếng anh tăng cường II', 'Tiếng Anh I', 'Tiếng Anh II', 'Tiếng Anh chuyên ngành CNTT', 'Anh văn sơ cấp 1', 'Anh văn sơ cấp 2', 'Anh văn bổ túc', 'Tiếng Anh I', 'Tiếng Anh II', 'Nâng cao kỹ năng nghe, nói tiếng Anh 1', 'Nâng cao kỹ năng nghe, nói tiếng Anh 2', 'Nâng cao kỹ năng đọc, viết tiếng Anh 1', 'Nâng cao kỹ năng đọc, viết tiếng Anh 2', 'Tư tưởng Hồ Chí Minh', 'Giới\\xa0thiệu\\xa0ngành\\xa0Công nghệ Thông tin', 'Cơ sở hạ tầng công nghệ thông tin', 'Các công nghệ nền', 'Quản lý thông tin', 'Internet và công nghệ Web', 'Nhập môn bảo đảm và an ninh thông tin', 'Thiết kế giao diện người dùng', 'Thiết kế giao diện người dùng', 'Xử lý dữ liệu thống kê', 'Quản trị doanh nghiệp', 'Hệ thống quản trị qui trình nghiệp vụ', 'Tối ưu hóa công cụ tìm kiếm', 'Xử lý ảnh vệ tinh', 'Đồ án chuẩn bị tốt nghiệp', 'Đồ án', 'Kiến trúc và tích hợp hệ thống', 'Công nghệ Java', 'Hệ thống định vị toàn cầu (GPS)', 'Tin học môi trường', 'Công nghệ Dữ liệu lớn', 'Kỹ thuật phát triển hệ thống Web', 'Các chủ đề toán học cho KHDL', 'Máy học', 'Xử lý dữ liệu lớn', 'Kỹ thuật lập trình Python', 'Phân tích dữ liệu bằng Python', 'Phân tích dữ liệu bằng Python &R', 'Phân tích dữ liệu', 'Interconnections Networks', 'Computer Graphics and Visualization', 'Signal Processing over Networks', 'Human-Computer Interaction', 'Artificial Intelligence', 'Viết báo cáo kỹ thuật bằng tiếng Nhật', 'Quản trị quan hệ khách hàng', 'Kiến trúc và tích hợp hệ thống', 'Công nghệ Java', 'Hệ thống định vị toàn cầu', 'Tin học môi trường', 'Công nghệ lập trình đa nền tảng cho ứng dụng di động', 'Thực tập doanh nghiệp', 'Tin-Sinh học', 'Hệ thống thông tin địa lý 3 chiều', 'Khai thác dữ liệu truyền thông xã hội', 'Khai phá truyền thông xã hội', 'Công nghệ phân tích dữ liệu lớn', 'Nhập môn ẩn thông tin và ứng dụng', 'Khóa luận tốt nghiệp', 'Tái cấu trúc quy trình doanh nghiệp', 'Mô hình hóa dữ liệu, quy trình và đối tượng', 'Tiếng Anh tổng quát (tạm gọi)', 'Toeic 1', 'Tiếng Anh tổng quát 2 (tạm gọi)', 'Toeic 2', 'Tiếng Anh giao tiếp (tạm gọi)', 'Toeic 3', 'Giới\\xa0thiệu\\xa0ngành\\xa0Hệ thống Thông tin', 'Thiết kế cơ sở dữ liệu', 'Các hệ cơ sở tri thức', 'Hệ quản trị cơ sở dữ liệu', 'Cơ sở dữ liệu phân tán', 'Hệ quản trị cơ sở dữ liệu Oracle', 'Khai thác dữ liệu', 'Hệ thống thông tin kế toán', 'Phân tích thiết kế hệ thống thông tin', 'Nhập môn công nghệ phần mềm', 'Lập trình cơ sở dữ liệu', 'Nhập môn hệ thống thông tin địa lý', 'PTTK hướng đối tượng với UML', 'Lập trình ứng dụng Web với Java', 'Phát triển ứng dụng web', 'Quản lý dự án công nghệ thông tin', 'Hệ quản trị cơ sở dữ liệu', 'Cơ sở dữ liệu phân tán', 'Thực tập tốt nghiệp', 'Đồ án xây dựng một hệ thống thông tin', 'Thiết kế cơ sở dữ liệu', 'Thiết kế hướng đối tượng với UML', 'Lập trình Java', 'Kho dữ liệu và OLAP', 'Kỹ năng tư vấn', 'Pháp luật trong Thương mại điện tử', 'Xây dựng HTTT trên các framework', 'Khai thác dữ liệu và ứng dụng', 'Hệ thống thông tin kế toán', 'Nhập môn Hệ thống thông tin địa lý', 'Khai thác dữ liệu', 'Lập trình ứng dụng trên thiết bị di động', 'Hệ hỗ trợ quyết định', 'Thương mại điện tử', 'Phân tích không gian', 'Hệ cơ sở dữ liệu không gian', 'Quản lý dự án hệ thống thông tin', 'Kho dữ liệu và OLAP', 'An toàn và bảo mật HTTT', 'Hệ thống thông tin quản lý', 'Đồ án xây dựng hệ thống thông tin', 'Phân tích thiết kế hệ thống', 'Hệ thống thông tin quản lý', 'Thương mại điện tử', 'An toàn và bảo mật hệ thống thông tin', 'Hoạch định nguồn lực doanh nghiệp', 'Cơ sở dữ liệu nâng cao', 'Dự báo kinh doanh', 'Sinh tin học', 'Thị trường chứng khoán', 'Khởi nghiệp', 'Chính phủ điện tử', 'Luật CNTT', 'Phân tích không gian', 'Hệ cơ sở dữ liệu không gian', 'Mạng xã hội', 'Khóa luận tốt nghiệp', 'Thiết kế, quản lý và quản trị hệ CSDL', 'Điện toán đám mây', 'Phân tích dữ liệu kinh doanh', 'Kho dữ liệu và OLAP', 'Dữ liệu lớn', 'Công nghệ thông tin cho thương mại điện tử', 'Các ứng dụng thông minh và hỗ trợ ra quyết định', 'Hệ truyền thông dữ liệu', 'Thực tập cuối khóa', 'Thực tập doanh nghiệp', 'Khóa luận tốt nghiệp', 'Thực tập cuối khóa', 'Nhập môn lập trình', 'Lập trình hướng đối tượng', 'Cấu trúc dữ liệu và giải thuật', 'Cơ sở dữ liệu', 'Nhập môn mạng máy tính', 'Kiến trúc máy tính', 'Hệ điều hành', 'Lập trình trực quan', 'Giới thiệu ngành', 'Tổ chức và cấu trúc máy tính', 'Nhập môn lập trình thi đấu', 'Tổ chức và Cấu trúc Máy tính II', 'Cấu trúc dữ liệu cho lập trình thi đấu', 'Nhập môn Quản trị doanh nghiệp', 'Nhập môn công tác kỹ sư', 'Communication', 'Tiếng Nhật 1', 'Tiếng Nhật 2', 'Tiếng Nhật 3', 'Tiếng Nhật 4', 'Tiếng Nhật 5', 'Tiếng Nhật 6', 'Tiếng Nhật 7', 'Tiếng Nhật 8', 'Đại số tuyến tính', 'Đại số tuyến tính', 'Giải tích 1', 'Giải tích 2', 'Đại số tuyến tính', 'Cấu trúc rời rạc', 'Xác suất thống kê', 'Giải tích', 'Toán cao cấp A1', 'Toán cao cấp A2', 'Cấu trúc rời rạc', 'Giải tích 1', 'Giải tích 2', 'Toán rời rạc cho máy tính', 'Toán cao cấp A1 (TE)', 'Toán cao cấp A2 (TE)', 'Đại số tuyến tính', 'Cấu trúc rời rạc (TE)', 'Giải tích I', 'Giải tích II', 'Đại số tuyến tính', 'Giáo dục quốc phòng', 'Giáo dục quốc phòng', 'Quản trị chuỗi cung ứng', 'Khai phá dữ liệu và ứng dụng', 'Kinh tế chính trị Mác-Lênin (TE)', 'Kinh tế chính trị Mác-Lênin (TE1)', 'Phát triển ứng dụng web', 'Lập trình hướng đối tượng', 'Quản lý dự án hệ thống thông tin', 'Management Science Methods', 'Sofware Quality Management', 'Managerial Decision Theory', 'Phân tích thiết kế hệ thống', 'Thiết kế, quản lý và quản trị hệ CSDL', 'Điện toán đám mây', 'Dữ liệu lớn', 'Công nghệ thông tin trong thương mại điện tử', 'Control and Audit of Information Systems', 'Các ứng dụng thông minh và hỗ trợ ra quyết định', 'Các chủ đề nâng cao trong phát triển hệ thống', 'Các hệ thống mô phỏng trên máy tính', 'Hệ truyền thông dữ liệu', 'Hệ thống thông tin tính toán', 'Quản lý thông tin địa lý', 'Tiếng Nhật Sơ cấp 1', 'Tiếng Nhật Sơ cấp 2', 'Giới\\xa0thiệu\\xa0ngành\\xa0Mạng máy tính và Truyền thông dữ liệu', 'Giới\\xa0thiệu\\xa0ngành\\xa0An toàn Thông tin', 'An toàn mạng máy tính', 'Điện tử cho công nghệ thông tin', 'Hệ điều hành Linux', 'Lý thuyết thông tin', 'Truyền dữ liệu', 'Lập trình mạng căn bản', 'Xử lý tín hiệu trong truyển thông', 'Mạng truyền thông và di động', 'Lập trình ứng dụng mạng', 'Tín hiệu và mạch', 'Thiết bị mạng và truyền thông ĐPT', 'Công nghệ mạng viễn thông', 'Thiết kế Mạng', 'Đồ án chuyên ngành', 'Thực tập doanh nghiệp', 'Kỹ năng mềm', 'Đồ án môn học Lập trình ứng dụng Mạng', 'Phát triển ứng dụng trên thiết bị di động', 'Mật mã học', 'Thiết bị mạng và truyền thông ĐPT', 'Cơ chế hoạt động của mã độc', 'Hệ thống nhúng Mạng không dây', 'Quản trị mạng và hệ thống', 'An toàn kiến trúc hệ thống', 'Kỹ thuật phân tích mã độc', 'Phân tích thiết kế hệ thống truyền thông và mạng', 'Đồ án môn Lập trình ứng dụng mạng', 'Đồ án chuyên ngành', 'Hệ thống tìm kiếm, phát hiện và ngăn ngừa xâm nhập', 'Tấn công mạng', 'Quản trị hệ thống mạng', 'Quản lý rủi ro và an toàn thông tin trong doanh nghiệp', 'Lập trình ứng dụng Web', 'Lập trình hệ thống', 'Thương mại Điện tử và Triển khai ứng dụng', 'An ninh nhân sự, định danh và chứng thực', 'An toàn dữ liệu, khôi phục thông tin sau sự cố', 'Bảo mật web và ứng dụng', 'Thực tập doanh nghiệp', 'Bảo mật hệ thống dữ liệu', 'Mật mã học', 'Cơ chế hoạt động của mã độc', 'Quản trị hệ thống mạng', 'Xây dựng chuẩn chính sách an toàn thông tin trong doanh nghiệp', 'Công nghệ thoại IP', 'Ứng dụng truyền thông và an ninh thông tin', 'Phát triển ứng dụng trên thiết bị di động', 'Kỹ thuật lập trình mạng trên Linux', 'Xây dựng ứng dụng web', 'Lập trình trên Linux', 'Pháp chứng mạng di động', 'Công nghệ tường lửa và bảo vệ mạng ngoại vi', 'Bảo mật với smartcard và NFC', 'Công nghệ vệ tinh', 'Hệ thống tìm kiếm, phát hiện và ngăn ngừa xâm nhập', 'An toàn mạng không dây và di động', 'Xây dựng chuẩn chính sách an toàn thông tin trong doanh nghiệp', 'Xử lý tín hiệu trong truyền thông', 'Tính toán lưới', 'Pháp chứng kỹ thuật số', 'Phát triển ứng dụng trên thiết bị di động', 'An toàn mạng nâng cao', 'Công nghệ mạng viễn thông', 'Tính toán lưới', 'Khóa luận tốt nghiệp', 'Bảo mật Internet', 'Đồ án tốt nghiệp', 'Pháp chứng kỹ thuật số', 'Bảo mật trên Internet', 'Thực tập doanh nghiệp', 'Thương mại Điện tử và Triển khai ứng dụng', 'Bảo mật Internet', 'Tiểu luận tốt nghiệp', 'Khóa luận tốt nghiệp', 'Xây dựng ứng dụng web', 'Hệ thống đa tác tử di động thông minh', 'Lập trình an toàn và khai thác lỗ hổng phần mềm', 'Phương pháp học máy trong an toàn thông tin', 'An toàn thông tin trong kỷ nguyên', 'Đánh giá hiệu năng hệ thống mạng máy tính', 'Công nghệ Internet of things hiện đại', 'Hệ tính toán phân bố', 'An toàn mạng máy tính nâng cao', 'Bảo mật Internet of things', 'Công nghệ truyền thông đa phương tiện', 'Truyền thông xã hội và kinh doanh', 'Giải thuật xử lý song song và phân bố', 'AI ứng dụng trong mạng và truyền thông', 'Lập trình hướng đối tượng', 'Lập trình hướng đối tượng', 'Hệ điều hành', 'Hệ điều hành', 'Giáo dục thể chất 1', 'Giáo dục thể chất 2', 'Giáo dục thể chất 3', 'Giáo dục thể chất', 'Giáo dục thể chất 1', 'Giáo dục thể chất 2', 'Nhập môn điện tử', 'Nhập môn mạch số', 'Vật lý kỹ thuật', 'Những NLCB của chủ nghĩa Mác-Lênin', 'Triết học Mác-Lênin', 'Vật lý đại cương A1', 'Vật lý đại cương A2', 'Vật lý đại cương A3', 'General Physics 1', 'General Physics 2', 'Vật lý đại cương A2 (TE1)', 'Vật lý đại cương I', 'Vật lý đại cương II', 'Phương pháp khoa học', 'Giới\\xa0thiệu\\xa0ngành\\xa0Kỹ thuật Phần mềm', 'Phương pháp Phát triển phần mềm hướng đối tượng', 'Phương pháp mô hình hóa', 'Nhập môn phát triển game', 'Các phương pháp lập trình', 'Nhập môn Công nghệ phần mềm', 'Lập trình nhúng căn bản', 'Đặc tả hình thức', 'Phân tích thiết kế hệ thống', 'Kiểm chứng phần mềm', 'Phát triển, vận hành, bảo trì phần mềm', 'Phương pháp Phát triển phần mềm hướng đối tượng', 'Đồ án mã nguồn mở', 'Đồ án chuyên ngành', 'Kiểm chứng phần mềm', 'Nhập môn ứng dụng di động', 'Đồ án 1', 'Đồ án 2', 'Phân tích thiết kế hệ thống', 'Kiểm chứng phần mềm', 'Phát triển, vận hành, bảo trì phần mềm', 'Quản lý dự án công nghệ thông tin', 'Phát triển phần mềm hướng đối tượng', 'Phát triển phần mềm mã nguồn mở', 'Xử lý phân bố', 'Công nghệ phần mềm chuyên sâu', 'Giao tiếp người máy', 'Thiết kế Game', 'Lập trình game nâng cao', 'Phát triển phần mềm mã nguồn mở', 'Công nghệ .NET', 'Ngôn ngữ lập trình Java', 'Công nghệ .NET', 'Một số thuật toán thông minh', 'Lập trình đồ họa 3 chiều với Direct3D', 'Lập trình trên thiết bị di động', 'Công nghệ Web và ứng dụng', 'Thiết kế Game', 'Nhập môn lập trình 3D game', 'Chuyên đề J2EE', 'Cơ sở dữ liệu nâng cao', 'Phát triển và vận hành game', 'Lập trình TTNT trong Game', 'Thiết kế 3D Game Engine', 'Ngôn ngữ lập trình Java', 'Chuyên đề E-commerce', 'Chuyên đề CSDL nâng cao', 'Chuyên đề E-Government', 'Các phương pháp lập trình', 'Công nghệ XML và ứng dụng', 'Phương pháp luận sáng tạo KH-CN', 'Các thuật toán thông minh', 'Logic mờ', 'Xử lý phân bổ', 'Quản lý dự án công nghệ thông tin', 'Công nghệ Web và ứng dụng', 'Logic mờ', 'Công nghệ Portal', 'Lập trình game trong các thiết bị di động', 'Kỹ thuật lập trình nhúng', 'Lập trình trên thiết bị di động', 'Công nghệ Web và ứng dụng', 'Chuyên đề M-commerce', 'Nhập môn Quản trị doanh nghiệp', 'Chuyên đề E-learning', 'Xử lý song song', 'Phát triển ứng dụng VR', 'Chuyên đề các quy trình phát triển phần mềm hiện đại', 'Máy học và các công cụ', 'Kiến trúc Phần mềm', 'Kỹ thuật phân tích yêu cầu', 'Quản lý dự án Phát triển Phần mềm', 'Serminar các vấn đề hiện đại của CNPM', 'Mẫu thiết kế', 'Điện toán đám mây', 'Nguyên lý thiết kế thế giới ảo', 'Chuyên đề E-Government', 'Chuyên đề Mobile and Pervasive Computing', 'Đồ án môn học mã nguồn mở', 'Đồ án môn học chuyên ngành', 'Thực tập tốt nghiệp', 'Khóa luận tốt nghiệp', 'Phương pháp NCKH trong tin học', 'Phương pháp luận sáng tạo KH-CN', 'Chủ nghĩa xã hội khoa học', 'Kỹ năng giao tiếp', 'Kỹ năng giao tiếp', 'Tiếng Anh chuyên ngành CNTT', 'Kỹ năng giao tiếp', 'Những nguyên lý cơ bản của chủ nghĩa Mác Lênin', 'Đường lối cách mạng của Đảng CS Việt Nam', 'Tư tưởng Hồ Chí Minh', 'Kỹ năng nghề nghiệp', 'Phương pháp luận sáng tạo KH-CN', 'Pháp luật đại cương', 'Triết học Mác – Lênin', 'Kinh tế chính trị Mác – Lênin', 'Chủ nghĩa xã hội khoa học', 'Lịch sử Đảng Cộng sản Việt Nam', 'Kỹ năng mềm', 'Xác suất thống kê', 'Xác xuất thống kê', 'Phân tích thống kê', 'Thống kê', 'TOEIC 450', 'TOEIC 450', 'Lịch sử Đảng CSVN', 'Đường lối cách mạng của Đảng CSVN', 'Lập trình trên Windows']\n",
    "data_course_id = ['IT{0:03}'.format(i) for i in range(len(data_course_name))]\n",
    "data_course = {}\n",
    "for i in range(len(data_course_id)):\n",
    "  data_course[data_course_id[i]] = data_course_name[i]\n",
    "print(data_course)"
   ]
  },
  {
   "cell_type": "markdown",
   "metadata": {
    "id": "mTJe9pTL8fmA"
   },
   "source": [
    "# Class"
   ]
  },
  {
   "cell_type": "markdown",
   "metadata": {
    "id": "lZMqAebWNyqy"
   },
   "source": [
    "#### Human"
   ]
  },
  {
   "cell_type": "code",
   "execution_count": 55,
   "metadata": {
    "id": "1G6d1LXEmmVE"
   },
   "outputs": [],
   "source": [
    "from abc import ABC, abstractmethod\n",
    "\n",
    "class Human(ABC):\n",
    "  count = 0\n",
    "  \n",
    "  def __init__(self, Name, Address, Phone, Income):\n",
    "    Human.count += 1\n",
    "    self.Id = Human.count\n",
    "    self.Name = Name\n",
    "    self.Address = Address\n",
    "    self.Phone = Phone\n",
    "    self.Income = Income\n",
    "\n",
    "  @abstractmethod\n",
    "  def Input(self):    \n",
    "    Human.count += 1\n",
    "    self.Id = Human.count\n",
    "    self.Name = input(\"Name: \")\n",
    "    self.Address = input(\"Address: \")\n",
    "    self.Phone = input(\"Phone: \")\n",
    "    self.Income = input(\"Income: \")\n",
    "    return self\n",
    "\n",
    "  def __str__(self):\n",
    "    return \"\\nId: {} - Name: {} - Address: {} - Phone: {} - Income: {}\".format(self.Id, self.Name, self.Address, self.Phone, self.Income)"
   ]
  },
  {
   "cell_type": "markdown",
   "metadata": {
    "id": "Gx13DO7gN4NJ"
   },
   "source": [
    "#### Student"
   ]
  },
  {
   "cell_type": "code",
   "execution_count": 56,
   "metadata": {
    "id": "NDGlM-fmqOCE"
   },
   "outputs": [],
   "source": [
    "class Student(Human):\n",
    "  Id = 21520000\n",
    "  def __init__(self, Name, Address, Phone, Income, Fac, Course, Point):\n",
    "    super().__init__(Name, Address, Phone, Income)\n",
    "    Student.Id += 1\n",
    "    self.Id_student = str(Student.Id)\n",
    "    self.Fac = Fac\n",
    "    self.Course = Course\n",
    "    self.Point = Point\n",
    "    self.Gpa =  None\n",
    "    self.Status = None\n",
    "\n",
    "  def Input(self):\n",
    "    Human.Input(self)\n",
    "    Student.Id += 1\n",
    "    self.Id_student = Student.Id\n",
    "    self.Fac = input(\"Fac: \")\n",
    "    self.Course = input(\"Course: \")\n",
    "    self.Gpa =  None\n",
    "    return self\n",
    "\n",
    "  def __str__(self):\n",
    "    return super().__str__() + \"\\nId_Student: {} - Fac: {} - Course: {} - GPA: {}\".format(self.Id_student, self.Fac, self.Course, self.Gpa)\n",
    "\n",
    "  def Delete(self):\n",
    "    self.Status = \"Khong Ton Tai\"\n",
    "\n",
    "  def UpdateInfo():\n",
    "    pass\n",
    "  \n",
    "  def UpdateScore():\n",
    "    pass\n",
    "\n",
    "  def Graduate():\n",
    "    pass"
   ]
  },
  {
   "cell_type": "markdown",
   "metadata": {
    "id": "Re6QrU4HN6y0"
   },
   "source": [
    "#### Teacher"
   ]
  },
  {
   "cell_type": "code",
   "execution_count": 57,
   "metadata": {
    "id": "CO8cBWVOskpA"
   },
   "outputs": [],
   "source": [
    "class Teacher(Human):\n",
    "  Id = 80000\n",
    "  def __init__(self, Name, Address, Phone, Income, Fac, Degree):\n",
    "    Human.__init__(self, Name, Address, Phone, Income)\n",
    "    Teacher.Id +=1\n",
    "    self.Id_teacher = str(Teacher.Id)\n",
    "    self.Fac = Fac\n",
    "    self.Degree = Degree\n",
    "    self.Salary_ratio = data_salary[self.Degree]\n",
    "    self.Status = None\n",
    "  \n",
    "  def Input(self):\n",
    "    Human.Input(self)\n",
    "    Student.Id += 1\n",
    "    self.Id_teacher = Student.Id\n",
    "    self.Fac = input(\"Fac: \")\n",
    "    self.Degree = input(\"Degree: \")\n",
    "    self.Salary_ratio =  data_salary[self.Degree]\n",
    "    return self\n",
    "\n",
    "  def __str__(self):\n",
    "    return super().__str__() + \"\\nId_Teacher: {} - Fac: {} - Degree: {} - Salary_ratio: {}\".format(self.Id_teacher, self.Fac, self.Degree, self.Salary_ratio)\n",
    "  \n",
    "  def Delete(self):\n",
    "    self.Status = \"Khong Ton Tai\"\n",
    "\n",
    "  def UpdateInfo(self):\n",
    "    pass\n",
    "  \n",
    "  \n",
    "  def CalculateSalary(self):\n",
    "    return self.Salary_ratio * 1350000 + 8000000\n",
    "  "
   ]
  },
  {
   "cell_type": "markdown",
   "metadata": {
    "id": "BYPJYaYoN9tm"
   },
   "source": [
    "#### Course"
   ]
  },
  {
   "cell_type": "code",
   "execution_count": 58,
   "metadata": {
    "id": "HOlqZ3TWMEYY"
   },
   "outputs": [],
   "source": [
    "class Course:\n",
    "  def __init__(self, Id_course, Credit):\n",
    "    self.Id_course = Id_course\n",
    "    self.Name_course = data_course[Id_course]\n",
    "    self.Credit = Credit\n",
    "    self.Status = None\n",
    "\n",
    "  def Input(self):\n",
    "    self.Id_course = input(\"Id_course: \")\n",
    "    self.Name_course = input(\"Name_course: \")\n",
    "    self.Credit = input(\"Credit: \") \n",
    "    return self  \n",
    "\n",
    "  def Delete(self):\n",
    "    self.Status = \"Khong Ton Tai\"\n",
    "    \n",
    "  def __str__(self):\n",
    "    return \" \\nId_course: {} - Name_course: {} - Credit: {}\".format(self.Id_course, self.Name_course, self.Credit)\n",
    "  def Update(self):\n",
    "    pass"
   ]
  },
  {
   "cell_type": "markdown",
   "metadata": {
    "id": "saCeE2CHTc0J"
   },
   "source": [
    "#### Score\n"
   ]
  },
  {
   "cell_type": "code",
   "execution_count": 59,
   "metadata": {
    "id": "IVk7VvYATgST"
   },
   "outputs": [],
   "source": [
    "class Score:\n",
    "  def __init__(self, Id_class, Id_teacher, Id_course, Id_student, Point):\n",
    "    self.Id_class = Id_class\n",
    "    self.Id_teacher = Id_teacher\n",
    "    self.Id_course = Id_course\n",
    "    self.Id_student = Id_student\n",
    "    self.Point = Point\n",
    "\n",
    "  def UpdatePoint(self):\n",
    "    self.Point = input(\"Nhap diem: \")\n",
    "    return self.Point\n",
    "  \n",
    "  def __str__(self):\n",
    "    return f\"\\nId_class: {self.Id_class} - Id_teacher: {self.Id_teacher} - Id_course: {self.Id_course} - Id_student: {self.Id_student} -  Point: {self.Point}\""
   ]
  },
  {
   "cell_type": "markdown",
   "metadata": {
    "id": "irDfOwxSL_WS"
   },
   "source": [
    "# Test\n"
   ]
  },
  {
   "cell_type": "code",
   "execution_count": 49,
   "metadata": {
    "id": "Ekh7_1gPb2j_"
   },
   "outputs": [],
   "source": [
    "class School(Student):\n",
    "  def __init__(self):\n",
    "    self.Student = []\n",
    "    self.Teacher = []\n",
    "    self.Course = []\n",
    "    self.Score = []\n",
    "\n",
    "  # Nhập/ Xóa sinh viên\n",
    "  def InputStudent(self, n = 1500):\n",
    "    n = int(input(\"Nhập vào số lượng sinh viên cần thêm\"))\n",
    "    for i in range(n):\n",
    "      name = rd.choice(data_name)\n",
    "      address = random_address(data_address)\n",
    "      phone = \"{0:010}\".format(rd.randint(100000000,999999999))\n",
    "      income = rd.randrange(0,100000000,1000)\n",
    "      fac = rd.choice(['KHMT','KTMT','MMT','ATTT','KHKTTT'])\n",
    "      course = fac\n",
    "      point = 4\n",
    "      gpa = round(rd.uniform(0,10.001),2)\n",
    "      student = Student(name,address,phone,income,fac,course,gpa)\n",
    "      self.Student.append(student)\n",
    "  def DeleteStudent(self, id_student):\n",
    "    for i in range(len(self.Student)):\n",
    "      if self.Student[i].Id_student == str(id_student):\n",
    "          self.Student[i].Delete()\n",
    "          print(\"Đã xóa sinh viên thành công\")\n",
    "          return self.Student[i]\n",
    "    print(\"Không tồn tại mã số sinh viên cần xóa.\")\n",
    "\n",
    "\n",
    "  # Nhập/ Xóa giảng viên\n",
    "  def InputTeacher(self):\n",
    "    n = int(input(\"Nhập vào số lượng giảng viên cần thêm: \"))\n",
    "    for i in range(n):\n",
    "      name = rd.choice(data_name)\n",
    "      address = random_address(data_address)\n",
    "      phone = \"{0:010}\".format(rd.randint(100000000,999999999))\n",
    "      income = rd.randrange(0,100000000,1000)\n",
    "      fac = rd.choice(['KHMT','KTMT','MMT','ATTT','KHKTTT'])\n",
    "      degree = rd.choice(list(data_salary.keys()))\n",
    "      teacher = Teacher(name,address,phone,income,fac,degree)\n",
    "      self.Teacher.append(teacher)\n",
    "  def DeleteTeacher(self, id_teacher):\n",
    "    for i in range(len(self.Student)):\n",
    "      if self.Teacher[i].Id_teacher == str(id_teacher):\n",
    "          self.Teacher[i].Delete()\n",
    "          print(\"Đã xóa giảng viên thành công\")\n",
    "          return self.Teacher[i]\n",
    "    print(\"Không tồn tại mã số sinh viên cần xóa.\")\n",
    "\n",
    "  # Nhập/ Xóa môn học\n",
    "  def InputCourse(self):\n",
    "    n = int(input(\"Nhập vào số lượng môn học cần thêm: \"))\n",
    "    for i in range(n):\n",
    "      id_course = rd.choice(data_course_id)\n",
    "      credit = rd.randint(1,5)\n",
    "      course = Course(id_course, credit)\n",
    "      self.Course.append(course)\n",
    "  def DeleteCourse(self, id_course):\n",
    "    for i in range(len(self.Course)):\n",
    "      if self.Course[i].Id_course == str(id_course):\n",
    "          self.Course[i].Delete()\n",
    "          print(\"Đã xóa môn học thành công\")\n",
    "          return self.Course[i]\n",
    "    print(\"Không tồn tại mã môn cần xóa.\")\n",
    "\n",
    "  # Nhập điểm\n",
    "  def InputScore(self):\n",
    "    n = int(input(\"Nhap vao so diem can them: \"))\n",
    "    student_current = [i.Id_student for i in self.Student]\n",
    "    course_current = [i.Id_course for i in self.Course]\n",
    "    teacher_current = [i.Id_teacher for i in self.Teacher]\n",
    "    for i in range(n):\n",
    "      id_class = f'L{rd.randint(1,3)}{rd.randint(1,3)}'\n",
    "      id_teacher = rd.choice(teacher_current)\n",
    "      id_course = rd.choice(course_current)\n",
    "      id_student = rd.choice(student_current)\n",
    "      point = round(rd.uniform(0,10),2)\n",
    "      score = Score(id_class,id_teacher,id_course,id_student,point)\n",
    "      self.Score.append(score)\n",
    "\n",
    "  # Cập nhật điểm tích lũy cho sinh viên\n",
    "  def UpdateGPA(self):\n",
    "    for i in range(len(self.Student)):\n",
    "      points = [j.Point for j in self.Score if j.Id_student == self.Student[i].Id_student]\n",
    "      print(points)\n",
    "      self.Student[i].Gpa = np.mean(points)\n",
    "      print(points)\n",
    "    print(\"Đã cập nhật toàn bộ điểm GPA của sinh viên\")\n",
    "\n",
    "  # Tìm sinh viên có điểm trung bình tích lũy >= x (x thuộc [0,10])\n",
    "  def FindStudentUsingGPA(self, x):\n",
    "    print(\"\\nNhững sinh viên có điểm trung bình lớn hơn hoặc bằng {x}:\")\n",
    "    for student in self.Student:\n",
    "      if student.Gpa >= x:\n",
    "        print(student)\n",
    "\n",
    "  # Xuất ra tất cả các thông tin\n",
    "  def Output(self):\n",
    "      print(\"\\n\\n====================STUDENT==================\")\n",
    "      for i in self.Student:\n",
    "        print(i)\n",
    "        if i.Status != None:\n",
    "          print(i.Status)\n",
    "      print(\"\\n\\n====================TEACHER==================\")\n",
    "      for i in self.Teacher:\n",
    "        print(i)\n",
    "        if i.Status != None:\n",
    "          print(i.Status)\n",
    "      print(\"\\n\\n=====================COURSE===================\")\n",
    "      for i in self.Course:\n",
    "        print(i)\n",
    "        if i.Status != None:\n",
    "          print(i.Status)\n",
    "      print('\\n\\n=====================SCORE====================')\n",
    "      for i in self.Score:\n",
    "        print(i)"
   ]
  },
  {
   "cell_type": "code",
   "execution_count": 44,
   "metadata": {
    "id": "VC5j-MBx4Jeq"
   },
   "outputs": [],
   "source": [
    "def Menu():\n",
    "  print(\"\\n==================Menu==================\")\n",
    "  print(\"1. Nhập/khởi tạo sinh viên\")\n",
    "  print(\"2. Nhập/khởi tạo giảng viên\")\n",
    "  print(\"3. Nhập/khởi tạo môn học mới\")\n",
    "  print(\"4. Nhập/khởi tạo điểm\")\n",
    "  print(\"5. Xóa sinh viên theo Mã sinh viên\")\n",
    "  print(\"6. Xóa giảng viên theo Mã giáo viên\")\n",
    "  print(\"7. Xóa môn học theo Mã môn\")\n",
    "  print(\"8. Cập nhật điểm GPA cho sinh viên\")\n",
    "  print(\"9. Tìm sinh viên có điểm trung bình tích lũy >= x\")\n",
    "  print(\"10. Xuất thông tin\")\n",
    "  print(\"0. Thoát khỏi chương trình\")\n",
    "  choice = int(input(\"Lựa chọn của bạn là: \"))\n",
    "  return choice"
   ]
  },
  {
   "cell_type": "code",
   "execution_count": 45,
   "metadata": {
    "id": "s0s97cN98PAJ"
   },
   "outputs": [],
   "source": [
    "UIT = School()"
   ]
  },
  {
   "cell_type": "code",
   "execution_count": 48,
   "metadata": {
    "colab": {
     "base_uri": "https://localhost:8080/"
    },
    "id": "1fDuiieo7HE9",
    "outputId": "bc996ae9-3402-4189-87c0-8abd5fda766a"
   },
   "outputs": [
    {
     "name": "stdout",
     "output_type": "stream",
     "text": [
      "==================Menu==================\n",
      "1. Nhập/khởi tạo sinh viên\n",
      "2. Nhập/khởi tạo giảng viên\n",
      "3. Nhập/khởi tạo môn học mới\n",
      "4. Nhập/khởi tạo điểm\n",
      "5. Xóa sinh viên theo Mã sinh viên\n",
      "6. Xóa giảng viên theo Mã giáo viên\n",
      "7. Xóa môn học theo Mã môn\n",
      "8. Cập nhật điểm GPA cho sinh viên\n",
      "9. Tìm sinh viên có điểm trung bình tích lũy >= x\n",
      "10. Xuất thông tin\n",
      "0. Thoát khỏi chương trình\n",
      "Lựa chọn của bạn là: 9\n",
      "9. Tìm sinh viên có điểm trung bình tích lũy >= x\n",
      "Nhập vào x: 5\n",
      "\n",
      "Id: 1 - Name: Phương Yến - Address: Số 17 Xã Long Thới Huyện Nhà Bè - Phone: 0143965007 - Income: 99773000\n",
      "Id_Student: 21520001 - Fac: KHMT - Course: KHMT - GPA: 5.1160000000000005\n",
      "\n",
      "Id: 3 - Name: Thương Huyền - Address: Lê Quang Kim Phường 7  Quận 8 - Phone: 0670673171 - Income: 63078000\n",
      "Id_Student: 21520003 - Fac: KHMT - Course: KHMT - GPA: 7.18\n",
      "\n",
      "Id: 8 - Name: Hạ Phương - Address: Hoa Thị Phường 12 Quận Phú Nhuận - Phone: 0671025962 - Income: 67297000\n",
      "Id_Student: 21520008 - Fac: ATTT - Course: ATTT - GPA: 7.195\n",
      "\n",
      "Id: 9 - Name: Xuân Nương - Address: Số 11B Phường Bình Trị Đông A Quận Bình Tân - Phone: 0106713949 - Income: 67587000\n",
      "Id_Student: 21520009 - Fac: ATTT - Course: ATTT - GPA: 5.06\n",
      "==================Menu==================\n",
      "1. Nhập/khởi tạo sinh viên\n",
      "2. Nhập/khởi tạo giảng viên\n",
      "3. Nhập/khởi tạo môn học mới\n",
      "4. Nhập/khởi tạo điểm\n",
      "5. Xóa sinh viên theo Mã sinh viên\n",
      "6. Xóa giảng viên theo Mã giáo viên\n",
      "7. Xóa môn học theo Mã môn\n",
      "8. Cập nhật điểm GPA cho sinh viên\n",
      "9. Tìm sinh viên có điểm trung bình tích lũy >= x\n",
      "10. Xuất thông tin\n",
      "0. Thoát khỏi chương trình\n",
      "Lựa chọn của bạn là: 7\n",
      "Nhập vào Mã môn học cần xóa: 23\n",
      "Không tồn tại mã môn cần xóa.\n",
      "==================Menu==================\n",
      "1. Nhập/khởi tạo sinh viên\n",
      "2. Nhập/khởi tạo giảng viên\n",
      "3. Nhập/khởi tạo môn học mới\n",
      "4. Nhập/khởi tạo điểm\n",
      "5. Xóa sinh viên theo Mã sinh viên\n",
      "6. Xóa giảng viên theo Mã giáo viên\n",
      "7. Xóa môn học theo Mã môn\n",
      "8. Cập nhật điểm GPA cho sinh viên\n",
      "9. Tìm sinh viên có điểm trung bình tích lũy >= x\n",
      "10. Xuất thông tin\n",
      "0. Thoát khỏi chương trình\n",
      "Lựa chọn của bạn là: 0\n"
     ]
    }
   ],
   "source": [
    "flag = True\n",
    "while flag:\n",
    "  choice = Menu()\n",
    "  if choice == 1:\n",
    "    UIT.InputStudent()\n",
    "  elif choice == 2:\n",
    "    UIT.InputTeacher()\n",
    "  elif choice == 3:\n",
    "    UIT.InputCourse()\n",
    "  elif choice == 4:\n",
    "    UIT.InputScore()\n",
    "  elif choice == 5:\n",
    "    id_std = input(\"Nhập vào Mã số sinh viên cần xóa: \")\n",
    "    UIT.DeleteStudent(id_std)\n",
    "  elif choice == 6:\n",
    "    id_teacher = input(\"Nhập vào Mã giáo viên cần xóa: \")\n",
    "    UIT.DeleteTeacher(id_teacher)\n",
    "  elif choice == 7:\n",
    "    id_course = input(\"Nhập vào Mã môn học cần xóa: \")\n",
    "    UIT.DeleteCourse(id_course)\n",
    "  elif choice == 8:\n",
    "    UIT.UpdateGPA()\n",
    "  elif choice == 9:\n",
    "    print(\"9. Tìm sinh viên có điểm trung bình tích lũy >= x\")\n",
    "    x = int(input(\"Nhập vào x: \"))\n",
    "    UIT.FindStudentUsingGPA(x)\n",
    "  elif choice == 10:\n",
    "    UIT.Output()\n",
    "  elif choice == 0:\n",
    "    flag = False\n",
    "  else:\n",
    "    print(\"Lựa chọn không hợp lệ. Vui lòng chọn lại.\")"
   ]
  }
 ],
 "metadata": {
  "colab": {
   "collapsed_sections": [
    "xWNb_A7D8ZIo",
    "mTJe9pTL8fmA",
    "lZMqAebWNyqy",
    "Gx13DO7gN4NJ",
    "Re6QrU4HN6y0",
    "BYPJYaYoN9tm",
    "saCeE2CHTc0J"
   ],
   "name": "Python_LAB3.ipynb",
   "provenance": [],
   "toc_visible": true
  },
  "kernelspec": {
   "display_name": "Python 3",
   "name": "python3"
  },
  "language_info": {
   "name": "python"
  }
 },
 "nbformat": 4,
 "nbformat_minor": 0
}
