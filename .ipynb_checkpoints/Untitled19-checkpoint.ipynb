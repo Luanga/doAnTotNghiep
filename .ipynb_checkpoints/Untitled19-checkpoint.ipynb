{
 "cells": [
  {
   "cell_type": "code",
   "execution_count": 5,
   "metadata": {
    "id": "x-PoDN7LIF7H"
   },
   "outputs": [],
   "source": [
    "from random import randint\n",
    "import random as rd\n",
    "import random\n",
    "def MSSV():\n",
    "  a=[]\n",
    "  for i in range(5):\n",
    "    a.append(randint(18520001,18521500))\n",
    "  return a\n",
    "def HovsTen():\n",
    "  x=[\"Ngo\",\"Le\",\"Nguyen\",\"Nguyen\"]\n",
    "  y=[\"Thi\",\"Van\",\"Thanh\",\"Dau\"]\n",
    "  z=[\"Kien\",\"No\",\"Pheo\",\"Hieu\"]\n",
    "  return (str(random.choice(x))+ \" \" +str(random.choice(y))+ \" \"+str(random.choice(z)))\n",
    "def Khoa():\n",
    "  x=[\"KTTT\",\"CNPM\",\"HTT\",\"MMTT\",\"KHKTTT\"]\n",
    "  a=[]\n",
    "  return (random.choice(x))\n",
    "def Mondahoc():    \n",
    "  mondahoc_mdh=[\"toan\",\"li\",\"hoa\",\"anh\"]\n",
    "  return random.choice(mondahoc_mdh)\n",
    "  "
   ]
  },
  {
   "cell_type": "code",
   "execution_count": 3,
   "metadata": {
    "id": "fPNo9nITIORv"
   },
   "outputs": [],
   "source": [
    "a=HovsTen()+\"-\"+Khoa()+\"-\"+ Mondahoc()"
   ]
  },
  {
   "cell_type": "code",
   "execution_count": null,
   "metadata": {
    "colab": {
     "base_uri": "https://localhost:8080/"
    },
    "id": "UzJUpFWXIgfR",
    "outputId": "1f4c3dae-2224-4d50-9810-fdb24ca7d97e"
   },
   "outputs": [
    {
     "data": {
      "text/plain": [
       "['Nguyen Dau Kien', 'KHKTTT', 'li']"
      ]
     },
     "execution_count": 12,
     "metadata": {
      "tags": []
     },
     "output_type": "execute_result"
    }
   ],
   "source": [
    "a.split(\"-\")"
   ]
  },
  {
   "cell_type": "code",
   "execution_count": 13,
   "metadata": {
    "colab": {
     "base_uri": "https://localhost:8080/"
    },
    "id": "vcfyoOmRNP0c",
    "outputId": "5648dbcb-360f-4c54-e7ea-3128e893d14c"
   },
   "outputs": [
    {
     "name": "stdout",
     "output_type": "stream",
     "text": [
      "4----->3\n"
     ]
    }
   ],
   "source": [
    "class SinhVien():\n",
    "    def __init__(self,MSSV,Khoa):\n",
    "      self.MSSV=MSSV\n",
    "      self.Khoa=Khoa\n",
    "    def fullname(self):\n",
    "      return str(self.MSSV)+ \"----->\"+str(self.Khoa)\n",
    "    @classmethod\n",
    "    def form_sv(cls,x,y):\n",
    "      return cls(x,y)\n",
    "    def sv(self,x):\n",
    "      a=[x]\n",
    "      if x==self.MSSV:\n",
    "        a.append(self.Khoa)\n",
    "        return 1\n",
    "\n",
    "class danhsach(SinhVien):\n",
    "  def __init__(self,mssv,khoa,sinhvien=None):\n",
    "    super().__init__(mssv,khoa)\n",
    "    if sinhvien is None:\n",
    "      self.sinhvien=[]\n",
    "    else:\n",
    "      self.sinhvien=sinhvien\n",
    "  def AddSinhVien(self,emp):\n",
    "    if emp not in self.sinhvien:\n",
    "      self.sinhvien.append(emp)\n",
    "  def remove_sv(self,emp):\n",
    "    if emp in self.sinhvien:\n",
    "      self.sinhvien.remove(emp)\n",
    "  def print_ds(self):\n",
    "    for i in self.sinhvien:\n",
    "      print(i.fullname())\n",
    "\n",
    "#4     Nhap khoi tao gv\n",
    "    \n",
    "class giangVien(SinhVien):\n",
    "  def __init__(self,msgv,khoa,sinhvien=None):\n",
    "    super().__init__(msgv,khoa)\n",
    "    if giangVien is None:\n",
    "      self.giangVien=[]\n",
    "    else:\n",
    "      self.giangVien=giangVien\n",
    "# nhap xoa GV\n",
    "    msgv = []\n",
    "    khoa = []\n",
    "    def Nhap(self):\n",
    "        n = int(input(\"nhap so giang vien can them\"))\n",
    "        for i in range(n):\n",
    "            rgv = \"{0:10}\".format(rd.randint(1000000,9999999))\n",
    "            rkhoa = rd.choice(['KHMT','KTMT','MMT','ATTT','KHKTTT'])\n",
    "            msgv.append(rgv)\n",
    "            khoa.append(rkhoa)\n",
    "    def xoa(self,msgv):\n",
    "        if msgv in self.GiangVien:\n",
    "          self.GiangVien.remove(msgv)\n",
    "# khoi tao mon hoc \n",
    "    cac nhu o tren. mai coi OOP cho xong r lam \n",
    "ds=danhsach(2,3,[])\n",
    "a=SinhVien(2,3)\n",
    "b=SinhVien(4,3)\n",
    "ds.AddSinhVien(a)\n",
    "ds.AddSinhVien(b)\n",
    "ds.remove_sv(a)\n",
    "\n",
    "\n",
    "  \n",
    "ds.print_ds()\n",
    "sv=SinhVien(\"kien\",\"hieu\")\n",
    "sv.sv(\"kie\")"
   ]
  },
  {
   "cell_type": "code",
   "execution_count": 68,
   "metadata": {
    "colab": {
     "base_uri": "https://localhost:8080/"
    },
    "id": "oyhpHbYiPVe6",
    "outputId": "1ea6e08e-24cb-416e-a833-8cbba79cc71a"
   },
   "outputs": [
    {
     "name": "stdout",
     "output_type": "stream",
     "text": [
      "3\n"
     ]
    }
   ],
   "source": [
    "class SinhVien():\n",
    "    def __init__(self,MSSV,Khoa):\n",
    "      self.MSSV=MSSV\n",
    "      self.Khoa=Khoa\n",
    "class danhsach(SinhVien):\n",
    "  def __init__(self,mssv,khoa,kien):\n",
    "    super().__init__(mssv,khoa)\n",
    "    self.kien=kien\n",
    "  def x(self):\n",
    "    print(self.kien)\n",
    "b=SinhVien(3,4)\n",
    "a=danhsach(1,2,3)\n",
    "a.x()"
   ]
  },
  {
   "cell_type": "code",
   "execution_count": null,
   "metadata": {
    "id": "kPZaYJ7NO4Zy"
   },
   "outputs": [],
   "source": []
  },
  {
   "cell_type": "code",
   "execution_count": 21,
   "metadata": {
    "colab": {
     "base_uri": "https://localhost:8080/"
    },
    "id": "Q3hJo5Ht-FZw",
    "outputId": "72ee5854-1fcf-4e4c-f2dc-a69c31910ef5"
   },
   "outputs": [
    {
     "name": "stdout",
     "output_type": "stream",
     "text": [
      "Nguyen Thi Hieu----->KHKTTT\n",
      "Nguyen Van Kien----->MMTT\n",
      "Nguyen Thanh Pheo----->KHKTTT\n",
      "Nguyen Thanh Hieu----->MMTT\n",
      "Le Thi Pheo----->KTTT\n",
      "Nguyen Dau No----->CNPM\n",
      "Le Van Hieu----->KTTT\n",
      "Le Dau Kien----->KTTT\n",
      "Nguyen Van No----->KTTT\n",
      "Nguyen Thanh Hieu----->HTT\n"
     ]
    }
   ],
   "source": [
    "ds.print_ds()"
   ]
  },
  {
   "cell_type": "code",
   "execution_count": null,
   "metadata": {
    "colab": {
     "base_uri": "https://localhost:8080/"
    },
    "id": "AQWQnkZcReEb",
    "outputId": "11d73a43-aa0e-42dd-e766-849282abeb8d"
   },
   "outputs": [
    {
     "name": "stdout",
     "output_type": "stream",
     "text": [
      "12\n",
      "Nguyen Thi No\n",
      "Nguyen Van Kien\n",
      "Nguyen Van No\n",
      "Ngo Dau Pheo\n",
      "Nguyen Thi No\n",
      "Ngo Van Kien\n",
      "Nguyen Thanh No\n",
      "Nguyen Thanh Hieu\n",
      "Ngo Dau Hieu\n",
      "Nguyen Van Kien\n",
      "Le Thanh Kien\n",
      "Nguyen Thanh Kien\n",
      "Ngo Thi Hieu\n",
      "Nguyen Van No\n",
      "Ngo Dau Pheo\n",
      "Le Thi Kien\n",
      "Nguyen Thi Hieu\n",
      "Le Thi Pheo\n",
      "Ngo Dau No\n",
      "Nguyen Thanh Pheo\n",
      "Nguyen Thanh Pheo CNPM\n",
      "Le Dau Pheo KHKTTT\n",
      "Le Van No MMTT\n",
      "Ngo Thanh No HTT\n",
      "Nguyen Thanh Hieu CNPM\n",
      "Nguyen Dau Pheo KHKTTT\n",
      "Nguyen Van No KTTT\n",
      "Ngo Thi Kien HTT\n",
      "Le Van Hieu HTT\n",
      "Ngo Dau No KTTT\n",
      "Ngo Thi Kien KTTT\n",
      "Nguyen Dau Hieu KTTT\n",
      "Le Thi Pheo KTTT\n",
      "Ngo Thanh No HTT\n",
      "Nguyen Van Pheo CNPM\n",
      "Nguyen Van No CNPM\n",
      "Le Thanh No KHKTTT\n",
      "Nguyen Thanh Pheo KHKTTT\n",
      "Le Van Pheo CNPM\n",
      "Le Thi Hieu KTTT\n"
     ]
    }
   ],
   "source": [
    "x.rư"
   ]
  },
  {
   "cell_type": "code",
   "execution_count": null,
   "metadata": {},
   "outputs": [],
   "source": []
  },
  {
   "cell_type": "code",
   "execution_count": null,
   "metadata": {},
   "outputs": [],
   "source": []
  }
 ],
 "metadata": {
  "colab": {
   "name": "Untitled19.ipynb",
   "provenance": []
  },
  "kernelspec": {
   "display_name": "Python 3",
   "language": "python",
   "name": "python3"
  },
  "language_info": {
   "codemirror_mode": {
    "name": "ipython",
    "version": 3
   },
   "file_extension": ".py",
   "mimetype": "text/x-python",
   "name": "python",
   "nbconvert_exporter": "python",
   "pygments_lexer": "ipython3",
   "version": "3.7.6"
  }
 },
 "nbformat": 4,
 "nbformat_minor": 1
}
